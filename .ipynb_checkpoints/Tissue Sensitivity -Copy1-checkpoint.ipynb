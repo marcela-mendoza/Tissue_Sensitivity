{
 "cells": [
  {
   "cell_type": "markdown",
   "metadata": {},
   "source": [
    "# Script to create Probability of Expression matrix given Phenotypes"
   ]
  },
  {
   "cell_type": "code",
   "execution_count": 1,
   "metadata": {},
   "outputs": [],
   "source": [
    "def computePgf(hpo_data, genes_common):\n",
    "    \n",
    "    #Build graphical model from phenotypes to genes \n",
    "    \n",
    "    genes_hpo = np.unique(hpo_data['Gene-Name'])\n",
    "    ngenes_hpo = genes_hpo.size  # number of genes in HPO\n",
    "    \n",
    "    # Find degree distribution of gene nodes in HPO bipartite graph\n",
    "    gene_node_dist = np.ones(ngenes_hpo)\n",
    "    kk = 0\n",
    "\n",
    "    unique_genes = [hpo_data['Gene-Name'].iloc[0]]  #initialize unique genes with this \n",
    "\n",
    "    for ii in np.arange(len(hpo_data['Gene-Name'])-1):\n",
    "        if hpo_data['Gene-Name'].iloc[ii+1] == hpo_data['Gene-Name'].iloc[ii]:\n",
    "            gene_node_dist[kk] = gene_node_dist[kk]+1\n",
    "        else:\n",
    "            kk = kk+1   \n",
    "            unique_genes.append(hpo_data['Gene-Name'].iloc[ii+1])\n",
    "\n",
    "    # Find number of unique phenotypes and their degree distribution\n",
    "    phenotypes, indf, phen_node_dist = np.unique(hpo_data['HPO-Name'],return_inverse=True,return_counts=True)\n",
    "    nphen = phenotypes.size #number of unique phenotypes\n",
    "    print('Number of phenotypes in HPO dataset: ', nphen)\n",
    "\n",
    "\n",
    "    # Construct adjacency matrix Agf and transition probability matrix Pgf (Pgf[k,i] = prob. gene Gi causing phenotype Fk)\n",
    "    Agf = np.zeros( (nphen, ngenes_hpo) )\n",
    "    cnt = 0\n",
    "    for ii in np.arange(ngenes_hpo):\n",
    "        for jj in np.arange(gene_node_dist[ii]): \n",
    "            Agf[indf[cnt], ii] = 1\n",
    "            cnt = cnt+1\n",
    "\n",
    "    B = np.repeat(phen_node_dist, ngenes_hpo)\n",
    "    \n",
    "    #Compute Probability of genes given phenotypes \n",
    "    Pgf = np.divide(Agf, B.reshape(nphen, ngenes_hpo))\n",
    "    #print('Check rows of Transition Probability Matrix sum to one: ')\n",
    "    #print(sum(Pgf.T))\n",
    "\n",
    "    # trim the Pgf matrix to keep only the columns corresponding to the common genes\n",
    "    Pgf_df = pd.DataFrame(Pgf,columns=unique_genes,index=phenotypes)\n",
    "    Pgf_trim = Pgf_df.loc[:,genes_common].to_numpy()  # \n",
    "    \n",
    "    return Pgf_trim, phenotypes\n",
    "\n",
    "\n",
    "def computePtg_emp(p_expression,e0,genes_common):\n",
    "    \n",
    "    def p_geq_e0(pxy, e0): \n",
    "        #given  x y values find y s.t. x>e0 \n",
    "\n",
    "        #print(pxy[:,0])  # what are the x's\n",
    "        #print(pxy[:,1])  # what are the probabilities associated \n",
    "        #print(np.shape(pxy))\n",
    "        #if np.shape(pxy):  # if not Nan value\n",
    "        idx=np.where(pxy[:,0]>=e0) \n",
    "        #print(idx)\n",
    "        #account for no result found\n",
    "        if np.array(idx).size==0:\n",
    "            return 0 \n",
    "        else: \n",
    "            #print(1-pxy[0][idx,1]) #probability\n",
    "            prob= 1-pxy[idx[0][0],1] # probability of first occurrence of x being greater than e0\n",
    "            return prob  \n",
    "        #else:\n",
    "            #return float('Nan')\n",
    "\n",
    "    Ptg=pd.DataFrame()\n",
    "    Ptg['Name']=p_expression['Name']\n",
    "    Ptg['Description']=p_expression['Description']\n",
    "\n",
    "    for (columnName, columnData) in p_expression.drop(['Name', 'Description'], axis=1).iteritems(): \n",
    "        #print(columnData)\n",
    "        columnData_trim=columnData.dropna()\n",
    "        #print(columnData_trim)\n",
    "        #get rid of Nans in column data first? keep track of indices \n",
    "        Ptg[columnName]= columnData_trim.apply(p_geq_e0, args=(e0,)) \n",
    "\n",
    "    #pick only the common genes from Ptg \n",
    "    Ptg_trim= Ptg.loc[Ptg['Description'].isin(genes_common)]  \n",
    "    Ptg_trim=Ptg_trim.sort_values('Description') # sort alpahbetically by name of gene  \n",
    "    \n",
    "    tissues= Ptg_trim.drop(['Name', 'Description'], axis=1).columns \n",
    "\n",
    "    Ptg_np= Ptg_trim.drop(['Name', 'Description'], axis=1).to_numpy()\n",
    "    Ptg_np[np.isnan(Ptg_np)] = 0 #set nans to 0 probability \n",
    "    \n",
    "    return Ptg_trim, Ptg_np, tissues\n",
    "\n",
    "def computePtg_emp_slim(p_expression,e0):\n",
    "    #computes all genes, not ones in common \n",
    "    def p_geq_e0(pxy, e0): \n",
    "        #given  x y values find y s.t. x>e0 \n",
    "\n",
    "        #print(pxy[:,0])  # what are the x's\n",
    "        #print(pxy[:,1])  # what are the probabilities associated \n",
    "        #print(np.shape(pxy))\n",
    "        #if np.shape(pxy):  # if not Nan value\n",
    "        idx=np.where(pxy[:,0]>=e0) \n",
    "        #print(idx)\n",
    "        #account for no result found\n",
    "        if np.array(idx).size==0:\n",
    "            return 0 \n",
    "        else: \n",
    "            #print(1-pxy[0][idx,1]) #probability\n",
    "            prob= 1-pxy[idx[0][0],1] # probability of first occurrence of x being greater than e0\n",
    "            return prob  \n",
    "        #else:\n",
    "            #return float('Nan')\n",
    "\n",
    "    Ptg=pd.DataFrame()\n",
    "    Ptg['Name']=p_expression['Name']\n",
    "    Ptg['Description']=p_expression['Description']\n",
    "\n",
    "    for (columnName, columnData) in p_expression.drop(['Name', 'Description'], axis=1).iteritems(): \n",
    "        #print(columnData)\n",
    "        columnData_trim=columnData.dropna()\n",
    "        #print(columnData_trim)\n",
    "        #get rid of Nans in column data first? keep track of indices \n",
    "        Ptg[columnName]= columnData_trim.apply(p_geq_e0, args=(e0,)) \n",
    "\n",
    "    \n",
    "    tissues= Ptg.drop(['Name', 'Description'], axis=1).columns \n",
    "\n",
    "    #Ptg_np= Ptg.drop(['Name', 'Description'], axis=1).to_numpy()\n",
    "    #Ptg_np[np.isnan(Ptg_np)] = 0 #set nans to 0 probability \n",
    "    \n",
    "    return Ptg, tissues\n",
    "\n",
    "\n",
    "#Ptg based on Poisson log-normal modeling \n",
    "def computePtg_Poilog(genes_common): #e0 is fixed to 100 \n",
    "    \n",
    "    \n",
    "    #construct p_expression from files in tissues \n",
    "    #probability of expression for each tissue and gene \n",
    "    p_expression=pd.DataFrame(columns=['Name', 'Description']) \n",
    "    \n",
    "    #read tissue abbreviation file to find out which name to use \n",
    "    tissue_abbreviation_df= pd.read_table('/secure/common/group/data/GTEx/V8/V8/sample_annotations/tissue_abbreviations.txt')\n",
    "    print(tissue_abbreviation_df)\n",
    "    #tissue_folder\n",
    "    tissue_folder= 'Tissue_Ptg_e0250normalized/'\n",
    "    \n",
    "    \n",
    "    #read all files in for loop and add merge into p_expression \n",
    "    for index, row in tissue_abbreviation_df.iterrows():\n",
    "        #read tissue ptg file if it exists \n",
    "        tissue_file = row[\"file_name\"]\n",
    "        tissue_name = row[\"tissue_name\"]\n",
    "        tissue_ptgfile=tissue_folder + tissue_file + '_p_expression_poilog_e0250.csv'\n",
    "        \n",
    "        print(tissue_ptgfile)\n",
    "        \n",
    "        if os.path.exists(tissue_ptgfile): \n",
    "            \n",
    "            p_exp_t=pd.read_csv(tissue_ptgfile, index_col=0)\n",
    "            print(p_exp_t)\n",
    "            \n",
    "            #merge into p_expression\n",
    "            p_expression=pd.merge(p_expression, p_exp_t, on=['Name', 'Description'], how='outer')\n",
    "    \n",
    "    #test p_expression \n",
    "    print('p_expression inside ptg function')\n",
    "    print(p_expression)\n",
    "    \n",
    "    \n",
    "    \n",
    "    Ptg= p_expression \n",
    "    \n",
    "    #pick only the common genes from Ptg \n",
    "    Ptg_trim= Ptg.loc[Ptg['Description'].isin(genes_common)]  \n",
    "    Ptg_trim=Ptg_trim.sort_values('Description') # sort alpahbetically by name of gene  \n",
    "    \n",
    "    tissues= Ptg_trim.drop(['Name', 'Description'], axis=1).columns \n",
    "\n",
    "    Ptg_np= Ptg_trim.drop(['Name', 'Description'], axis=1).to_numpy()\n",
    "    Ptg_np[np.isnan(Ptg_np)] = 0 #set nans to 0 probability \n",
    "    \n",
    "    return Ptg_np, tissues "
   ]
  },
  {
   "cell_type": "code",
   "execution_count": 2,
   "metadata": {},
   "outputs": [
    {
     "name": "stdout",
     "output_type": "stream",
     "text": [
      "Done importing data files\n",
      "\n",
      "Number of genes in HPO dataset:  4073\n",
      "Number of genes in GTEx dataset:  34446\n",
      "Number of common genes in HPO and GTEx datasets :  3902\n",
      "Number of tissues in GTEx dataset:  49\n",
      "Number of phenotypes in HPO dataset:  8692\n",
      "                                  tissue_name tissue_abbrv  \\\n",
      "0                      Adipose - Subcutaneous       ADPSBQ   \n",
      "1                Adipose - Visceral (Omentum)       ADPVSC   \n",
      "2                               Adrenal Gland       ADRNLG   \n",
      "3                              Artery - Aorta      ARTAORT   \n",
      "4                           Artery - Coronary       ARTCRN   \n",
      "5                             Artery - Tibial       ARTTBL   \n",
      "6                                     Bladder       BLDDER   \n",
      "7                            Brain - Amygdala       BRNAMY   \n",
      "8    Brain - Anterior cingulate cortex (BA24)       BRNACC   \n",
      "9             Brain - Caudate (basal ganglia)       BRNCDT   \n",
      "10              Brain - Cerebellar Hemisphere       BRNCHB   \n",
      "11                         Brain - Cerebellum       BRNCHA   \n",
      "12                             Brain - Cortex      BRNCTXA   \n",
      "13               Brain - Frontal Cortex (BA9)      BRNCTXB   \n",
      "14                        Brain - Hippocampus       BRNHPP   \n",
      "15                       Brain - Hypothalamus       BRNHPT   \n",
      "16  Brain - Nucleus accumbens (basal ganglia)       BRNNCC   \n",
      "17            Brain - Putamen (basal ganglia)       BRNPTM   \n",
      "18         Brain - Spinal cord (cervical c-1)       BRNSPC   \n",
      "19                   Brain - Substantia nigra       BRNSNG   \n",
      "20                    Breast - Mammary Tissue       BREAST   \n",
      "21        Cells - EBV-transformed lymphocytes          LCL   \n",
      "22               Cells - Cultured fibroblasts      FIBRBLS   \n",
      "23                        Cervix - Ectocervix       CVXECT   \n",
      "24                        Cervix - Endocervix       CVSEND   \n",
      "25                            Colon - Sigmoid       CLNSGM   \n",
      "26                         Colon - Transverse       CLNTRN   \n",
      "27      Esophagus - Gastroesophageal Junction       ESPGEJ   \n",
      "28                         Esophagus - Mucosa       ESPMCS   \n",
      "29                     Esophagus - Muscularis       ESPMSL   \n",
      "30                             Fallopian Tube       FLLPNT   \n",
      "31                   Heart - Atrial Appendage        HRTAA   \n",
      "32                     Heart - Left Ventricle        HRTLV   \n",
      "33                            Kidney - Cortex       KDNCTX   \n",
      "34                           Kidney - Medulla       KDNMDL   \n",
      "35                                      Liver        LIVER   \n",
      "36                                       Lung         LUNG   \n",
      "37                       Minor Salivary Gland       SLVRYG   \n",
      "38                          Muscle - Skeletal       MSCLSK   \n",
      "39                             Nerve - Tibial       NERVET   \n",
      "40                                      Ovary        OVARY   \n",
      "41                                   Pancreas      PNCREAS   \n",
      "42                                  Pituitary       PTTARY   \n",
      "43                                   Prostate       PRSTTE   \n",
      "44        Skin - Not Sun Exposed (Suprapubic)       SKINNS   \n",
      "45             Skin - Sun Exposed (Lower leg)        SKINS   \n",
      "46           Small Intestine - Terminal Ileum       SNTTRM   \n",
      "47                                     Spleen       SPLEEN   \n",
      "48                                    Stomach       STMACH   \n",
      "49                                     Testis       TESTIS   \n",
      "50                                    Thyroid      THYROID   \n",
      "51                                     Uterus       UTERUS   \n",
      "52                                     Vagina       VAGINA   \n",
      "53                                Whole Blood       WHLBLD   \n",
      "\n",
      "                                file_name  \n",
      "0                    Adipose_Subcutaneous  \n",
      "1                Adipose_Visceral_Omentum  \n",
      "2                           Adrenal_Gland  \n",
      "3                            Artery_Aorta  \n",
      "4                         Artery_Coronary  \n",
      "5                           Artery_Tibial  \n",
      "6                                 Bladder  \n",
      "7                          Brain_Amygdala  \n",
      "8    Brain_Anterior_cingulate_cortex_BA24  \n",
      "9             Brain_Caudate_basal_ganglia  \n",
      "10            Brain_Cerebellar_Hemisphere  \n",
      "11                       Brain_Cerebellum  \n",
      "12                           Brain_Cortex  \n",
      "13               Brain_Frontal_Cortex_BA9  \n",
      "14                      Brain_Hippocampus  \n",
      "15                     Brain_Hypothalamus  \n",
      "16  Brain_Nucleus_accumbens_basal_ganglia  \n",
      "17            Brain_Putamen_basal_ganglia  \n",
      "18         Brain_Spinal_cord_cervical_c-1  \n",
      "19                 Brain_Substantia_nigra  \n",
      "20                  Breast_Mammary_Tissue  \n",
      "21      Cells_EBV-transformed_lymphocytes  \n",
      "22             Cells_Cultured_fibroblasts  \n",
      "23                      Cervix_Ectocervix  \n",
      "24                      Cervix_Endocervix  \n",
      "25                          Colon_Sigmoid  \n",
      "26                       Colon_Transverse  \n",
      "27    Esophagus_Gastroesophageal_Junction  \n",
      "28                       Esophagus_Mucosa  \n",
      "29                   Esophagus_Muscularis  \n",
      "30                         Fallopian_Tube  \n",
      "31                 Heart_Atrial_Appendage  \n",
      "32                   Heart_Left_Ventricle  \n",
      "33                          Kidney_Cortex  \n",
      "34                         Kidney_Medulla  \n",
      "35                                  Liver  \n",
      "36                                   Lung  \n",
      "37                   Minor_Salivary_Gland  \n",
      "38                        Muscle_Skeletal  \n",
      "39                           Nerve_Tibial  \n",
      "40                                  Ovary  \n",
      "41                               Pancreas  \n",
      "42                              Pituitary  \n",
      "43                               Prostate  \n",
      "44        Skin_Not_Sun_Exposed_Suprapubic  \n",
      "45             Skin_Sun_Exposed_Lower_leg  \n",
      "46         Small_Intestine_Terminal_Ileum  \n",
      "47                                 Spleen  \n",
      "48                                Stomach  \n",
      "49                                 Testis  \n",
      "50                                Thyroid  \n",
      "51                                 Uterus  \n",
      "52                                 Vagina  \n",
      "53                            Whole_Blood  \n",
      "Tissue_Ptg_e0250normalized/Adipose_Subcutaneous_p_expression_poilog_e0250.csv\n",
      "                     Name    Description  Adipose - Subcutaneous\n",
      "1      ENSG00000000003.14         TSPAN6            1.000000e+00\n",
      "2      ENSG00000000457.13          SCYL3            1.000000e+00\n",
      "3      ENSG00000000460.16       C1orf112            7.551802e-01\n",
      "4      ENSG00000000938.12            FGR            9.998375e-01\n",
      "5      ENSG00000000971.15            CFH            1.000000e+00\n",
      "...                   ...            ...                     ...\n",
      "15594   ENSG00000284128.1          BCRP3            3.866264e-06\n",
      "15595   ENSG00000284130.1    AC002472.16            2.388722e-07\n",
      "15596   ENSG00000284237.1   RP11-328D5.4            4.355075e-01\n",
      "15597   ENSG00000284428.1   RP11-15H20.6            5.530297e-02\n",
      "15598   ENSG00000284526.1  RP11-666A8.13            1.176951e-03\n",
      "\n",
      "[15598 rows x 3 columns]\n",
      "Tissue_Ptg_e0250normalized/Adipose_Visceral_Omentum_p_expression_poilog_e0250.csv\n",
      "                     Name    Description  Adipose - Visceral (Omentum)\n",
      "1      ENSG00000000003.14         TSPAN6                  1.000000e+00\n",
      "2      ENSG00000000457.13          SCYL3                  9.999996e-01\n",
      "3      ENSG00000000460.16       C1orf112                  2.742934e-01\n",
      "4      ENSG00000001036.13          FUCA2                  1.000000e+00\n",
      "5      ENSG00000001084.10           GCLC                  9.999978e-01\n",
      "...                   ...            ...                           ...\n",
      "12472   ENSG00000284052.1   RP11-284E5.1                  1.965939e-04\n",
      "12473   ENSG00000284070.1    KB-1995A5.5                  5.067819e-05\n",
      "12474   ENSG00000284117.1        MIR6883                  2.539510e-07\n",
      "12475   ENSG00000284237.1   RP11-328D5.4                  2.058796e-01\n",
      "12476   ENSG00000284526.1  RP11-666A8.13                  1.053775e-05\n",
      "\n",
      "[12476 rows x 3 columns]\n",
      "Tissue_Ptg_e0250normalized/Adrenal_Gland_p_expression_poilog_e0250.csv\n",
      "                    Name    Description  Adrenal Gland\n",
      "1     ENSG00000000457.13          SCYL3   9.999967e-01\n",
      "2     ENSG00000001084.10           GCLC   1.000000e+00\n",
      "3     ENSG00000001167.14           NFYA   1.000000e+00\n",
      "4     ENSG00000001460.17          STPG1   9.847499e-01\n",
      "5     ENSG00000001461.16         NIPAL3   9.999998e-01\n",
      "...                  ...            ...            ...\n",
      "8114   ENSG00000283992.1          LYNX1   2.702354e-07\n",
      "8115   ENSG00000284070.1    KB-1995A5.5   2.047238e-04\n",
      "8116   ENSG00000284128.1          BCRP3   6.080336e-04\n",
      "8117   ENSG00000284237.1   RP11-328D5.4   2.970207e-02\n",
      "8118   ENSG00000284430.1  LLNLR-263F3.1   2.358408e-06\n",
      "\n",
      "[8118 rows x 3 columns]\n",
      "Tissue_Ptg_e0250normalized/Artery_Aorta_p_expression_poilog_e0250.csv\n",
      "                     Name    Description  Artery - Aorta\n",
      "1      ENSG00000000003.14         TSPAN6    1.000000e+00\n",
      "2      ENSG00000000460.16       C1orf112    6.305437e-02\n",
      "3      ENSG00000000971.15            CFH    1.000000e+00\n",
      "4      ENSG00000001036.13          FUCA2    1.000000e+00\n",
      "5      ENSG00000001167.14           NFYA    1.000000e+00\n",
      "...                   ...            ...             ...\n",
      "12484   ENSG00000284070.1    KB-1995A5.5    4.291327e-04\n",
      "12485   ENSG00000284237.1   RP11-328D5.4    6.354095e-02\n",
      "12486   ENSG00000284471.1  RP11-449H15.3    1.991072e-06\n",
      "12487   ENSG00000284526.1  RP11-666A8.13    2.037624e-07\n",
      "12488   ENSG00000284600.1  RP11-755H23.1    6.002983e-02\n",
      "\n",
      "[12488 rows x 3 columns]\n",
      "Tissue_Ptg_e0250normalized/Artery_Coronary_p_expression_poilog_e0250.csv\n",
      "                    Name    Description  Artery - Coronary\n",
      "1     ENSG00000000003.14         TSPAN6           0.999463\n",
      "2     ENSG00000000938.12            FGR           0.978343\n",
      "3     ENSG00000000971.15            CFH           1.000000\n",
      "4     ENSG00000001167.14           NFYA           1.000000\n",
      "5     ENSG00000001460.17          STPG1           0.735492\n",
      "...                  ...            ...                ...\n",
      "6290   ENSG00000283992.1          LYNX1           0.349897\n",
      "6291   ENSG00000284052.1   RP11-284E5.1           0.120817\n",
      "6292   ENSG00000284070.1    KB-1995A5.5           0.000185\n",
      "6293   ENSG00000284237.1   RP11-328D5.4           0.197711\n",
      "6294   ENSG00000284600.1  RP11-755H23.1           0.002873\n",
      "\n",
      "[6294 rows x 3 columns]\n",
      "Tissue_Ptg_e0250normalized/Artery_Tibial_p_expression_poilog_e0250.csv\n"
     ]
    },
    {
     "name": "stdout",
     "output_type": "stream",
     "text": [
      "                     Name    Description  Artery - Tibial\n",
      "1      ENSG00000000003.14         TSPAN6         0.997214\n",
      "2       ENSG00000000005.5           TNMD         0.048083\n",
      "3      ENSG00000000457.13          SCYL3         1.000000\n",
      "4      ENSG00000000460.16       C1orf112         0.311965\n",
      "5      ENSG00000000938.12            FGR         0.704334\n",
      "...                   ...            ...              ...\n",
      "14999   ENSG00000284413.1          BTBD8         0.000058\n",
      "15000   ENSG00000284428.1   RP11-15H20.6         0.018097\n",
      "15001   ENSG00000284430.1  LLNLR-263F3.1         0.000003\n",
      "15002   ENSG00000284471.1  RP11-449H15.3         0.000005\n",
      "15003   ENSG00000284600.1  RP11-755H23.1         0.013871\n",
      "\n",
      "[15003 rows x 3 columns]\n",
      "Tissue_Ptg_e0250normalized/Bladder_p_expression_poilog_e0250.csv\n",
      "Tissue_Ptg_e0250normalized/Brain_Amygdala_p_expression_poilog_e0250.csv\n",
      "                    Name    Description  Brain - Amygdala\n",
      "1     ENSG00000000457.13          SCYL3      8.776227e-01\n",
      "2     ENSG00000001460.17          STPG1      9.994950e-01\n",
      "3     ENSG00000002016.17          RAD52      9.210168e-01\n",
      "4     ENSG00000002549.12           LAP3      9.999999e-01\n",
      "5      ENSG00000003137.8        CYP26B1      9.082162e-01\n",
      "...                  ...            ...               ...\n",
      "3720   ENSG00000283709.1    LINC00202-1      5.351123e-01\n",
      "3721   ENSG00000283886.1   RP11-204M4.3      1.253693e-03\n",
      "3722   ENSG00000284052.1   RP11-284E5.1      3.974448e-04\n",
      "3723   ENSG00000284471.1  RP11-449H15.3      1.120275e-03\n",
      "3724   ENSG00000284600.1  RP11-755H23.1      2.409316e-07\n",
      "\n",
      "[3724 rows x 3 columns]\n",
      "Tissue_Ptg_e0250normalized/Brain_Anterior_cingulate_cortex_BA24_p_expression_poilog_e0250.csv\n",
      "                    Name    Description  \\\n",
      "1     ENSG00000000457.13          SCYL3   \n",
      "2     ENSG00000000460.16       C1orf112   \n",
      "3     ENSG00000001460.17          STPG1   \n",
      "4     ENSG00000002016.17          RAD52   \n",
      "5     ENSG00000002549.12           LAP3   \n",
      "...                  ...            ...   \n",
      "5635   ENSG00000284070.1    KB-1995A5.5   \n",
      "5636   ENSG00000284196.1   RP11-470M1.2   \n",
      "5637   ENSG00000284391.1  RP11-528B10.5   \n",
      "5638   ENSG00000284428.1   RP11-15H20.6   \n",
      "5639   ENSG00000284471.1  RP11-449H15.3   \n",
      "\n",
      "      Brain - Anterior cingulate cortex (BA24)  \n",
      "1                                 9.682185e-01  \n",
      "2                                 1.452522e-04  \n",
      "3                                 9.994946e-01  \n",
      "4                                 9.872042e-01  \n",
      "5                                 9.999998e-01  \n",
      "...                                        ...  \n",
      "5635                              1.010817e-03  \n",
      "5636                              4.630926e-04  \n",
      "5637                              2.369528e-07  \n",
      "5638                              2.770879e-02  \n",
      "5639                              5.469338e-03  \n",
      "\n",
      "[5639 rows x 3 columns]\n",
      "Tissue_Ptg_e0250normalized/Brain_Caudate_basal_ganglia_p_expression_poilog_e0250.csv\n",
      "                    Name    Description  Brain - Caudate (basal ganglia)\n",
      "1     ENSG00000000457.13          SCYL3                     9.783368e-01\n",
      "2     ENSG00000000460.16       C1orf112                     1.042037e-02\n",
      "3     ENSG00000001084.10           GCLC                     1.000000e+00\n",
      "4     ENSG00000001460.17          STPG1                     9.999569e-01\n",
      "5      ENSG00000001561.6          ENPP4                     1.000000e+00\n",
      "...                  ...            ...                              ...\n",
      "8352   ENSG00000284377.1  RP11-226B15.1                     4.618860e-05\n",
      "8353   ENSG00000284391.1  RP11-528B10.5                     1.912697e-07\n",
      "8354   ENSG00000284428.1   RP11-15H20.6                     1.250338e-01\n",
      "8355   ENSG00000284471.1  RP11-449H15.3                     6.968257e-03\n",
      "8356   ENSG00000284513.1   RP3-377H17.3                     2.644489e-07\n",
      "\n",
      "[8356 rows x 3 columns]\n",
      "Tissue_Ptg_e0250normalized/Brain_Cerebellar_Hemisphere_p_expression_poilog_e0250.csv\n",
      "                     Name    Description  Brain - Cerebellar Hemisphere\n",
      "1      ENSG00000000457.13          SCYL3                   1.000000e+00\n",
      "2      ENSG00000000460.16       C1orf112                   7.997579e-01\n",
      "3      ENSG00000001167.14           NFYA                   1.000000e+00\n",
      "4      ENSG00000001461.16         NIPAL3                   1.000000e+00\n",
      "5       ENSG00000001561.6          ENPP4                   1.000000e+00\n",
      "...                   ...            ...                            ...\n",
      "10017   ENSG00000284237.1   RP11-328D5.4                   1.525192e-01\n",
      "10018   ENSG00000284395.1  LA16c-312E8.5                   3.469556e-07\n",
      "10019   ENSG00000284471.1  RP11-449H15.3                   1.487082e-01\n",
      "10020   ENSG00000284516.1  RP11-429B11.2                   2.051174e-07\n",
      "10021   ENSG00000284526.1  RP11-666A8.13                   5.765137e-04\n",
      "\n",
      "[10021 rows x 3 columns]\n",
      "Tissue_Ptg_e0250normalized/Brain_Cerebellum_p_expression_poilog_e0250.csv\n",
      "                     Name    Description  Brain - Cerebellum\n",
      "1      ENSG00000000419.12           DPM1            1.000000\n",
      "2      ENSG00000000457.13          SCYL3            1.000000\n",
      "3      ENSG00000000460.16       C1orf112            0.913869\n",
      "4      ENSG00000001167.14           NFYA            1.000000\n",
      "5      ENSG00000001461.16         NIPAL3            1.000000\n",
      "...                   ...            ...                 ...\n",
      "11230   ENSG00000284130.1    AC002472.16            0.000307\n",
      "11231   ENSG00000284196.1   RP11-470M1.2            0.062840\n",
      "11232   ENSG00000284395.1  LA16c-312E8.5            0.000001\n",
      "11233   ENSG00000284471.1  RP11-449H15.3            0.035995\n",
      "11234   ENSG00000284526.1  RP11-666A8.13            0.000024\n",
      "\n",
      "[11234 rows x 3 columns]\n",
      "Tissue_Ptg_e0250normalized/Brain_Cortex_p_expression_poilog_e0250.csv\n",
      "                    Name    Description  Brain - Cortex\n",
      "1     ENSG00000000457.13          SCYL3    9.979430e-01\n",
      "2     ENSG00000000460.16       C1orf112    8.548470e-03\n",
      "3     ENSG00000001084.10           GCLC    1.000000e+00\n",
      "4     ENSG00000001167.14           NFYA    1.000000e+00\n",
      "5     ENSG00000001460.17          STPG1    1.000000e+00\n",
      "...                  ...            ...             ...\n",
      "9074   ENSG00000284237.1   RP11-328D5.4    1.369927e-05\n",
      "9075   ENSG00000284395.1  LA16c-312E8.5    2.214029e-07\n",
      "9076   ENSG00000284428.1   RP11-15H20.6    9.034283e-02\n",
      "9077   ENSG00000284471.1  RP11-449H15.3    2.640621e-04\n",
      "9078   ENSG00000284600.1  RP11-755H23.1    1.903417e-07\n",
      "\n",
      "[9078 rows x 3 columns]\n",
      "Tissue_Ptg_e0250normalized/Brain_Frontal_Cortex_BA9_p_expression_poilog_e0250.csv\n",
      "                    Name    Description  Brain - Frontal Cortex (BA9)\n",
      "1     ENSG00000001036.13          FUCA2                  9.995601e-01\n",
      "2     ENSG00000001460.17          STPG1                  1.000000e+00\n",
      "3      ENSG00000001561.6          ENPP4                  1.000000e+00\n",
      "4     ENSG00000001626.14           CFTR                  2.226865e-04\n",
      "5     ENSG00000001631.15          KRIT1                  1.000000e+00\n",
      "...                  ...            ...                           ...\n",
      "7329   ENSG00000284024.1  RP11-398C13.8                  3.976648e-06\n",
      "7330   ENSG00000284070.1    KB-1995A5.5                  3.927424e-04\n",
      "7331   ENSG00000284428.1   RP11-15H20.6                  4.999022e-02\n",
      "7332   ENSG00000284471.1  RP11-449H15.3                  6.721451e-03\n",
      "7333   ENSG00000284600.1  RP11-755H23.1                  1.975537e-07\n",
      "\n",
      "[7333 rows x 3 columns]\n",
      "Tissue_Ptg_e0250normalized/Brain_Hippocampus_p_expression_poilog_e0250.csv\n",
      "                    Name    Description  Brain - Hippocampus\n",
      "1     ENSG00000000003.14         TSPAN6         9.965430e-01\n",
      "2     ENSG00000000460.16       C1orf112         2.926369e-02\n",
      "3     ENSG00000001036.13          FUCA2         9.999996e-01\n",
      "4     ENSG00000001084.10           GCLC         1.000000e+00\n",
      "5     ENSG00000001460.17          STPG1         9.949776e-01\n",
      "...                  ...            ...                  ...\n",
      "5511   ENSG00000283886.1   RP11-204M4.3         2.059605e-03\n",
      "5512   ENSG00000284377.1  RP11-226B15.1         2.470070e-03\n",
      "5513   ENSG00000284428.1   RP11-15H20.6         6.481130e-02\n",
      "5514   ENSG00000284471.1  RP11-449H15.3         1.257832e-03\n",
      "5515   ENSG00000284600.1  RP11-755H23.1         2.199375e-07\n",
      "\n",
      "[5515 rows x 3 columns]\n",
      "Tissue_Ptg_e0250normalized/Brain_Hypothalamus_p_expression_poilog_e0250.csv\n",
      "                    Name    Description  Brain - Hypothalamus\n",
      "1     ENSG00000000003.14         TSPAN6          9.998655e-01\n",
      "2     ENSG00000001460.17          STPG1          9.999998e-01\n",
      "3     ENSG00000001461.16         NIPAL3          1.000000e+00\n",
      "4     ENSG00000002016.17          RAD52          9.967990e-01\n",
      "5     ENSG00000002330.13            BAD          1.000000e+00\n",
      "...                  ...            ...                   ...\n",
      "5492   ENSG00000283886.1   RP11-204M4.3          1.021516e-02\n",
      "5493   ENSG00000283992.1          LYNX1          7.264508e-07\n",
      "5494   ENSG00000284070.1    KB-1995A5.5          1.689157e-05\n",
      "5495   ENSG00000284395.1  LA16c-312E8.5          2.470473e-07\n",
      "5496   ENSG00000284471.1  RP11-449H15.3          9.890803e-04\n",
      "\n",
      "[5496 rows x 3 columns]\n",
      "Tissue_Ptg_e0250normalized/Brain_Nucleus_accumbens_basal_ganglia_p_expression_poilog_e0250.csv\n"
     ]
    },
    {
     "name": "stdout",
     "output_type": "stream",
     "text": [
      "                    Name    Description  \\\n",
      "1     ENSG00000000457.13          SCYL3   \n",
      "2     ENSG00000001084.10           GCLC   \n",
      "3     ENSG00000001460.17          STPG1   \n",
      "4     ENSG00000001461.16         NIPAL3   \n",
      "5     ENSG00000001497.16          LAS1L   \n",
      "...                  ...            ...   \n",
      "8189   ENSG00000284070.1    KB-1995A5.5   \n",
      "8190   ENSG00000284196.1   RP11-470M1.2   \n",
      "8191   ENSG00000284428.1   RP11-15H20.6   \n",
      "8192   ENSG00000284471.1  RP11-449H15.3   \n",
      "8193   ENSG00000284513.1   RP3-377H17.3   \n",
      "\n",
      "      Brain - Nucleus accumbens (basal ganglia)  \n",
      "1                                  9.659942e-01  \n",
      "2                                  1.000000e+00  \n",
      "3                                  9.997532e-01  \n",
      "4                                  1.000000e+00  \n",
      "5                                  1.000000e+00  \n",
      "...                                         ...  \n",
      "8189                               1.122470e-02  \n",
      "8190                               1.191487e-05  \n",
      "8191                               5.063095e-01  \n",
      "8192                               3.425876e-02  \n",
      "8193                               2.531867e-07  \n",
      "\n",
      "[8193 rows x 3 columns]\n",
      "Tissue_Ptg_e0250normalized/Brain_Putamen_basal_ganglia_p_expression_poilog_e0250.csv\n",
      "                    Name    Description  Brain - Putamen (basal ganglia)\n",
      "1     ENSG00000000457.13          SCYL3                         0.875246\n",
      "2     ENSG00000000460.16       C1orf112                         0.002620\n",
      "3     ENSG00000000971.15            CFH                         0.995320\n",
      "4     ENSG00000001084.10           GCLC                         1.000000\n",
      "5     ENSG00000001460.17          STPG1                         0.999794\n",
      "...                  ...            ...                              ...\n",
      "6894   ENSG00000284196.1   RP11-470M1.2                         0.000508\n",
      "6895   ENSG00000284237.1   RP11-328D5.4                         0.000069\n",
      "6896   ENSG00000284377.1  RP11-226B15.1                         0.000462\n",
      "6897   ENSG00000284428.1   RP11-15H20.6                         0.011615\n",
      "6898   ENSG00000284471.1  RP11-449H15.3                         0.000806\n",
      "\n",
      "[6898 rows x 3 columns]\n",
      "Tissue_Ptg_e0250normalized/Brain_Spinal_cord_cervical_c-1_p_expression_poilog_e0250.csv\n",
      "                    Name    Description  Brain - Spinal cord (cervical c-1)\n",
      "1     ENSG00000000938.12            FGR                        9.482588e-01\n",
      "2     ENSG00000001167.14           NFYA                        1.000000e+00\n",
      "3     ENSG00000001460.17          STPG1                        9.999994e-01\n",
      "4      ENSG00000001561.6          ENPP4                        1.000000e+00\n",
      "5     ENSG00000002586.18           CD99                        1.000000e+00\n",
      "...                  ...            ...                                 ...\n",
      "4477   ENSG00000283914.1  RP11-219G17.9                        2.392798e-07\n",
      "4478   ENSG00000284052.1   RP11-284E5.1                        6.833320e-04\n",
      "4479   ENSG00000284070.1    KB-1995A5.5                        1.467930e-05\n",
      "4480   ENSG00000284377.1  RP11-226B15.1                        1.185974e-01\n",
      "4481   ENSG00000284471.1  RP11-449H15.3                        4.682504e-05\n",
      "\n",
      "[4481 rows x 3 columns]\n",
      "Tissue_Ptg_e0250normalized/Brain_Substantia_nigra_p_expression_poilog_e0250.csv\n",
      "                    Name    Description  Brain - Substantia nigra\n",
      "1     ENSG00000000003.14         TSPAN6                  0.997711\n",
      "2     ENSG00000001084.10           GCLC                  1.000000\n",
      "3     ENSG00000001626.14           CFTR                  0.101174\n",
      "4     ENSG00000001630.15        CYP51A1                  0.023155\n",
      "5      ENSG00000002933.7       TMEM176A                  0.999308\n",
      "...                  ...            ...                       ...\n",
      "3295   ENSG00000283633.1     AC005301.9                  0.381884\n",
      "3296   ENSG00000283667.1   RP11-793J2.1                  0.000004\n",
      "3297   ENSG00000283674.1  RP11-419I17.1                  0.325735\n",
      "3298   ENSG00000283886.1   RP11-204M4.3                  0.013607\n",
      "3299   ENSG00000284377.1  RP11-226B15.1                  0.005383\n",
      "\n",
      "[3299 rows x 3 columns]\n",
      "Tissue_Ptg_e0250normalized/Breast_Mammary_Tissue_p_expression_poilog_e0250.csv\n",
      "                     Name    Description  Breast - Mammary Tissue\n",
      "1      ENSG00000000003.14         TSPAN6                 1.000000\n",
      "2      ENSG00000000457.13          SCYL3                 1.000000\n",
      "3      ENSG00000001036.13          FUCA2                 1.000000\n",
      "4      ENSG00000001167.14           NFYA                 1.000000\n",
      "5      ENSG00000001460.17          STPG1                 0.997666\n",
      "...                   ...            ...                      ...\n",
      "10862   ENSG00000284128.1          BCRP3                 0.000014\n",
      "10863   ENSG00000284237.1   RP11-328D5.4                 0.499109\n",
      "10864   ENSG00000284428.1   RP11-15H20.6                 0.238884\n",
      "10865   ENSG00000284471.1  RP11-449H15.3                 0.000308\n",
      "10866   ENSG00000284526.1  RP11-666A8.13                 0.023459\n",
      "\n",
      "[10866 rows x 3 columns]\n",
      "Tissue_Ptg_e0250normalized/Cells_EBV-transformed_lymphocytes_p_expression_poilog_e0250.csv\n",
      "                    Name    Description  Cells - EBV-transformed lymphocytes\n",
      "1     ENSG00000001167.14           NFYA                         1.000000e+00\n",
      "2     ENSG00000002016.17          RAD52                         9.999989e-01\n",
      "3      ENSG00000002587.9         HS3ST1                         4.177067e-01\n",
      "4     ENSG00000003147.17           ICA1                         2.537217e-01\n",
      "5     ENSG00000003393.14           ALS2                         1.000000e+00\n",
      "...                  ...            ...                                  ...\n",
      "4927   ENSG00000283667.1   RP11-793J2.1                         3.634435e-03\n",
      "4928   ENSG00000283886.1   RP11-204M4.3                         2.165681e-07\n",
      "4929   ENSG00000284052.1   RP11-284E5.1                         5.737351e-05\n",
      "4930   ENSG00000284095.1    RP11-39E3.6                         3.125741e-04\n",
      "4931   ENSG00000284471.1  RP11-449H15.3                         2.502858e-04\n",
      "\n",
      "[4931 rows x 3 columns]\n",
      "Tissue_Ptg_e0250normalized/Cells_Cultured_fibroblasts_p_expression_poilog_e0250.csv\n",
      "                     Name   Description  Cells - Cultured fibroblasts\n",
      "1      ENSG00000000003.14        TSPAN6                  1.000000e+00\n",
      "2      ENSG00000000419.12          DPM1                  1.000000e+00\n",
      "3      ENSG00000000457.13         SCYL3                  9.999999e-01\n",
      "4      ENSG00000000971.15           CFH                  9.999993e-01\n",
      "5      ENSG00000001036.13         FUCA2                  1.000000e+00\n",
      "...                   ...           ...                           ...\n",
      "15211   ENSG00000284070.1   KB-1995A5.5                  3.602155e-04\n",
      "15212   ENSG00000284237.1  RP11-328D5.4                  1.117064e-03\n",
      "15213   ENSG00000284413.1         BTBD8                  1.096430e-03\n",
      "15214   ENSG00000284428.1  RP11-15H20.6                  8.073097e-07\n",
      "15215   ENSG00000284523.1  RP13-968A2.1                  1.945117e-07\n",
      "\n",
      "[15215 rows x 3 columns]\n",
      "Tissue_Ptg_e0250normalized/Cervix_Ectocervix_p_expression_poilog_e0250.csv\n",
      "Tissue_Ptg_e0250normalized/Cervix_Endocervix_p_expression_poilog_e0250.csv\n",
      "Tissue_Ptg_e0250normalized/Colon_Sigmoid_p_expression_poilog_e0250.csv\n",
      "                     Name    Description  Colon - Sigmoid\n",
      "1      ENSG00000000003.14         TSPAN6         0.995134\n",
      "2      ENSG00000000457.13          SCYL3         1.000000\n",
      "3      ENSG00000000460.16       C1orf112         0.464664\n",
      "4      ENSG00000001036.13          FUCA2         1.000000\n",
      "5      ENSG00000001167.14           NFYA         1.000000\n",
      "...                   ...            ...              ...\n",
      "10540   ENSG00000284070.1    KB-1995A5.5         0.000024\n",
      "10541   ENSG00000284128.1          BCRP3         0.000024\n",
      "10542   ENSG00000284237.1   RP11-328D5.4         0.049356\n",
      "10543   ENSG00000284526.1  RP11-666A8.13         0.116137\n",
      "10544   ENSG00000284600.1  RP11-755H23.1         0.091537\n",
      "\n",
      "[10544 rows x 3 columns]\n",
      "Tissue_Ptg_e0250normalized/Colon_Transverse_p_expression_poilog_e0250.csv\n",
      "                     Name    Description  Colon - Transverse\n",
      "1      ENSG00000000003.14         TSPAN6        9.975349e-01\n",
      "2      ENSG00000000457.13          SCYL3        1.000000e+00\n",
      "3      ENSG00000000460.16       C1orf112        4.680842e-01\n",
      "4      ENSG00000001167.14           NFYA        1.000000e+00\n",
      "5      ENSG00000001461.16         NIPAL3        1.000000e+00\n",
      "...                   ...            ...                 ...\n",
      "11676   ENSG00000284413.1          BTBD8        2.813106e-07\n",
      "11677   ENSG00000284471.1  RP11-449H15.3        1.329571e-05\n",
      "11678   ENSG00000284526.1  RP11-666A8.13        1.834222e-02\n",
      "11679   ENSG00000284543.1      LINC01226        9.823432e-03\n",
      "11680   ENSG00000284600.1  RP11-755H23.1        2.348456e-02\n",
      "\n",
      "[11680 rows x 3 columns]\n",
      "Tissue_Ptg_e0250normalized/Esophagus_Gastroesophageal_Junction_p_expression_poilog_e0250.csv\n",
      "                     Name    Description  \\\n",
      "1      ENSG00000000003.14         TSPAN6   \n",
      "2      ENSG00000000457.13          SCYL3   \n",
      "3      ENSG00000000460.16       C1orf112   \n",
      "4      ENSG00000000971.15            CFH   \n",
      "5      ENSG00000001036.13          FUCA2   \n",
      "...                   ...            ...   \n",
      "10523   ENSG00000284237.1   RP11-328D5.4   \n",
      "10524   ENSG00000284430.1  LLNLR-263F3.1   \n",
      "10525   ENSG00000284523.1   RP13-968A2.1   \n",
      "10526   ENSG00000284526.1  RP11-666A8.13   \n",
      "10527   ENSG00000284600.1  RP11-755H23.1   \n",
      "\n",
      "       Esophagus - Gastroesophageal Junction  \n",
      "1                               9.981753e-01  \n",
      "2                               1.000000e+00  \n",
      "3                               2.083885e-01  \n",
      "4                               1.000000e+00  \n",
      "5                               1.000000e+00  \n",
      "...                                      ...  \n",
      "10523                           3.636725e-01  \n",
      "10524                           2.195931e-07  \n",
      "10525                           2.287172e-07  \n",
      "10526                           1.458060e-02  \n",
      "10527                           7.392144e-02  \n",
      "\n",
      "[10527 rows x 3 columns]\n",
      "Tissue_Ptg_e0250normalized/Esophagus_Mucosa_p_expression_poilog_e0250.csv\n",
      "                     Name    Description  Esophagus - Mucosa\n",
      "1      ENSG00000000419.12           DPM1            1.000000\n",
      "2      ENSG00000001036.13          FUCA2            1.000000\n",
      "3      ENSG00000001167.14           NFYA            1.000000\n",
      "4      ENSG00000001460.17          STPG1            0.999985\n",
      "5      ENSG00000001461.16         NIPAL3            1.000000\n",
      "...                   ...            ...                 ...\n",
      "14664   ENSG00000284070.1    KB-1995A5.5            0.000123\n",
      "14665   ENSG00000284128.1          BCRP3            0.000006\n",
      "14666   ENSG00000284237.1   RP11-328D5.4            0.033809\n",
      "14667   ENSG00000284526.1  RP11-666A8.13            0.166738\n",
      "14668   ENSG00000284543.1      LINC01226            0.017298\n",
      "\n",
      "[14668 rows x 3 columns]\n",
      "Tissue_Ptg_e0250normalized/Esophagus_Muscularis_p_expression_poilog_e0250.csv\n"
     ]
    },
    {
     "name": "stdout",
     "output_type": "stream",
     "text": [
      "                     Name    Description  Esophagus - Muscularis\n",
      "1      ENSG00000000003.14         TSPAN6                0.992797\n",
      "2       ENSG00000000005.5           TNMD                0.000016\n",
      "3      ENSG00000000457.13          SCYL3                1.000000\n",
      "4      ENSG00000000460.16       C1orf112                0.174890\n",
      "5      ENSG00000000938.12            FGR                0.948646\n",
      "...                   ...            ...                     ...\n",
      "14099   ENSG00000284237.1   RP11-328D5.4                0.343578\n",
      "14100   ENSG00000284308.1        C2orf81                0.498709\n",
      "14101   ENSG00000284428.1   RP11-15H20.6                0.038574\n",
      "14102   ENSG00000284526.1  RP11-666A8.13                0.023262\n",
      "14103   ENSG00000284600.1  RP11-755H23.1                0.091577\n",
      "\n",
      "[14103 rows x 3 columns]\n",
      "Tissue_Ptg_e0250normalized/Fallopian_Tube_p_expression_poilog_e0250.csv\n",
      "Tissue_Ptg_e0250normalized/Heart_Atrial_Appendage_p_expression_poilog_e0250.csv\n",
      "                     Name    Description  Heart - Atrial Appendage\n",
      "1      ENSG00000000003.14         TSPAN6                  0.999896\n",
      "2      ENSG00000000460.16       C1orf112                  0.016438\n",
      "3      ENSG00000000971.15            CFH                  1.000000\n",
      "4      ENSG00000001036.13          FUCA2                  1.000000\n",
      "5      ENSG00000001084.10           GCLC                  1.000000\n",
      "...                   ...            ...                       ...\n",
      "10983   ENSG00000284237.1   RP11-328D5.4                  0.753081\n",
      "10984   ENSG00000284308.1        C2orf81                  0.104534\n",
      "10985   ENSG00000284391.1  RP11-528B10.5                  0.009050\n",
      "10986   ENSG00000284428.1   RP11-15H20.6                  0.029020\n",
      "10987   ENSG00000284526.1  RP11-666A8.13                  0.000141\n",
      "\n",
      "[10987 rows x 3 columns]\n",
      "Tissue_Ptg_e0250normalized/Heart_Left_Ventricle_p_expression_poilog_e0250.csv\n",
      "                    Name    Description  Heart - Left Ventricle\n",
      "1     ENSG00000000003.14         TSPAN6                0.896058\n",
      "2     ENSG00000000457.13          SCYL3                0.886005\n",
      "3     ENSG00000000460.16       C1orf112                0.000191\n",
      "4     ENSG00000000938.12            FGR                0.870421\n",
      "5     ENSG00000001084.10           GCLC                0.999850\n",
      "...                  ...            ...                     ...\n",
      "9632   ENSG00000284052.1   RP11-284E5.1                0.000291\n",
      "9633   ENSG00000284128.1          BCRP3                0.000004\n",
      "9634   ENSG00000284237.1   RP11-328D5.4                0.353842\n",
      "9635   ENSG00000284308.1        C2orf81                0.038143\n",
      "9636   ENSG00000284391.1  RP11-528B10.5                0.032162\n",
      "\n",
      "[9636 rows x 3 columns]\n",
      "Tissue_Ptg_e0250normalized/Kidney_Cortex_p_expression_poilog_e0250.csv\n",
      "                    Name     Description  Kidney - Cortex\n",
      "1     ENSG00000004534.14            RBM6     1.000000e+00\n",
      "2     ENSG00000006282.20         SPATA20     1.000000e+00\n",
      "3     ENSG00000006652.13           IFRD1     1.000000e+00\n",
      "4     ENSG00000006744.18           ELAC2     1.000000e+00\n",
      "5     ENSG00000006756.15            ARSD     1.000000e+00\n",
      "...                  ...             ...              ...\n",
      "1256   ENSG00000283345.1   CTD-3092A11.3     2.528408e-07\n",
      "1257   ENSG00000283355.1    RP11-739P1.3     1.901698e-07\n",
      "1258   ENSG00000283375.1  RP11-613D13.10     9.296519e-01\n",
      "1259   ENSG00000283426.1    RP11-141C7.2     3.749169e-01\n",
      "1260   ENSG00000284543.1       LINC01226     8.772612e-02\n",
      "\n",
      "[1260 rows x 3 columns]\n",
      "Tissue_Ptg_e0250normalized/Kidney_Medulla_p_expression_poilog_e0250.csv\n",
      "Tissue_Ptg_e0250normalized/Liver_p_expression_poilog_e0250.csv\n",
      "                    Name   Description     Liver\n",
      "1     ENSG00000000460.16      C1orf112  0.156184\n",
      "2     ENSG00000000938.12           FGR  0.947188\n",
      "3     ENSG00000001461.16        NIPAL3  0.834730\n",
      "4     ENSG00000002016.17         RAD52  0.967931\n",
      "5     ENSG00000002726.20          AOC1  0.260096\n",
      "...                  ...           ...       ...\n",
      "5727   ENSG00000284128.1         BCRP3  0.015165\n",
      "5728   ENSG00000284196.1  RP11-470M1.2  0.633546\n",
      "5729   ENSG00000284237.1  RP11-328D5.4  0.000023\n",
      "5730   ENSG00000284428.1  RP11-15H20.6  0.799418\n",
      "5731   ENSG00000284540.1  RP11-90J19.1  0.000271\n",
      "\n",
      "[5731 rows x 3 columns]\n",
      "Tissue_Ptg_e0250normalized/Lung_p_expression_poilog_e0250.csv\n",
      "                     Name    Description          Lung\n",
      "1      ENSG00000000003.14         TSPAN6  9.999811e-01\n",
      "2      ENSG00000000460.16       C1orf112  2.576699e-01\n",
      "3      ENSG00000000971.15            CFH  1.000000e+00\n",
      "4      ENSG00000001036.13          FUCA2  1.000000e+00\n",
      "5      ENSG00000001084.10           GCLC  9.999971e-01\n",
      "...                   ...            ...           ...\n",
      "14102   ENSG00000284233.1    KB-1995A5.4  7.148607e-05\n",
      "14103   ENSG00000284237.1   RP11-328D5.4  1.635506e-01\n",
      "14104   ENSG00000284391.1  RP11-528B10.5  2.267679e-07\n",
      "14105   ENSG00000284471.1  RP11-449H15.3  3.464028e-04\n",
      "14106   ENSG00000284526.1  RP11-666A8.13  3.769210e-02\n",
      "\n",
      "[14106 rows x 3 columns]\n",
      "Tissue_Ptg_e0250normalized/Minor_Salivary_Gland_p_expression_poilog_e0250.csv\n",
      "                    Name    Description  Minor Salivary Gland\n",
      "1     ENSG00000000003.14         TSPAN6          1.000000e+00\n",
      "2     ENSG00000001036.13          FUCA2          1.000000e+00\n",
      "3     ENSG00000001167.14           NFYA          1.000000e+00\n",
      "4     ENSG00000001461.16         NIPAL3          1.000000e+00\n",
      "5     ENSG00000002016.17          RAD52          9.956316e-01\n",
      "...                  ...            ...                   ...\n",
      "4830   ENSG00000283839.1  RP11-363K21.1          3.127080e-05\n",
      "4831   ENSG00000283886.1   RP11-204M4.3          2.429673e-04\n",
      "4832   ENSG00000283959.1   KB-1042C11.5          1.905267e-07\n",
      "4833   ENSG00000284070.1    KB-1995A5.5          4.686902e-06\n",
      "4834   ENSG00000284237.1   RP11-328D5.4          7.879064e-01\n",
      "\n",
      "[4834 rows x 3 columns]\n",
      "Tissue_Ptg_e0250normalized/Muscle_Skeletal_p_expression_poilog_e0250.csv\n",
      "                     Name    Description  Muscle - Skeletal\n",
      "1      ENSG00000000003.14         TSPAN6       5.992643e-01\n",
      "2      ENSG00000000457.13          SCYL3       9.998779e-01\n",
      "3      ENSG00000000460.16       C1orf112       3.150463e-03\n",
      "4      ENSG00000000938.12            FGR       3.638126e-01\n",
      "5      ENSG00000001036.13          FUCA2       7.704924e-01\n",
      "...                   ...            ...                ...\n",
      "13521   ENSG00000284128.1          BCRP3       2.654848e-07\n",
      "13522   ENSG00000284237.1   RP11-328D5.4       6.602038e-02\n",
      "13523   ENSG00000284391.1  RP11-528B10.5       4.704110e-02\n",
      "13524   ENSG00000284428.1   RP11-15H20.6       9.516105e-06\n",
      "13525   ENSG00000284526.1  RP11-666A8.13       1.550333e-04\n",
      "\n",
      "[13525 rows x 3 columns]\n",
      "Tissue_Ptg_e0250normalized/Nerve_Tibial_p_expression_poilog_e0250.csv\n",
      "                     Name    Description  Nerve - Tibial\n",
      "1      ENSG00000000003.14         TSPAN6    1.000000e+00\n",
      "2       ENSG00000000005.5           TNMD    2.349540e-01\n",
      "3      ENSG00000000419.12           DPM1    1.000000e+00\n",
      "4      ENSG00000000457.13          SCYL3    1.000000e+00\n",
      "5      ENSG00000000460.16       C1orf112    9.934234e-01\n",
      "...                   ...            ...             ...\n",
      "17272   ENSG00000284428.1   RP11-15H20.6    3.152072e-01\n",
      "17273   ENSG00000284430.1  LLNLR-263F3.1    2.014059e-07\n",
      "17274   ENSG00000284471.1  RP11-449H15.3    3.156627e-05\n",
      "17275   ENSG00000284523.1   RP13-968A2.1    4.926280e-07\n",
      "17276   ENSG00000284526.1  RP11-666A8.13    9.842614e-01\n",
      "\n",
      "[17276 rows x 3 columns]\n",
      "Tissue_Ptg_e0250normalized/Ovary_p_expression_poilog_e0250.csv\n",
      "                    Name    Description     Ovary\n",
      "1     ENSG00000000003.14         TSPAN6  1.000000\n",
      "2     ENSG00000000460.16       C1orf112  0.926402\n",
      "3     ENSG00000000971.15            CFH  1.000000\n",
      "4     ENSG00000001036.13          FUCA2  1.000000\n",
      "5     ENSG00000001167.14           NFYA  1.000000\n",
      "...                  ...            ...       ...\n",
      "5535   ENSG00000283886.1   RP11-204M4.3  0.000025\n",
      "5536   ENSG00000283991.1    RP11-42B7.1  0.000004\n",
      "5537   ENSG00000284052.1   RP11-284E5.1  0.005662\n",
      "5538   ENSG00000284237.1   RP11-328D5.4  0.300343\n",
      "5539   ENSG00000284430.1  LLNLR-263F3.1  0.000097\n",
      "\n",
      "[5539 rows x 3 columns]\n",
      "Tissue_Ptg_e0250normalized/Pancreas_p_expression_poilog_e0250.csv\n",
      "                    Name    Description      Pancreas\n",
      "1     ENSG00000000457.13          SCYL3  9.999998e-01\n",
      "2     ENSG00000001036.13          FUCA2  1.000000e+00\n",
      "3     ENSG00000001084.10           GCLC  1.000000e+00\n",
      "4     ENSG00000001167.14           NFYA  9.999999e-01\n",
      "5     ENSG00000001460.17          STPG1  7.242212e-01\n",
      "...                  ...            ...           ...\n",
      "9652   ENSG00000283959.1   KB-1042C11.5  2.034817e-07\n",
      "9653   ENSG00000284070.1    KB-1995A5.5  1.959162e-07\n",
      "9654   ENSG00000284128.1          BCRP3  1.863526e-06\n",
      "9655   ENSG00000284237.1   RP11-328D5.4  3.198708e-03\n",
      "9656   ENSG00000284526.1  RP11-666A8.13  3.661534e-05\n",
      "\n",
      "[9656 rows x 3 columns]\n",
      "Tissue_Ptg_e0250normalized/Pituitary_p_expression_poilog_e0250.csv\n",
      "                    Name    Description     Pituitary\n",
      "1     ENSG00000000003.14         TSPAN6  1.000000e+00\n",
      "2     ENSG00000000457.13          SCYL3  1.000000e+00\n",
      "3     ENSG00000000460.16       C1orf112  2.734508e-01\n",
      "4     ENSG00000001084.10           GCLC  9.999969e-01\n",
      "5     ENSG00000001167.14           NFYA  1.000000e+00\n",
      "...                  ...            ...           ...\n",
      "9137   ENSG00000284233.1    KB-1995A5.4  2.082039e-07\n",
      "9138   ENSG00000284237.1   RP11-328D5.4  2.285399e-03\n",
      "9139   ENSG00000284308.1        C2orf81  1.000000e+00\n",
      "9140   ENSG00000284395.1  LA16c-312E8.5  4.441144e-06\n",
      "9141   ENSG00000284471.1  RP11-449H15.3  5.242335e-04\n",
      "\n",
      "[9141 rows x 3 columns]\n",
      "Tissue_Ptg_e0250normalized/Prostate_p_expression_poilog_e0250.csv\n",
      "                    Name    Description  Prostate\n",
      "1     ENSG00000000003.14         TSPAN6  1.000000\n",
      "2      ENSG00000000005.5           TNMD  0.006340\n",
      "3     ENSG00000000460.16       C1orf112  0.586547\n",
      "4     ENSG00000001167.14           NFYA  1.000000\n",
      "5     ENSG00000001460.17          STPG1  0.988757\n",
      "...                  ...            ...       ...\n",
      "7348   ENSG00000284233.1    KB-1995A5.4  0.000026\n",
      "7349   ENSG00000284237.1   RP11-328D5.4  0.304332\n",
      "7350   ENSG00000284430.1  LLNLR-263F3.1  0.000002\n",
      "7351   ENSG00000284526.1  RP11-666A8.13  0.243932\n",
      "7352   ENSG00000284600.1  RP11-755H23.1  0.035552\n",
      "\n",
      "[7352 rows x 3 columns]\n"
     ]
    },
    {
     "name": "stdout",
     "output_type": "stream",
     "text": [
      "Tissue_Ptg_e0250normalized/Skin_Not_Sun_Exposed_Suprapubic_p_expression_poilog_e0250.csv\n",
      "                     Name    Description  Skin - Not Sun Exposed (Suprapubic)\n",
      "1      ENSG00000000003.14         TSPAN6                             0.999560\n",
      "2       ENSG00000000005.5           TNMD                             0.134818\n",
      "3      ENSG00000000419.12           DPM1                             1.000000\n",
      "4      ENSG00000000457.13          SCYL3                             1.000000\n",
      "5      ENSG00000000460.16       C1orf112                             0.436874\n",
      "...                   ...            ...                                  ...\n",
      "15472   ENSG00000284237.1   RP11-328D5.4                             0.086497\n",
      "15473   ENSG00000284309.1   RP11-96L14.9                             0.000032\n",
      "15474   ENSG00000284428.1   RP11-15H20.6                             0.147963\n",
      "15475   ENSG00000284471.1  RP11-449H15.3                             0.000075\n",
      "15476   ENSG00000284526.1  RP11-666A8.13                             0.306780\n",
      "\n",
      "[15476 rows x 3 columns]\n",
      "Tissue_Ptg_e0250normalized/Skin_Sun_Exposed_Lower_leg_p_expression_poilog_e0250.csv\n",
      "                     Name    Description  Skin - Sun Exposed (Lower leg)\n",
      "1      ENSG00000000003.14         TSPAN6                    9.999912e-01\n",
      "2       ENSG00000000005.5           TNMD                    2.322666e-01\n",
      "3      ENSG00000000419.12           DPM1                    1.000000e+00\n",
      "4      ENSG00000000457.13          SCYL3                    1.000000e+00\n",
      "5      ENSG00000000460.16       C1orf112                    5.286835e-01\n",
      "...                   ...            ...                             ...\n",
      "16956   ENSG00000284395.1  LA16c-312E8.5                    2.660520e-07\n",
      "16957   ENSG00000284413.1          BTBD8                    6.450256e-07\n",
      "16958   ENSG00000284428.1   RP11-15H20.6                    1.743477e-02\n",
      "16959   ENSG00000284471.1  RP11-449H15.3                    1.788964e-04\n",
      "16960   ENSG00000284526.1  RP11-666A8.13                    2.132185e-01\n",
      "\n",
      "[16960 rows x 3 columns]\n",
      "Tissue_Ptg_e0250normalized/Small_Intestine_Terminal_Ileum_p_expression_poilog_e0250.csv\n",
      "                    Name    Description  Small Intestine - Terminal Ileum\n",
      "1     ENSG00000000460.16       C1orf112                          0.588730\n",
      "2     ENSG00000001084.10           GCLC                          1.000000\n",
      "3     ENSG00000001167.14           NFYA                          1.000000\n",
      "4     ENSG00000002016.17          RAD52                          0.999729\n",
      "5     ENSG00000002822.15         MAD1L1                          1.000000\n",
      "...                  ...            ...                               ...\n",
      "6669   ENSG00000283994.1     AC079584.3                          0.000427\n",
      "6670   ENSG00000284070.1    KB-1995A5.5                          0.000031\n",
      "6671   ENSG00000284237.1   RP11-328D5.4                          0.054108\n",
      "6672   ENSG00000284377.1  RP11-226B15.1                          0.045083\n",
      "6673   ENSG00000284600.1  RP11-755H23.1                          0.002998\n",
      "\n",
      "[6673 rows x 3 columns]\n",
      "Tissue_Ptg_e0250normalized/Spleen_p_expression_poilog_e0250.csv\n",
      "                     Name    Description        Spleen\n",
      "1      ENSG00000000003.14         TSPAN6  9.998800e-01\n",
      "2       ENSG00000000005.5           TNMD           NaN\n",
      "3      ENSG00000000457.13          SCYL3  1.000000e+00\n",
      "4      ENSG00000001084.10           GCLC  9.999993e-01\n",
      "5      ENSG00000001167.14           NFYA  1.000000e+00\n",
      "...                   ...            ...           ...\n",
      "10771   ENSG00000284130.1    AC002472.16  1.805280e-07\n",
      "10772   ENSG00000284233.1    KB-1995A5.4  2.187098e-07\n",
      "10773   ENSG00000284237.1   RP11-328D5.4  4.697254e-01\n",
      "10774   ENSG00000284471.1  RP11-449H15.3  1.167913e-03\n",
      "10775   ENSG00000284526.1  RP11-666A8.13  3.138192e-04\n",
      "\n",
      "[10775 rows x 3 columns]\n",
      "Tissue_Ptg_e0250normalized/Stomach_p_expression_poilog_e0250.csv\n",
      "                    Name    Description   Stomach\n",
      "1     ENSG00000001036.13          FUCA2  1.000000\n",
      "2     ENSG00000001167.14           NFYA  1.000000\n",
      "3     ENSG00000001460.17          STPG1  0.865709\n",
      "4      ENSG00000001561.6          ENPP4  1.000000\n",
      "5     ENSG00000001626.14           CFTR  0.063720\n",
      "...                  ...            ...       ...\n",
      "8763   ENSG00000284070.1    KB-1995A5.5  0.000020\n",
      "8764   ENSG00000284237.1   RP11-328D5.4  0.442762\n",
      "8765   ENSG00000284471.1  RP11-449H15.3  0.000268\n",
      "8766   ENSG00000284526.1  RP11-666A8.13  0.000763\n",
      "8767   ENSG00000284600.1  RP11-755H23.1  0.002998\n",
      "\n",
      "[8767 rows x 3 columns]\n",
      "Tissue_Ptg_e0250normalized/Testis_p_expression_poilog_e0250.csv\n",
      "                     Name    Description        Testis\n",
      "1      ENSG00000000457.13          SCYL3  1.000000e+00\n",
      "2      ENSG00000000460.16       C1orf112  1.000000e+00\n",
      "3      ENSG00000000938.12            FGR  7.204045e-01\n",
      "4      ENSG00000000971.15            CFH  9.960326e-01\n",
      "5      ENSG00000001036.13          FUCA2  9.997761e-01\n",
      "...                   ...            ...           ...\n",
      "18788   ENSG00000284484.1  RP11-490B18.9  2.168912e-07\n",
      "18789   ENSG00000284500.1   RP11-69H14.6  4.206013e-01\n",
      "18790   ENSG00000284516.1  RP11-429B11.2  2.073065e-07\n",
      "18791   ENSG00000284526.1  RP11-666A8.13  9.957526e-01\n",
      "18792   ENSG00000284600.1  RP11-755H23.1  1.818570e-07\n",
      "\n",
      "[18792 rows x 3 columns]\n",
      "Tissue_Ptg_e0250normalized/Thyroid_p_expression_poilog_e0250.csv\n",
      "                     Name    Description       Thyroid\n",
      "1      ENSG00000000003.14         TSPAN6  1.000000e+00\n",
      "2       ENSG00000000005.5           TNMD  1.168839e-04\n",
      "3      ENSG00000000419.12           DPM1  1.000000e+00\n",
      "4      ENSG00000000457.13          SCYL3  1.000000e+00\n",
      "5      ENSG00000000460.16       C1orf112  6.049978e-01\n",
      "...                   ...            ...           ...\n",
      "17671   ENSG00000284395.1  LA16c-312E8.5  1.636047e-06\n",
      "17672   ENSG00000284428.1   RP11-15H20.6  9.432678e-01\n",
      "17673   ENSG00000284430.1  LLNLR-263F3.1  1.961810e-01\n",
      "17674   ENSG00000284484.1  RP11-490B18.9  2.301270e-07\n",
      "17675   ENSG00000284526.1  RP11-666A8.13  9.490788e-02\n",
      "\n",
      "[17675 rows x 3 columns]\n",
      "Tissue_Ptg_e0250normalized/Uterus_p_expression_poilog_e0250.csv\n",
      "                    Name    Description        Uterus\n",
      "1     ENSG00000000003.14         TSPAN6  1.000000e+00\n",
      "2     ENSG00000000971.15            CFH  9.728947e-01\n",
      "3     ENSG00000001036.13          FUCA2  1.000000e+00\n",
      "4     ENSG00000002016.17          RAD52  9.998498e-01\n",
      "5     ENSG00000002330.13            BAD  1.000000e+00\n",
      "...                  ...            ...           ...\n",
      "3571   ENSG00000283945.1      LINC00032  5.820558e-05\n",
      "3572   ENSG00000283992.1          LYNX1  1.817211e-01\n",
      "3573   ENSG00000284237.1   RP11-328D5.4  3.550434e-01\n",
      "3574   ENSG00000284430.1  LLNLR-263F3.1  2.688194e-07\n",
      "3575   ENSG00000284600.1  RP11-755H23.1  6.915231e-02\n",
      "\n",
      "[3575 rows x 3 columns]\n",
      "Tissue_Ptg_e0250normalized/Vagina_p_expression_poilog_e0250.csv\n",
      "                    Name    Description        Vagina\n",
      "1     ENSG00000000003.14         TSPAN6  1.000000e+00\n",
      "2     ENSG00000001167.14           NFYA  1.000000e+00\n",
      "3     ENSG00000003393.14           ALS2  1.000000e+00\n",
      "4     ENSG00000003400.14         CASP10  9.999998e-01\n",
      "5     ENSG00000004534.14           RBM6  1.000000e+00\n",
      "...                  ...            ...           ...\n",
      "3723   ENSG00000283886.1   RP11-204M4.3  4.752817e-04\n",
      "3724   ENSG00000284237.1   RP11-328D5.4  1.810169e-01\n",
      "3725   ENSG00000284430.1  LLNLR-263F3.1  3.093228e-07\n",
      "3726   ENSG00000284526.1  RP11-666A8.13  2.282017e-01\n",
      "3727   ENSG00000284600.1  RP11-755H23.1  7.255102e-03\n",
      "\n",
      "[3727 rows x 3 columns]\n",
      "Tissue_Ptg_e0250normalized/Whole_Blood_p_expression_poilog_e0250.csv\n",
      "                     Name    Description   Whole Blood\n",
      "1      ENSG00000000457.13          SCYL3  9.154766e-01\n",
      "2      ENSG00000000460.16       C1orf112  1.865323e-02\n",
      "3      ENSG00000000938.12            FGR  1.000000e+00\n",
      "4      ENSG00000001036.13          FUCA2  9.954826e-01\n",
      "5      ENSG00000001084.10           GCLC  8.198669e-01\n",
      "...                   ...            ...           ...\n",
      "12350   ENSG00000284052.1   RP11-284E5.1  1.948279e-07\n",
      "12351   ENSG00000284128.1          BCRP3  1.840249e-06\n",
      "12352   ENSG00000284138.1   RP5-848E13.5  2.517186e-02\n",
      "12353   ENSG00000284167.1  RP11-190J23.2  7.602680e-06\n",
      "12354   ENSG00000284526.1  RP11-666A8.13  1.361183e-01\n",
      "\n",
      "[12354 rows x 3 columns]\n",
      "p_expression inside ptg function\n",
      "                     Name        Description  Adipose - Subcutaneous  \\\n",
      "0      ENSG00000000003.14             TSPAN6                1.000000   \n",
      "1      ENSG00000000457.13              SCYL3                1.000000   \n",
      "2      ENSG00000000460.16           C1orf112                0.755180   \n",
      "3      ENSG00000000938.12                FGR                0.999838   \n",
      "4      ENSG00000000971.15                CFH                1.000000   \n",
      "...                   ...                ...                     ...   \n",
      "34528   ENSG00000279928.2  ABC7-43046700E7.1                     NaN   \n",
      "34529   ENSG00000279996.1       CTB-139P11.2                     NaN   \n",
      "34530   ENSG00000281958.1            TRBJ1-4                     NaN   \n",
      "34531   ENSG00000282780.1            TRBJ1-6                     NaN   \n",
      "34532   ENSG00000284167.1      RP11-190J23.2                     NaN   \n",
      "\n",
      "       Adipose - Visceral (Omentum)  Adrenal Gland  Artery - Aorta  \\\n",
      "0                          1.000000            NaN        1.000000   \n",
      "1                          1.000000       0.999997             NaN   \n",
      "2                          0.274293            NaN        0.063054   \n",
      "3                               NaN            NaN             NaN   \n",
      "4                               NaN            NaN        1.000000   \n",
      "...                             ...            ...             ...   \n",
      "34528                           NaN            NaN             NaN   \n",
      "34529                           NaN            NaN             NaN   \n",
      "34530                           NaN            NaN             NaN   \n",
      "34531                           NaN            NaN             NaN   \n",
      "34532                           NaN            NaN             NaN   \n",
      "\n",
      "       Artery - Coronary  Artery - Tibial  Brain - Amygdala  \\\n",
      "0               0.999463         0.997214               NaN   \n",
      "1                    NaN         1.000000          0.877623   \n",
      "2                    NaN         0.311965               NaN   \n",
      "3               0.978343         0.704334               NaN   \n",
      "4               1.000000         1.000000               NaN   \n",
      "...                  ...              ...               ...   \n",
      "34528                NaN              NaN               NaN   \n",
      "34529                NaN              NaN               NaN   \n",
      "34530                NaN              NaN               NaN   \n",
      "34531                NaN              NaN               NaN   \n",
      "34532                NaN              NaN               NaN   \n",
      "\n",
      "       Brain - Anterior cingulate cortex (BA24)  ...  \\\n",
      "0                                           NaN  ...   \n",
      "1                                      0.968218  ...   \n",
      "2                                      0.000145  ...   \n",
      "3                                           NaN  ...   \n",
      "4                                           NaN  ...   \n",
      "...                                         ...  ...   \n",
      "34528                                       NaN  ...   \n",
      "34529                                       NaN  ...   \n",
      "34530                                       NaN  ...   \n",
      "34531                                       NaN  ...   \n",
      "34532                                       NaN  ...   \n",
      "\n",
      "       Skin - Not Sun Exposed (Suprapubic)  Skin - Sun Exposed (Lower leg)  \\\n",
      "0                                 0.999560                        0.999991   \n",
      "1                                 1.000000                        1.000000   \n",
      "2                                 0.436874                        0.528683   \n",
      "3                                      NaN                             NaN   \n",
      "4                                 0.999995                             NaN   \n",
      "...                                    ...                             ...   \n",
      "34528                                  NaN                             NaN   \n",
      "34529                                  NaN                             NaN   \n",
      "34530                                  NaN                             NaN   \n",
      "34531                                  NaN                             NaN   \n",
      "34532                                  NaN                             NaN   \n",
      "\n",
      "       Small Intestine - Terminal Ileum   Spleen  Stomach    Testis   Thyroid  \\\n",
      "0                                   NaN  0.99988      NaN       NaN  1.000000   \n",
      "1                                   NaN  1.00000      NaN  1.000000  1.000000   \n",
      "2                               0.58873      NaN      NaN  1.000000  0.604998   \n",
      "3                                   NaN      NaN      NaN  0.720405  0.996178   \n",
      "4                                   NaN      NaN      NaN  0.996033  1.000000   \n",
      "...                                 ...      ...      ...       ...       ...   \n",
      "34528                               NaN      NaN      NaN       NaN       NaN   \n",
      "34529                               NaN      NaN      NaN       NaN       NaN   \n",
      "34530                               NaN      NaN      NaN       NaN       NaN   \n",
      "34531                               NaN      NaN      NaN       NaN       NaN   \n",
      "34532                               NaN      NaN      NaN       NaN       NaN   \n",
      "\n",
      "         Uterus  Vagina  Whole Blood  \n",
      "0      1.000000     1.0          NaN  \n",
      "1           NaN     NaN     0.915477  \n",
      "2           NaN     NaN     0.018653  \n",
      "3           NaN     NaN     1.000000  \n",
      "4      0.972895     NaN          NaN  \n",
      "...         ...     ...          ...  \n",
      "34528       NaN     NaN     0.000024  \n",
      "34529       NaN     NaN     0.000004  \n",
      "34530       NaN     NaN     0.000004  \n",
      "34531       NaN     NaN     0.000007  \n",
      "34532       NaN     NaN     0.000008  \n",
      "\n",
      "[34533 rows x 51 columns]\n",
      "Probability of Expression given Phenotype matrix \n",
      "                                         index  Adipose - Subcutaneous  \\\n",
      "0                           1-3 toe syndactyly                0.000000   \n",
      "1     1-5 finger complete cutaneous syndactyly                1.000000   \n",
      "2                        1-5 finger syndactyly                0.500000   \n",
      "3                           1-5 toe syndactyly                0.000000   \n",
      "4                             11 pairs of ribs                0.476182   \n",
      "...                                        ...                     ...   \n",
      "8687        Yellow/white lesions of the macula                0.129483   \n",
      "8688        Yellow/white lesions of the retina                0.420004   \n",
      "8689                         Young adult onset                0.167599   \n",
      "8690                Zollinger-Ellison syndrome                0.250000   \n",
      "8691                          Zonular cataract                0.266727   \n",
      "\n",
      "      Adipose - Visceral (Omentum)  Adrenal Gland  Artery - Aorta  \\\n",
      "0                         0.000000       0.000000        0.999977   \n",
      "1                         0.000000       0.000000        1.000000   \n",
      "2                         0.000000       0.480810        0.500000   \n",
      "3                         0.000000       0.000000        0.999977   \n",
      "4                         0.257542       0.170003        0.391247   \n",
      "...                            ...            ...             ...   \n",
      "8687                      0.012310       0.005838        0.194928   \n",
      "8688                      0.320836       0.202969        0.359444   \n",
      "8689                      0.303347       0.020676        0.300607   \n",
      "8690                      0.624420       0.304074        0.201998   \n",
      "8691                      0.149694       0.154134        0.302673   \n",
      "\n",
      "      Artery - Coronary  Artery - Tibial  Brain - Amygdala  \\\n",
      "0              0.000000         0.000000          0.000000   \n",
      "1              1.000000         1.000000          0.000000   \n",
      "2              0.500000         0.500000          0.000000   \n",
      "3              0.000000         0.000000          0.000000   \n",
      "4              0.173744         0.490775          0.043478   \n",
      "...                 ...              ...               ...   \n",
      "8687           0.053626         0.203480          0.012089   \n",
      "8688           0.285439         0.370063          0.075144   \n",
      "8689           0.147065         0.330079          0.178526   \n",
      "8690           0.000000         0.250000          0.000000   \n",
      "8691           0.018953         0.318443          0.033333   \n",
      "\n",
      "      Brain - Anterior cingulate cortex (BA24)  \\\n",
      "0                                     0.000000   \n",
      "1                                     0.000000   \n",
      "2                                     0.000000   \n",
      "3                                     0.000000   \n",
      "4                                     0.173436   \n",
      "...                                        ...   \n",
      "8687                                  0.159528   \n",
      "8688                                  0.138942   \n",
      "8689                                  0.177658   \n",
      "8690                                  0.113594   \n",
      "8691                                  0.199819   \n",
      "\n",
      "      Brain - Caudate (basal ganglia)  ...  \\\n",
      "0                            0.000000  ...   \n",
      "1                            0.000000  ...   \n",
      "2                            0.005820  ...   \n",
      "3                            0.000000  ...   \n",
      "4                            0.434360  ...   \n",
      "...                               ...  ...   \n",
      "8687                         0.264474  ...   \n",
      "8688                         0.278030  ...   \n",
      "8689                         0.155965  ...   \n",
      "8690                         0.104037  ...   \n",
      "8691                         0.278209  ...   \n",
      "\n",
      "      Skin - Not Sun Exposed (Suprapubic)  Skin - Sun Exposed (Lower leg)  \\\n",
      "0                                1.000000                        1.000000   \n",
      "1                                1.000000                        1.000000   \n",
      "2                                0.505860                        0.500490   \n",
      "3                                1.000000                        1.000000   \n",
      "4                                0.476279                        0.518601   \n",
      "...                                   ...                             ...   \n",
      "8687                             0.111053                        0.111049   \n",
      "8688                             0.391012                        0.294028   \n",
      "8689                             0.216987                        0.147235   \n",
      "8690                             0.250000                        0.425745   \n",
      "8691                             0.265037                        0.297864   \n",
      "\n",
      "      Small Intestine - Terminal Ileum    Spleen   Stomach    Testis  \\\n",
      "0                             0.000000  0.000000  0.000000  0.999944   \n",
      "1                             1.000000  1.000000  0.000000  1.000000   \n",
      "2                             0.500000  0.500000  0.000000  0.500306   \n",
      "3                             0.000000  0.000000  0.000000  0.999944   \n",
      "4                             0.291999  0.495951  0.386252  0.391304   \n",
      "...                                ...       ...       ...       ...   \n",
      "8687                          0.170118  0.002164  0.013179  0.639644   \n",
      "8688                          0.203141  0.241293  0.261556  0.503670   \n",
      "8689                          0.000000  0.142857  0.285757  0.421647   \n",
      "8690                          0.000000  0.453259  0.250000  0.375000   \n",
      "8691                          0.066212  0.133333  0.166742  0.422131   \n",
      "\n",
      "       Thyroid        Uterus    Vagina  Whole Blood  \n",
      "0     1.000000  0.000000e+00  1.000000     0.000000  \n",
      "1     1.000000  0.000000e+00  0.000000     0.997003  \n",
      "2     0.500000  0.000000e+00  0.000000     0.498501  \n",
      "3     1.000000  0.000000e+00  1.000000     0.000000  \n",
      "4     0.652064  1.307240e-01  0.086957     0.314056  \n",
      "...        ...           ...       ...          ...  \n",
      "8687  0.097672  7.568664e-02  0.000000     0.125283  \n",
      "8688  0.455712  1.501382e-01  0.066665     0.188401  \n",
      "8689  0.288010  0.000000e+00  0.142857     0.001816  \n",
      "8690  0.250000  0.000000e+00  0.375000     0.499606  \n",
      "8691  0.350736  6.993254e-09  0.066672     0.186884  \n",
      "\n",
      "[8692 rows x 50 columns]\n"
     ]
    }
   ],
   "source": [
    "import pandas as pd\n",
    "import numpy as np\n",
    "import matplotlib.pyplot as plt\n",
    "import os\n",
    "import csv\n",
    "\n",
    "\n",
    "### Auxiliary Functions ####\n",
    "def intersection(lst1, lst2): \n",
    "    lst3 = [value for value in lst1 if value in lst2] \n",
    "    return lst3 \n",
    "# ### END Auxiliary Functions ####\n",
    "\n",
    "\n",
    "# Define inputs\n",
    "e0=1000   # level of minimal expression to look for in tissue \n",
    "\n",
    "path = ''\n",
    "input_fname1 = path + 'ALL_SOURCES_ALL_FREQUENCIES_phenotype_to_genes.csv'\n",
    "\n",
    "output_fname = path + 'Probabilities_Tissue_causing_Phenotype.csv'\n",
    "\n",
    "\n",
    "#####IMPORT DATA ######\n",
    "\n",
    "# Read HPO and GTEx files \n",
    "hpo_data = pd.read_csv(input_fname1)\n",
    "#gtex_data= pd.read_csv(input_fname2, sep='\\t',  skiprows=2)\n",
    "p_expression=pd.read_pickle('p_expressioninTissueGivenGene.csv')  #this contains already-calculated empirical probabilities of expression from GTEx\n",
    "print('Done importing data files\\n')\n",
    "\n",
    "#p_expression_poilog=pd.read_csv(\"p_expression_poilog.csv\")\n",
    "\n",
    "\n",
    "# Find the number of unique genes in each data\n",
    "hpo_data = hpo_data.sort_values('Gene-Name')  # sort in order of gene names\n",
    "genes_hpo = np.unique(hpo_data['Gene-Name'])\n",
    "ngenes_hpo = genes_hpo.size  # number of genes in HPO\n",
    "print('Number of genes in HPO dataset: ', ngenes_hpo)\n",
    "\n",
    "genes_gtex = np.unique(p_expression['Description'])\n",
    "ngenes_gtex = genes_gtex.size  # number of genes in GTEx\n",
    "print('Number of genes in GTEx dataset: ', ngenes_gtex)\n",
    "\n",
    "genes_common= intersection(genes_gtex, genes_hpo)\n",
    "genes_common_df = pd.DataFrame(genes_common)\n",
    "ngenes_common = genes_common_df.size\n",
    "print('Number of common genes in HPO and GTEx datasets : ', ngenes_common)\n",
    "\n",
    "tissues = p_expression.drop(['Name', 'Description'], axis=1).columns\n",
    "ntissues = len(tissues)\n",
    "print('Number of tissues in GTEx dataset: ', ntissues)\n",
    "\n",
    "#Calculate Probability of genes given phenotype\n",
    "[Pgf, phenotypes]=computePgf(hpo_data, genes_common)\n",
    "\n",
    "#Calculate Probability of tissue expressing gene from p_expression and expression level e0 \n",
    "[Ptg, tissues]=computePtg_Poilog(genes_common)\n",
    "\n",
    "#Calculate Probability of expression given phenotype \n",
    "Ptf = np.matmul(Pgf,Ptg)\n",
    "\n",
    "# Save output Ptf to file\n",
    "output_df = pd.DataFrame(Ptf,columns=tissues,index=phenotypes)\n",
    "output_df.reset_index(level=0, inplace=True) # reset index\n",
    "\n",
    "print(\"Probability of Expression given Phenotype matrix \")\n",
    "print(output_df)\n",
    "output_df.to_csv(output_fname, index=False)\n"
   ]
  },
  {
   "cell_type": "markdown",
   "metadata": {},
   "source": [
    "# Script for Plotting results Given set of Phenotypes "
   ]
  },
  {
   "cell_type": "code",
   "execution_count": 3,
   "metadata": {
    "scrolled": true
   },
   "outputs": [
    {
     "name": "stderr",
     "output_type": "stream",
     "text": [
      "/home/bkotis/miniconda3/lib/python3.7/site-packages/ipykernel_launcher.py:56: FutureWarning: The 'get_values' method is deprecated and will be removed in a future version. Use '.to_numpy()' or '.array' instead.\n"
     ]
    },
    {
     "name": "stdout",
     "output_type": "stream",
     "text": [
      "\n",
      " Probabilities of Expression for each HPO term:\n",
      "                                      Tissues  Exotropia  Alacrima  \\\n",
      "0                      Adipose - Subcutaneous   0.376068  0.399978   \n",
      "1                Adipose - Visceral (Omentum)   0.241374  0.296520   \n",
      "2                               Adrenal Gland   0.157989  0.194782   \n",
      "3                              Artery - Aorta   0.291552  0.231762   \n",
      "4                           Artery - Coronary   0.132639  0.308542   \n",
      "5                             Artery - Tibial   0.390486  0.369539   \n",
      "6                            Brain - Amygdala   0.013431  0.000000   \n",
      "7    Brain - Anterior cingulate cortex (BA24)   0.100478  0.000000   \n",
      "8             Brain - Caudate (basal ganglia)   0.188225  0.230746   \n",
      "9               Brain - Cerebellar Hemisphere   0.222783  0.210645   \n",
      "10                         Brain - Cerebellum   0.253015  0.230769   \n",
      "11                             Brain - Cortex   0.143319  0.153847   \n",
      "12               Brain - Frontal Cortex (BA9)   0.144843  0.076923   \n",
      "13                        Brain - Hippocampus   0.032876  0.076923   \n",
      "14                       Brain - Hypothalamus   0.080367  0.076908   \n",
      "15  Brain - Nucleus accumbens (basal ganglia)   0.196863  0.230730   \n",
      "16            Brain - Putamen (basal ganglia)   0.099095  0.000000   \n",
      "17         Brain - Spinal cord (cervical c-1)   0.067330  0.000000   \n",
      "18                   Brain - Substantia nigra   0.076988  0.076923   \n",
      "19                    Breast - Mammary Tissue   0.226033  0.206547   \n",
      "20        Cells - EBV-transformed lymphocytes   0.063087  0.000000   \n",
      "21               Cells - Cultured fibroblasts   0.543170  0.222033   \n",
      "22                            Colon - Sigmoid   0.335751  0.179585   \n",
      "23                         Colon - Transverse   0.257222  0.221158   \n",
      "24      Esophagus - Gastroesophageal Junction   0.288913  0.094902   \n",
      "25                         Esophagus - Mucosa   0.414449  0.315194   \n",
      "26                     Esophagus - Muscularis   0.360294  0.410847   \n",
      "27                   Heart - Atrial Appendage   0.303139  0.348730   \n",
      "28                     Heart - Left Ventricle   0.199751  0.131557   \n",
      "29                            Kidney - Cortex   0.020833  0.000000   \n",
      "30                                      Liver   0.178045  0.000000   \n",
      "31                                       Lung   0.353433  0.311004   \n",
      "32                       Minor Salivary Gland   0.020828  0.076923   \n",
      "33                          Muscle - Skeletal   0.389392  0.386150   \n",
      "34                             Nerve - Tibial   0.403214  0.292500   \n",
      "35                                      Ovary   0.124496  0.000000   \n",
      "36                                   Pancreas   0.187321  0.230769   \n",
      "37                                  Pituitary   0.291082  0.153773   \n",
      "38                                   Prostate   0.177948  0.230769   \n",
      "39        Skin - Not Sun Exposed (Suprapubic)   0.498436  0.465676   \n",
      "40             Skin - Sun Exposed (Lower leg)   0.466304  0.433941   \n",
      "41           Small Intestine - Terminal Ileum   0.168768  0.076924   \n",
      "42                                     Spleen   0.232232  0.229647   \n",
      "43                                    Stomach   0.284411  0.216865   \n",
      "44                                     Testis   0.437863  0.307723   \n",
      "45                                    Thyroid   0.576954  0.369756   \n",
      "46                                     Uterus   0.074732  0.045120   \n",
      "47                                     Vagina   0.125106  0.000054   \n",
      "48                                Whole Blood   0.293538  0.105730   \n",
      "\n",
      "    Abnormality of the larynx  Abnormality of the cerebral white matter  \\\n",
      "0                    0.493369                                  0.538007   \n",
      "1                    0.331326                                  0.448584   \n",
      "2                    0.219459                                  0.293819   \n",
      "3                    0.427572                                  0.474795   \n",
      "4                    0.174519                                  0.219596   \n",
      "5                    0.503996                                  0.575189   \n",
      "6                    0.085031                                  0.138103   \n",
      "7                    0.111794                                  0.194969   \n",
      "8                    0.179516                                  0.299509   \n",
      "9                    0.258964                                  0.345013   \n",
      "10                   0.340237                                  0.424590   \n",
      "11                   0.233302                                  0.327130   \n",
      "12                   0.170808                                  0.260596   \n",
      "13                   0.163799                                  0.200794   \n",
      "14                   0.104954                                  0.183745   \n",
      "15                   0.192786                                  0.279565   \n",
      "16                   0.211361                                  0.265116   \n",
      "17                   0.097188                                  0.170504   \n",
      "18                   0.088963                                  0.098510   \n",
      "19                   0.333564                                  0.369357   \n",
      "20                   0.167363                                  0.238612   \n",
      "21                   0.556316                                  0.635097   \n",
      "22                   0.399624                                  0.431425   \n",
      "23                   0.400129                                  0.433698   \n",
      "24                   0.351394                                  0.403516   \n",
      "25                   0.535749                                  0.537588   \n",
      "26                   0.482846                                  0.547398   \n",
      "27                   0.332100                                  0.410620   \n",
      "28                   0.304827                                  0.384506   \n",
      "29                   0.013992                                  0.028163   \n",
      "30                   0.137832                                  0.185926   \n",
      "31                   0.443652                                  0.488399   \n",
      "32                   0.123136                                  0.175563   \n",
      "33                   0.438977                                  0.511527   \n",
      "34                   0.557858                                  0.623447   \n",
      "35                   0.154914                                  0.203496   \n",
      "36                   0.359861                                  0.372313   \n",
      "37                   0.256170                                  0.307844   \n",
      "38                   0.218535                                  0.228234   \n",
      "39                   0.502671                                  0.544319   \n",
      "40                   0.613658                                  0.592953   \n",
      "41                   0.179949                                  0.231311   \n",
      "42                   0.354843                                  0.378141   \n",
      "43                   0.285411                                  0.327278   \n",
      "44                   0.428870                                  0.527797   \n",
      "45                   0.634756                                  0.615133   \n",
      "46                   0.089832                                  0.116786   \n",
      "47                   0.098254                                  0.128821   \n",
      "48                   0.334632                                  0.391578   \n",
      "\n",
      "    Absent speech  Postnatal growth retardation  Thick eyebrow  \\\n",
      "0        0.511397                      0.499307       0.561527   \n",
      "1        0.411817                      0.442234       0.390398   \n",
      "2        0.317899                      0.230966       0.236532   \n",
      "3        0.455603                      0.444336       0.493246   \n",
      "4        0.158228                      0.234282       0.215054   \n",
      "5        0.551262                      0.515906       0.589226   \n",
      "6        0.094624                      0.104831       0.097450   \n",
      "7        0.177712                      0.113997       0.122094   \n",
      "8        0.276598                      0.238744       0.256612   \n",
      "9        0.344309                      0.292169       0.356804   \n",
      "10       0.410583                      0.349552       0.450784   \n",
      "11       0.362805                      0.286724       0.309334   \n",
      "12       0.261143                      0.186854       0.214473   \n",
      "13       0.151758                      0.153697       0.135822   \n",
      "14       0.172024                      0.132545       0.141692   \n",
      "15       0.296581                      0.207610       0.209720   \n",
      "16       0.237744                      0.208509       0.188325   \n",
      "17       0.100680                      0.119527       0.138872   \n",
      "18       0.085669                      0.085820       0.107526   \n",
      "19       0.343730                      0.309576       0.422056   \n",
      "20       0.212421                      0.199541       0.203777   \n",
      "21       0.599666                      0.561470       0.652175   \n",
      "22       0.365874                      0.314867       0.380672   \n",
      "23       0.417125                      0.379660       0.351366   \n",
      "24       0.345908                      0.335086       0.285260   \n",
      "25       0.455128                      0.465563       0.554467   \n",
      "26       0.506131                      0.445392       0.547751   \n",
      "27       0.414716                      0.352033       0.409024   \n",
      "28       0.354211                      0.309444       0.448293   \n",
      "29       0.018205                      0.009295       0.010753   \n",
      "30       0.187568                      0.180823       0.172026   \n",
      "31       0.456514                      0.427846       0.431885   \n",
      "32       0.165572                      0.133475       0.159795   \n",
      "33       0.489088                      0.512865       0.474527   \n",
      "34       0.577621                      0.547348       0.656619   \n",
      "35       0.196856                      0.146236       0.124170   \n",
      "36       0.340725                      0.295676       0.396130   \n",
      "37       0.311645                      0.296801       0.258678   \n",
      "38       0.195991                      0.179000       0.212865   \n",
      "39       0.509469                      0.481705       0.546767   \n",
      "40       0.592452                      0.497812       0.655363   \n",
      "41       0.201991                      0.162243       0.224432   \n",
      "42       0.368503                      0.298417       0.338952   \n",
      "43       0.283102                      0.238412       0.297275   \n",
      "44       0.510086                      0.504051       0.523618   \n",
      "45       0.632030                      0.585865       0.617699   \n",
      "46       0.094546                      0.085156       0.098051   \n",
      "47       0.099781                      0.097980       0.086022   \n",
      "48       0.391247                      0.354370       0.463963   \n",
      "\n",
      "    Prominent eyelashes  Pectus excavatum  \n",
      "0              0.333333          0.499903  \n",
      "1              0.000000          0.416093  \n",
      "2              0.000000          0.294759  \n",
      "3              0.333333          0.472503  \n",
      "4              0.000000          0.198637  \n",
      "5              0.333333          0.530925  \n",
      "6              0.000000          0.102771  \n",
      "7              0.000000          0.146882  \n",
      "8              0.000000          0.292010  \n",
      "9              0.000000          0.337397  \n",
      "10             0.000000          0.396410  \n",
      "11             0.000000          0.268435  \n",
      "12             0.666612          0.198722  \n",
      "13             0.332115          0.153864  \n",
      "14             0.000000          0.165356  \n",
      "15             0.000000          0.263852  \n",
      "16             0.000000          0.214375  \n",
      "17             0.000000          0.122630  \n",
      "18             0.000000          0.093177  \n",
      "19             0.000000          0.353081  \n",
      "20             0.000000          0.111742  \n",
      "21             0.333333          0.599911  \n",
      "22             0.000000          0.374799  \n",
      "23             0.000000          0.375646  \n",
      "24             0.000000          0.346081  \n",
      "25             0.333333          0.495792  \n",
      "26             0.333333          0.514298  \n",
      "27             0.000000          0.393800  \n",
      "28             0.000000          0.389350  \n",
      "29             0.000000          0.019431  \n",
      "30             0.000000          0.180275  \n",
      "31             0.000000          0.498049  \n",
      "32             0.000000          0.126125  \n",
      "33             0.333332          0.544509  \n",
      "34             0.000000          0.603412  \n",
      "35             0.000000          0.155230  \n",
      "36             0.000000          0.336727  \n",
      "37             0.000000          0.273273  \n",
      "38             0.000000          0.212928  \n",
      "39             0.333333          0.560516  \n",
      "40             0.000000          0.588544  \n",
      "41             0.000000          0.175997  \n",
      "42             0.000000          0.364968  \n",
      "43             0.000000          0.338247  \n",
      "44             0.666667          0.511180  \n",
      "45             0.000000          0.656882  \n",
      "46             0.333333          0.087201  \n",
      "47             0.000000          0.106828  \n",
      "48             0.000000          0.393944  \n",
      "\n",
      " Avergage Probability of Expression for HPOs:\n",
      "      P_mean                                    Tissues\n",
      "0   0.468099                     Adipose - Subcutaneous\n",
      "1   0.330927               Adipose - Visceral (Omentum)\n",
      "2   0.216245                              Adrenal Gland\n",
      "3   0.402745                             Artery - Aorta\n",
      "4   0.182389                          Artery - Coronary\n",
      "5   0.484429                            Artery - Tibial\n",
      "6   0.070693                           Brain - Amygdala\n",
      "7   0.107547   Brain - Anterior cingulate cortex (BA24)\n",
      "8   0.217995            Brain - Caudate (basal ganglia)\n",
      "9   0.263120              Brain - Cerebellar Hemisphere\n",
      "10  0.317327                         Brain - Cerebellum\n",
      "11  0.231655                             Brain - Cortex\n",
      "12  0.242331               Brain - Frontal Cortex (BA9)\n",
      "13  0.155739                        Brain - Hippocampus\n",
      "14  0.117510                       Brain - Hypothalamus\n",
      "15  0.208634  Brain - Nucleus accumbens (basal ganglia)\n",
      "16  0.158281            Brain - Putamen (basal ganglia)\n",
      "17  0.090748         Brain - Spinal cord (cervical c-1)\n",
      "18  0.079286                   Brain - Substantia nigra\n",
      "19  0.284883                    Breast - Mammary Tissue\n",
      "20  0.132949        Cells - EBV-transformed lymphocytes\n",
      "21  0.522574               Cells - Cultured fibroblasts\n",
      "22  0.309177                            Colon - Sigmoid\n",
      "23  0.315111                         Colon - Transverse\n",
      "24  0.272340      Esophagus - Gastroesophageal Junction\n",
      "25  0.456363                         Esophagus - Mucosa\n",
      "26  0.460921                     Esophagus - Muscularis\n",
      "27  0.329351                   Heart - Atrial Appendage\n",
      "28  0.280215                     Heart - Left Ventricle\n",
      "29  0.013408                            Kidney - Cortex\n",
      "30  0.135833                                      Liver\n",
      "31  0.378976                                       Lung\n",
      "32  0.109046                       Minor Salivary Gland\n",
      "33  0.453374                          Muscle - Skeletal\n",
      "34  0.473558                             Nerve - Tibial\n",
      "35  0.122822                                      Ovary\n",
      "36  0.279947                                   Pancreas\n",
      "37  0.238807                                  Pituitary\n",
      "38  0.184030                                   Prostate\n",
      "39  0.493655        Skin - Not Sun Exposed (Suprapubic)\n",
      "40  0.493448             Skin - Sun Exposed (Lower leg)\n",
      "41  0.157957           Small Intestine - Terminal Ileum\n",
      "42  0.285078                                     Spleen\n",
      "43  0.252333                                    Stomach\n",
      "44  0.490873                                     Testis\n",
      "45  0.521008                                    Thyroid\n",
      "46  0.113862                                     Uterus\n",
      "47  0.082538                                     Vagina\n",
      "48  0.303222                                Whole Blood\n"
     ]
    },
    {
     "data": {
      "application/javascript": [
       "/* Put everything inside the global mpl namespace */\n",
       "window.mpl = {};\n",
       "\n",
       "\n",
       "mpl.get_websocket_type = function() {\n",
       "    if (typeof(WebSocket) !== 'undefined') {\n",
       "        return WebSocket;\n",
       "    } else if (typeof(MozWebSocket) !== 'undefined') {\n",
       "        return MozWebSocket;\n",
       "    } else {\n",
       "        alert('Your browser does not have WebSocket support.' +\n",
       "              'Please try Chrome, Safari or Firefox ≥ 6. ' +\n",
       "              'Firefox 4 and 5 are also supported but you ' +\n",
       "              'have to enable WebSockets in about:config.');\n",
       "    };\n",
       "}\n",
       "\n",
       "mpl.figure = function(figure_id, websocket, ondownload, parent_element) {\n",
       "    this.id = figure_id;\n",
       "\n",
       "    this.ws = websocket;\n",
       "\n",
       "    this.supports_binary = (this.ws.binaryType != undefined);\n",
       "\n",
       "    if (!this.supports_binary) {\n",
       "        var warnings = document.getElementById(\"mpl-warnings\");\n",
       "        if (warnings) {\n",
       "            warnings.style.display = 'block';\n",
       "            warnings.textContent = (\n",
       "                \"This browser does not support binary websocket messages. \" +\n",
       "                    \"Performance may be slow.\");\n",
       "        }\n",
       "    }\n",
       "\n",
       "    this.imageObj = new Image();\n",
       "\n",
       "    this.context = undefined;\n",
       "    this.message = undefined;\n",
       "    this.canvas = undefined;\n",
       "    this.rubberband_canvas = undefined;\n",
       "    this.rubberband_context = undefined;\n",
       "    this.format_dropdown = undefined;\n",
       "\n",
       "    this.image_mode = 'full';\n",
       "\n",
       "    this.root = $('<div/>');\n",
       "    this._root_extra_style(this.root)\n",
       "    this.root.attr('style', 'display: inline-block');\n",
       "\n",
       "    $(parent_element).append(this.root);\n",
       "\n",
       "    this._init_header(this);\n",
       "    this._init_canvas(this);\n",
       "    this._init_toolbar(this);\n",
       "\n",
       "    var fig = this;\n",
       "\n",
       "    this.waiting = false;\n",
       "\n",
       "    this.ws.onopen =  function () {\n",
       "            fig.send_message(\"supports_binary\", {value: fig.supports_binary});\n",
       "            fig.send_message(\"send_image_mode\", {});\n",
       "            if (mpl.ratio != 1) {\n",
       "                fig.send_message(\"set_dpi_ratio\", {'dpi_ratio': mpl.ratio});\n",
       "            }\n",
       "            fig.send_message(\"refresh\", {});\n",
       "        }\n",
       "\n",
       "    this.imageObj.onload = function() {\n",
       "            if (fig.image_mode == 'full') {\n",
       "                // Full images could contain transparency (where diff images\n",
       "                // almost always do), so we need to clear the canvas so that\n",
       "                // there is no ghosting.\n",
       "                fig.context.clearRect(0, 0, fig.canvas.width, fig.canvas.height);\n",
       "            }\n",
       "            fig.context.drawImage(fig.imageObj, 0, 0);\n",
       "        };\n",
       "\n",
       "    this.imageObj.onunload = function() {\n",
       "        fig.ws.close();\n",
       "    }\n",
       "\n",
       "    this.ws.onmessage = this._make_on_message_function(this);\n",
       "\n",
       "    this.ondownload = ondownload;\n",
       "}\n",
       "\n",
       "mpl.figure.prototype._init_header = function() {\n",
       "    var titlebar = $(\n",
       "        '<div class=\"ui-dialog-titlebar ui-widget-header ui-corner-all ' +\n",
       "        'ui-helper-clearfix\"/>');\n",
       "    var titletext = $(\n",
       "        '<div class=\"ui-dialog-title\" style=\"width: 100%; ' +\n",
       "        'text-align: center; padding: 3px;\"/>');\n",
       "    titlebar.append(titletext)\n",
       "    this.root.append(titlebar);\n",
       "    this.header = titletext[0];\n",
       "}\n",
       "\n",
       "\n",
       "\n",
       "mpl.figure.prototype._canvas_extra_style = function(canvas_div) {\n",
       "\n",
       "}\n",
       "\n",
       "\n",
       "mpl.figure.prototype._root_extra_style = function(canvas_div) {\n",
       "\n",
       "}\n",
       "\n",
       "mpl.figure.prototype._init_canvas = function() {\n",
       "    var fig = this;\n",
       "\n",
       "    var canvas_div = $('<div/>');\n",
       "\n",
       "    canvas_div.attr('style', 'position: relative; clear: both; outline: 0');\n",
       "\n",
       "    function canvas_keyboard_event(event) {\n",
       "        return fig.key_event(event, event['data']);\n",
       "    }\n",
       "\n",
       "    canvas_div.keydown('key_press', canvas_keyboard_event);\n",
       "    canvas_div.keyup('key_release', canvas_keyboard_event);\n",
       "    this.canvas_div = canvas_div\n",
       "    this._canvas_extra_style(canvas_div)\n",
       "    this.root.append(canvas_div);\n",
       "\n",
       "    var canvas = $('<canvas/>');\n",
       "    canvas.addClass('mpl-canvas');\n",
       "    canvas.attr('style', \"left: 0; top: 0; z-index: 0; outline: 0\")\n",
       "\n",
       "    this.canvas = canvas[0];\n",
       "    this.context = canvas[0].getContext(\"2d\");\n",
       "\n",
       "    var backingStore = this.context.backingStorePixelRatio ||\n",
       "\tthis.context.webkitBackingStorePixelRatio ||\n",
       "\tthis.context.mozBackingStorePixelRatio ||\n",
       "\tthis.context.msBackingStorePixelRatio ||\n",
       "\tthis.context.oBackingStorePixelRatio ||\n",
       "\tthis.context.backingStorePixelRatio || 1;\n",
       "\n",
       "    mpl.ratio = (window.devicePixelRatio || 1) / backingStore;\n",
       "\n",
       "    var rubberband = $('<canvas/>');\n",
       "    rubberband.attr('style', \"position: absolute; left: 0; top: 0; z-index: 1;\")\n",
       "\n",
       "    var pass_mouse_events = true;\n",
       "\n",
       "    canvas_div.resizable({\n",
       "        start: function(event, ui) {\n",
       "            pass_mouse_events = false;\n",
       "        },\n",
       "        resize: function(event, ui) {\n",
       "            fig.request_resize(ui.size.width, ui.size.height);\n",
       "        },\n",
       "        stop: function(event, ui) {\n",
       "            pass_mouse_events = true;\n",
       "            fig.request_resize(ui.size.width, ui.size.height);\n",
       "        },\n",
       "    });\n",
       "\n",
       "    function mouse_event_fn(event) {\n",
       "        if (pass_mouse_events)\n",
       "            return fig.mouse_event(event, event['data']);\n",
       "    }\n",
       "\n",
       "    rubberband.mousedown('button_press', mouse_event_fn);\n",
       "    rubberband.mouseup('button_release', mouse_event_fn);\n",
       "    // Throttle sequential mouse events to 1 every 20ms.\n",
       "    rubberband.mousemove('motion_notify', mouse_event_fn);\n",
       "\n",
       "    rubberband.mouseenter('figure_enter', mouse_event_fn);\n",
       "    rubberband.mouseleave('figure_leave', mouse_event_fn);\n",
       "\n",
       "    canvas_div.on(\"wheel\", function (event) {\n",
       "        event = event.originalEvent;\n",
       "        event['data'] = 'scroll'\n",
       "        if (event.deltaY < 0) {\n",
       "            event.step = 1;\n",
       "        } else {\n",
       "            event.step = -1;\n",
       "        }\n",
       "        mouse_event_fn(event);\n",
       "    });\n",
       "\n",
       "    canvas_div.append(canvas);\n",
       "    canvas_div.append(rubberband);\n",
       "\n",
       "    this.rubberband = rubberband;\n",
       "    this.rubberband_canvas = rubberband[0];\n",
       "    this.rubberband_context = rubberband[0].getContext(\"2d\");\n",
       "    this.rubberband_context.strokeStyle = \"#000000\";\n",
       "\n",
       "    this._resize_canvas = function(width, height) {\n",
       "        // Keep the size of the canvas, canvas container, and rubber band\n",
       "        // canvas in synch.\n",
       "        canvas_div.css('width', width)\n",
       "        canvas_div.css('height', height)\n",
       "\n",
       "        canvas.attr('width', width * mpl.ratio);\n",
       "        canvas.attr('height', height * mpl.ratio);\n",
       "        canvas.attr('style', 'width: ' + width + 'px; height: ' + height + 'px;');\n",
       "\n",
       "        rubberband.attr('width', width);\n",
       "        rubberband.attr('height', height);\n",
       "    }\n",
       "\n",
       "    // Set the figure to an initial 600x600px, this will subsequently be updated\n",
       "    // upon first draw.\n",
       "    this._resize_canvas(600, 600);\n",
       "\n",
       "    // Disable right mouse context menu.\n",
       "    $(this.rubberband_canvas).bind(\"contextmenu\",function(e){\n",
       "        return false;\n",
       "    });\n",
       "\n",
       "    function set_focus () {\n",
       "        canvas.focus();\n",
       "        canvas_div.focus();\n",
       "    }\n",
       "\n",
       "    window.setTimeout(set_focus, 100);\n",
       "}\n",
       "\n",
       "mpl.figure.prototype._init_toolbar = function() {\n",
       "    var fig = this;\n",
       "\n",
       "    var nav_element = $('<div/>')\n",
       "    nav_element.attr('style', 'width: 100%');\n",
       "    this.root.append(nav_element);\n",
       "\n",
       "    // Define a callback function for later on.\n",
       "    function toolbar_event(event) {\n",
       "        return fig.toolbar_button_onclick(event['data']);\n",
       "    }\n",
       "    function toolbar_mouse_event(event) {\n",
       "        return fig.toolbar_button_onmouseover(event['data']);\n",
       "    }\n",
       "\n",
       "    for(var toolbar_ind in mpl.toolbar_items) {\n",
       "        var name = mpl.toolbar_items[toolbar_ind][0];\n",
       "        var tooltip = mpl.toolbar_items[toolbar_ind][1];\n",
       "        var image = mpl.toolbar_items[toolbar_ind][2];\n",
       "        var method_name = mpl.toolbar_items[toolbar_ind][3];\n",
       "\n",
       "        if (!name) {\n",
       "            // put a spacer in here.\n",
       "            continue;\n",
       "        }\n",
       "        var button = $('<button/>');\n",
       "        button.addClass('ui-button ui-widget ui-state-default ui-corner-all ' +\n",
       "                        'ui-button-icon-only');\n",
       "        button.attr('role', 'button');\n",
       "        button.attr('aria-disabled', 'false');\n",
       "        button.click(method_name, toolbar_event);\n",
       "        button.mouseover(tooltip, toolbar_mouse_event);\n",
       "\n",
       "        var icon_img = $('<span/>');\n",
       "        icon_img.addClass('ui-button-icon-primary ui-icon');\n",
       "        icon_img.addClass(image);\n",
       "        icon_img.addClass('ui-corner-all');\n",
       "\n",
       "        var tooltip_span = $('<span/>');\n",
       "        tooltip_span.addClass('ui-button-text');\n",
       "        tooltip_span.html(tooltip);\n",
       "\n",
       "        button.append(icon_img);\n",
       "        button.append(tooltip_span);\n",
       "\n",
       "        nav_element.append(button);\n",
       "    }\n",
       "\n",
       "    var fmt_picker_span = $('<span/>');\n",
       "\n",
       "    var fmt_picker = $('<select/>');\n",
       "    fmt_picker.addClass('mpl-toolbar-option ui-widget ui-widget-content');\n",
       "    fmt_picker_span.append(fmt_picker);\n",
       "    nav_element.append(fmt_picker_span);\n",
       "    this.format_dropdown = fmt_picker[0];\n",
       "\n",
       "    for (var ind in mpl.extensions) {\n",
       "        var fmt = mpl.extensions[ind];\n",
       "        var option = $(\n",
       "            '<option/>', {selected: fmt === mpl.default_extension}).html(fmt);\n",
       "        fmt_picker.append(option)\n",
       "    }\n",
       "\n",
       "    // Add hover states to the ui-buttons\n",
       "    $( \".ui-button\" ).hover(\n",
       "        function() { $(this).addClass(\"ui-state-hover\");},\n",
       "        function() { $(this).removeClass(\"ui-state-hover\");}\n",
       "    );\n",
       "\n",
       "    var status_bar = $('<span class=\"mpl-message\"/>');\n",
       "    nav_element.append(status_bar);\n",
       "    this.message = status_bar[0];\n",
       "}\n",
       "\n",
       "mpl.figure.prototype.request_resize = function(x_pixels, y_pixels) {\n",
       "    // Request matplotlib to resize the figure. Matplotlib will then trigger a resize in the client,\n",
       "    // which will in turn request a refresh of the image.\n",
       "    this.send_message('resize', {'width': x_pixels, 'height': y_pixels});\n",
       "}\n",
       "\n",
       "mpl.figure.prototype.send_message = function(type, properties) {\n",
       "    properties['type'] = type;\n",
       "    properties['figure_id'] = this.id;\n",
       "    this.ws.send(JSON.stringify(properties));\n",
       "}\n",
       "\n",
       "mpl.figure.prototype.send_draw_message = function() {\n",
       "    if (!this.waiting) {\n",
       "        this.waiting = true;\n",
       "        this.ws.send(JSON.stringify({type: \"draw\", figure_id: this.id}));\n",
       "    }\n",
       "}\n",
       "\n",
       "\n",
       "mpl.figure.prototype.handle_save = function(fig, msg) {\n",
       "    var format_dropdown = fig.format_dropdown;\n",
       "    var format = format_dropdown.options[format_dropdown.selectedIndex].value;\n",
       "    fig.ondownload(fig, format);\n",
       "}\n",
       "\n",
       "\n",
       "mpl.figure.prototype.handle_resize = function(fig, msg) {\n",
       "    var size = msg['size'];\n",
       "    if (size[0] != fig.canvas.width || size[1] != fig.canvas.height) {\n",
       "        fig._resize_canvas(size[0], size[1]);\n",
       "        fig.send_message(\"refresh\", {});\n",
       "    };\n",
       "}\n",
       "\n",
       "mpl.figure.prototype.handle_rubberband = function(fig, msg) {\n",
       "    var x0 = msg['x0'] / mpl.ratio;\n",
       "    var y0 = (fig.canvas.height - msg['y0']) / mpl.ratio;\n",
       "    var x1 = msg['x1'] / mpl.ratio;\n",
       "    var y1 = (fig.canvas.height - msg['y1']) / mpl.ratio;\n",
       "    x0 = Math.floor(x0) + 0.5;\n",
       "    y0 = Math.floor(y0) + 0.5;\n",
       "    x1 = Math.floor(x1) + 0.5;\n",
       "    y1 = Math.floor(y1) + 0.5;\n",
       "    var min_x = Math.min(x0, x1);\n",
       "    var min_y = Math.min(y0, y1);\n",
       "    var width = Math.abs(x1 - x0);\n",
       "    var height = Math.abs(y1 - y0);\n",
       "\n",
       "    fig.rubberband_context.clearRect(\n",
       "        0, 0, fig.canvas.width, fig.canvas.height);\n",
       "\n",
       "    fig.rubberband_context.strokeRect(min_x, min_y, width, height);\n",
       "}\n",
       "\n",
       "mpl.figure.prototype.handle_figure_label = function(fig, msg) {\n",
       "    // Updates the figure title.\n",
       "    fig.header.textContent = msg['label'];\n",
       "}\n",
       "\n",
       "mpl.figure.prototype.handle_cursor = function(fig, msg) {\n",
       "    var cursor = msg['cursor'];\n",
       "    switch(cursor)\n",
       "    {\n",
       "    case 0:\n",
       "        cursor = 'pointer';\n",
       "        break;\n",
       "    case 1:\n",
       "        cursor = 'default';\n",
       "        break;\n",
       "    case 2:\n",
       "        cursor = 'crosshair';\n",
       "        break;\n",
       "    case 3:\n",
       "        cursor = 'move';\n",
       "        break;\n",
       "    }\n",
       "    fig.rubberband_canvas.style.cursor = cursor;\n",
       "}\n",
       "\n",
       "mpl.figure.prototype.handle_message = function(fig, msg) {\n",
       "    fig.message.textContent = msg['message'];\n",
       "}\n",
       "\n",
       "mpl.figure.prototype.handle_draw = function(fig, msg) {\n",
       "    // Request the server to send over a new figure.\n",
       "    fig.send_draw_message();\n",
       "}\n",
       "\n",
       "mpl.figure.prototype.handle_image_mode = function(fig, msg) {\n",
       "    fig.image_mode = msg['mode'];\n",
       "}\n",
       "\n",
       "mpl.figure.prototype.updated_canvas_event = function() {\n",
       "    // Called whenever the canvas gets updated.\n",
       "    this.send_message(\"ack\", {});\n",
       "}\n",
       "\n",
       "// A function to construct a web socket function for onmessage handling.\n",
       "// Called in the figure constructor.\n",
       "mpl.figure.prototype._make_on_message_function = function(fig) {\n",
       "    return function socket_on_message(evt) {\n",
       "        if (evt.data instanceof Blob) {\n",
       "            /* FIXME: We get \"Resource interpreted as Image but\n",
       "             * transferred with MIME type text/plain:\" errors on\n",
       "             * Chrome.  But how to set the MIME type?  It doesn't seem\n",
       "             * to be part of the websocket stream */\n",
       "            evt.data.type = \"image/png\";\n",
       "\n",
       "            /* Free the memory for the previous frames */\n",
       "            if (fig.imageObj.src) {\n",
       "                (window.URL || window.webkitURL).revokeObjectURL(\n",
       "                    fig.imageObj.src);\n",
       "            }\n",
       "\n",
       "            fig.imageObj.src = (window.URL || window.webkitURL).createObjectURL(\n",
       "                evt.data);\n",
       "            fig.updated_canvas_event();\n",
       "            fig.waiting = false;\n",
       "            return;\n",
       "        }\n",
       "        else if (typeof evt.data === 'string' && evt.data.slice(0, 21) == \"data:image/png;base64\") {\n",
       "            fig.imageObj.src = evt.data;\n",
       "            fig.updated_canvas_event();\n",
       "            fig.waiting = false;\n",
       "            return;\n",
       "        }\n",
       "\n",
       "        var msg = JSON.parse(evt.data);\n",
       "        var msg_type = msg['type'];\n",
       "\n",
       "        // Call the  \"handle_{type}\" callback, which takes\n",
       "        // the figure and JSON message as its only arguments.\n",
       "        try {\n",
       "            var callback = fig[\"handle_\" + msg_type];\n",
       "        } catch (e) {\n",
       "            console.log(\"No handler for the '\" + msg_type + \"' message type: \", msg);\n",
       "            return;\n",
       "        }\n",
       "\n",
       "        if (callback) {\n",
       "            try {\n",
       "                // console.log(\"Handling '\" + msg_type + \"' message: \", msg);\n",
       "                callback(fig, msg);\n",
       "            } catch (e) {\n",
       "                console.log(\"Exception inside the 'handler_\" + msg_type + \"' callback:\", e, e.stack, msg);\n",
       "            }\n",
       "        }\n",
       "    };\n",
       "}\n",
       "\n",
       "// from http://stackoverflow.com/questions/1114465/getting-mouse-location-in-canvas\n",
       "mpl.findpos = function(e) {\n",
       "    //this section is from http://www.quirksmode.org/js/events_properties.html\n",
       "    var targ;\n",
       "    if (!e)\n",
       "        e = window.event;\n",
       "    if (e.target)\n",
       "        targ = e.target;\n",
       "    else if (e.srcElement)\n",
       "        targ = e.srcElement;\n",
       "    if (targ.nodeType == 3) // defeat Safari bug\n",
       "        targ = targ.parentNode;\n",
       "\n",
       "    // jQuery normalizes the pageX and pageY\n",
       "    // pageX,Y are the mouse positions relative to the document\n",
       "    // offset() returns the position of the element relative to the document\n",
       "    var x = e.pageX - $(targ).offset().left;\n",
       "    var y = e.pageY - $(targ).offset().top;\n",
       "\n",
       "    return {\"x\": x, \"y\": y};\n",
       "};\n",
       "\n",
       "/*\n",
       " * return a copy of an object with only non-object keys\n",
       " * we need this to avoid circular references\n",
       " * http://stackoverflow.com/a/24161582/3208463\n",
       " */\n",
       "function simpleKeys (original) {\n",
       "  return Object.keys(original).reduce(function (obj, key) {\n",
       "    if (typeof original[key] !== 'object')\n",
       "        obj[key] = original[key]\n",
       "    return obj;\n",
       "  }, {});\n",
       "}\n",
       "\n",
       "mpl.figure.prototype.mouse_event = function(event, name) {\n",
       "    var canvas_pos = mpl.findpos(event)\n",
       "\n",
       "    if (name === 'button_press')\n",
       "    {\n",
       "        this.canvas.focus();\n",
       "        this.canvas_div.focus();\n",
       "    }\n",
       "\n",
       "    var x = canvas_pos.x * mpl.ratio;\n",
       "    var y = canvas_pos.y * mpl.ratio;\n",
       "\n",
       "    this.send_message(name, {x: x, y: y, button: event.button,\n",
       "                             step: event.step,\n",
       "                             guiEvent: simpleKeys(event)});\n",
       "\n",
       "    /* This prevents the web browser from automatically changing to\n",
       "     * the text insertion cursor when the button is pressed.  We want\n",
       "     * to control all of the cursor setting manually through the\n",
       "     * 'cursor' event from matplotlib */\n",
       "    event.preventDefault();\n",
       "    return false;\n",
       "}\n",
       "\n",
       "mpl.figure.prototype._key_event_extra = function(event, name) {\n",
       "    // Handle any extra behaviour associated with a key event\n",
       "}\n",
       "\n",
       "mpl.figure.prototype.key_event = function(event, name) {\n",
       "\n",
       "    // Prevent repeat events\n",
       "    if (name == 'key_press')\n",
       "    {\n",
       "        if (event.which === this._key)\n",
       "            return;\n",
       "        else\n",
       "            this._key = event.which;\n",
       "    }\n",
       "    if (name == 'key_release')\n",
       "        this._key = null;\n",
       "\n",
       "    var value = '';\n",
       "    if (event.ctrlKey && event.which != 17)\n",
       "        value += \"ctrl+\";\n",
       "    if (event.altKey && event.which != 18)\n",
       "        value += \"alt+\";\n",
       "    if (event.shiftKey && event.which != 16)\n",
       "        value += \"shift+\";\n",
       "\n",
       "    value += 'k';\n",
       "    value += event.which.toString();\n",
       "\n",
       "    this._key_event_extra(event, name);\n",
       "\n",
       "    this.send_message(name, {key: value,\n",
       "                             guiEvent: simpleKeys(event)});\n",
       "    return false;\n",
       "}\n",
       "\n",
       "mpl.figure.prototype.toolbar_button_onclick = function(name) {\n",
       "    if (name == 'download') {\n",
       "        this.handle_save(this, null);\n",
       "    } else {\n",
       "        this.send_message(\"toolbar_button\", {name: name});\n",
       "    }\n",
       "};\n",
       "\n",
       "mpl.figure.prototype.toolbar_button_onmouseover = function(tooltip) {\n",
       "    this.message.textContent = tooltip;\n",
       "};\n",
       "mpl.toolbar_items = [[\"Home\", \"Reset original view\", \"fa fa-home icon-home\", \"home\"], [\"Back\", \"Back to  previous view\", \"fa fa-arrow-left icon-arrow-left\", \"back\"], [\"Forward\", \"Forward to next view\", \"fa fa-arrow-right icon-arrow-right\", \"forward\"], [\"\", \"\", \"\", \"\"], [\"Pan\", \"Pan axes with left mouse, zoom with right\", \"fa fa-arrows icon-move\", \"pan\"], [\"Zoom\", \"Zoom to rectangle\", \"fa fa-square-o icon-check-empty\", \"zoom\"], [\"\", \"\", \"\", \"\"], [\"Download\", \"Download plot\", \"fa fa-floppy-o icon-save\", \"download\"]];\n",
       "\n",
       "mpl.extensions = [\"eps\", \"pdf\", \"png\", \"ps\", \"raw\", \"svg\"];\n",
       "\n",
       "mpl.default_extension = \"png\";var comm_websocket_adapter = function(comm) {\n",
       "    // Create a \"websocket\"-like object which calls the given IPython comm\n",
       "    // object with the appropriate methods. Currently this is a non binary\n",
       "    // socket, so there is still some room for performance tuning.\n",
       "    var ws = {};\n",
       "\n",
       "    ws.close = function() {\n",
       "        comm.close()\n",
       "    };\n",
       "    ws.send = function(m) {\n",
       "        //console.log('sending', m);\n",
       "        comm.send(m);\n",
       "    };\n",
       "    // Register the callback with on_msg.\n",
       "    comm.on_msg(function(msg) {\n",
       "        //console.log('receiving', msg['content']['data'], msg);\n",
       "        // Pass the mpl event to the overridden (by mpl) onmessage function.\n",
       "        ws.onmessage(msg['content']['data'])\n",
       "    });\n",
       "    return ws;\n",
       "}\n",
       "\n",
       "mpl.mpl_figure_comm = function(comm, msg) {\n",
       "    // This is the function which gets called when the mpl process\n",
       "    // starts-up an IPython Comm through the \"matplotlib\" channel.\n",
       "\n",
       "    var id = msg.content.data.id;\n",
       "    // Get hold of the div created by the display call when the Comm\n",
       "    // socket was opened in Python.\n",
       "    var element = $(\"#\" + id);\n",
       "    var ws_proxy = comm_websocket_adapter(comm)\n",
       "\n",
       "    function ondownload(figure, format) {\n",
       "        window.open(figure.imageObj.src);\n",
       "    }\n",
       "\n",
       "    var fig = new mpl.figure(id, ws_proxy,\n",
       "                           ondownload,\n",
       "                           element.get(0));\n",
       "\n",
       "    // Call onopen now - mpl needs it, as it is assuming we've passed it a real\n",
       "    // web socket which is closed, not our websocket->open comm proxy.\n",
       "    ws_proxy.onopen();\n",
       "\n",
       "    fig.parent_element = element.get(0);\n",
       "    fig.cell_info = mpl.find_output_cell(\"<div id='\" + id + \"'></div>\");\n",
       "    if (!fig.cell_info) {\n",
       "        console.error(\"Failed to find cell for figure\", id, fig);\n",
       "        return;\n",
       "    }\n",
       "\n",
       "    var output_index = fig.cell_info[2]\n",
       "    var cell = fig.cell_info[0];\n",
       "\n",
       "};\n",
       "\n",
       "mpl.figure.prototype.handle_close = function(fig, msg) {\n",
       "    var width = fig.canvas.width/mpl.ratio\n",
       "    fig.root.unbind('remove')\n",
       "\n",
       "    // Update the output cell to use the data from the current canvas.\n",
       "    fig.push_to_output();\n",
       "    var dataURL = fig.canvas.toDataURL();\n",
       "    // Re-enable the keyboard manager in IPython - without this line, in FF,\n",
       "    // the notebook keyboard shortcuts fail.\n",
       "    IPython.keyboard_manager.enable()\n",
       "    $(fig.parent_element).html('<img src=\"' + dataURL + '\" width=\"' + width + '\">');\n",
       "    fig.close_ws(fig, msg);\n",
       "}\n",
       "\n",
       "mpl.figure.prototype.close_ws = function(fig, msg){\n",
       "    fig.send_message('closing', msg);\n",
       "    // fig.ws.close()\n",
       "}\n",
       "\n",
       "mpl.figure.prototype.push_to_output = function(remove_interactive) {\n",
       "    // Turn the data on the canvas into data in the output cell.\n",
       "    var width = this.canvas.width/mpl.ratio\n",
       "    var dataURL = this.canvas.toDataURL();\n",
       "    this.cell_info[1]['text/html'] = '<img src=\"' + dataURL + '\" width=\"' + width + '\">';\n",
       "}\n",
       "\n",
       "mpl.figure.prototype.updated_canvas_event = function() {\n",
       "    // Tell IPython that the notebook contents must change.\n",
       "    IPython.notebook.set_dirty(true);\n",
       "    this.send_message(\"ack\", {});\n",
       "    var fig = this;\n",
       "    // Wait a second, then push the new image to the DOM so\n",
       "    // that it is saved nicely (might be nice to debounce this).\n",
       "    setTimeout(function () { fig.push_to_output() }, 1000);\n",
       "}\n",
       "\n",
       "mpl.figure.prototype._init_toolbar = function() {\n",
       "    var fig = this;\n",
       "\n",
       "    var nav_element = $('<div/>')\n",
       "    nav_element.attr('style', 'width: 100%');\n",
       "    this.root.append(nav_element);\n",
       "\n",
       "    // Define a callback function for later on.\n",
       "    function toolbar_event(event) {\n",
       "        return fig.toolbar_button_onclick(event['data']);\n",
       "    }\n",
       "    function toolbar_mouse_event(event) {\n",
       "        return fig.toolbar_button_onmouseover(event['data']);\n",
       "    }\n",
       "\n",
       "    for(var toolbar_ind in mpl.toolbar_items){\n",
       "        var name = mpl.toolbar_items[toolbar_ind][0];\n",
       "        var tooltip = mpl.toolbar_items[toolbar_ind][1];\n",
       "        var image = mpl.toolbar_items[toolbar_ind][2];\n",
       "        var method_name = mpl.toolbar_items[toolbar_ind][3];\n",
       "\n",
       "        if (!name) { continue; };\n",
       "\n",
       "        var button = $('<button class=\"btn btn-default\" href=\"#\" title=\"' + name + '\"><i class=\"fa ' + image + ' fa-lg\"></i></button>');\n",
       "        button.click(method_name, toolbar_event);\n",
       "        button.mouseover(tooltip, toolbar_mouse_event);\n",
       "        nav_element.append(button);\n",
       "    }\n",
       "\n",
       "    // Add the status bar.\n",
       "    var status_bar = $('<span class=\"mpl-message\" style=\"text-align:right; float: right;\"/>');\n",
       "    nav_element.append(status_bar);\n",
       "    this.message = status_bar[0];\n",
       "\n",
       "    // Add the close button to the window.\n",
       "    var buttongrp = $('<div class=\"btn-group inline pull-right\"></div>');\n",
       "    var button = $('<button class=\"btn btn-mini btn-primary\" href=\"#\" title=\"Stop Interaction\"><i class=\"fa fa-power-off icon-remove icon-large\"></i></button>');\n",
       "    button.click(function (evt) { fig.handle_close(fig, {}); } );\n",
       "    button.mouseover('Stop Interaction', toolbar_mouse_event);\n",
       "    buttongrp.append(button);\n",
       "    var titlebar = this.root.find($('.ui-dialog-titlebar'));\n",
       "    titlebar.prepend(buttongrp);\n",
       "}\n",
       "\n",
       "mpl.figure.prototype._root_extra_style = function(el){\n",
       "    var fig = this\n",
       "    el.on(\"remove\", function(){\n",
       "\tfig.close_ws(fig, {});\n",
       "    });\n",
       "}\n",
       "\n",
       "mpl.figure.prototype._canvas_extra_style = function(el){\n",
       "    // this is important to make the div 'focusable\n",
       "    el.attr('tabindex', 0)\n",
       "    // reach out to IPython and tell the keyboard manager to turn it's self\n",
       "    // off when our div gets focus\n",
       "\n",
       "    // location in version 3\n",
       "    if (IPython.notebook.keyboard_manager) {\n",
       "        IPython.notebook.keyboard_manager.register_events(el);\n",
       "    }\n",
       "    else {\n",
       "        // location in version 2\n",
       "        IPython.keyboard_manager.register_events(el);\n",
       "    }\n",
       "\n",
       "}\n",
       "\n",
       "mpl.figure.prototype._key_event_extra = function(event, name) {\n",
       "    var manager = IPython.notebook.keyboard_manager;\n",
       "    if (!manager)\n",
       "        manager = IPython.keyboard_manager;\n",
       "\n",
       "    // Check for shift+enter\n",
       "    if (event.shiftKey && event.which == 13) {\n",
       "        this.canvas_div.blur();\n",
       "        event.shiftKey = false;\n",
       "        // Send a \"J\" for go to next cell\n",
       "        event.which = 74;\n",
       "        event.keyCode = 74;\n",
       "        manager.command_mode();\n",
       "        manager.handle_keydown(event);\n",
       "    }\n",
       "}\n",
       "\n",
       "mpl.figure.prototype.handle_save = function(fig, msg) {\n",
       "    fig.ondownload(fig, null);\n",
       "}\n",
       "\n",
       "\n",
       "mpl.find_output_cell = function(html_output) {\n",
       "    // Return the cell and output element which can be found *uniquely* in the notebook.\n",
       "    // Note - this is a bit hacky, but it is done because the \"notebook_saving.Notebook\"\n",
       "    // IPython event is triggered only after the cells have been serialised, which for\n",
       "    // our purposes (turning an active figure into a static one), is too late.\n",
       "    var cells = IPython.notebook.get_cells();\n",
       "    var ncells = cells.length;\n",
       "    for (var i=0; i<ncells; i++) {\n",
       "        var cell = cells[i];\n",
       "        if (cell.cell_type === 'code'){\n",
       "            for (var j=0; j<cell.output_area.outputs.length; j++) {\n",
       "                var data = cell.output_area.outputs[j];\n",
       "                if (data.data) {\n",
       "                    // IPython >= 3 moved mimebundle to data attribute of output\n",
       "                    data = data.data;\n",
       "                }\n",
       "                if (data['text/html'] == html_output) {\n",
       "                    return [cell, data, j];\n",
       "                }\n",
       "            }\n",
       "        }\n",
       "    }\n",
       "}\n",
       "\n",
       "// Register the function which deals with the matplotlib target/channel.\n",
       "// The kernel may be null if the page has been refreshed.\n",
       "if (IPython.notebook.kernel != null) {\n",
       "    IPython.notebook.kernel.comm_manager.register_target('matplotlib', mpl.mpl_figure_comm);\n",
       "}\n"
      ],
      "text/plain": [
       "<IPython.core.display.Javascript object>"
      ]
     },
     "metadata": {},
     "output_type": "display_data"
    },
    {
     "data": {
      "text/html": [
       "<img src=\"data:image/png;base64,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\" width=\"1000\">"
      ],
      "text/plain": [
       "<IPython.core.display.HTML object>"
      ]
     },
     "metadata": {},
     "output_type": "display_data"
    }
   ],
   "source": [
    "#Plots probabilities of each phenotype to be expressed in tissues \n",
    "import pandas as pd\n",
    "import numpy as np\n",
    "import matplotlib.pyplot as plt\n",
    "import csv\n",
    "\n",
    "### Auxiliary functions ### \n",
    "def set_plotstyle():\n",
    "    \n",
    "    import matplotlib.pyplot as plt\n",
    "    import seaborn as sns\n",
    "    \n",
    "    %matplotlib notebook\n",
    "\n",
    "    SMALL_SIZE = 6\n",
    "    MEDIUM_SIZE = 10\n",
    "    BIGGER_SIZE = 12\n",
    "\n",
    "    # seaborn defaults\n",
    "    sns.set() \n",
    "    \n",
    "    plt.rcParams['figure.figsize'] = [10, 10]\n",
    "\n",
    "    plt.rc('font', size=SMALL_SIZE)          # controls default text sizes\n",
    "    plt.rc('axes', titlesize=MEDIUM_SIZE)     # fontsize of the axes title\n",
    "    plt.rc('axes', labelsize=MEDIUM_SIZE)    # fontsize of the x and y labels\n",
    "    plt.rc('xtick', labelsize=SMALL_SIZE)    # fontsize of the tick labels\n",
    "    plt.rc('ytick', labelsize=SMALL_SIZE)    # fontsize of the tick labels\n",
    "    plt.rc('legend', fontsize=SMALL_SIZE)    # legend fontsize\n",
    "    plt.rc('figure', titlesize=BIGGER_SIZE)  # fontsize of the figure title\n",
    "    \n",
    "### End Auxiliary functions ### \n",
    "\n",
    "# Input: phen_list is a list of HPO terms  \n",
    "phen_list= ['HP:0000577','HP:0000522','HP:0001600','HP:0002500','HP:0001344','HP:0008897','HP:0000574','HP:0011231','HP:0000767']\n",
    "\n",
    "# read saved output here , and reset index \n",
    "output_df=pd.read_csv('Probabilities_Tissue_causing_Phenotype.csv', index_col=False)\n",
    "hpo_data = pd.read_csv('ALL_SOURCES_ALL_FREQUENCIES_phenotype_to_genes.csv')\n",
    "\n",
    "#set plot configuration \n",
    "set_plotstyle()\n",
    "\n",
    "\n",
    "#fig, axs = plt.subplots(2,1)    \n",
    "# #Plot of Prior probabilties for P(Tissue expression), assuming uniform disgribution on probability of genes\n",
    "# prior=output_df.mean(axis=0)\n",
    "# prior=prior.iloc[1:].sort_values()\n",
    "# prior.plot(kind='barh',ax=axs[0])\n",
    "# plt.tight_layout()\n",
    "# print(\"Prior Probabilities:\")\n",
    "# print(prior)\n",
    "\n",
    "\n",
    "#initialize data frame for plotting probabilities for each phenotype \n",
    "P_df_plot=pd.DataFrame({'Tissues':output_df.drop(['index'] ,axis=1).columns.get_values().tolist()})\n",
    "hpo_name=[]\n",
    "\n",
    "for phen in phen_list: \n",
    "    #obtain HPO Name from HPO dataset, since the output probability goes by HPO Name \n",
    "    gene_connections=hpo_data[hpo_data['HPO-ID']== phen] \n",
    "    hpo_name.append(gene_connections['HPO-Name'].iloc[0])    \n",
    "    #obtain probabilities of tissues given phenotype \n",
    "    hpo2tissues= output_df[output_df['index']== hpo_name[-1]]\n",
    "\n",
    "    #manipulate dataframe so it can be plotted \n",
    "    hpo2tissues.set_index('index', inplace=True)\n",
    "\n",
    "    P_df_plot[hpo_name[-1]]=hpo2tissues.values.T\n",
    "    \n",
    "print(\"\\n Probabilities of Expression for each HPO term:\")\n",
    "print(P_df_plot)\n",
    "\n",
    "\n",
    "#Compute average probability of expression for all HPOs inputted \n",
    "print(\"\\n Avergage Probability of Expression for HPOs:\")\n",
    "P_mean=pd.DataFrame({'P_mean':P_df_plot.mean(axis=1)})\n",
    "P_mean['Tissues']=P_df_plot['Tissues']\n",
    "print(P_mean)  # to do, add tissues to this df \n",
    "\n",
    "#plot probabilities of tissues from high to low values \n",
    "#P_df_plot=P_df_plot.sort_values(by=hpo_name[0], axis=0)  # sort by first element, \n",
    "P_mean=P_mean.sort_values(by='P_mean', axis=0)\n",
    "\n",
    "#ax=P_df_plot.plot.barh(x='Tissues', y= hpo_name, rot=0, legend=False, width=1.25) # ax=axs[1]\n",
    "ax=P_mean.plot.barh(x='Tissues', rot=0, legend=False, width=1.25)\n",
    "ax.set_xlabel(\"Probability of Tissue Expressing Causal Gene\")\n",
    "plt.tight_layout()\n",
    "\n",
    "\n",
    "\n",
    "\n",
    "\n",
    "    "
   ]
  },
  {
   "cell_type": "markdown",
   "metadata": {},
   "source": [
    "# Evaluation on UDN dataset "
   ]
  },
  {
   "cell_type": "code",
   "execution_count": 22,
   "metadata": {},
   "outputs": [],
   "source": [
    "\n",
    "#Question : how do the different Ptgs compare for empirical vs Poilog Normal?  \n",
    "\n",
    "# compare P_mean to probability of expression for e0=100  \n",
    "\n",
    "# HPO datasets , see how AMELIE did that\n",
    "\n",
    "def evaluate(P_mean, gene_causal): \n",
    "    e0=250 #hardcoded for now \n",
    "    \n",
    "    #evaluate with empirial probability matrix \n",
    "    #read p_expression again \n",
    "    p_expression_emp= pd.read_pickle('p_expressioninTissueGivenGene.csv') \n",
    "    \n",
    "    \n",
    "    #compute genes_common again , you don't really have to, you have to read one line of code \n",
    "    [Ptg_emp, tissues]=computePtg_emp_slim(p_expression_emp,e0)\n",
    "    \n",
    "    #print(Ptg_emp)\n",
    "    \n",
    "    #also get baseline model from Ptg_emp\n",
    "    P_baseline= Ptg_emp.drop(['Name', 'Description'], axis=1).sum(axis=0) # number of genes expressed in that tissue on average \n",
    "    #normalize by number of genes in at least one tissue, or non Nans, positive non-zero values in testis, etc. \n",
    "    nonnangenes=Ptg_emp.dropna(how='all')\n",
    "    #print(nonnangenes)\n",
    "    norm_constant=nonnangenes.shape[0]   #how many rows are not all NaNs \n",
    "    #norm_constant= Ptg_emp['Testis'].fillna(0).astype(bool).sum(axis=0)  #to do: change this to a more sophisticated method \n",
    "    P_baseline= P_baseline/norm_constant\n",
    "    P_baseline=P_baseline.to_frame(name='P_baseline')\n",
    "    P_baseline.reset_index(level=0, inplace=True)\n",
    "    P_baseline.columns=['Tissues','P_baseline'] \n",
    "    \n",
    "    #print('P_baseline')\n",
    "    #print(P_baseline)\n",
    "    \n",
    "    P_causal=Ptg_emp[Ptg_emp['Description']==gene_causal]  #exctract probability from causal \n",
    "    \n",
    "     \n",
    "    if P_causal.empty== True: # check for no gene match in GTEx \n",
    "        print(\"No gene match on GTEx\")\n",
    "        nrows= P_baseline.shape[0]\n",
    "        P_causal['Tissues']= P_baseline['Tissues']\n",
    "        P_causal['P_causal']= float('NaN')  #fill with NaNs \n",
    "    else:  #gene match \n",
    "        P_causal=P_causal.drop(['Name', 'Description'], axis=1).T  #only need tissues \n",
    "        P_causal.reset_index(level=0, inplace=True)\n",
    "        P_causal.columns=['Tissues','P_causal'] \n",
    "    \n",
    "    #print('P_causal')\n",
    "    #print(P_causal)\n",
    "    \n",
    "    # merge dataframes \n",
    "    result=pd.merge(P_causal, P_mean, on='Tissues', how='inner')\n",
    "    result=pd.merge(result, P_baseline, on='Tissues', how='inner')\n",
    "    \n",
    "    #sort tissues based on P_causal and P_mean \n",
    "    trueTrank=result.sort_values(by='P_causal', ascending=False)['Tissues'].reset_index(drop=True)\n",
    "    predTrank=result.sort_values(by='P_mean', ascending=False)['Tissues'].reset_index(drop=True)\n",
    "    \n",
    "    #for Ptg df, get causal gene probability \n",
    "    \n",
    "    # use common genes from the ones obtained from Pmean probability  \n",
    "    result['diff']= result['P_causal'] - result['P_mean']  #vector of errors \n",
    "    result['true rank']= trueTrank\n",
    "    result['pred rank']=predTrank\n",
    "    \n",
    "    #print('difference')\n",
    "    #print(result)\n",
    "    \n",
    "    #ranking of tissues: true_rank vs predicted_rank \n",
    "    \n",
    "    RSE_model= ((result['P_causal']- result['P_mean'])**2).sum(skipna = True)/ ((result['P_causal'])**2).sum(skipna=True)\n",
    "    RSE_baseline= ((result['P_causal']- result['P_baseline'])**2).sum(skipna = True)/ ((result['P_causal'])**2).sum(skipna=True)\n",
    "    \n",
    "    return result, RSE_model, RSE_baseline\n",
    "    \n",
    "    \n",
    "    \n",
    "def visualize_results(result, P_df_plot): \n",
    "    \n",
    "    tissue_causal=result['true rank'].iloc[0]\n",
    "    \n",
    "    print('results')\n",
    "    print(result)\n",
    "    \n",
    "    #Plot: have a boxplot of p_df_plot and how it compares to p_causal for each tissue, 50 boxplots , look at past ipsc code to generate this \n",
    "    P_df_boxplot=(P_df_plot.set_index('Tissues')).T\n",
    "    P_df_boxplot.reset_index(inplace=True)\n",
    "    # now make Tissues be a column as well \n",
    "    \n",
    "    plt.figure() # new plot \n",
    "    #print(pd.melt(P_df_boxplot.drop(['index'] ,axis=1)))\n",
    "    sns.boxplot(x=\"Tissues\", y=\"value\", data=pd.melt(P_df_boxplot.drop(['index'] ,axis=1)))\n",
    "    plt.xticks(rotation=90)\n",
    "    \n",
    "    \n",
    "    # plot only the true top tissue results \n",
    "    \n",
    "    #plot barplot with P_df_plot for that specific tissue ,x label with hpo names , see which HPOs contribute more to the causes, etc. \n",
    "    #look at HPO tree and see what are the causal things \n",
    "    print('most probable tissue according to GTEx causal gene expression:')\n",
    "    print(tissue_causal)\n",
    "    #print('causal gene')\n",
    "    #print(gene_causal)\n",
    "    tissue_causal_probs=P_df_plot[P_df_plot['Tissues']==tissue_causal] #extract probabilities of causal tissue for each HPO term \n",
    "    tissue_causal_probs.plot(kind='bar')\n",
    "    \n",
    "    \n",
    "    # Scatterplot predictions vs expectation , Pmean vs P_true for all tissues, calculate R^2 \n",
    "    plt.figure()\n",
    "    ax=plt.subplot(111)\n",
    "    result.plot(kind='scatter',ax=ax, x='P_causal',y='P_mean')\n",
    "    ax.set_xlim(0,1)\n",
    "    ax.set_ylim(0,1)\n",
    "    \n",
    "    \n"
   ]
  },
  {
   "cell_type": "code",
   "execution_count": 23,
   "metadata": {
    "scrolled": true
   },
   "outputs": [
    {
     "name": "stdout",
     "output_type": "stream",
     "text": [
      "UDN ID                                               UDN353717\n",
      "Gene name                                                ABCD1\n",
      "HPO_ID       [HP:0000012, HP:0001288, HP:0001348, HP:000209...\n",
      "Name: 0, dtype: object\n",
      "/home/mmendoza/ANEVA/Adina/Tissue_Sensitivity//results_UDN//UDN353717\n"
     ]
    },
    {
     "name": "stderr",
     "output_type": "stream",
     "text": [
      "/home/bkotis/miniconda3/lib/python3.7/site-packages/ipykernel_launcher.py:56: FutureWarning: The 'get_values' method is deprecated and will be removed in a future version. Use '.to_numpy()' or '.array' instead.\n"
     ]
    },
    {
     "name": "stdout",
     "output_type": "stream",
     "text": [
      "phenotype is not in HPO dataset\n",
      "RSE Model\n",
      "0.3130544324879851\n",
      "RSE Baseline\n",
      "0.6297483868104545\n",
      "causal tissue:\n",
      "Muscle - Skeletal\n",
      "causal gene\n",
      "ABCD1\n",
      "UDN ID                                               UDN789123\n",
      "Gene name                                               ADGRV1\n",
      "HPO_ID       [HP:0000938, HP:0001260, HP:0001273, HP:000131...\n",
      "Name: 1, dtype: object\n",
      "/home/mmendoza/ANEVA/Adina/Tissue_Sensitivity//results_UDN//UDN789123\n"
     ]
    },
    {
     "name": "stderr",
     "output_type": "stream",
     "text": [
      "/home/bkotis/miniconda3/lib/python3.7/site-packages/ipykernel_launcher.py:56: FutureWarning: The 'get_values' method is deprecated and will be removed in a future version. Use '.to_numpy()' or '.array' instead.\n"
     ]
    },
    {
     "name": "stdout",
     "output_type": "stream",
     "text": [
      "phenotype is not in HPO dataset\n",
      "RSE Model\n",
      "0.5315724435317538\n",
      "RSE Baseline\n",
      "0.6763190861952147\n",
      "causal tissue:\n",
      "Brain - Cerebellum\n",
      "causal gene\n",
      "ADGRV1\n",
      "UDN ID                                               UDN563476\n",
      "Gene name                                                 ADNP\n",
      "HPO_ID       [HP:0000075, HP:0000347, HP:0000494, HP:000056...\n",
      "Name: 2, dtype: object\n",
      "/home/mmendoza/ANEVA/Adina/Tissue_Sensitivity//results_UDN//UDN563476\n"
     ]
    },
    {
     "name": "stderr",
     "output_type": "stream",
     "text": [
      "/home/bkotis/miniconda3/lib/python3.7/site-packages/ipykernel_launcher.py:56: FutureWarning: The 'get_values' method is deprecated and will be removed in a future version. Use '.to_numpy()' or '.array' instead.\n"
     ]
    },
    {
     "name": "stdout",
     "output_type": "stream",
     "text": [
      "phenotype is not in HPO dataset\n",
      "RSE Model\n",
      "0.3370996728807246\n",
      "RSE Baseline\n",
      "0.6179651961482764\n",
      "causal tissue:\n",
      "Muscle - Skeletal\n",
      "causal gene\n",
      "ADNP\n",
      "UDN ID                                               UDN425028\n",
      "Gene name                                               ADSSL1\n",
      "HPO_ID       [HP:0000508, HP:0000643, HP:0001075, HP:000109...\n",
      "Name: 3, dtype: object\n",
      "/home/mmendoza/ANEVA/Adina/Tissue_Sensitivity//results_UDN//UDN425028\n"
     ]
    },
    {
     "name": "stderr",
     "output_type": "stream",
     "text": [
      "/home/bkotis/miniconda3/lib/python3.7/site-packages/ipykernel_launcher.py:56: FutureWarning: The 'get_values' method is deprecated and will be removed in a future version. Use '.to_numpy()' or '.array' instead.\n"
     ]
    },
    {
     "name": "stdout",
     "output_type": "stream",
     "text": [
      "RSE Model\n",
      "0.3721579001337693\n",
      "RSE Baseline\n",
      "0.6420693092231247\n",
      "causal tissue:\n",
      "Artery - Aorta\n",
      "causal gene\n",
      "ADSSL1\n",
      "UDN ID                                               UDN012034\n",
      "Gene name                                               AFG3L2\n",
      "HPO_ID       [HP:0000217, HP:0000360, HP:0000496, HP:000060...\n",
      "Name: 4, dtype: object\n",
      "/home/mmendoza/ANEVA/Adina/Tissue_Sensitivity//results_UDN//UDN012034\n"
     ]
    },
    {
     "name": "stderr",
     "output_type": "stream",
     "text": [
      "/home/bkotis/miniconda3/lib/python3.7/site-packages/ipykernel_launcher.py:56: FutureWarning: The 'get_values' method is deprecated and will be removed in a future version. Use '.to_numpy()' or '.array' instead.\n"
     ]
    },
    {
     "name": "stdout",
     "output_type": "stream",
     "text": [
      "RSE Model\n",
      "0.3172549487250336\n",
      "RSE Baseline\n",
      "0.6124184696307409\n",
      "causal tissue:\n",
      "Muscle - Skeletal\n",
      "causal gene\n",
      "AFG3L2\n",
      "UDN ID                                               UDN071969\n",
      "Gene name                                              AGTPBP1\n",
      "HPO_ID       [HP:0000168, HP:0000218, HP:0000252, HP:000057...\n",
      "Name: 5, dtype: object\n",
      "/home/mmendoza/ANEVA/Adina/Tissue_Sensitivity//results_UDN//UDN071969\n"
     ]
    },
    {
     "name": "stderr",
     "output_type": "stream",
     "text": [
      "/home/bkotis/miniconda3/lib/python3.7/site-packages/ipykernel_launcher.py:56: FutureWarning: The 'get_values' method is deprecated and will be removed in a future version. Use '.to_numpy()' or '.array' instead.\n"
     ]
    },
    {
     "name": "stdout",
     "output_type": "stream",
     "text": [
      "RSE Model\n",
      "0.3792163560495039\n",
      "RSE Baseline\n",
      "0.6516526596266312\n",
      "causal tissue:\n",
      "Muscle - Skeletal\n",
      "causal gene\n",
      "AGTPBP1\n",
      "UDN ID                                               UDN418801\n",
      "Gene name                                                AIFM1\n",
      "HPO_ID       [HP:0000322, HP:0000483, HP:0000486, HP:000050...\n",
      "Name: 6, dtype: object\n",
      "/home/mmendoza/ANEVA/Adina/Tissue_Sensitivity//results_UDN//UDN418801\n"
     ]
    },
    {
     "name": "stderr",
     "output_type": "stream",
     "text": [
      "/home/bkotis/miniconda3/lib/python3.7/site-packages/ipykernel_launcher.py:56: FutureWarning: The 'get_values' method is deprecated and will be removed in a future version. Use '.to_numpy()' or '.array' instead.\n"
     ]
    },
    {
     "name": "stdout",
     "output_type": "stream",
     "text": [
      "phenotype is not in HPO dataset\n",
      "RSE Model\n",
      "0.33422407718259145\n",
      "RSE Baseline\n",
      "0.6253334789005536\n",
      "causal tissue:\n",
      "Muscle - Skeletal\n",
      "causal gene\n",
      "AIFM1\n",
      "UDN ID                                               UDN032611\n",
      "Gene name                                             ALDH18A1\n",
      "HPO_ID       [HP:0000545, HP:0000716, HP:0001288, HP:000134...\n",
      "Name: 7, dtype: object\n",
      "/home/mmendoza/ANEVA/Adina/Tissue_Sensitivity//results_UDN//UDN032611\n"
     ]
    },
    {
     "name": "stderr",
     "output_type": "stream",
     "text": [
      "/home/bkotis/miniconda3/lib/python3.7/site-packages/ipykernel_launcher.py:56: FutureWarning: The 'get_values' method is deprecated and will be removed in a future version. Use '.to_numpy()' or '.array' instead.\n"
     ]
    },
    {
     "name": "stdout",
     "output_type": "stream",
     "text": [
      "RSE Model\n",
      "0.37700288726792147\n",
      "RSE Baseline\n",
      "0.6550702519971813\n",
      "causal tissue:\n",
      "Skin - Sun Exposed (Lower leg)\n",
      "causal gene\n",
      "ALDH18A1\n",
      "UDN ID                                               UDN865642\n",
      "Gene name                                                 ALG1\n",
      "HPO_ID       [HP:0000010, HP:0000011, HP:0000252, HP:000052...\n",
      "Name: 8, dtype: object\n",
      "/home/mmendoza/ANEVA/Adina/Tissue_Sensitivity//results_UDN//UDN865642\n"
     ]
    },
    {
     "name": "stderr",
     "output_type": "stream",
     "text": [
      "/home/bkotis/miniconda3/lib/python3.7/site-packages/ipykernel_launcher.py:56: FutureWarning: The 'get_values' method is deprecated and will be removed in a future version. Use '.to_numpy()' or '.array' instead.\n"
     ]
    },
    {
     "name": "stdout",
     "output_type": "stream",
     "text": [
      "phenotype is not in HPO dataset\n",
      "phenotype is not in HPO dataset\n",
      "RSE Model\n",
      "0.31651307735607115\n",
      "RSE Baseline\n",
      "0.5898049670093329\n",
      "causal tissue:\n",
      "Testis\n",
      "causal gene\n",
      "ALG1\n",
      "UDN ID                                               UDN785103\n",
      "Gene name                                                ALG13\n",
      "HPO_ID       [HP:0001250, HP:0001263, HP:0002072, HP:000214...\n",
      "Name: 9, dtype: object\n",
      "/home/mmendoza/ANEVA/Adina/Tissue_Sensitivity//results_UDN//UDN785103\n"
     ]
    },
    {
     "name": "stderr",
     "output_type": "stream",
     "text": [
      "/home/bkotis/miniconda3/lib/python3.7/site-packages/ipykernel_launcher.py:56: FutureWarning: The 'get_values' method is deprecated and will be removed in a future version. Use '.to_numpy()' or '.array' instead.\n"
     ]
    },
    {
     "name": "stdout",
     "output_type": "stream",
     "text": [
      "RSE Model\n",
      "0.40697502443257766\n",
      "RSE Baseline\n",
      "0.659430472502806\n",
      "causal tissue:\n",
      "Skin - Sun Exposed (Lower leg)\n",
      "causal gene\n",
      "ALG13\n",
      "UDN ID                                               UDN385117\n",
      "Gene name                                                ALMS1\n",
      "HPO_ID       [HP:0000219, HP:0000294, HP:0000303, HP:000031...\n",
      "Name: 10, dtype: object\n",
      "/home/mmendoza/ANEVA/Adina/Tissue_Sensitivity//results_UDN//UDN385117\n"
     ]
    },
    {
     "name": "stderr",
     "output_type": "stream",
     "text": [
      "/home/bkotis/miniconda3/lib/python3.7/site-packages/ipykernel_launcher.py:56: FutureWarning: The 'get_values' method is deprecated and will be removed in a future version. Use '.to_numpy()' or '.array' instead.\n"
     ]
    },
    {
     "name": "stdout",
     "output_type": "stream",
     "text": [
      "phenotype is not in HPO dataset\n",
      "RSE Model\n",
      "0.3807043485422658\n",
      "RSE Baseline\n",
      "0.6437603222345154\n",
      "causal tissue:\n",
      "Adipose - Subcutaneous\n",
      "causal gene\n",
      "ALMS1\n",
      "UDN ID                                               UDN284595\n",
      "Gene name                                                AMER1\n",
      "HPO_ID       [HP:0000202, HP:0000238, HP:0000248, HP:000028...\n",
      "Name: 11, dtype: object\n",
      "/home/mmendoza/ANEVA/Adina/Tissue_Sensitivity//results_UDN//UDN284595\n"
     ]
    },
    {
     "name": "stderr",
     "output_type": "stream",
     "text": [
      "/home/bkotis/miniconda3/lib/python3.7/site-packages/ipykernel_launcher.py:56: FutureWarning: The 'get_values' method is deprecated and will be removed in a future version. Use '.to_numpy()' or '.array' instead.\n"
     ]
    },
    {
     "name": "stdout",
     "output_type": "stream",
     "text": [
      "phenotype is not in HPO dataset\n",
      "phenotype is not in HPO dataset\n",
      "phenotype is not in HPO dataset\n",
      "phenotype is not in HPO dataset\n",
      "RSE Model\n",
      "0.24913098118692084\n",
      "RSE Baseline\n",
      "0.5664915571126964\n",
      "causal tissue:\n",
      "Cells - Cultured fibroblasts\n",
      "causal gene\n",
      "AMER1\n",
      "UDN ID                                               UDN359842\n",
      "Gene name                                               ANTXR2\n",
      "HPO_ID       [HP:0000179, HP:0000212, HP:0000215, HP:000031...\n",
      "Name: 12, dtype: object\n",
      "/home/mmendoza/ANEVA/Adina/Tissue_Sensitivity//results_UDN//UDN359842\n"
     ]
    },
    {
     "name": "stderr",
     "output_type": "stream",
     "text": [
      "/home/bkotis/miniconda3/lib/python3.7/site-packages/ipykernel_launcher.py:56: FutureWarning: The 'get_values' method is deprecated and will be removed in a future version. Use '.to_numpy()' or '.array' instead.\n"
     ]
    },
    {
     "name": "stdout",
     "output_type": "stream",
     "text": [
      "RSE Model\n",
      "0.3440845822968381\n",
      "RSE Baseline\n",
      "0.6275658161779899\n",
      "causal tissue:\n",
      "Skin - Sun Exposed (Lower leg)\n",
      "causal gene\n",
      "ANTXR2\n",
      "UDN ID                                               UDN102953\n",
      "Gene name                                               ARID1B\n",
      "HPO_ID       [HP:0000076, HP:0000179, HP:0000218, HP:000021...\n",
      "Name: 13, dtype: object\n",
      "/home/mmendoza/ANEVA/Adina/Tissue_Sensitivity//results_UDN//UDN102953\n"
     ]
    },
    {
     "name": "stderr",
     "output_type": "stream",
     "text": [
      "/home/bkotis/miniconda3/lib/python3.7/site-packages/ipykernel_launcher.py:56: FutureWarning: The 'get_values' method is deprecated and will be removed in a future version. Use '.to_numpy()' or '.array' instead.\n"
     ]
    },
    {
     "name": "stdout",
     "output_type": "stream",
     "text": [
      "RSE Model\n",
      "0.25598516844444674\n",
      "RSE Baseline\n",
      "0.5856277165686533\n",
      "causal tissue:\n",
      "Skin - Sun Exposed (Lower leg)\n",
      "causal gene\n",
      "ARID1B\n",
      "UDN ID                                               UDN221071\n",
      "Gene name                                               ARID1B\n",
      "HPO_ID       [HP:0000347, HP:0000358, HP:0000750, HP:000150...\n",
      "Name: 14, dtype: object\n",
      "/home/mmendoza/ANEVA/Adina/Tissue_Sensitivity//results_UDN//UDN221071\n"
     ]
    },
    {
     "name": "stderr",
     "output_type": "stream",
     "text": [
      "/home/bkotis/miniconda3/lib/python3.7/site-packages/ipykernel_launcher.py:56: FutureWarning: The 'get_values' method is deprecated and will be removed in a future version. Use '.to_numpy()' or '.array' instead.\n"
     ]
    },
    {
     "name": "stdout",
     "output_type": "stream",
     "text": [
      "RSE Model\n",
      "0.3193746444981378\n",
      "RSE Baseline\n",
      "0.5856277165686533\n",
      "causal tissue:\n",
      "Skin - Sun Exposed (Lower leg)\n",
      "causal gene\n",
      "ARID1B\n",
      "UDN ID                                               UDN820498\n",
      "Gene name                                                ARMC9\n",
      "HPO_ID       [HP:0000248, HP:0000316, HP:0000543, HP:000057...\n",
      "Name: 15, dtype: object\n",
      "/home/mmendoza/ANEVA/Adina/Tissue_Sensitivity//results_UDN//UDN820498\n"
     ]
    },
    {
     "name": "stderr",
     "output_type": "stream",
     "text": [
      "/home/bkotis/miniconda3/lib/python3.7/site-packages/ipykernel_launcher.py:56: FutureWarning: The 'get_values' method is deprecated and will be removed in a future version. Use '.to_numpy()' or '.array' instead.\n"
     ]
    },
    {
     "name": "stdout",
     "output_type": "stream",
     "text": [
      "phenotype is not in HPO dataset\n",
      "RSE Model\n",
      "0.3986439938237223\n",
      "RSE Baseline\n",
      "0.6236137291723477\n",
      "causal tissue:\n",
      "Esophagus - Muscularis\n",
      "causal gene\n",
      "ARMC9\n",
      "UDN ID                                               UDN685345\n",
      "Gene name                                                 ARV1\n",
      "HPO_ID       [HP:0000010, HP:0000158, HP:0000268, HP:000027...\n",
      "Name: 16, dtype: object\n",
      "/home/mmendoza/ANEVA/Adina/Tissue_Sensitivity//results_UDN//UDN685345\n"
     ]
    },
    {
     "name": "stderr",
     "output_type": "stream",
     "text": [
      "/home/bkotis/miniconda3/lib/python3.7/site-packages/ipykernel_launcher.py:56: FutureWarning: The 'get_values' method is deprecated and will be removed in a future version. Use '.to_numpy()' or '.array' instead.\n"
     ]
    },
    {
     "name": "stdout",
     "output_type": "stream",
     "text": [
      "phenotype is not in HPO dataset\n",
      "phenotype is not in HPO dataset\n",
      "phenotype is not in HPO dataset\n",
      "RSE Model\n",
      "0.39662864519608054\n",
      "RSE Baseline\n",
      "0.6654781887718251\n",
      "causal tissue:\n",
      "Cells - Cultured fibroblasts\n",
      "causal gene\n",
      "ARV1\n",
      "UDN ID                                               UDN508177\n",
      "Gene name                                                  ARX\n",
      "HPO_ID       [HP:0001274, HP:0002014, HP:0002024, HP:000202...\n",
      "Name: 17, dtype: object\n",
      "/home/mmendoza/ANEVA/Adina/Tissue_Sensitivity//results_UDN//UDN508177\n"
     ]
    },
    {
     "name": "stderr",
     "output_type": "stream",
     "text": [
      "/home/bkotis/miniconda3/lib/python3.7/site-packages/ipykernel_launcher.py:56: FutureWarning: The 'get_values' method is deprecated and will be removed in a future version. Use '.to_numpy()' or '.array' instead.\n"
     ]
    },
    {
     "name": "stdout",
     "output_type": "stream",
     "text": [
      "RSE Model\n",
      "1.158759277993694\n",
      "RSE Baseline\n",
      "0.9165566457845722\n",
      "causal tissue:\n",
      "Brain - Anterior cingulate cortex (BA24)\n",
      "causal gene\n",
      "ARX\n",
      "UDN ID                                               UDN108297\n",
      "Gene name                                                ASXL1\n",
      "HPO_ID       [HP:0000252, HP:0002020, HP:0002091, HP:000251...\n",
      "Name: 18, dtype: object\n",
      "/home/mmendoza/ANEVA/Adina/Tissue_Sensitivity//results_UDN//UDN108297\n"
     ]
    },
    {
     "name": "stderr",
     "output_type": "stream",
     "text": [
      "/home/bkotis/miniconda3/lib/python3.7/site-packages/ipykernel_launcher.py:56: FutureWarning: The 'get_values' method is deprecated and will be removed in a future version. Use '.to_numpy()' or '.array' instead.\n"
     ]
    },
    {
     "name": "stdout",
     "output_type": "stream",
     "text": [
      "RSE Model\n",
      "0.38914601447590963\n",
      "RSE Baseline\n",
      "0.6449236571715995\n",
      "causal tissue:\n",
      "Skin - Sun Exposed (Lower leg)\n",
      "causal gene\n",
      "ASXL1\n",
      "UDN ID                                               UDN459257\n",
      "Gene name                                                ASXL1\n",
      "HPO_ID       [HP:0000508, HP:0000545, HP:0000998, HP:000105...\n",
      "Name: 19, dtype: object\n",
      "/home/mmendoza/ANEVA/Adina/Tissue_Sensitivity//results_UDN//UDN459257\n"
     ]
    },
    {
     "name": "stderr",
     "output_type": "stream",
     "text": [
      "/home/bkotis/miniconda3/lib/python3.7/site-packages/ipykernel_launcher.py:56: FutureWarning: The 'get_values' method is deprecated and will be removed in a future version. Use '.to_numpy()' or '.array' instead.\n"
     ]
    },
    {
     "name": "stdout",
     "output_type": "stream",
     "text": [
      "RSE Model\n",
      "0.35559364250288383\n",
      "RSE Baseline\n",
      "0.6449236571715995\n",
      "causal tissue:\n",
      "Skin - Sun Exposed (Lower leg)\n",
      "causal gene\n",
      "ASXL1\n",
      "UDN ID                                               UDN749888\n",
      "Gene name                                                ASXL2\n",
      "HPO_ID       [HP:0000098, HP:0000218, HP:0000256, HP:000027...\n",
      "Name: 20, dtype: object\n",
      "/home/mmendoza/ANEVA/Adina/Tissue_Sensitivity//results_UDN//UDN749888\n"
     ]
    },
    {
     "name": "stderr",
     "output_type": "stream",
     "text": [
      "/home/bkotis/miniconda3/lib/python3.7/site-packages/ipykernel_launcher.py:56: FutureWarning: The 'get_values' method is deprecated and will be removed in a future version. Use '.to_numpy()' or '.array' instead.\n"
     ]
    },
    {
     "name": "stdout",
     "output_type": "stream",
     "text": [
      "RSE Model\n",
      "0.3537137050290309\n",
      "RSE Baseline\n",
      "0.6179682166364076\n",
      "causal tissue:\n",
      "Muscle - Skeletal\n",
      "causal gene\n",
      "ASXL2\n",
      "UDN ID                                               UDN326376\n",
      "Gene name                                                ASXL3\n",
      "HPO_ID       [HP:0000020, HP:0000162, HP:0000189, HP:000023...\n",
      "Name: 21, dtype: object\n",
      "/home/mmendoza/ANEVA/Adina/Tissue_Sensitivity//results_UDN//UDN326376\n"
     ]
    },
    {
     "name": "stderr",
     "output_type": "stream",
     "text": [
      "/home/bkotis/miniconda3/lib/python3.7/site-packages/ipykernel_launcher.py:56: FutureWarning: The 'get_values' method is deprecated and will be removed in a future version. Use '.to_numpy()' or '.array' instead.\n"
     ]
    },
    {
     "name": "stdout",
     "output_type": "stream",
     "text": [
      "phenotype is not in HPO dataset\n",
      "phenotype is not in HPO dataset\n",
      "RSE Model\n",
      "0.5148132002802164\n",
      "RSE Baseline\n",
      "0.6824499583132335\n",
      "causal tissue:\n",
      "Ovary\n",
      "causal gene\n",
      "ASXL3\n",
      "UDN ID                                               UDN603646\n",
      "Gene name                                                ASXL3\n",
      "HPO_ID       [HP:0000194, HP:0000200, HP:0000218, HP:000031...\n",
      "Name: 22, dtype: object\n",
      "/home/mmendoza/ANEVA/Adina/Tissue_Sensitivity//results_UDN//UDN603646\n"
     ]
    },
    {
     "name": "stderr",
     "output_type": "stream",
     "text": [
      "/home/bkotis/miniconda3/lib/python3.7/site-packages/ipykernel_launcher.py:56: FutureWarning: The 'get_values' method is deprecated and will be removed in a future version. Use '.to_numpy()' or '.array' instead.\n"
     ]
    },
    {
     "name": "stdout",
     "output_type": "stream",
     "text": [
      "RSE Model\n",
      "0.5009315093943063\n",
      "RSE Baseline\n",
      "0.6824499583132335\n",
      "causal tissue:\n",
      "Ovary\n",
      "causal gene\n",
      "ASXL3\n",
      "UDN ID                                               UDN561580\n",
      "Gene name                                               ATP1A3\n",
      "HPO_ID       [HP:0000164, HP:0000679, HP:0000687, HP:000075...\n",
      "Name: 23, dtype: object\n",
      "/home/mmendoza/ANEVA/Adina/Tissue_Sensitivity//results_UDN//UDN561580\n"
     ]
    },
    {
     "name": "stderr",
     "output_type": "stream",
     "text": [
      "/home/bkotis/miniconda3/lib/python3.7/site-packages/ipykernel_launcher.py:56: FutureWarning: The 'get_values' method is deprecated and will be removed in a future version. Use '.to_numpy()' or '.array' instead.\n"
     ]
    },
    {
     "name": "stdout",
     "output_type": "stream",
     "text": [
      "phenotype is not in HPO dataset\n",
      "RSE Model\n",
      "0.38487530255060515\n",
      "RSE Baseline\n",
      "0.6156068654908691\n",
      "causal tissue:\n",
      "Heart - Atrial Appendage\n",
      "causal gene\n",
      "ATP1A3\n",
      "UDN ID                                               UDN525238\n",
      "Gene name                                               ATP1A3\n",
      "HPO_ID       [HP:0000957, HP:0001250, HP:0001251, HP:000125...\n",
      "Name: 24, dtype: object\n",
      "/home/mmendoza/ANEVA/Adina/Tissue_Sensitivity//results_UDN//UDN525238\n"
     ]
    },
    {
     "name": "stderr",
     "output_type": "stream",
     "text": [
      "/home/bkotis/miniconda3/lib/python3.7/site-packages/ipykernel_launcher.py:56: FutureWarning: The 'get_values' method is deprecated and will be removed in a future version. Use '.to_numpy()' or '.array' instead.\n"
     ]
    },
    {
     "name": "stdout",
     "output_type": "stream",
     "text": [
      "RSE Model\n",
      "0.4118298066918963\n",
      "RSE Baseline\n",
      "0.6156068654908691\n",
      "causal tissue:\n",
      "Heart - Atrial Appendage\n",
      "causal gene\n",
      "ATP1A3\n",
      "UDN ID                                               UDN349230\n",
      "Gene name                                              ATP5F1D\n",
      "HPO_ID       [HP:0000010, HP:0000340, HP:0000364, HP:000047...\n",
      "Name: 25, dtype: object\n",
      "/home/mmendoza/ANEVA/Adina/Tissue_Sensitivity//results_UDN//UDN349230\n"
     ]
    },
    {
     "name": "stderr",
     "output_type": "stream",
     "text": [
      "/home/bkotis/miniconda3/lib/python3.7/site-packages/ipykernel_launcher.py:56: FutureWarning: The 'get_values' method is deprecated and will be removed in a future version. Use '.to_numpy()' or '.array' instead.\n"
     ]
    },
    {
     "name": "stdout",
     "output_type": "stream",
     "text": [
      "phenotype is not in HPO dataset\n",
      "No gene match on GTEx\n"
     ]
    },
    {
     "name": "stderr",
     "output_type": "stream",
     "text": [
      "/home/bkotis/miniconda3/lib/python3.7/site-packages/ipykernel_launcher.py:42: SettingWithCopyWarning: \n",
      "A value is trying to be set on a copy of a slice from a DataFrame.\n",
      "Try using .loc[row_indexer,col_indexer] = value instead\n",
      "\n",
      "See the caveats in the documentation: http://pandas.pydata.org/pandas-docs/stable/user_guide/indexing.html#returning-a-view-versus-a-copy\n",
      "/home/bkotis/miniconda3/lib/python3.7/site-packages/ipykernel_launcher.py:43: SettingWithCopyWarning: \n",
      "A value is trying to be set on a copy of a slice from a DataFrame.\n",
      "Try using .loc[row_indexer,col_indexer] = value instead\n",
      "\n",
      "See the caveats in the documentation: http://pandas.pydata.org/pandas-docs/stable/user_guide/indexing.html#returning-a-view-versus-a-copy\n",
      "/home/bkotis/miniconda3/lib/python3.7/site-packages/ipykernel_launcher.py:72: RuntimeWarning: invalid value encountered in double_scalars\n",
      "/home/bkotis/miniconda3/lib/python3.7/site-packages/ipykernel_launcher.py:73: RuntimeWarning: invalid value encountered in double_scalars\n"
     ]
    },
    {
     "name": "stdout",
     "output_type": "stream",
     "text": [
      "RSE Model\n",
      "nan\n",
      "RSE Baseline\n",
      "nan\n",
      "causal tissue:\n",
      "Adipose - Subcutaneous\n",
      "causal gene\n",
      "ATP5F1D\n",
      "UDN ID                                               UDN601043\n",
      "Gene name                                                AUTS2\n",
      "HPO_ID       [HP:0000256, HP:0000316, HP:0000483, HP:000049...\n",
      "Name: 26, dtype: object\n",
      "/home/mmendoza/ANEVA/Adina/Tissue_Sensitivity//results_UDN//UDN601043\n"
     ]
    },
    {
     "name": "stderr",
     "output_type": "stream",
     "text": [
      "/home/bkotis/miniconda3/lib/python3.7/site-packages/ipykernel_launcher.py:56: FutureWarning: The 'get_values' method is deprecated and will be removed in a future version. Use '.to_numpy()' or '.array' instead.\n"
     ]
    },
    {
     "name": "stdout",
     "output_type": "stream",
     "text": [
      "phenotype is not in HPO dataset\n",
      "RSE Model\n",
      "0.3405415547127594\n",
      "RSE Baseline\n",
      "0.6064953590464028\n",
      "causal tissue:\n",
      "Thyroid\n",
      "causal gene\n",
      "AUTS2\n",
      "UDN ID                                               UDN470632\n",
      "Gene name                                                AUTS2\n",
      "HPO_ID       [HP:0000154, HP:0000215, HP:0000316, HP:000034...\n",
      "Name: 27, dtype: object\n",
      "/home/mmendoza/ANEVA/Adina/Tissue_Sensitivity//results_UDN//UDN470632\n"
     ]
    },
    {
     "name": "stderr",
     "output_type": "stream",
     "text": [
      "/home/bkotis/miniconda3/lib/python3.7/site-packages/ipykernel_launcher.py:56: FutureWarning: The 'get_values' method is deprecated and will be removed in a future version. Use '.to_numpy()' or '.array' instead.\n"
     ]
    },
    {
     "name": "stdout",
     "output_type": "stream",
     "text": [
      "RSE Model\n",
      "0.3244273346586673\n",
      "RSE Baseline\n",
      "0.6064953590464028\n",
      "causal tissue:\n",
      "Thyroid\n",
      "causal gene\n",
      "AUTS2\n",
      "UDN ID                                               UDN594995\n",
      "Gene name                                              C9orf72\n",
      "HPO_ID       [HP:0000713, HP:0000718, HP:0000737, HP:000073...\n",
      "Name: 28, dtype: object\n",
      "/home/mmendoza/ANEVA/Adina/Tissue_Sensitivity//results_UDN//UDN594995\n"
     ]
    },
    {
     "name": "stderr",
     "output_type": "stream",
     "text": [
      "/home/bkotis/miniconda3/lib/python3.7/site-packages/ipykernel_launcher.py:56: FutureWarning: The 'get_values' method is deprecated and will be removed in a future version. Use '.to_numpy()' or '.array' instead.\n"
     ]
    },
    {
     "name": "stdout",
     "output_type": "stream",
     "text": [
      "RSE Model\n",
      "0.4607959947126586\n",
      "RSE Baseline\n",
      "0.7066646850571809\n",
      "causal tissue:\n",
      "Skin - Sun Exposed (Lower leg)\n",
      "causal gene\n",
      "C9orf72\n",
      "UDN ID                                               UDN332414\n",
      "Gene name                                              CACNA1A\n",
      "HPO_ID       [HP:0000486, HP:0000750, HP:0001251, HP:000125...\n",
      "Name: 29, dtype: object\n",
      "/home/mmendoza/ANEVA/Adina/Tissue_Sensitivity//results_UDN//UDN332414\n"
     ]
    },
    {
     "name": "stderr",
     "output_type": "stream",
     "text": [
      "/home/bkotis/miniconda3/lib/python3.7/site-packages/ipykernel_launcher.py:56: FutureWarning: The 'get_values' method is deprecated and will be removed in a future version. Use '.to_numpy()' or '.array' instead.\n"
     ]
    },
    {
     "name": "stdout",
     "output_type": "stream",
     "text": [
      "RSE Model\n",
      "0.5260747513719025\n",
      "RSE Baseline\n",
      "0.6076266741783134\n",
      "causal tissue:\n",
      "Testis\n",
      "causal gene\n",
      "CACNA1A\n",
      "UDN ID                                               UDN101955\n",
      "Gene name                                              CACNA1A\n",
      "HPO_ID       [HP:0000316, HP:0000347, HP:0000431, HP:000052...\n",
      "Name: 30, dtype: object\n",
      "/home/mmendoza/ANEVA/Adina/Tissue_Sensitivity//results_UDN//UDN101955\n"
     ]
    },
    {
     "name": "stderr",
     "output_type": "stream",
     "text": [
      "/home/bkotis/miniconda3/lib/python3.7/site-packages/ipykernel_launcher.py:56: FutureWarning: The 'get_values' method is deprecated and will be removed in a future version. Use '.to_numpy()' or '.array' instead.\n"
     ]
    },
    {
     "name": "stdout",
     "output_type": "stream",
     "text": [
      "phenotype is not in HPO dataset\n",
      "phenotype is not in HPO dataset\n",
      "phenotype is not in HPO dataset\n",
      "phenotype is not in HPO dataset\n",
      "phenotype is not in HPO dataset\n",
      "RSE Model\n",
      "0.5260700342722358\n",
      "RSE Baseline\n",
      "0.6076266741783134\n",
      "causal tissue:\n",
      "Testis\n",
      "causal gene\n",
      "CACNA1A\n",
      "UDN ID                                               UDN944125\n",
      "Gene name                                              CACNA1E\n",
      "HPO_ID       [HP:0000577, HP:0000957, HP:0002019, HP:000202...\n",
      "Name: 31, dtype: object\n",
      "/home/mmendoza/ANEVA/Adina/Tissue_Sensitivity//results_UDN//UDN944125\n"
     ]
    },
    {
     "name": "stderr",
     "output_type": "stream",
     "text": [
      "/home/bkotis/miniconda3/lib/python3.7/site-packages/ipykernel_launcher.py:56: FutureWarning: The 'get_values' method is deprecated and will be removed in a future version. Use '.to_numpy()' or '.array' instead.\n"
     ]
    },
    {
     "name": "stdout",
     "output_type": "stream",
     "text": [
      "RSE Model\n",
      "0.5557414582051634\n",
      "RSE Baseline\n",
      "0.7128145151669097\n",
      "causal tissue:\n",
      "Brain - Cerebellar Hemisphere\n",
      "causal gene\n",
      "CACNA1E\n",
      "UDN ID                                               UDN917837\n",
      "Gene name                                               CAMK2B\n",
      "HPO_ID       [HP:0000252, HP:0001252, HP:0001508, HP:000201...\n",
      "Name: 32, dtype: object\n",
      "/home/mmendoza/ANEVA/Adina/Tissue_Sensitivity//results_UDN//UDN917837\n"
     ]
    },
    {
     "name": "stderr",
     "output_type": "stream",
     "text": [
      "/home/bkotis/miniconda3/lib/python3.7/site-packages/ipykernel_launcher.py:56: FutureWarning: The 'get_values' method is deprecated and will be removed in a future version. Use '.to_numpy()' or '.array' instead.\n"
     ]
    },
    {
     "name": "stdout",
     "output_type": "stream",
     "text": [
      "RSE Model\n",
      "0.5108556189087157\n",
      "RSE Baseline\n",
      "0.6960953866703414\n",
      "causal tissue:\n",
      "Muscle - Skeletal\n",
      "causal gene\n",
      "CAMK2B\n",
      "UDN ID                                               UDN187700\n",
      "Gene name                                               CAMK2B\n",
      "HPO_ID       [HP:0000252, HP:0000407, HP:0000505, HP:000063...\n",
      "Name: 33, dtype: object\n",
      "/home/mmendoza/ANEVA/Adina/Tissue_Sensitivity//results_UDN//UDN187700\n"
     ]
    },
    {
     "name": "stderr",
     "output_type": "stream",
     "text": [
      "/home/bkotis/miniconda3/lib/python3.7/site-packages/ipykernel_launcher.py:56: FutureWarning: The 'get_values' method is deprecated and will be removed in a future version. Use '.to_numpy()' or '.array' instead.\n"
     ]
    },
    {
     "name": "stdout",
     "output_type": "stream",
     "text": [
      "phenotype is not in HPO dataset\n",
      "phenotype is not in HPO dataset\n",
      "RSE Model\n",
      "0.5376890366901304\n",
      "RSE Baseline\n",
      "0.6960953866703414\n",
      "causal tissue:\n",
      "Muscle - Skeletal\n",
      "causal gene\n",
      "CAMK2B\n",
      "UDN ID                                               UDN438933\n",
      "Gene name                                                CAPN1\n",
      "HPO_ID       [HP:0000639, HP:0000666, HP:0001257, HP:000126...\n",
      "Name: 34, dtype: object\n",
      "/home/mmendoza/ANEVA/Adina/Tissue_Sensitivity//results_UDN//UDN438933\n"
     ]
    },
    {
     "name": "stderr",
     "output_type": "stream",
     "text": [
      "/home/bkotis/miniconda3/lib/python3.7/site-packages/ipykernel_launcher.py:56: FutureWarning: The 'get_values' method is deprecated and will be removed in a future version. Use '.to_numpy()' or '.array' instead.\n"
     ]
    },
    {
     "name": "stdout",
     "output_type": "stream",
     "text": [
      "phenotype is not in HPO dataset\n",
      "phenotype is not in HPO dataset\n",
      "phenotype is not in HPO dataset\n",
      "RSE Model\n",
      "0.3519358730994652\n",
      "RSE Baseline\n",
      "0.6351328152727549\n",
      "causal tissue:\n",
      "Muscle - Skeletal\n",
      "causal gene\n",
      "CAPN1\n",
      "UDN ID                                               UDN173261\n",
      "Gene name                                                 CDH2\n",
      "HPO_ID       [HP:0000023, HP:0000135, HP:0000678, HP:000097...\n",
      "Name: 35, dtype: object\n",
      "/home/mmendoza/ANEVA/Adina/Tissue_Sensitivity//results_UDN//UDN173261\n"
     ]
    },
    {
     "name": "stderr",
     "output_type": "stream",
     "text": [
      "/home/bkotis/miniconda3/lib/python3.7/site-packages/ipykernel_launcher.py:56: FutureWarning: The 'get_values' method is deprecated and will be removed in a future version. Use '.to_numpy()' or '.array' instead.\n"
     ]
    },
    {
     "name": "stdout",
     "output_type": "stream",
     "text": [
      "phenotype is not in HPO dataset\n",
      "phenotype is not in HPO dataset\n",
      "RSE Model\n",
      "0.4388942863805296\n",
      "RSE Baseline\n",
      "0.6314263328222813\n",
      "causal tissue:\n",
      "Cells - Cultured fibroblasts\n",
      "causal gene\n",
      "CDH2\n",
      "UDN ID                                               UDN741729\n",
      "Gene name                                                CDK13\n",
      "HPO_ID       [HP:0000081, HP:0000160, HP:0000268, HP:000028...\n",
      "Name: 36, dtype: object\n",
      "/home/mmendoza/ANEVA/Adina/Tissue_Sensitivity//results_UDN//UDN741729\n"
     ]
    },
    {
     "name": "stderr",
     "output_type": "stream",
     "text": [
      "/home/bkotis/miniconda3/lib/python3.7/site-packages/ipykernel_launcher.py:56: FutureWarning: The 'get_values' method is deprecated and will be removed in a future version. Use '.to_numpy()' or '.array' instead.\n"
     ]
    },
    {
     "name": "stdout",
     "output_type": "stream",
     "text": [
      "phenotype is not in HPO dataset\n",
      "RSE Model\n",
      "0.33884662639666374\n",
      "RSE Baseline\n",
      "0.6252919119619552\n",
      "causal tissue:\n",
      "Thyroid\n",
      "causal gene\n",
      "CDK13\n",
      "UDN ID                                               UDN913198\n",
      "Gene name                                                CDK13\n",
      "HPO_ID       [HP:0000273, HP:0000483, HP:0000496, HP:000054...\n",
      "Name: 37, dtype: object\n",
      "/home/mmendoza/ANEVA/Adina/Tissue_Sensitivity//results_UDN//UDN913198\n"
     ]
    },
    {
     "name": "stderr",
     "output_type": "stream",
     "text": [
      "/home/bkotis/miniconda3/lib/python3.7/site-packages/ipykernel_launcher.py:56: FutureWarning: The 'get_values' method is deprecated and will be removed in a future version. Use '.to_numpy()' or '.array' instead.\n"
     ]
    },
    {
     "name": "stdout",
     "output_type": "stream",
     "text": [
      "RSE Model\n",
      "0.3471906755339058\n",
      "RSE Baseline\n",
      "0.6252919119619552\n",
      "causal tissue:\n",
      "Thyroid\n",
      "causal gene\n",
      "CDK13\n",
      "UDN ID                                               UDN137432\n",
      "Gene name                                              CNTNAP1\n",
      "HPO_ID       [HP:0000238, HP:0000268, HP:0000316, HP:000032...\n",
      "Name: 38, dtype: object\n",
      "/home/mmendoza/ANEVA/Adina/Tissue_Sensitivity//results_UDN//UDN137432\n"
     ]
    },
    {
     "name": "stderr",
     "output_type": "stream",
     "text": [
      "/home/bkotis/miniconda3/lib/python3.7/site-packages/ipykernel_launcher.py:56: FutureWarning: The 'get_values' method is deprecated and will be removed in a future version. Use '.to_numpy()' or '.array' instead.\n"
     ]
    },
    {
     "name": "stdout",
     "output_type": "stream",
     "text": [
      "phenotype is not in HPO dataset\n",
      "RSE Model\n",
      "0.40113863703059177\n",
      "RSE Baseline\n",
      "0.6541466701109478\n",
      "causal tissue:\n",
      "Nerve - Tibial\n",
      "causal gene\n",
      "CNTNAP1\n",
      "UDN ID                                               UDN346231\n",
      "Gene name                                               COL2A1\n",
      "HPO_ID       [HP:0000175, HP:0000194, HP:0000220, HP:000027...\n",
      "Name: 39, dtype: object\n",
      "/home/mmendoza/ANEVA/Adina/Tissue_Sensitivity//results_UDN//UDN346231\n"
     ]
    },
    {
     "name": "stderr",
     "output_type": "stream",
     "text": [
      "/home/bkotis/miniconda3/lib/python3.7/site-packages/ipykernel_launcher.py:56: FutureWarning: The 'get_values' method is deprecated and will be removed in a future version. Use '.to_numpy()' or '.array' instead.\n"
     ]
    },
    {
     "name": "stdout",
     "output_type": "stream",
     "text": [
      "phenotype is not in HPO dataset\n",
      "phenotype is not in HPO dataset\n",
      "phenotype is not in HPO dataset\n",
      "phenotype is not in HPO dataset\n",
      "phenotype is not in HPO dataset\n",
      "RSE Model\n",
      "0.560950823342136\n",
      "RSE Baseline\n",
      "0.6526896307494306\n",
      "causal tissue:\n",
      "Testis\n",
      "causal gene\n",
      "COL2A1\n",
      "UDN ID                                               UDN412782\n",
      "Gene name                                               COL4A1\n",
      "HPO_ID       [HP:0000641, HP:0000651, HP:0000716, HP:000082...\n",
      "Name: 40, dtype: object\n",
      "/home/mmendoza/ANEVA/Adina/Tissue_Sensitivity//results_UDN//UDN412782\n"
     ]
    },
    {
     "name": "stderr",
     "output_type": "stream",
     "text": [
      "/home/bkotis/miniconda3/lib/python3.7/site-packages/ipykernel_launcher.py:56: FutureWarning: The 'get_values' method is deprecated and will be removed in a future version. Use '.to_numpy()' or '.array' instead.\n"
     ]
    },
    {
     "name": "stdout",
     "output_type": "stream",
     "text": [
      "RSE Model\n",
      "0.38801303018247296\n",
      "RSE Baseline\n",
      "0.629878539400674\n",
      "causal tissue:\n",
      "Skin - Sun Exposed (Lower leg)\n",
      "causal gene\n",
      "COL4A1\n",
      "UDN ID                                               UDN212641\n",
      "Gene name                                               COL6A1\n",
      "HPO_ID       [HP:0000028, HP:0001290, HP:0001324, HP:000137...\n",
      "Name: 41, dtype: object\n",
      "/home/mmendoza/ANEVA/Adina/Tissue_Sensitivity//results_UDN//UDN212641\n"
     ]
    },
    {
     "name": "stderr",
     "output_type": "stream",
     "text": [
      "/home/bkotis/miniconda3/lib/python3.7/site-packages/ipykernel_launcher.py:56: FutureWarning: The 'get_values' method is deprecated and will be removed in a future version. Use '.to_numpy()' or '.array' instead.\n"
     ]
    },
    {
     "name": "stdout",
     "output_type": "stream",
     "text": [
      "RSE Model\n",
      "0.3815919996991835\n",
      "RSE Baseline\n",
      "0.6779158741903326\n",
      "causal tissue:\n",
      "Muscle - Skeletal\n",
      "causal gene\n",
      "COL6A1\n",
      "UDN ID                                               UDN838396\n",
      "Gene name                                               COL6A1\n",
      "HPO_ID       [HP:0000717, HP:0000750, HP:0000817, HP:000095...\n",
      "Name: 42, dtype: object\n",
      "/home/mmendoza/ANEVA/Adina/Tissue_Sensitivity//results_UDN//UDN838396\n"
     ]
    },
    {
     "name": "stderr",
     "output_type": "stream",
     "text": [
      "/home/bkotis/miniconda3/lib/python3.7/site-packages/ipykernel_launcher.py:56: FutureWarning: The 'get_values' method is deprecated and will be removed in a future version. Use '.to_numpy()' or '.array' instead.\n"
     ]
    },
    {
     "name": "stdout",
     "output_type": "stream",
     "text": [
      "phenotype is not in HPO dataset\n",
      "RSE Model\n",
      "0.4132354782027437\n",
      "RSE Baseline\n",
      "0.6779158741903326\n",
      "causal tissue:\n",
      "Muscle - Skeletal\n",
      "causal gene\n",
      "COL6A1\n",
      "UDN ID                                               UDN422465\n",
      "Gene name                                               COL6A1\n",
      "HPO_ID       [HP:0000011, HP:0000189, HP:0000256, HP:000047...\n",
      "Name: 43, dtype: object\n",
      "/home/mmendoza/ANEVA/Adina/Tissue_Sensitivity//results_UDN//UDN422465\n"
     ]
    },
    {
     "name": "stderr",
     "output_type": "stream",
     "text": [
      "/home/bkotis/miniconda3/lib/python3.7/site-packages/ipykernel_launcher.py:56: FutureWarning: The 'get_values' method is deprecated and will be removed in a future version. Use '.to_numpy()' or '.array' instead.\n"
     ]
    },
    {
     "name": "stdout",
     "output_type": "stream",
     "text": [
      "RSE Model\n",
      "0.4414853856179615\n",
      "RSE Baseline\n",
      "0.6779158741903326\n",
      "causal tissue:\n",
      "Muscle - Skeletal\n",
      "causal gene\n",
      "COL6A1\n",
      "UDN ID                                               UDN127349\n",
      "Gene name                                               COL7A1\n",
      "HPO_ID       [HP:0000028, HP:0000212, HP:0001513, HP:000321...\n",
      "Name: 44, dtype: object\n",
      "/home/mmendoza/ANEVA/Adina/Tissue_Sensitivity//results_UDN//UDN127349\n"
     ]
    },
    {
     "name": "stderr",
     "output_type": "stream",
     "text": [
      "/home/bkotis/miniconda3/lib/python3.7/site-packages/ipykernel_launcher.py:56: FutureWarning: The 'get_values' method is deprecated and will be removed in a future version. Use '.to_numpy()' or '.array' instead.\n"
     ]
    },
    {
     "name": "stdout",
     "output_type": "stream",
     "text": [
      "RSE Model\n",
      "0.4191469538705231\n",
      "RSE Baseline\n",
      "0.6476162515127145\n",
      "causal tissue:\n",
      "Skin - Not Sun Exposed (Suprapubic)\n",
      "causal gene\n",
      "COL7A1\n",
      "UDN ID                                               UDN208608\n",
      "Gene name                                               CTNNB1\n",
      "HPO_ID       [HP:0000218, HP:0000232, HP:0000252, HP:000036...\n",
      "Name: 45, dtype: object\n",
      "/home/mmendoza/ANEVA/Adina/Tissue_Sensitivity//results_UDN//UDN208608\n"
     ]
    },
    {
     "name": "stderr",
     "output_type": "stream",
     "text": [
      "/home/bkotis/miniconda3/lib/python3.7/site-packages/ipykernel_launcher.py:56: FutureWarning: The 'get_values' method is deprecated and will be removed in a future version. Use '.to_numpy()' or '.array' instead.\n"
     ]
    },
    {
     "name": "stdout",
     "output_type": "stream",
     "text": [
      "phenotype is not in HPO dataset\n",
      "RSE Model\n",
      "0.4434482919980112\n",
      "RSE Baseline\n",
      "0.6978149215773706\n",
      "causal tissue:\n",
      "Muscle - Skeletal\n",
      "causal gene\n",
      "CTNNB1\n",
      "UDN ID                                               UDN096308\n",
      "Gene name                                                  DDC\n",
      "HPO_ID       [HP:0000020, HP:0000340, HP:0000347, HP:000035...\n",
      "Name: 46, dtype: object\n",
      "/home/mmendoza/ANEVA/Adina/Tissue_Sensitivity//results_UDN//UDN096308\n"
     ]
    },
    {
     "name": "stderr",
     "output_type": "stream",
     "text": [
      "/home/bkotis/miniconda3/lib/python3.7/site-packages/ipykernel_launcher.py:56: FutureWarning: The 'get_values' method is deprecated and will be removed in a future version. Use '.to_numpy()' or '.array' instead.\n"
     ]
    },
    {
     "name": "stdout",
     "output_type": "stream",
     "text": [
      "RSE Model\n",
      "0.9220579754851278\n",
      "RSE Baseline\n",
      "0.7506582000278554\n",
      "causal tissue:\n",
      "Small Intestine - Terminal Ileum\n",
      "causal gene\n",
      "DDC\n",
      "UDN ID                                               UDN083471\n",
      "Gene name                                                DDX3X\n",
      "HPO_ID       [HP:0000104, HP:0000252, HP:0000369, HP:000040...\n",
      "Name: 47, dtype: object\n",
      "/home/mmendoza/ANEVA/Adina/Tissue_Sensitivity//results_UDN//UDN083471\n"
     ]
    },
    {
     "name": "stderr",
     "output_type": "stream",
     "text": [
      "/home/bkotis/miniconda3/lib/python3.7/site-packages/ipykernel_launcher.py:56: FutureWarning: The 'get_values' method is deprecated and will be removed in a future version. Use '.to_numpy()' or '.array' instead.\n"
     ]
    },
    {
     "name": "stdout",
     "output_type": "stream",
     "text": [
      "RSE Model\n",
      "0.3753965612883206\n",
      "RSE Baseline\n",
      "0.6629059883791822\n",
      "causal tissue:\n",
      "Muscle - Skeletal\n",
      "causal gene\n",
      "DDX3X\n",
      "UDN ID                                               UDN479020\n",
      "Gene name                                                  DES\n",
      "HPO_ID       [HP:0000597, HP:0001252, HP:0001270, HP:000148...\n",
      "Name: 48, dtype: object\n",
      "/home/mmendoza/ANEVA/Adina/Tissue_Sensitivity//results_UDN//UDN479020\n"
     ]
    },
    {
     "name": "stderr",
     "output_type": "stream",
     "text": [
      "/home/bkotis/miniconda3/lib/python3.7/site-packages/ipykernel_launcher.py:56: FutureWarning: The 'get_values' method is deprecated and will be removed in a future version. Use '.to_numpy()' or '.array' instead.\n"
     ]
    },
    {
     "name": "stdout",
     "output_type": "stream",
     "text": [
      "RSE Model\n",
      "0.29498684945364134\n",
      "RSE Baseline\n",
      "0.5734737840389277\n",
      "causal tissue:\n",
      "Artery - Tibial\n",
      "causal gene\n",
      "DES\n",
      "UDN ID                                               UDN362042\n",
      "Gene name                                                  DMD\n",
      "HPO_ID       [HP:0000518, HP:0001250, HP:0001263, HP:000164...\n",
      "Name: 49, dtype: object\n",
      "/home/mmendoza/ANEVA/Adina/Tissue_Sensitivity//results_UDN//UDN362042\n"
     ]
    },
    {
     "name": "stderr",
     "output_type": "stream",
     "text": [
      "/home/bkotis/miniconda3/lib/python3.7/site-packages/ipykernel_launcher.py:56: FutureWarning: The 'get_values' method is deprecated and will be removed in a future version. Use '.to_numpy()' or '.array' instead.\n"
     ]
    },
    {
     "name": "stdout",
     "output_type": "stream",
     "text": [
      "RSE Model\n",
      "0.32614730431812017\n",
      "RSE Baseline\n",
      "0.6180561420306543\n",
      "causal tissue:\n",
      "Artery - Tibial\n",
      "causal gene\n",
      "DMD\n",
      "UDN ID                                               UDN520173\n",
      "Gene name                                               DNAH11\n",
      "HPO_ID       [HP:0000172, HP:0000218, HP:0000256, HP:000036...\n",
      "Name: 50, dtype: object\n",
      "/home/mmendoza/ANEVA/Adina/Tissue_Sensitivity//results_UDN//UDN520173\n"
     ]
    },
    {
     "name": "stderr",
     "output_type": "stream",
     "text": [
      "/home/bkotis/miniconda3/lib/python3.7/site-packages/ipykernel_launcher.py:56: FutureWarning: The 'get_values' method is deprecated and will be removed in a future version. Use '.to_numpy()' or '.array' instead.\n"
     ]
    },
    {
     "name": "stdout",
     "output_type": "stream",
     "text": [
      "phenotype is not in HPO dataset\n",
      "phenotype is not in HPO dataset\n",
      "phenotype is not in HPO dataset\n",
      "RSE Model\n",
      "0.5960211532038858\n",
      "RSE Baseline\n",
      "0.5996789021042637\n",
      "causal tissue:\n",
      "Adrenal Gland\n",
      "causal gene\n",
      "DNAH11\n",
      "UDN ID                                               UDN407919\n",
      "Gene name                                                  DSP\n",
      "HPO_ID       [HP:0001638, HP:0005162, HP:0011675, HP:010074...\n",
      "Name: 51, dtype: object\n",
      "/home/mmendoza/ANEVA/Adina/Tissue_Sensitivity//results_UDN//UDN407919\n",
      "phenotype is not in HPO dataset\n"
     ]
    },
    {
     "name": "stderr",
     "output_type": "stream",
     "text": [
      "/home/bkotis/miniconda3/lib/python3.7/site-packages/ipykernel_launcher.py:56: FutureWarning: The 'get_values' method is deprecated and will be removed in a future version. Use '.to_numpy()' or '.array' instead.\n"
     ]
    },
    {
     "name": "stdout",
     "output_type": "stream",
     "text": [
      "RSE Model\n",
      "0.428111492198905\n",
      "RSE Baseline\n",
      "0.6341311715795943\n",
      "causal tissue:\n",
      "Skin - Not Sun Exposed (Suprapubic)\n",
      "causal gene\n",
      "DSP\n",
      "UDN ID                                               UDN881997\n",
      "Gene name                                              DYNC1H1\n",
      "HPO_ID       [HP:0001382, HP:0002136, HP:0002362, HP:000251...\n",
      "Name: 52, dtype: object\n",
      "/home/mmendoza/ANEVA/Adina/Tissue_Sensitivity//results_UDN//UDN881997\n"
     ]
    },
    {
     "name": "stderr",
     "output_type": "stream",
     "text": [
      "/home/bkotis/miniconda3/lib/python3.7/site-packages/ipykernel_launcher.py:56: FutureWarning: The 'get_values' method is deprecated and will be removed in a future version. Use '.to_numpy()' or '.array' instead.\n"
     ]
    },
    {
     "name": "stdout",
     "output_type": "stream",
     "text": [
      "RSE Model\n",
      "0.35182905923795915\n",
      "RSE Baseline\n",
      "0.6523769283294143\n",
      "causal tissue:\n",
      "Muscle - Skeletal\n",
      "causal gene\n",
      "DYNC1H1\n",
      "UDN ID                                               UDN892331\n",
      "Gene name                                              DYNC1H1\n",
      "HPO_ID       [HP:0000252, HP:0000286, HP:0000486, HP:000051...\n",
      "Name: 53, dtype: object\n",
      "/home/mmendoza/ANEVA/Adina/Tissue_Sensitivity//results_UDN//UDN892331\n"
     ]
    },
    {
     "name": "stderr",
     "output_type": "stream",
     "text": [
      "/home/bkotis/miniconda3/lib/python3.7/site-packages/ipykernel_launcher.py:56: FutureWarning: The 'get_values' method is deprecated and will be removed in a future version. Use '.to_numpy()' or '.array' instead.\n"
     ]
    },
    {
     "name": "stdout",
     "output_type": "stream",
     "text": [
      "RSE Model\n",
      "0.3878225480557693\n",
      "RSE Baseline\n",
      "0.6523769283294143\n",
      "causal tissue:\n",
      "Muscle - Skeletal\n",
      "causal gene\n",
      "DYNC1H1\n",
      "UDN ID                                               UDN268164\n",
      "Gene name                                               DYRK1A\n",
      "HPO_ID       [HP:0000252, HP:0000322, HP:0000325, HP:000034...\n",
      "Name: 54, dtype: object\n",
      "/home/mmendoza/ANEVA/Adina/Tissue_Sensitivity//results_UDN//UDN268164\n"
     ]
    },
    {
     "name": "stderr",
     "output_type": "stream",
     "text": [
      "/home/bkotis/miniconda3/lib/python3.7/site-packages/ipykernel_launcher.py:56: FutureWarning: The 'get_values' method is deprecated and will be removed in a future version. Use '.to_numpy()' or '.array' instead.\n"
     ]
    },
    {
     "name": "stdout",
     "output_type": "stream",
     "text": [
      "phenotype is not in HPO dataset\n",
      "phenotype is not in HPO dataset\n",
      "phenotype is not in HPO dataset\n",
      "phenotype is not in HPO dataset\n",
      "phenotype is not in HPO dataset\n",
      "phenotype is not in HPO dataset\n",
      "RSE Model\n",
      "0.3244293342134641\n",
      "RSE Baseline\n",
      "0.6129305854923257\n",
      "causal tissue:\n",
      "Muscle - Skeletal\n",
      "causal gene\n",
      "DYRK1A\n",
      "UDN ID                                               UDN491597\n",
      "Gene name                                                 EBF3\n",
      "HPO_ID       [HP:0000020, HP:0000028, HP:0000054, HP:000026...\n",
      "Name: 55, dtype: object\n",
      "/home/mmendoza/ANEVA/Adina/Tissue_Sensitivity//results_UDN//UDN491597\n"
     ]
    },
    {
     "name": "stderr",
     "output_type": "stream",
     "text": [
      "/home/bkotis/miniconda3/lib/python3.7/site-packages/ipykernel_launcher.py:56: FutureWarning: The 'get_values' method is deprecated and will be removed in a future version. Use '.to_numpy()' or '.array' instead.\n"
     ]
    },
    {
     "name": "stdout",
     "output_type": "stream",
     "text": [
      "phenotype is not in HPO dataset\n",
      "phenotype is not in HPO dataset\n",
      "RSE Model\n",
      "0.8558803175904104\n",
      "RSE Baseline\n",
      "0.7788285652151175\n",
      "causal tissue:\n",
      "Muscle - Skeletal\n",
      "causal gene\n",
      "EBF3\n",
      "UDN ID                                               UDN422144\n",
      "Gene name                                               EEF1A2\n",
      "HPO_ID       [HP:0000011, HP:0000016, HP:0000076, HP:000007...\n",
      "Name: 56, dtype: object\n",
      "/home/mmendoza/ANEVA/Adina/Tissue_Sensitivity//results_UDN//UDN422144\n"
     ]
    },
    {
     "name": "stderr",
     "output_type": "stream",
     "text": [
      "/home/bkotis/miniconda3/lib/python3.7/site-packages/ipykernel_launcher.py:56: FutureWarning: The 'get_values' method is deprecated and will be removed in a future version. Use '.to_numpy()' or '.array' instead.\n"
     ]
    },
    {
     "name": "stdout",
     "output_type": "stream",
     "text": [
      "RSE Model\n",
      "0.4071032774648767\n",
      "RSE Baseline\n",
      "0.6363423349539811\n",
      "causal tissue:\n",
      "Muscle - Skeletal\n",
      "causal gene\n",
      "EEF1A2\n",
      "UDN ID                                               UDN887509\n",
      "Gene name                                                 EFL1\n",
      "HPO_ID       [HP:0000545, HP:0000670, HP:0000790, HP:000132...\n",
      "Name: 57, dtype: object\n",
      "/home/mmendoza/ANEVA/Adina/Tissue_Sensitivity//results_UDN//UDN887509\n"
     ]
    },
    {
     "name": "stderr",
     "output_type": "stream",
     "text": [
      "/home/bkotis/miniconda3/lib/python3.7/site-packages/ipykernel_launcher.py:56: FutureWarning: The 'get_values' method is deprecated and will be removed in a future version. Use '.to_numpy()' or '.array' instead.\n"
     ]
    },
    {
     "name": "stdout",
     "output_type": "stream",
     "text": [
      "RSE Model\n",
      "0.3960377735326656\n",
      "RSE Baseline\n",
      "0.6434613751237459\n",
      "causal tissue:\n",
      "Skin - Sun Exposed (Lower leg)\n",
      "causal gene\n",
      "EFL1\n",
      "UDN ID                                               UDN905551\n",
      "Gene name                                               EFTUD2\n",
      "HPO_ID       [HP:0000252, HP:0000347, HP:0000369, HP:000041...\n",
      "Name: 58, dtype: object\n",
      "/home/mmendoza/ANEVA/Adina/Tissue_Sensitivity//results_UDN//UDN905551\n"
     ]
    },
    {
     "name": "stderr",
     "output_type": "stream",
     "text": [
      "/home/bkotis/miniconda3/lib/python3.7/site-packages/ipykernel_launcher.py:56: FutureWarning: The 'get_values' method is deprecated and will be removed in a future version. Use '.to_numpy()' or '.array' instead.\n"
     ]
    },
    {
     "name": "stdout",
     "output_type": "stream",
     "text": [
      "RSE Model\n",
      "0.39759373102905043\n",
      "RSE Baseline\n",
      "0.6490592886748298\n",
      "causal tissue:\n",
      "Muscle - Skeletal\n",
      "causal gene\n",
      "EFTUD2\n",
      "UDN ID                                               UDN617957\n",
      "Gene name                                                EHMT1\n",
      "HPO_ID       [HP:0000011, HP:0000132, HP:0000138, HP:000014...\n",
      "Name: 59, dtype: object\n",
      "/home/mmendoza/ANEVA/Adina/Tissue_Sensitivity//results_UDN//UDN617957\n"
     ]
    },
    {
     "name": "stderr",
     "output_type": "stream",
     "text": [
      "/home/bkotis/miniconda3/lib/python3.7/site-packages/ipykernel_launcher.py:56: FutureWarning: The 'get_values' method is deprecated and will be removed in a future version. Use '.to_numpy()' or '.array' instead.\n"
     ]
    },
    {
     "name": "stdout",
     "output_type": "stream",
     "text": [
      "phenotype is not in HPO dataset\n",
      "phenotype is not in HPO dataset\n",
      "RSE Model\n",
      "0.41920458441311176\n",
      "RSE Baseline\n",
      "0.655286058060782\n",
      "causal tissue:\n",
      "Muscle - Skeletal\n",
      "causal gene\n",
      "EHMT1\n",
      "UDN ID                                               UDN587784\n",
      "Gene name                                                  ENG\n",
      "HPO_ID       [HP:0000252, HP:0000322, HP:0000938, HP:000096...\n",
      "Name: 60, dtype: object\n",
      "/home/mmendoza/ANEVA/Adina/Tissue_Sensitivity//results_UDN//UDN587784\n"
     ]
    },
    {
     "name": "stderr",
     "output_type": "stream",
     "text": [
      "/home/bkotis/miniconda3/lib/python3.7/site-packages/ipykernel_launcher.py:56: FutureWarning: The 'get_values' method is deprecated and will be removed in a future version. Use '.to_numpy()' or '.array' instead.\n"
     ]
    },
    {
     "name": "stdout",
     "output_type": "stream",
     "text": [
      "RSE Model\n",
      "0.3437896357891766\n",
      "RSE Baseline\n",
      "0.5992142516870556\n",
      "causal tissue:\n",
      "Artery - Tibial\n",
      "causal gene\n",
      "ENG\n",
      "UDN ID                                               UDN590241\n",
      "Gene name                                                 FA2H\n",
      "HPO_ID       [HP:0000011, HP:0000358, HP:0000750, HP:000125...\n",
      "Name: 61, dtype: object\n",
      "/home/mmendoza/ANEVA/Adina/Tissue_Sensitivity//results_UDN//UDN590241\n"
     ]
    },
    {
     "name": "stderr",
     "output_type": "stream",
     "text": [
      "/home/bkotis/miniconda3/lib/python3.7/site-packages/ipykernel_launcher.py:56: FutureWarning: The 'get_values' method is deprecated and will be removed in a future version. Use '.to_numpy()' or '.array' instead.\n"
     ]
    },
    {
     "name": "stdout",
     "output_type": "stream",
     "text": [
      "phenotype is not in HPO dataset\n",
      "phenotype is not in HPO dataset\n",
      "RSE Model\n",
      "0.39775835127641795\n",
      "RSE Baseline\n",
      "0.5587721772719695\n",
      "causal tissue:\n",
      "Nerve - Tibial\n",
      "causal gene\n",
      "FA2H\n",
      "UDN ID                                               UDN678205\n",
      "Gene name                                                  FAS\n",
      "HPO_ID       [HP:0001744, HP:0002315, HP:0002574, HP:000271...\n",
      "Name: 62, dtype: object\n",
      "/home/mmendoza/ANEVA/Adina/Tissue_Sensitivity//results_UDN//UDN678205\n"
     ]
    },
    {
     "name": "stderr",
     "output_type": "stream",
     "text": [
      "/home/bkotis/miniconda3/lib/python3.7/site-packages/ipykernel_launcher.py:56: FutureWarning: The 'get_values' method is deprecated and will be removed in a future version. Use '.to_numpy()' or '.array' instead.\n"
     ]
    },
    {
     "name": "stdout",
     "output_type": "stream",
     "text": [
      "RSE Model\n",
      "0.4397847527436544\n",
      "RSE Baseline\n",
      "0.6536273858418448\n",
      "causal tissue:\n",
      "Nerve - Tibial\n",
      "causal gene\n",
      "FAS\n",
      "UDN ID                                               UDN181010\n",
      "Gene name                                                 FAT4\n",
      "HPO_ID       [HP:0000028, HP:0000054, HP:0000218, HP:000031...\n",
      "Name: 63, dtype: object\n",
      "/home/mmendoza/ANEVA/Adina/Tissue_Sensitivity//results_UDN//UDN181010\n"
     ]
    },
    {
     "name": "stderr",
     "output_type": "stream",
     "text": [
      "/home/bkotis/miniconda3/lib/python3.7/site-packages/ipykernel_launcher.py:56: FutureWarning: The 'get_values' method is deprecated and will be removed in a future version. Use '.to_numpy()' or '.array' instead.\n"
     ]
    },
    {
     "name": "stdout",
     "output_type": "stream",
     "text": [
      "phenotype is not in HPO dataset\n",
      "RSE Model\n",
      "0.3290081423413254\n",
      "RSE Baseline\n",
      "0.6147711735241382\n",
      "causal tissue:\n",
      "Thyroid\n",
      "causal gene\n",
      "FAT4\n",
      "UDN ID                                               UDN338723\n",
      "Gene name                                                 FBN1\n",
      "HPO_ID       [HP:0000023, HP:0000121, HP:0000256, HP:000026...\n",
      "Name: 64, dtype: object\n",
      "/home/mmendoza/ANEVA/Adina/Tissue_Sensitivity//results_UDN//UDN338723\n"
     ]
    },
    {
     "name": "stderr",
     "output_type": "stream",
     "text": [
      "/home/bkotis/miniconda3/lib/python3.7/site-packages/ipykernel_launcher.py:56: FutureWarning: The 'get_values' method is deprecated and will be removed in a future version. Use '.to_numpy()' or '.array' instead.\n"
     ]
    },
    {
     "name": "stdout",
     "output_type": "stream",
     "text": [
      "phenotype is not in HPO dataset\n",
      "RSE Model\n",
      "0.37765312024529546\n",
      "RSE Baseline\n",
      "0.6271483564633971\n",
      "causal tissue:\n",
      "Muscle - Skeletal\n",
      "causal gene\n",
      "FBN1\n",
      "UDN ID                                               UDN676680\n",
      "Gene name                                                 FBN1\n",
      "HPO_ID       [HP:0000219, HP:0000272, HP:0000319, HP:000034...\n",
      "Name: 65, dtype: object\n",
      "/home/mmendoza/ANEVA/Adina/Tissue_Sensitivity//results_UDN//UDN676680\n"
     ]
    },
    {
     "name": "stderr",
     "output_type": "stream",
     "text": [
      "/home/bkotis/miniconda3/lib/python3.7/site-packages/ipykernel_launcher.py:56: FutureWarning: The 'get_values' method is deprecated and will be removed in a future version. Use '.to_numpy()' or '.array' instead.\n"
     ]
    },
    {
     "name": "stdout",
     "output_type": "stream",
     "text": [
      "phenotype is not in HPO dataset\n",
      "RSE Model\n",
      "0.3622558250169663\n",
      "RSE Baseline\n",
      "0.6271483564633971\n",
      "causal tissue:\n",
      "Muscle - Skeletal\n",
      "causal gene\n",
      "FBN1\n",
      "UDN ID                                               UDN209802\n",
      "Gene name                                               FBXO11\n",
      "HPO_ID       [HP:0000540, HP:0000565, HP:0000579, HP:000126...\n",
      "Name: 66, dtype: object\n",
      "/home/mmendoza/ANEVA/Adina/Tissue_Sensitivity//results_UDN//UDN209802\n"
     ]
    },
    {
     "name": "stderr",
     "output_type": "stream",
     "text": [
      "/home/bkotis/miniconda3/lib/python3.7/site-packages/ipykernel_launcher.py:56: FutureWarning: The 'get_values' method is deprecated and will be removed in a future version. Use '.to_numpy()' or '.array' instead.\n"
     ]
    },
    {
     "name": "stdout",
     "output_type": "stream",
     "text": [
      "RSE Model\n",
      "0.3613560047798698\n",
      "RSE Baseline\n",
      "0.6356459017202752\n",
      "causal tissue:\n",
      "Artery - Tibial\n",
      "causal gene\n",
      "FBXO11\n",
      "UDN ID                                  UDN644400\n",
      "Gene name                                   FGF12\n",
      "HPO_ID       [HP:0000750, HP:0001250, HP:0002069]\n",
      "Name: 67, dtype: object\n",
      "/home/mmendoza/ANEVA/Adina/Tissue_Sensitivity//results_UDN//UDN644400\n"
     ]
    },
    {
     "name": "stderr",
     "output_type": "stream",
     "text": [
      "/home/bkotis/miniconda3/lib/python3.7/site-packages/ipykernel_launcher.py:56: FutureWarning: The 'get_values' method is deprecated and will be removed in a future version. Use '.to_numpy()' or '.array' instead.\n"
     ]
    },
    {
     "name": "stdout",
     "output_type": "stream",
     "text": [
      "RSE Model\n",
      "0.7199829408234525\n",
      "RSE Baseline\n",
      "0.7504458474571207\n",
      "causal tissue:\n",
      "Brain - Cortex\n",
      "causal gene\n",
      "FGF12\n",
      "UDN ID                                               UDN896870\n",
      "Gene name                                                 FKRP\n",
      "HPO_ID       [HP:0000360, HP:0000545, HP:0001166, HP:000138...\n",
      "Name: 68, dtype: object\n",
      "/home/mmendoza/ANEVA/Adina/Tissue_Sensitivity//results_UDN//UDN896870\n"
     ]
    },
    {
     "name": "stderr",
     "output_type": "stream",
     "text": [
      "/home/bkotis/miniconda3/lib/python3.7/site-packages/ipykernel_launcher.py:56: FutureWarning: The 'get_values' method is deprecated and will be removed in a future version. Use '.to_numpy()' or '.array' instead.\n"
     ]
    },
    {
     "name": "stdout",
     "output_type": "stream",
     "text": [
      "phenotype is not in HPO dataset\n",
      "RSE Model\n",
      "0.5207133993406549\n",
      "RSE Baseline\n",
      "0.7154768017767114\n",
      "causal tissue:\n",
      "Adipose - Subcutaneous\n",
      "causal gene\n",
      "FKRP\n",
      "UDN ID                                              UDN462335\n",
      "Gene name                                                 FLG\n",
      "HPO_ID       [HP:0001047, HP:0002829, HP:0010783, HP:0011123]\n",
      "Name: 69, dtype: object\n",
      "/home/mmendoza/ANEVA/Adina/Tissue_Sensitivity//results_UDN//UDN462335\n"
     ]
    },
    {
     "name": "stderr",
     "output_type": "stream",
     "text": [
      "/home/bkotis/miniconda3/lib/python3.7/site-packages/ipykernel_launcher.py:56: FutureWarning: The 'get_values' method is deprecated and will be removed in a future version. Use '.to_numpy()' or '.array' instead.\n"
     ]
    },
    {
     "name": "stdout",
     "output_type": "stream",
     "text": [
      "RSE Model\n",
      "0.756500278623438\n",
      "RSE Baseline\n",
      "0.6149928658085191\n",
      "causal tissue:\n",
      "Skin - Not Sun Exposed (Suprapubic)\n",
      "causal gene\n",
      "FLG\n",
      "UDN ID                                               UDN559180\n",
      "Gene name                                                  FLG\n",
      "HPO_ID       [HP:0000964, HP:0000988, HP:0001047, HP:000150...\n",
      "Name: 70, dtype: object\n",
      "/home/mmendoza/ANEVA/Adina/Tissue_Sensitivity//results_UDN//UDN559180\n"
     ]
    },
    {
     "name": "stderr",
     "output_type": "stream",
     "text": [
      "/home/bkotis/miniconda3/lib/python3.7/site-packages/ipykernel_launcher.py:56: FutureWarning: The 'get_values' method is deprecated and will be removed in a future version. Use '.to_numpy()' or '.array' instead.\n"
     ]
    },
    {
     "name": "stdout",
     "output_type": "stream",
     "text": [
      "RSE Model\n",
      "0.7904014641390196\n",
      "RSE Baseline\n",
      "0.6149928658085191\n",
      "causal tissue:\n",
      "Skin - Not Sun Exposed (Suprapubic)\n",
      "causal gene\n",
      "FLG\n",
      "UDN ID                                               UDN671572\n",
      "Gene name                                                FOXG1\n",
      "HPO_ID       [HP:0000010, HP:0000252, HP:0000411, HP:000048...\n",
      "Name: 71, dtype: object\n",
      "/home/mmendoza/ANEVA/Adina/Tissue_Sensitivity//results_UDN//UDN671572\n"
     ]
    },
    {
     "name": "stderr",
     "output_type": "stream",
     "text": [
      "/home/bkotis/miniconda3/lib/python3.7/site-packages/ipykernel_launcher.py:56: FutureWarning: The 'get_values' method is deprecated and will be removed in a future version. Use '.to_numpy()' or '.array' instead.\n"
     ]
    },
    {
     "name": "stdout",
     "output_type": "stream",
     "text": [
      "RSE Model\n",
      "0.8406602024689586\n",
      "RSE Baseline\n",
      "0.7265741040741458\n",
      "causal tissue:\n",
      "Brain - Nucleus accumbens (basal ganglia)\n",
      "causal gene\n",
      "FOXG1\n",
      "UDN ID                                               UDN358552\n",
      "Gene name                                                FOXG1\n",
      "HPO_ID       [HP:0000252, HP:0000286, HP:0000437, HP:000056...\n",
      "Name: 72, dtype: object\n",
      "/home/mmendoza/ANEVA/Adina/Tissue_Sensitivity//results_UDN//UDN358552\n"
     ]
    },
    {
     "name": "stderr",
     "output_type": "stream",
     "text": [
      "/home/bkotis/miniconda3/lib/python3.7/site-packages/ipykernel_launcher.py:56: FutureWarning: The 'get_values' method is deprecated and will be removed in a future version. Use '.to_numpy()' or '.array' instead.\n"
     ]
    },
    {
     "name": "stdout",
     "output_type": "stream",
     "text": [
      "RSE Model\n",
      "0.8824073154010785\n",
      "RSE Baseline\n",
      "0.7265741040741458\n",
      "causal tissue:\n",
      "Brain - Nucleus accumbens (basal ganglia)\n",
      "causal gene\n",
      "FOXG1\n",
      "UDN ID                                               UDN553376\n",
      "Gene name                                               GABRB2\n",
      "HPO_ID       [HP:0000126, HP:0000218, HP:0000252, HP:000028...\n",
      "Name: 73, dtype: object\n",
      "/home/mmendoza/ANEVA/Adina/Tissue_Sensitivity//results_UDN//UDN553376\n"
     ]
    },
    {
     "name": "stderr",
     "output_type": "stream",
     "text": [
      "/home/bkotis/miniconda3/lib/python3.7/site-packages/ipykernel_launcher.py:56: FutureWarning: The 'get_values' method is deprecated and will be removed in a future version. Use '.to_numpy()' or '.array' instead.\n"
     ]
    },
    {
     "name": "stdout",
     "output_type": "stream",
     "text": [
      "phenotype is not in HPO dataset\n",
      "phenotype is not in HPO dataset\n",
      "RSE Model\n",
      "1.326307008057475\n",
      "RSE Baseline\n",
      "0.9227966815465783\n",
      "causal tissue:\n",
      "Brain - Anterior cingulate cortex (BA24)\n",
      "causal gene\n",
      "GABRB2\n",
      "UDN ID                                               UDN308376\n",
      "Gene name                                               GABRG2\n",
      "HPO_ID       [HP:0000003, HP:0000076, HP:0000154, HP:000017...\n",
      "Name: 74, dtype: object\n",
      "/home/mmendoza/ANEVA/Adina/Tissue_Sensitivity//results_UDN//UDN308376\n"
     ]
    },
    {
     "name": "stderr",
     "output_type": "stream",
     "text": [
      "/home/bkotis/miniconda3/lib/python3.7/site-packages/ipykernel_launcher.py:56: FutureWarning: The 'get_values' method is deprecated and will be removed in a future version. Use '.to_numpy()' or '.array' instead.\n"
     ]
    },
    {
     "name": "stdout",
     "output_type": "stream",
     "text": [
      "phenotype is not in HPO dataset\n",
      "RSE Model\n",
      "0.752941727947176\n",
      "RSE Baseline\n",
      "0.8339860543884624\n",
      "causal tissue:\n",
      "Brain - Hypothalamus\n",
      "causal gene\n",
      "GABRG2\n",
      "UDN ID                                              UDN699833\n",
      "Gene name                                               GATA2\n",
      "HPO_ID       [HP:0000554, HP:0001369, HP:0002863, HP:0012276]\n",
      "Name: 75, dtype: object\n",
      "/home/mmendoza/ANEVA/Adina/Tissue_Sensitivity//results_UDN//UDN699833\n"
     ]
    },
    {
     "name": "stderr",
     "output_type": "stream",
     "text": [
      "/home/bkotis/miniconda3/lib/python3.7/site-packages/ipykernel_launcher.py:56: FutureWarning: The 'get_values' method is deprecated and will be removed in a future version. Use '.to_numpy()' or '.array' instead.\n"
     ]
    },
    {
     "name": "stdout",
     "output_type": "stream",
     "text": [
      "RSE Model\n",
      "0.46054661178600514\n",
      "RSE Baseline\n",
      "0.5529775120804767\n",
      "causal tissue:\n",
      "Lung\n",
      "causal gene\n",
      "GATA2\n",
      "UDN ID                                               UDN678692\n",
      "Gene name                                              GATAD2B\n",
      "HPO_ID       [HP:0000020, HP:0000160, HP:0000219, HP:000025...\n",
      "Name: 76, dtype: object\n",
      "/home/mmendoza/ANEVA/Adina/Tissue_Sensitivity//results_UDN//UDN678692\n"
     ]
    },
    {
     "name": "stderr",
     "output_type": "stream",
     "text": [
      "/home/bkotis/miniconda3/lib/python3.7/site-packages/ipykernel_launcher.py:56: FutureWarning: The 'get_values' method is deprecated and will be removed in a future version. Use '.to_numpy()' or '.array' instead.\n"
     ]
    },
    {
     "name": "stdout",
     "output_type": "stream",
     "text": [
      "phenotype is not in HPO dataset\n",
      "RSE Model\n",
      "0.37487654176107793\n",
      "RSE Baseline\n",
      "0.6317543718132804\n",
      "causal tissue:\n",
      "Adipose - Subcutaneous\n",
      "causal gene\n",
      "GATAD2B\n",
      "UDN ID                                               UDN320305\n",
      "Gene name                                              GATAD2B\n",
      "HPO_ID       [HP:0000256, HP:0000272, HP:0000325, HP:000048...\n",
      "Name: 77, dtype: object\n",
      "/home/mmendoza/ANEVA/Adina/Tissue_Sensitivity//results_UDN//UDN320305\n"
     ]
    },
    {
     "name": "stderr",
     "output_type": "stream",
     "text": [
      "/home/bkotis/miniconda3/lib/python3.7/site-packages/ipykernel_launcher.py:56: FutureWarning: The 'get_values' method is deprecated and will be removed in a future version. Use '.to_numpy()' or '.array' instead.\n"
     ]
    },
    {
     "name": "stdout",
     "output_type": "stream",
     "text": [
      "RSE Model\n",
      "0.3888644893229525\n",
      "RSE Baseline\n",
      "0.6317543718132804\n",
      "causal tissue:\n",
      "Adipose - Subcutaneous\n",
      "causal gene\n",
      "GATAD2B\n",
      "UDN ID                                               UDN980458\n",
      "Gene name                                                 GCH1\n",
      "HPO_ID       [HP:0000403, HP:0001263, HP:0002015, HP:000202...\n",
      "Name: 78, dtype: object\n",
      "/home/mmendoza/ANEVA/Adina/Tissue_Sensitivity//results_UDN//UDN980458\n"
     ]
    },
    {
     "name": "stderr",
     "output_type": "stream",
     "text": [
      "/home/bkotis/miniconda3/lib/python3.7/site-packages/ipykernel_launcher.py:56: FutureWarning: The 'get_values' method is deprecated and will be removed in a future version. Use '.to_numpy()' or '.array' instead.\n"
     ]
    },
    {
     "name": "stdout",
     "output_type": "stream",
     "text": [
      "phenotype is not in HPO dataset\n",
      "phenotype is not in HPO dataset\n",
      "RSE Model\n",
      "0.3850470331220352\n",
      "RSE Baseline\n",
      "0.6220988288185043\n",
      "causal tissue:\n",
      "Lung\n",
      "causal gene\n",
      "GCH1\n",
      "UDN ID                                               UDN811828\n",
      "Gene name                                                 GFAP\n",
      "HPO_ID       [HP:0000131, HP:0000479, HP:0000505, HP:000051...\n",
      "Name: 79, dtype: object\n",
      "/home/mmendoza/ANEVA/Adina/Tissue_Sensitivity//results_UDN//UDN811828\n"
     ]
    },
    {
     "name": "stderr",
     "output_type": "stream",
     "text": [
      "/home/bkotis/miniconda3/lib/python3.7/site-packages/ipykernel_launcher.py:56: FutureWarning: The 'get_values' method is deprecated and will be removed in a future version. Use '.to_numpy()' or '.array' instead.\n"
     ]
    },
    {
     "name": "stdout",
     "output_type": "stream",
     "text": [
      "RSE Model\n",
      "0.3876586376111854\n",
      "RSE Baseline\n",
      "0.5578695242507317\n",
      "causal tissue:\n",
      "Nerve - Tibial\n",
      "causal gene\n",
      "GFAP\n",
      "UDN ID                                               UDN429732\n",
      "Gene name                                                 GJB2\n",
      "HPO_ID       [HP:0000154, HP:0000219, HP:0000252, HP:000029...\n",
      "Name: 80, dtype: object\n",
      "/home/mmendoza/ANEVA/Adina/Tissue_Sensitivity//results_UDN//UDN429732\n"
     ]
    },
    {
     "name": "stderr",
     "output_type": "stream",
     "text": [
      "/home/bkotis/miniconda3/lib/python3.7/site-packages/ipykernel_launcher.py:56: FutureWarning: The 'get_values' method is deprecated and will be removed in a future version. Use '.to_numpy()' or '.array' instead.\n"
     ]
    },
    {
     "name": "stdout",
     "output_type": "stream",
     "text": [
      "RSE Model\n",
      "0.9356308785681144\n",
      "RSE Baseline\n",
      "0.6871024134013428\n",
      "causal tissue:\n",
      "Skin - Sun Exposed (Lower leg)\n",
      "causal gene\n",
      "GJB2\n",
      "UDN ID                                               UDN819200\n",
      "Gene name                                                 GNAQ\n",
      "HPO_ID       [HP:0000483, HP:0000498, HP:0000551, HP:000059...\n",
      "Name: 81, dtype: object\n",
      "/home/mmendoza/ANEVA/Adina/Tissue_Sensitivity//results_UDN//UDN819200\n"
     ]
    },
    {
     "name": "stderr",
     "output_type": "stream",
     "text": [
      "/home/bkotis/miniconda3/lib/python3.7/site-packages/ipykernel_launcher.py:56: FutureWarning: The 'get_values' method is deprecated and will be removed in a future version. Use '.to_numpy()' or '.array' instead.\n"
     ]
    },
    {
     "name": "stdout",
     "output_type": "stream",
     "text": [
      "phenotype is not in HPO dataset\n",
      "phenotype is not in HPO dataset\n",
      "phenotype is not in HPO dataset\n",
      "phenotype is not in HPO dataset\n",
      "phenotype is not in HPO dataset\n",
      "RSE Model\n",
      "0.47812927438393826\n",
      "RSE Baseline\n",
      "0.6905993561343543\n",
      "causal tissue:\n",
      "Artery - Tibial\n",
      "causal gene\n",
      "GNAQ\n",
      "UDN ID                                               UDN063076\n",
      "Gene name                                                 GNAS\n",
      "HPO_ID       [HP:0000017, HP:0000093, HP:0000128, HP:000048...\n",
      "Name: 82, dtype: object\n",
      "/home/mmendoza/ANEVA/Adina/Tissue_Sensitivity//results_UDN//UDN063076\n"
     ]
    },
    {
     "name": "stderr",
     "output_type": "stream",
     "text": [
      "/home/bkotis/miniconda3/lib/python3.7/site-packages/ipykernel_launcher.py:56: FutureWarning: The 'get_values' method is deprecated and will be removed in a future version. Use '.to_numpy()' or '.array' instead.\n"
     ]
    },
    {
     "name": "stdout",
     "output_type": "stream",
     "text": [
      "RSE Model\n",
      "0.4449832354513547\n",
      "RSE Baseline\n",
      "0.6355933607434181\n",
      "causal tissue:\n",
      "Whole Blood\n",
      "causal gene\n",
      "GNAS\n",
      "UDN ID                                               UDN705317\n",
      "Gene name                                                 GNAS\n",
      "HPO_ID       [HP:0000098, HP:0000103, HP:0000256, HP:000071...\n",
      "Name: 83, dtype: object\n",
      "/home/mmendoza/ANEVA/Adina/Tissue_Sensitivity//results_UDN//UDN705317\n"
     ]
    },
    {
     "name": "stderr",
     "output_type": "stream",
     "text": [
      "/home/bkotis/miniconda3/lib/python3.7/site-packages/ipykernel_launcher.py:56: FutureWarning: The 'get_values' method is deprecated and will be removed in a future version. Use '.to_numpy()' or '.array' instead.\n"
     ]
    },
    {
     "name": "stdout",
     "output_type": "stream",
     "text": [
      "RSE Model\n",
      "0.4194568765832923\n",
      "RSE Baseline\n",
      "0.6355933607434181\n",
      "causal tissue:\n",
      "Whole Blood\n",
      "causal gene\n",
      "GNAS\n",
      "UDN ID                                               UDN653725\n",
      "Gene name                                                 GNAS\n",
      "HPO_ID       [HP:0000243, HP:0000486, HP:0000646, HP:000082...\n",
      "Name: 84, dtype: object\n",
      "/home/mmendoza/ANEVA/Adina/Tissue_Sensitivity//results_UDN//UDN653725\n"
     ]
    },
    {
     "name": "stderr",
     "output_type": "stream",
     "text": [
      "/home/bkotis/miniconda3/lib/python3.7/site-packages/ipykernel_launcher.py:56: FutureWarning: The 'get_values' method is deprecated and will be removed in a future version. Use '.to_numpy()' or '.array' instead.\n"
     ]
    },
    {
     "name": "stdout",
     "output_type": "stream",
     "text": [
      "RSE Model\n",
      "0.4023033526528941\n",
      "RSE Baseline\n",
      "0.6355933607434181\n",
      "causal tissue:\n",
      "Whole Blood\n",
      "causal gene\n",
      "GNAS\n",
      "UDN ID                                               UDN256599\n",
      "Gene name                                               GRIN2A\n",
      "HPO_ID       [HP:0000256, HP:0000486, HP:0000964, HP:000117...\n",
      "Name: 85, dtype: object\n",
      "/home/mmendoza/ANEVA/Adina/Tissue_Sensitivity//results_UDN//UDN256599\n"
     ]
    },
    {
     "name": "stderr",
     "output_type": "stream",
     "text": [
      "/home/bkotis/miniconda3/lib/python3.7/site-packages/ipykernel_launcher.py:56: FutureWarning: The 'get_values' method is deprecated and will be removed in a future version. Use '.to_numpy()' or '.array' instead.\n"
     ]
    },
    {
     "name": "stdout",
     "output_type": "stream",
     "text": [
      "RSE Model\n",
      "0.6682417543282396\n",
      "RSE Baseline\n",
      "0.7238659447266204\n",
      "causal tissue:\n",
      "Brain - Cortex\n",
      "causal gene\n",
      "GRIN2A\n",
      "UDN ID                                               UDN174738\n",
      "Gene name                                               GRIN2B\n",
      "HPO_ID       [HP:0000020, HP:0000490, HP:0000664, HP:000071...\n",
      "Name: 86, dtype: object\n",
      "/home/mmendoza/ANEVA/Adina/Tissue_Sensitivity//results_UDN//UDN174738\n"
     ]
    },
    {
     "name": "stderr",
     "output_type": "stream",
     "text": [
      "/home/bkotis/miniconda3/lib/python3.7/site-packages/ipykernel_launcher.py:56: FutureWarning: The 'get_values' method is deprecated and will be removed in a future version. Use '.to_numpy()' or '.array' instead.\n"
     ]
    },
    {
     "name": "stdout",
     "output_type": "stream",
     "text": [
      "RSE Model\n",
      "0.5123056073624992\n",
      "RSE Baseline\n",
      "0.678859997998401\n",
      "causal tissue:\n",
      "Brain - Cortex\n",
      "causal gene\n",
      "GRIN2B\n",
      "UDN ID                                               UDN879016\n",
      "Gene name                                                 GYG1\n",
      "HPO_ID       [HP:0000218, HP:0001324, HP:0002923, HP:000320...\n",
      "Name: 87, dtype: object\n",
      "/home/mmendoza/ANEVA/Adina/Tissue_Sensitivity//results_UDN//UDN879016\n"
     ]
    },
    {
     "name": "stderr",
     "output_type": "stream",
     "text": [
      "/home/bkotis/miniconda3/lib/python3.7/site-packages/ipykernel_launcher.py:56: FutureWarning: The 'get_values' method is deprecated and will be removed in a future version. Use '.to_numpy()' or '.array' instead.\n"
     ]
    },
    {
     "name": "stdout",
     "output_type": "stream",
     "text": [
      "RSE Model\n",
      "0.33757881002494855\n",
      "RSE Baseline\n",
      "0.6251528627757663\n",
      "causal tissue:\n",
      "Muscle - Skeletal\n",
      "causal gene\n",
      "GYG1\n",
      "UDN ID                                               UDN519175\n",
      "Gene name                                                H3F3A\n",
      "HPO_ID       [HP:0000194, HP:0000268, HP:0000297, HP:000031...\n",
      "Name: 88, dtype: object\n",
      "/home/mmendoza/ANEVA/Adina/Tissue_Sensitivity//results_UDN//UDN519175\n"
     ]
    },
    {
     "name": "stderr",
     "output_type": "stream",
     "text": [
      "/home/bkotis/miniconda3/lib/python3.7/site-packages/ipykernel_launcher.py:56: FutureWarning: The 'get_values' method is deprecated and will be removed in a future version. Use '.to_numpy()' or '.array' instead.\n"
     ]
    },
    {
     "name": "stdout",
     "output_type": "stream",
     "text": [
      "phenotype is not in HPO dataset\n",
      "phenotype is not in HPO dataset\n",
      "phenotype is not in HPO dataset\n",
      "RSE Model\n",
      "0.5279424767457797\n",
      "RSE Baseline\n",
      "0.7205338315007757\n",
      "causal tissue:\n",
      "Muscle - Skeletal\n",
      "causal gene\n",
      "H3F3A\n",
      "UDN ID                                               UDN484505\n",
      "Gene name                                                HDAC8\n",
      "HPO_ID       [HP:0000059, HP:0000066, HP:0000175, HP:000021...\n",
      "Name: 89, dtype: object\n",
      "/home/mmendoza/ANEVA/Adina/Tissue_Sensitivity//results_UDN//UDN484505\n"
     ]
    },
    {
     "name": "stderr",
     "output_type": "stream",
     "text": [
      "/home/bkotis/miniconda3/lib/python3.7/site-packages/ipykernel_launcher.py:56: FutureWarning: The 'get_values' method is deprecated and will be removed in a future version. Use '.to_numpy()' or '.array' instead.\n"
     ]
    },
    {
     "name": "stdout",
     "output_type": "stream",
     "text": [
      "RSE Model\n",
      "0.5385686732206856\n",
      "RSE Baseline\n",
      "0.7200340470991944\n",
      "causal tissue:\n",
      "Stomach\n",
      "causal gene\n",
      "HDAC8\n",
      "UDN ID                                               UDN730196\n",
      "Gene name                                              HEPACAM\n",
      "HPO_ID       [HP:0001355, HP:0001897, HP:0002069, HP:000231...\n",
      "Name: 90, dtype: object\n",
      "/home/mmendoza/ANEVA/Adina/Tissue_Sensitivity//results_UDN//UDN730196\n"
     ]
    },
    {
     "name": "stderr",
     "output_type": "stream",
     "text": [
      "/home/bkotis/miniconda3/lib/python3.7/site-packages/ipykernel_launcher.py:56: FutureWarning: The 'get_values' method is deprecated and will be removed in a future version. Use '.to_numpy()' or '.array' instead.\n"
     ]
    },
    {
     "name": "stdout",
     "output_type": "stream",
     "text": [
      "RSE Model\n",
      "1.0117471570372472\n",
      "RSE Baseline\n",
      "0.5578528827605406\n",
      "causal tissue:\n",
      "Nerve - Tibial\n",
      "causal gene\n",
      "HEPACAM\n",
      "UDN ID                                               UDN801920\n",
      "Gene name                                               HGSNAT\n",
      "HPO_ID       [HP:0000570, HP:0000716, HP:0000757, HP:000124...\n",
      "Name: 91, dtype: object\n",
      "/home/mmendoza/ANEVA/Adina/Tissue_Sensitivity//results_UDN//UDN801920\n"
     ]
    },
    {
     "name": "stderr",
     "output_type": "stream",
     "text": [
      "/home/bkotis/miniconda3/lib/python3.7/site-packages/ipykernel_launcher.py:56: FutureWarning: The 'get_values' method is deprecated and will be removed in a future version. Use '.to_numpy()' or '.array' instead.\n"
     ]
    },
    {
     "name": "stdout",
     "output_type": "stream",
     "text": [
      "RSE Model\n",
      "0.354337418604798\n",
      "RSE Baseline\n",
      "0.6575125516035604\n",
      "causal tissue:\n",
      "Muscle - Skeletal\n",
      "causal gene\n",
      "HGSNAT\n",
      "UDN ID                                               UDN876090\n",
      "Gene name                                               HNRNPK\n",
      "HPO_ID       [HP:0000028, HP:0000185, HP:0000193, HP:000022...\n",
      "Name: 92, dtype: object\n",
      "/home/mmendoza/ANEVA/Adina/Tissue_Sensitivity//results_UDN//UDN876090\n"
     ]
    },
    {
     "name": "stderr",
     "output_type": "stream",
     "text": [
      "/home/bkotis/miniconda3/lib/python3.7/site-packages/ipykernel_launcher.py:56: FutureWarning: The 'get_values' method is deprecated and will be removed in a future version. Use '.to_numpy()' or '.array' instead.\n"
     ]
    },
    {
     "name": "stdout",
     "output_type": "stream",
     "text": [
      "RSE Model\n",
      "0.5505505132850642\n",
      "RSE Baseline\n",
      "0.7109212736486448\n",
      "causal tissue:\n",
      "Adipose - Subcutaneous\n",
      "causal gene\n",
      "HNRNPK\n",
      "UDN ID                                               UDN369603\n",
      "Gene name                                                HSPB8\n",
      "HPO_ID       [HP:0000822, HP:0002136, HP:0002141, HP:000235...\n",
      "Name: 93, dtype: object\n",
      "/home/mmendoza/ANEVA/Adina/Tissue_Sensitivity//results_UDN//UDN369603\n"
     ]
    },
    {
     "name": "stderr",
     "output_type": "stream",
     "text": [
      "/home/bkotis/miniconda3/lib/python3.7/site-packages/ipykernel_launcher.py:56: FutureWarning: The 'get_values' method is deprecated and will be removed in a future version. Use '.to_numpy()' or '.array' instead.\n"
     ]
    },
    {
     "name": "stdout",
     "output_type": "stream",
     "text": [
      "RSE Model\n",
      "0.29818588662775286\n",
      "RSE Baseline\n",
      "0.6139753338624089\n",
      "causal tissue:\n",
      "Muscle - Skeletal\n",
      "causal gene\n",
      "HSPB8\n",
      "UDN ID                                               UDN114525\n",
      "Gene name                                                  HTT\n",
      "HPO_ID       [HP:0001251, HP:0001260, HP:0001276, HP:000133...\n",
      "Name: 94, dtype: object\n",
      "/home/mmendoza/ANEVA/Adina/Tissue_Sensitivity//results_UDN//UDN114525\n"
     ]
    },
    {
     "name": "stderr",
     "output_type": "stream",
     "text": [
      "/home/bkotis/miniconda3/lib/python3.7/site-packages/ipykernel_launcher.py:56: FutureWarning: The 'get_values' method is deprecated and will be removed in a future version. Use '.to_numpy()' or '.array' instead.\n"
     ]
    },
    {
     "name": "stdout",
     "output_type": "stream",
     "text": [
      "RSE Model\n",
      "0.3703166808160642\n",
      "RSE Baseline\n",
      "0.650748857817449\n",
      "causal tissue:\n",
      "Muscle - Skeletal\n",
      "causal gene\n",
      "HTT\n",
      "UDN ID                                               UDN570682\n",
      "Gene name                                                HUWE1\n",
      "HPO_ID       [HP:0000248, HP:0000252, HP:0000272, HP:000027...\n",
      "Name: 95, dtype: object\n",
      "/home/mmendoza/ANEVA/Adina/Tissue_Sensitivity//results_UDN//UDN570682\n"
     ]
    },
    {
     "name": "stderr",
     "output_type": "stream",
     "text": [
      "/home/bkotis/miniconda3/lib/python3.7/site-packages/ipykernel_launcher.py:56: FutureWarning: The 'get_values' method is deprecated and will be removed in a future version. Use '.to_numpy()' or '.array' instead.\n"
     ]
    },
    {
     "name": "stdout",
     "output_type": "stream",
     "text": [
      "RSE Model\n",
      "0.41659435268308126\n",
      "RSE Baseline\n",
      "0.6698345831497494\n",
      "causal tissue:\n",
      "Adipose - Subcutaneous\n",
      "causal gene\n",
      "HUWE1\n",
      "UDN ID                                               UDN372273\n",
      "Gene name                                              IGHMBP2\n",
      "HPO_ID       [HP:0001250, HP:0001288, HP:0001388, HP:000143...\n",
      "Name: 96, dtype: object\n",
      "/home/mmendoza/ANEVA/Adina/Tissue_Sensitivity//results_UDN//UDN372273\n"
     ]
    },
    {
     "name": "stderr",
     "output_type": "stream",
     "text": [
      "/home/bkotis/miniconda3/lib/python3.7/site-packages/ipykernel_launcher.py:56: FutureWarning: The 'get_values' method is deprecated and will be removed in a future version. Use '.to_numpy()' or '.array' instead.\n"
     ]
    },
    {
     "name": "stdout",
     "output_type": "stream",
     "text": [
      "RSE Model\n",
      "0.4700322027097471\n",
      "RSE Baseline\n",
      "0.7182766311598031\n",
      "causal tissue:\n",
      "Skin - Sun Exposed (Lower leg)\n",
      "causal gene\n",
      "IGHMBP2\n",
      "UDN ID                                              UDN245466\n",
      "Gene name                                               IQCB1\n",
      "HPO_ID       [HP:0000479, HP:0001129, HP:0003774, HP:0007481]\n",
      "Name: 97, dtype: object\n",
      "/home/mmendoza/ANEVA/Adina/Tissue_Sensitivity//results_UDN//UDN245466\n"
     ]
    },
    {
     "name": "stderr",
     "output_type": "stream",
     "text": [
      "/home/bkotis/miniconda3/lib/python3.7/site-packages/ipykernel_launcher.py:56: FutureWarning: The 'get_values' method is deprecated and will be removed in a future version. Use '.to_numpy()' or '.array' instead.\n"
     ]
    },
    {
     "name": "stdout",
     "output_type": "stream",
     "text": [
      "RSE Model\n",
      "0.3958120142068677\n",
      "RSE Baseline\n",
      "0.7180666488951912\n",
      "causal tissue:\n",
      "Skin - Sun Exposed (Lower leg)\n",
      "causal gene\n",
      "IQCB1\n",
      "UDN ID                                               UDN938590\n",
      "Gene name                                              IRF2BPL\n",
      "HPO_ID       [HP:0000020, HP:0000565, HP:0000577, HP:000060...\n",
      "Name: 98, dtype: object\n",
      "/home/mmendoza/ANEVA/Adina/Tissue_Sensitivity//results_UDN//UDN938590\n"
     ]
    },
    {
     "name": "stderr",
     "output_type": "stream",
     "text": [
      "/home/bkotis/miniconda3/lib/python3.7/site-packages/ipykernel_launcher.py:56: FutureWarning: The 'get_values' method is deprecated and will be removed in a future version. Use '.to_numpy()' or '.array' instead.\n"
     ]
    },
    {
     "name": "stdout",
     "output_type": "stream",
     "text": [
      "phenotype is not in HPO dataset\n",
      "RSE Model\n",
      "0.2571901553918022\n",
      "RSE Baseline\n",
      "0.5894578379928871\n",
      "causal tissue:\n",
      "Skin - Sun Exposed (Lower leg)\n",
      "causal gene\n",
      "IRF2BPL\n",
      "UDN ID                                               UDN742935\n",
      "Gene name                                              IRF2BPL\n",
      "HPO_ID       [HP:0000211, HP:0000549, HP:0000577, HP:000060...\n",
      "Name: 99, dtype: object\n",
      "/home/mmendoza/ANEVA/Adina/Tissue_Sensitivity//results_UDN//UDN742935\n"
     ]
    },
    {
     "name": "stderr",
     "output_type": "stream",
     "text": [
      "/home/bkotis/miniconda3/lib/python3.7/site-packages/ipykernel_launcher.py:56: FutureWarning: The 'get_values' method is deprecated and will be removed in a future version. Use '.to_numpy()' or '.array' instead.\n"
     ]
    },
    {
     "name": "stdout",
     "output_type": "stream",
     "text": [
      "phenotype is not in HPO dataset\n",
      "RSE Model\n",
      "0.24555107834249074\n",
      "RSE Baseline\n",
      "0.5894578379928871\n",
      "causal tissue:\n",
      "Skin - Sun Exposed (Lower leg)\n",
      "causal gene\n",
      "IRF2BPL\n",
      "UDN ID                                               UDN608946\n",
      "Gene name                                              IRF2BPL\n",
      "HPO_ID       [HP:0000275, HP:0000276, HP:0000294, HP:000029...\n",
      "Name: 100, dtype: object\n",
      "/home/mmendoza/ANEVA/Adina/Tissue_Sensitivity//results_UDN//UDN608946\n"
     ]
    },
    {
     "name": "stderr",
     "output_type": "stream",
     "text": [
      "/home/bkotis/miniconda3/lib/python3.7/site-packages/ipykernel_launcher.py:56: FutureWarning: The 'get_values' method is deprecated and will be removed in a future version. Use '.to_numpy()' or '.array' instead.\n"
     ]
    },
    {
     "name": "stdout",
     "output_type": "stream",
     "text": [
      "phenotype is not in HPO dataset\n",
      "RSE Model\n",
      "0.28768435484078986\n",
      "RSE Baseline\n",
      "0.5894578379928871\n",
      "causal tissue:\n",
      "Skin - Sun Exposed (Lower leg)\n",
      "causal gene\n",
      "IRF2BPL\n",
      "UDN ID                                               UDN993600\n",
      "Gene name                                                 JAG1\n",
      "HPO_ID       [HP:0000322, HP:0000545, HP:0000651, HP:000131...\n",
      "Name: 101, dtype: object\n",
      "/home/mmendoza/ANEVA/Adina/Tissue_Sensitivity//results_UDN//UDN993600\n"
     ]
    },
    {
     "name": "stderr",
     "output_type": "stream",
     "text": [
      "/home/bkotis/miniconda3/lib/python3.7/site-packages/ipykernel_launcher.py:56: FutureWarning: The 'get_values' method is deprecated and will be removed in a future version. Use '.to_numpy()' or '.array' instead.\n"
     ]
    },
    {
     "name": "stdout",
     "output_type": "stream",
     "text": [
      "phenotype is not in HPO dataset\n",
      "phenotype is not in HPO dataset\n",
      "RSE Model\n",
      "0.3938674705003912\n",
      "RSE Baseline\n",
      "0.6516606798698008\n",
      "causal tissue:\n",
      "Muscle - Skeletal\n",
      "causal gene\n",
      "JAG1\n",
      "UDN ID                                               UDN482486\n",
      "Gene name                                                KCNC1\n",
      "HPO_ID       [HP:0000132, HP:0000858, HP:0001260, HP:000126...\n",
      "Name: 102, dtype: object\n",
      "/home/mmendoza/ANEVA/Adina/Tissue_Sensitivity//results_UDN//UDN482486\n"
     ]
    },
    {
     "name": "stderr",
     "output_type": "stream",
     "text": [
      "/home/bkotis/miniconda3/lib/python3.7/site-packages/ipykernel_launcher.py:56: FutureWarning: The 'get_values' method is deprecated and will be removed in a future version. Use '.to_numpy()' or '.array' instead.\n"
     ]
    },
    {
     "name": "stdout",
     "output_type": "stream",
     "text": [
      "RSE Model\n",
      "0.7235596690001445\n",
      "RSE Baseline\n",
      "0.7789825095019507\n",
      "causal tissue:\n",
      "Brain - Cerebellar Hemisphere\n",
      "causal gene\n",
      "KCNC1\n",
      "UDN ID                                               UDN177234\n",
      "Gene name                                               KCNMA1\n",
      "HPO_ID       [HP:0000286, HP:0000953, HP:0000958, HP:000159...\n",
      "Name: 103, dtype: object\n",
      "/home/mmendoza/ANEVA/Adina/Tissue_Sensitivity//results_UDN//UDN177234\n"
     ]
    },
    {
     "name": "stderr",
     "output_type": "stream",
     "text": [
      "/home/bkotis/miniconda3/lib/python3.7/site-packages/ipykernel_launcher.py:56: FutureWarning: The 'get_values' method is deprecated and will be removed in a future version. Use '.to_numpy()' or '.array' instead.\n"
     ]
    },
    {
     "name": "stdout",
     "output_type": "stream",
     "text": [
      "phenotype is not in HPO dataset\n",
      "phenotype is not in HPO dataset\n",
      "RSE Model\n",
      "0.3536063356529274\n",
      "RSE Baseline\n",
      "0.6518491271043031\n",
      "causal tissue:\n",
      "Muscle - Skeletal\n",
      "causal gene\n",
      "KCNMA1\n",
      "UDN ID                                               UDN070653\n",
      "Gene name                                                KIF2A\n",
      "HPO_ID       [HP:0000639, HP:0001182, HP:0001250, HP:000126...\n",
      "Name: 104, dtype: object\n",
      "/home/mmendoza/ANEVA/Adina/Tissue_Sensitivity//results_UDN//UDN070653\n"
     ]
    },
    {
     "name": "stderr",
     "output_type": "stream",
     "text": [
      "/home/bkotis/miniconda3/lib/python3.7/site-packages/ipykernel_launcher.py:56: FutureWarning: The 'get_values' method is deprecated and will be removed in a future version. Use '.to_numpy()' or '.array' instead.\n"
     ]
    },
    {
     "name": "stdout",
     "output_type": "stream",
     "text": [
      "phenotype is not in HPO dataset\n",
      "phenotype is not in HPO dataset\n",
      "RSE Model\n",
      "0.33197576943675106\n",
      "RSE Baseline\n",
      "0.6304014881771505\n",
      "causal tissue:\n",
      "Nerve - Tibial\n",
      "causal gene\n",
      "KIF2A\n",
      "UDN ID                                               UDN007267\n",
      "Gene name                                                KMT2A\n",
      "HPO_ID       [HP:0000218, HP:0000243, HP:0000316, HP:000036...\n",
      "Name: 105, dtype: object\n",
      "/home/mmendoza/ANEVA/Adina/Tissue_Sensitivity//results_UDN//UDN007267\n"
     ]
    },
    {
     "name": "stderr",
     "output_type": "stream",
     "text": [
      "/home/bkotis/miniconda3/lib/python3.7/site-packages/ipykernel_launcher.py:56: FutureWarning: The 'get_values' method is deprecated and will be removed in a future version. Use '.to_numpy()' or '.array' instead.\n"
     ]
    },
    {
     "name": "stdout",
     "output_type": "stream",
     "text": [
      "phenotype is not in HPO dataset\n",
      "phenotype is not in HPO dataset\n",
      "RSE Model\n",
      "0.2984501188077253\n",
      "RSE Baseline\n",
      "0.6102373359106216\n",
      "causal tissue:\n",
      "Skin - Sun Exposed (Lower leg)\n",
      "causal gene\n",
      "KMT2A\n",
      "UDN ID                                               UDN067966\n",
      "Gene name                                                KMT2B\n",
      "HPO_ID       [HP:0000252, HP:0000294, HP:0000347, HP:000067...\n",
      "Name: 106, dtype: object\n",
      "/home/mmendoza/ANEVA/Adina/Tissue_Sensitivity//results_UDN//UDN067966\n"
     ]
    },
    {
     "name": "stderr",
     "output_type": "stream",
     "text": [
      "/home/bkotis/miniconda3/lib/python3.7/site-packages/ipykernel_launcher.py:56: FutureWarning: The 'get_values' method is deprecated and will be removed in a future version. Use '.to_numpy()' or '.array' instead.\n"
     ]
    },
    {
     "name": "stdout",
     "output_type": "stream",
     "text": [
      "phenotype is not in HPO dataset\n",
      "phenotype is not in HPO dataset\n",
      "phenotype is not in HPO dataset\n",
      "RSE Model\n",
      "0.35851036648555656\n",
      "RSE Baseline\n",
      "0.6442714090963964\n",
      "causal tissue:\n",
      "Whole Blood\n",
      "causal gene\n",
      "KMT2B\n",
      "UDN ID                                               UDN875397\n",
      "Gene name                                                KMT2B\n",
      "HPO_ID       [HP:0000218, HP:0000252, HP:0000276, HP:000057...\n",
      "Name: 107, dtype: object\n",
      "/home/mmendoza/ANEVA/Adina/Tissue_Sensitivity//results_UDN//UDN875397\n"
     ]
    },
    {
     "name": "stderr",
     "output_type": "stream",
     "text": [
      "/home/bkotis/miniconda3/lib/python3.7/site-packages/ipykernel_launcher.py:56: FutureWarning: The 'get_values' method is deprecated and will be removed in a future version. Use '.to_numpy()' or '.array' instead.\n"
     ]
    },
    {
     "name": "stdout",
     "output_type": "stream",
     "text": [
      "phenotype is not in HPO dataset\n",
      "RSE Model\n",
      "0.3444401702838666\n",
      "RSE Baseline\n",
      "0.6442714090963964\n",
      "causal tissue:\n",
      "Whole Blood\n",
      "causal gene\n",
      "KMT2B\n",
      "UDN ID                                               UDN754496\n",
      "Gene name                                                LAMA1\n",
      "HPO_ID       [HP:0000098, HP:0000403, HP:0000545, HP:000065...\n",
      "Name: 108, dtype: object\n",
      "/home/mmendoza/ANEVA/Adina/Tissue_Sensitivity//results_UDN//UDN754496\n"
     ]
    },
    {
     "name": "stderr",
     "output_type": "stream",
     "text": [
      "/home/bkotis/miniconda3/lib/python3.7/site-packages/ipykernel_launcher.py:56: FutureWarning: The 'get_values' method is deprecated and will be removed in a future version. Use '.to_numpy()' or '.array' instead.\n"
     ]
    },
    {
     "name": "stdout",
     "output_type": "stream",
     "text": [
      "RSE Model\n",
      "0.45632579089755465\n",
      "RSE Baseline\n",
      "0.5997611082525961\n",
      "causal tissue:\n",
      "Cells - Cultured fibroblasts\n",
      "causal gene\n",
      "LAMA1\n",
      "UDN ID                                               UDN746653\n",
      "Gene name                                                LAMA1\n",
      "HPO_ID       [HP:0000220, HP:0000545, HP:0000657, HP:000071...\n",
      "Name: 109, dtype: object\n",
      "/home/mmendoza/ANEVA/Adina/Tissue_Sensitivity//results_UDN//UDN746653\n"
     ]
    },
    {
     "name": "stderr",
     "output_type": "stream",
     "text": [
      "/home/bkotis/miniconda3/lib/python3.7/site-packages/ipykernel_launcher.py:56: FutureWarning: The 'get_values' method is deprecated and will be removed in a future version. Use '.to_numpy()' or '.array' instead.\n"
     ]
    },
    {
     "name": "stdout",
     "output_type": "stream",
     "text": [
      "phenotype is not in HPO dataset\n",
      "RSE Model\n",
      "0.4341259538176415\n",
      "RSE Baseline\n",
      "0.5997611082525961\n",
      "causal tissue:\n",
      "Cells - Cultured fibroblasts\n",
      "causal gene\n",
      "LAMA1\n",
      "UDN ID                                               UDN795876\n",
      "Gene name                                                 LMNA\n",
      "HPO_ID       [HP:0000957, HP:0001252, HP:0001288, HP:000132...\n",
      "Name: 110, dtype: object\n",
      "/home/mmendoza/ANEVA/Adina/Tissue_Sensitivity//results_UDN//UDN795876\n"
     ]
    },
    {
     "name": "stderr",
     "output_type": "stream",
     "text": [
      "/home/bkotis/miniconda3/lib/python3.7/site-packages/ipykernel_launcher.py:56: FutureWarning: The 'get_values' method is deprecated and will be removed in a future version. Use '.to_numpy()' or '.array' instead.\n"
     ]
    },
    {
     "name": "stdout",
     "output_type": "stream",
     "text": [
      "RSE Model\n",
      "0.37906074842008514\n",
      "RSE Baseline\n",
      "0.6744868437460804\n",
      "causal tissue:\n",
      "Muscle - Skeletal\n",
      "causal gene\n",
      "LMNA\n",
      "UDN ID                                               UDN944787\n",
      "Gene name                                                LZTR1\n",
      "HPO_ID       [HP:0000252, HP:0000272, HP:0000293, HP:000037...\n",
      "Name: 111, dtype: object\n",
      "/home/mmendoza/ANEVA/Adina/Tissue_Sensitivity//results_UDN//UDN944787\n"
     ]
    },
    {
     "name": "stderr",
     "output_type": "stream",
     "text": [
      "/home/bkotis/miniconda3/lib/python3.7/site-packages/ipykernel_launcher.py:56: FutureWarning: The 'get_values' method is deprecated and will be removed in a future version. Use '.to_numpy()' or '.array' instead.\n"
     ]
    },
    {
     "name": "stdout",
     "output_type": "stream",
     "text": [
      "phenotype is not in HPO dataset\n",
      "phenotype is not in HPO dataset\n",
      "RSE Model\n",
      "0.43085521940087285\n",
      "RSE Baseline\n",
      "0.6816847526625063\n",
      "causal tissue:\n",
      "Muscle - Skeletal\n",
      "causal gene\n",
      "LZTR1\n",
      "UDN ID                                               UDN546686\n",
      "Gene name                                               MAGEL2\n",
      "HPO_ID       [HP:0000126, HP:0000218, HP:0000243, HP:000027...\n",
      "Name: 112, dtype: object\n",
      "/home/mmendoza/ANEVA/Adina/Tissue_Sensitivity//results_UDN//UDN546686\n"
     ]
    },
    {
     "name": "stderr",
     "output_type": "stream",
     "text": [
      "/home/bkotis/miniconda3/lib/python3.7/site-packages/ipykernel_launcher.py:56: FutureWarning: The 'get_values' method is deprecated and will be removed in a future version. Use '.to_numpy()' or '.array' instead.\n"
     ]
    },
    {
     "name": "stdout",
     "output_type": "stream",
     "text": [
      "phenotype is not in HPO dataset\n",
      "phenotype is not in HPO dataset\n",
      "phenotype is not in HPO dataset\n",
      "phenotype is not in HPO dataset\n",
      "RSE Model\n",
      "1.5666375267082813\n",
      "RSE Baseline\n",
      "0.8554628200482509\n",
      "causal tissue:\n",
      "Testis\n",
      "causal gene\n",
      "MAGEL2\n",
      "UDN ID                                               UDN920898\n",
      "Gene name                                               MAGEL2\n",
      "HPO_ID       [HP:0000481, HP:0000545, HP:0000565, HP:000081...\n",
      "Name: 113, dtype: object\n",
      "/home/mmendoza/ANEVA/Adina/Tissue_Sensitivity//results_UDN//UDN920898\n"
     ]
    },
    {
     "name": "stderr",
     "output_type": "stream",
     "text": [
      "/home/bkotis/miniconda3/lib/python3.7/site-packages/ipykernel_launcher.py:56: FutureWarning: The 'get_values' method is deprecated and will be removed in a future version. Use '.to_numpy()' or '.array' instead.\n"
     ]
    },
    {
     "name": "stdout",
     "output_type": "stream",
     "text": [
      "RSE Model\n",
      "1.5444391563481716\n",
      "RSE Baseline\n",
      "0.8554628200482509\n",
      "causal tissue:\n",
      "Testis\n",
      "causal gene\n",
      "MAGEL2\n",
      "UDN ID                                               UDN258509\n",
      "Gene name                                             MAPK8IP3\n",
      "HPO_ID       [HP:0000571, HP:0000639, HP:0001260, HP:000126...\n",
      "Name: 114, dtype: object\n",
      "/home/mmendoza/ANEVA/Adina/Tissue_Sensitivity//results_UDN//UDN258509\n"
     ]
    },
    {
     "name": "stderr",
     "output_type": "stream",
     "text": [
      "/home/bkotis/miniconda3/lib/python3.7/site-packages/ipykernel_launcher.py:56: FutureWarning: The 'get_values' method is deprecated and will be removed in a future version. Use '.to_numpy()' or '.array' instead.\n"
     ]
    },
    {
     "name": "stdout",
     "output_type": "stream",
     "text": [
      "phenotype is not in HPO dataset\n",
      "RSE Model\n",
      "0.3785036304616674\n",
      "RSE Baseline\n",
      "0.6273351413332858\n",
      "causal tissue:\n",
      "Skin - Sun Exposed (Lower leg)\n",
      "causal gene\n",
      "MAPK8IP3\n",
      "UDN ID                                               UDN925229\n",
      "Gene name                                                MECP2\n",
      "HPO_ID       [HP:0000717, HP:0001251, HP:0001348, HP:000176...\n",
      "Name: 115, dtype: object\n",
      "/home/mmendoza/ANEVA/Adina/Tissue_Sensitivity//results_UDN//UDN925229\n"
     ]
    },
    {
     "name": "stderr",
     "output_type": "stream",
     "text": [
      "/home/bkotis/miniconda3/lib/python3.7/site-packages/ipykernel_launcher.py:56: FutureWarning: The 'get_values' method is deprecated and will be removed in a future version. Use '.to_numpy()' or '.array' instead.\n"
     ]
    },
    {
     "name": "stdout",
     "output_type": "stream",
     "text": [
      "phenotype is not in HPO dataset\n",
      "RSE Model\n",
      "0.3845398383309801\n",
      "RSE Baseline\n",
      "0.6532032749666178\n",
      "causal tissue:\n",
      "Whole Blood\n",
      "causal gene\n",
      "MECP2\n",
      "UDN ID                                               UDN526490\n",
      "Gene name                                                MECP2\n",
      "HPO_ID       [HP:0000252, HP:0000278, HP:0000280, HP:000041...\n",
      "Name: 116, dtype: object\n",
      "/home/mmendoza/ANEVA/Adina/Tissue_Sensitivity//results_UDN//UDN526490\n"
     ]
    },
    {
     "name": "stderr",
     "output_type": "stream",
     "text": [
      "/home/bkotis/miniconda3/lib/python3.7/site-packages/ipykernel_launcher.py:56: FutureWarning: The 'get_values' method is deprecated and will be removed in a future version. Use '.to_numpy()' or '.array' instead.\n"
     ]
    },
    {
     "name": "stdout",
     "output_type": "stream",
     "text": [
      "phenotype is not in HPO dataset\n",
      "phenotype is not in HPO dataset\n",
      "RSE Model\n",
      "0.3882669872214305\n",
      "RSE Baseline\n",
      "0.6532032749666178\n",
      "causal tissue:\n",
      "Whole Blood\n",
      "causal gene\n",
      "MECP2\n",
      "UDN ID                                               UDN862850\n",
      "Gene name                                                MECP2\n",
      "HPO_ID       [HP:0000369, HP:0000473, HP:0000486, HP:000054...\n",
      "Name: 117, dtype: object\n",
      "/home/mmendoza/ANEVA/Adina/Tissue_Sensitivity//results_UDN//UDN862850\n"
     ]
    },
    {
     "name": "stderr",
     "output_type": "stream",
     "text": [
      "/home/bkotis/miniconda3/lib/python3.7/site-packages/ipykernel_launcher.py:56: FutureWarning: The 'get_values' method is deprecated and will be removed in a future version. Use '.to_numpy()' or '.array' instead.\n"
     ]
    },
    {
     "name": "stdout",
     "output_type": "stream",
     "text": [
      "RSE Model\n",
      "0.3571494428635823\n",
      "RSE Baseline\n",
      "0.6532032749666178\n",
      "causal tissue:\n",
      "Whole Blood\n",
      "causal gene\n",
      "MECP2\n",
      "UDN ID                                               UDN717841\n",
      "Gene name                                                MECP2\n",
      "HPO_ID       [HP:0000316, HP:0000329, HP:0000483, HP:000048...\n",
      "Name: 118, dtype: object\n",
      "/home/mmendoza/ANEVA/Adina/Tissue_Sensitivity//results_UDN//UDN717841\n"
     ]
    },
    {
     "name": "stderr",
     "output_type": "stream",
     "text": [
      "/home/bkotis/miniconda3/lib/python3.7/site-packages/ipykernel_launcher.py:56: FutureWarning: The 'get_values' method is deprecated and will be removed in a future version. Use '.to_numpy()' or '.array' instead.\n"
     ]
    },
    {
     "name": "stdout",
     "output_type": "stream",
     "text": [
      "RSE Model\n",
      "0.3826037108181133\n",
      "RSE Baseline\n",
      "0.6532032749666178\n",
      "causal tissue:\n",
      "Whole Blood\n",
      "causal gene\n",
      "MECP2\n",
      "UDN ID                                               UDN765460\n",
      "Gene name                                                MIPEP\n",
      "HPO_ID       [HP:0000639, HP:0001250, HP:0001272, HP:000128...\n",
      "Name: 119, dtype: object\n",
      "/home/mmendoza/ANEVA/Adina/Tissue_Sensitivity//results_UDN//UDN765460\n"
     ]
    },
    {
     "name": "stderr",
     "output_type": "stream",
     "text": [
      "/home/bkotis/miniconda3/lib/python3.7/site-packages/ipykernel_launcher.py:56: FutureWarning: The 'get_values' method is deprecated and will be removed in a future version. Use '.to_numpy()' or '.array' instead.\n"
     ]
    },
    {
     "name": "stdout",
     "output_type": "stream",
     "text": [
      "phenotype is not in HPO dataset\n",
      "RSE Model\n",
      "0.40757604225607424\n",
      "RSE Baseline\n",
      "0.6830199298802112\n",
      "causal tissue:\n",
      "Skin - Sun Exposed (Lower leg)\n",
      "causal gene\n",
      "MIPEP\n",
      "UDN ID                                               UDN220090\n",
      "Gene name                                                MIPEP\n",
      "HPO_ID       [HP:0000252, HP:0000341, HP:0000490, HP:000054...\n",
      "Name: 120, dtype: object\n",
      "/home/mmendoza/ANEVA/Adina/Tissue_Sensitivity//results_UDN//UDN220090\n"
     ]
    },
    {
     "name": "stderr",
     "output_type": "stream",
     "text": [
      "/home/bkotis/miniconda3/lib/python3.7/site-packages/ipykernel_launcher.py:56: FutureWarning: The 'get_values' method is deprecated and will be removed in a future version. Use '.to_numpy()' or '.array' instead.\n"
     ]
    },
    {
     "name": "stdout",
     "output_type": "stream",
     "text": [
      "phenotype is not in HPO dataset\n",
      "RSE Model\n",
      "0.44549539470068844\n",
      "RSE Baseline\n",
      "0.6830199298802112\n",
      "causal tissue:\n",
      "Skin - Sun Exposed (Lower leg)\n",
      "causal gene\n",
      "MIPEP\n",
      "UDN ID                                               UDN969133\n",
      "Gene name                                                  MME\n",
      "HPO_ID       [HP:0000092, HP:0000093, HP:0000639, HP:000125...\n",
      "Name: 121, dtype: object\n",
      "/home/mmendoza/ANEVA/Adina/Tissue_Sensitivity//results_UDN//UDN969133\n"
     ]
    },
    {
     "name": "stderr",
     "output_type": "stream",
     "text": [
      "/home/bkotis/miniconda3/lib/python3.7/site-packages/ipykernel_launcher.py:56: FutureWarning: The 'get_values' method is deprecated and will be removed in a future version. Use '.to_numpy()' or '.array' instead.\n"
     ]
    },
    {
     "name": "stdout",
     "output_type": "stream",
     "text": [
      "phenotype is not in HPO dataset\n",
      "RSE Model\n",
      "0.3618948380600197\n",
      "RSE Baseline\n",
      "0.6371745344947762\n",
      "causal tissue:\n",
      "Muscle - Skeletal\n",
      "causal gene\n",
      "MME\n",
      "UDN ID                                               UDN103304\n",
      "Gene name                                                MPV17\n",
      "HPO_ID       [HP:0000360, HP:0000508, HP:0000613, HP:000076...\n",
      "Name: 122, dtype: object\n",
      "/home/mmendoza/ANEVA/Adina/Tissue_Sensitivity//results_UDN//UDN103304\n"
     ]
    },
    {
     "name": "stderr",
     "output_type": "stream",
     "text": [
      "/home/bkotis/miniconda3/lib/python3.7/site-packages/ipykernel_launcher.py:56: FutureWarning: The 'get_values' method is deprecated and will be removed in a future version. Use '.to_numpy()' or '.array' instead.\n"
     ]
    },
    {
     "name": "stdout",
     "output_type": "stream",
     "text": [
      "RSE Model\n",
      "0.3683754496647312\n",
      "RSE Baseline\n",
      "0.6363747745175848\n",
      "causal tissue:\n",
      "Thyroid\n",
      "causal gene\n",
      "MPV17\n",
      "UDN ID                                               UDN765206\n",
      "Gene name                                                MRE11\n",
      "HPO_ID       [HP:0000540, HP:0000565, HP:0000657, HP:000126...\n",
      "Name: 123, dtype: object\n",
      "/home/mmendoza/ANEVA/Adina/Tissue_Sensitivity//results_UDN//UDN765206\n"
     ]
    },
    {
     "name": "stderr",
     "output_type": "stream",
     "text": [
      "/home/bkotis/miniconda3/lib/python3.7/site-packages/ipykernel_launcher.py:56: FutureWarning: The 'get_values' method is deprecated and will be removed in a future version. Use '.to_numpy()' or '.array' instead.\n"
     ]
    },
    {
     "name": "stdout",
     "output_type": "stream",
     "text": [
      "RSE Model\n",
      "0.47169899119148373\n",
      "RSE Baseline\n",
      "0.7193625015824301\n",
      "causal tissue:\n",
      "Skin - Sun Exposed (Lower leg)\n",
      "causal gene\n",
      "MRE11\n",
      "UDN ID                                               UDN734331\n",
      "Gene name                                                MSTO1\n",
      "HPO_ID       [HP:0000824, HP:0001152, HP:0001272, HP:000128...\n",
      "Name: 124, dtype: object\n",
      "/home/mmendoza/ANEVA/Adina/Tissue_Sensitivity//results_UDN//UDN734331\n"
     ]
    },
    {
     "name": "stderr",
     "output_type": "stream",
     "text": [
      "/home/bkotis/miniconda3/lib/python3.7/site-packages/ipykernel_launcher.py:56: FutureWarning: The 'get_values' method is deprecated and will be removed in a future version. Use '.to_numpy()' or '.array' instead.\n"
     ]
    },
    {
     "name": "stdout",
     "output_type": "stream",
     "text": [
      "RSE Model\n",
      "0.29377982119347773\n",
      "RSE Baseline\n",
      "0.6098898552142451\n",
      "causal tissue:\n",
      "Breast - Mammary Tissue\n",
      "causal gene\n",
      "MSTO1\n",
      "UDN ID                                               UDN040699\n",
      "Gene name                                                MT-TT\n",
      "HPO_ID       [HP:0000551, HP:0000869, HP:0001250, HP:000126...\n",
      "Name: 125, dtype: object\n",
      "/home/mmendoza/ANEVA/Adina/Tissue_Sensitivity//results_UDN//UDN040699\n"
     ]
    },
    {
     "name": "stderr",
     "output_type": "stream",
     "text": [
      "/home/bkotis/miniconda3/lib/python3.7/site-packages/ipykernel_launcher.py:56: FutureWarning: The 'get_values' method is deprecated and will be removed in a future version. Use '.to_numpy()' or '.array' instead.\n"
     ]
    },
    {
     "name": "stdout",
     "output_type": "stream",
     "text": [
      "No gene match on GTEx\n"
     ]
    },
    {
     "name": "stderr",
     "output_type": "stream",
     "text": [
      "/home/bkotis/miniconda3/lib/python3.7/site-packages/ipykernel_launcher.py:42: SettingWithCopyWarning: \n",
      "A value is trying to be set on a copy of a slice from a DataFrame.\n",
      "Try using .loc[row_indexer,col_indexer] = value instead\n",
      "\n",
      "See the caveats in the documentation: http://pandas.pydata.org/pandas-docs/stable/user_guide/indexing.html#returning-a-view-versus-a-copy\n",
      "/home/bkotis/miniconda3/lib/python3.7/site-packages/ipykernel_launcher.py:43: SettingWithCopyWarning: \n",
      "A value is trying to be set on a copy of a slice from a DataFrame.\n",
      "Try using .loc[row_indexer,col_indexer] = value instead\n",
      "\n",
      "See the caveats in the documentation: http://pandas.pydata.org/pandas-docs/stable/user_guide/indexing.html#returning-a-view-versus-a-copy\n",
      "/home/bkotis/miniconda3/lib/python3.7/site-packages/ipykernel_launcher.py:72: RuntimeWarning: invalid value encountered in double_scalars\n",
      "/home/bkotis/miniconda3/lib/python3.7/site-packages/ipykernel_launcher.py:73: RuntimeWarning: invalid value encountered in double_scalars\n"
     ]
    },
    {
     "name": "stdout",
     "output_type": "stream",
     "text": [
      "RSE Model\n",
      "nan\n",
      "RSE Baseline\n",
      "nan\n",
      "causal tissue:\n",
      "Adipose - Subcutaneous\n",
      "causal gene\n",
      "MT-TT\n",
      "UDN ID                                               UDN340024\n",
      "Gene name                                                 MTOR\n",
      "HPO_ID       [HP:0000059, HP:0000256, HP:0000260, HP:000030...\n",
      "Name: 126, dtype: object\n",
      "/home/mmendoza/ANEVA/Adina/Tissue_Sensitivity//results_UDN//UDN340024\n"
     ]
    },
    {
     "name": "stderr",
     "output_type": "stream",
     "text": [
      "/home/bkotis/miniconda3/lib/python3.7/site-packages/ipykernel_launcher.py:56: FutureWarning: The 'get_values' method is deprecated and will be removed in a future version. Use '.to_numpy()' or '.array' instead.\n"
     ]
    },
    {
     "name": "stdout",
     "output_type": "stream",
     "text": [
      "phenotype is not in HPO dataset\n",
      "phenotype is not in HPO dataset\n",
      "phenotype is not in HPO dataset\n",
      "phenotype is not in HPO dataset\n",
      "RSE Model\n",
      "0.40664157611367935\n",
      "RSE Baseline\n",
      "0.663582260353047\n",
      "causal tissue:\n",
      "Muscle - Skeletal\n",
      "causal gene\n",
      "MTOR\n",
      "UDN ID                                               UDN881904\n",
      "Gene name                                                 MYH2\n",
      "HPO_ID       [HP:0001097, HP:0001324, HP:0001347, HP:000137...\n",
      "Name: 127, dtype: object\n",
      "/home/mmendoza/ANEVA/Adina/Tissue_Sensitivity//results_UDN//UDN881904\n"
     ]
    },
    {
     "name": "stderr",
     "output_type": "stream",
     "text": [
      "/home/bkotis/miniconda3/lib/python3.7/site-packages/ipykernel_launcher.py:56: FutureWarning: The 'get_values' method is deprecated and will be removed in a future version. Use '.to_numpy()' or '.array' instead.\n"
     ]
    },
    {
     "name": "stdout",
     "output_type": "stream",
     "text": [
      "RSE Model\n",
      "56.26225240517598\n",
      "RSE Baseline\n",
      "10.019289793707646\n",
      "causal tissue:\n",
      "Esophagus - Muscularis\n",
      "causal gene\n",
      "MYH2\n",
      "UDN ID                                               UDN535761\n",
      "Gene name                                                  NaN\n",
      "HPO_ID       [HP:0000020, HP:0000505, HP:0000726, HP:000125...\n",
      "Name: 128, dtype: object\n",
      "/home/mmendoza/ANEVA/Adina/Tissue_Sensitivity//results_UDN//UDN535761\n"
     ]
    },
    {
     "name": "stderr",
     "output_type": "stream",
     "text": [
      "/home/bkotis/miniconda3/lib/python3.7/site-packages/ipykernel_launcher.py:56: FutureWarning: The 'get_values' method is deprecated and will be removed in a future version. Use '.to_numpy()' or '.array' instead.\n"
     ]
    },
    {
     "name": "stdout",
     "output_type": "stream",
     "text": [
      "No gene match on GTEx\n"
     ]
    },
    {
     "name": "stderr",
     "output_type": "stream",
     "text": [
      "/home/bkotis/miniconda3/lib/python3.7/site-packages/ipykernel_launcher.py:42: SettingWithCopyWarning: \n",
      "A value is trying to be set on a copy of a slice from a DataFrame.\n",
      "Try using .loc[row_indexer,col_indexer] = value instead\n",
      "\n",
      "See the caveats in the documentation: http://pandas.pydata.org/pandas-docs/stable/user_guide/indexing.html#returning-a-view-versus-a-copy\n",
      "/home/bkotis/miniconda3/lib/python3.7/site-packages/ipykernel_launcher.py:43: SettingWithCopyWarning: \n",
      "A value is trying to be set on a copy of a slice from a DataFrame.\n",
      "Try using .loc[row_indexer,col_indexer] = value instead\n",
      "\n",
      "See the caveats in the documentation: http://pandas.pydata.org/pandas-docs/stable/user_guide/indexing.html#returning-a-view-versus-a-copy\n",
      "/home/bkotis/miniconda3/lib/python3.7/site-packages/ipykernel_launcher.py:72: RuntimeWarning: invalid value encountered in double_scalars\n",
      "/home/bkotis/miniconda3/lib/python3.7/site-packages/ipykernel_launcher.py:73: RuntimeWarning: invalid value encountered in double_scalars\n"
     ]
    },
    {
     "name": "stdout",
     "output_type": "stream",
     "text": [
      "RSE Model\n",
      "nan\n",
      "RSE Baseline\n",
      "nan\n",
      "causal tissue:\n",
      "Adipose - Subcutaneous\n",
      "causal gene\n",
      "nan\n",
      "UDN ID                                               UDN767369\n",
      "Gene name                                                  NaN\n",
      "HPO_ID       [HP:0000325, HP:0000369, HP:0000678, HP:000095...\n",
      "Name: 129, dtype: object\n",
      "/home/mmendoza/ANEVA/Adina/Tissue_Sensitivity//results_UDN//UDN767369\n",
      "phenotype is not in HPO dataset\n",
      "phenotype is not in HPO dataset\n",
      "No gene match on GTEx\n"
     ]
    },
    {
     "name": "stderr",
     "output_type": "stream",
     "text": [
      "/home/bkotis/miniconda3/lib/python3.7/site-packages/ipykernel_launcher.py:56: FutureWarning: The 'get_values' method is deprecated and will be removed in a future version. Use '.to_numpy()' or '.array' instead.\n",
      "/home/bkotis/miniconda3/lib/python3.7/site-packages/ipykernel_launcher.py:42: SettingWithCopyWarning: \n",
      "A value is trying to be set on a copy of a slice from a DataFrame.\n",
      "Try using .loc[row_indexer,col_indexer] = value instead\n",
      "\n",
      "See the caveats in the documentation: http://pandas.pydata.org/pandas-docs/stable/user_guide/indexing.html#returning-a-view-versus-a-copy\n",
      "/home/bkotis/miniconda3/lib/python3.7/site-packages/ipykernel_launcher.py:43: SettingWithCopyWarning: \n",
      "A value is trying to be set on a copy of a slice from a DataFrame.\n",
      "Try using .loc[row_indexer,col_indexer] = value instead\n",
      "\n",
      "See the caveats in the documentation: http://pandas.pydata.org/pandas-docs/stable/user_guide/indexing.html#returning-a-view-versus-a-copy\n",
      "/home/bkotis/miniconda3/lib/python3.7/site-packages/ipykernel_launcher.py:72: RuntimeWarning: invalid value encountered in double_scalars\n",
      "/home/bkotis/miniconda3/lib/python3.7/site-packages/ipykernel_launcher.py:73: RuntimeWarning: invalid value encountered in double_scalars\n"
     ]
    },
    {
     "name": "stdout",
     "output_type": "stream",
     "text": [
      "RSE Model\n",
      "nan\n",
      "RSE Baseline\n",
      "nan\n",
      "causal tissue:\n",
      "Adipose - Subcutaneous\n",
      "causal gene\n",
      "nan\n",
      "UDN ID                                               UDN627073\n",
      "Gene name                                                  NaN\n",
      "HPO_ID       [HP:0000403, HP:0000750, HP:0000771, HP:000188...\n",
      "Name: 130, dtype: object\n",
      "/home/mmendoza/ANEVA/Adina/Tissue_Sensitivity//results_UDN//UDN627073\n"
     ]
    },
    {
     "name": "stderr",
     "output_type": "stream",
     "text": [
      "/home/bkotis/miniconda3/lib/python3.7/site-packages/ipykernel_launcher.py:56: FutureWarning: The 'get_values' method is deprecated and will be removed in a future version. Use '.to_numpy()' or '.array' instead.\n"
     ]
    },
    {
     "name": "stdout",
     "output_type": "stream",
     "text": [
      "No gene match on GTEx\n",
      "RSE Model\n",
      "nan\n",
      "RSE Baseline\n",
      "nan\n",
      "causal tissue:\n",
      "Adipose - Subcutaneous\n",
      "causal gene\n",
      "nan\n",
      "UDN ID                                               UDN661580\n",
      "Gene name                                                NACC1\n",
      "HPO_ID       [HP:0000248, HP:0000322, HP:0000470, HP:000052...\n",
      "Name: 131, dtype: object\n",
      "/home/mmendoza/ANEVA/Adina/Tissue_Sensitivity//results_UDN//UDN661580\n"
     ]
    },
    {
     "name": "stderr",
     "output_type": "stream",
     "text": [
      "/home/bkotis/miniconda3/lib/python3.7/site-packages/ipykernel_launcher.py:42: SettingWithCopyWarning: \n",
      "A value is trying to be set on a copy of a slice from a DataFrame.\n",
      "Try using .loc[row_indexer,col_indexer] = value instead\n",
      "\n",
      "See the caveats in the documentation: http://pandas.pydata.org/pandas-docs/stable/user_guide/indexing.html#returning-a-view-versus-a-copy\n",
      "/home/bkotis/miniconda3/lib/python3.7/site-packages/ipykernel_launcher.py:43: SettingWithCopyWarning: \n",
      "A value is trying to be set on a copy of a slice from a DataFrame.\n",
      "Try using .loc[row_indexer,col_indexer] = value instead\n",
      "\n",
      "See the caveats in the documentation: http://pandas.pydata.org/pandas-docs/stable/user_guide/indexing.html#returning-a-view-versus-a-copy\n",
      "/home/bkotis/miniconda3/lib/python3.7/site-packages/ipykernel_launcher.py:72: RuntimeWarning: invalid value encountered in double_scalars\n",
      "/home/bkotis/miniconda3/lib/python3.7/site-packages/ipykernel_launcher.py:73: RuntimeWarning: invalid value encountered in double_scalars\n",
      "/home/bkotis/miniconda3/lib/python3.7/site-packages/ipykernel_launcher.py:56: FutureWarning: The 'get_values' method is deprecated and will be removed in a future version. Use '.to_numpy()' or '.array' instead.\n"
     ]
    },
    {
     "name": "stdout",
     "output_type": "stream",
     "text": [
      "phenotype is not in HPO dataset\n",
      "RSE Model\n",
      "0.4374378829654748\n",
      "RSE Baseline\n",
      "0.6786273137480383\n",
      "causal tissue:\n",
      "Esophagus - Muscularis\n",
      "causal gene\n",
      "NACC1\n",
      "UDN ID                                               UDN829699\n",
      "Gene name                                                NADK2\n",
      "HPO_ID       [HP:0000322, HP:0000575, HP:0000648, HP:000216...\n",
      "Name: 132, dtype: object\n",
      "/home/mmendoza/ANEVA/Adina/Tissue_Sensitivity//results_UDN//UDN829699\n"
     ]
    },
    {
     "name": "stderr",
     "output_type": "stream",
     "text": [
      "/home/bkotis/miniconda3/lib/python3.7/site-packages/ipykernel_launcher.py:56: FutureWarning: The 'get_values' method is deprecated and will be removed in a future version. Use '.to_numpy()' or '.array' instead.\n"
     ]
    },
    {
     "name": "stdout",
     "output_type": "stream",
     "text": [
      "phenotype is not in HPO dataset\n",
      "phenotype is not in HPO dataset\n",
      "RSE Model\n",
      "0.3934306213485538\n",
      "RSE Baseline\n",
      "0.6757180716756995\n",
      "causal tissue:\n",
      "Muscle - Skeletal\n",
      "causal gene\n",
      "NADK2\n",
      "UDN ID                                               UDN532866\n",
      "Gene name                                                NAGLU\n",
      "HPO_ID       [HP:0000020, HP:0000336, HP:0000400, HP:000051...\n",
      "Name: 133, dtype: object\n",
      "/home/mmendoza/ANEVA/Adina/Tissue_Sensitivity//results_UDN//UDN532866\n"
     ]
    },
    {
     "name": "stderr",
     "output_type": "stream",
     "text": [
      "/home/bkotis/miniconda3/lib/python3.7/site-packages/ipykernel_launcher.py:56: FutureWarning: The 'get_values' method is deprecated and will be removed in a future version. Use '.to_numpy()' or '.array' instead.\n"
     ]
    },
    {
     "name": "stdout",
     "output_type": "stream",
     "text": [
      "phenotype is not in HPO dataset\n",
      "RSE Model\n",
      "0.36710542640729926\n",
      "RSE Baseline\n",
      "0.6630788559679965\n",
      "causal tissue:\n",
      "Skin - Sun Exposed (Lower leg)\n",
      "causal gene\n",
      "NAGLU\n",
      "UDN ID                                               UDN438089\n",
      "Gene name                                                 NBEA\n",
      "HPO_ID       [HP:0000189, HP:0000252, HP:0000278, HP:000031...\n",
      "Name: 134, dtype: object\n",
      "/home/mmendoza/ANEVA/Adina/Tissue_Sensitivity//results_UDN//UDN438089\n"
     ]
    },
    {
     "name": "stderr",
     "output_type": "stream",
     "text": [
      "/home/bkotis/miniconda3/lib/python3.7/site-packages/ipykernel_launcher.py:56: FutureWarning: The 'get_values' method is deprecated and will be removed in a future version. Use '.to_numpy()' or '.array' instead.\n"
     ]
    },
    {
     "name": "stdout",
     "output_type": "stream",
     "text": [
      "phenotype is not in HPO dataset\n",
      "phenotype is not in HPO dataset\n",
      "RSE Model\n",
      "0.3736659338392706\n",
      "RSE Baseline\n",
      "0.6333274028417796\n",
      "causal tissue:\n",
      "Artery - Tibial\n",
      "causal gene\n",
      "NBEA\n",
      "UDN ID                                               UDN813101\n",
      "Gene name                                                NLRP3\n",
      "HPO_ID       [HP:0000478, HP:0001025, HP:0001954, HP:000332...\n",
      "Name: 135, dtype: object\n",
      "/home/mmendoza/ANEVA/Adina/Tissue_Sensitivity//results_UDN//UDN813101\n"
     ]
    },
    {
     "name": "stderr",
     "output_type": "stream",
     "text": [
      "/home/bkotis/miniconda3/lib/python3.7/site-packages/ipykernel_launcher.py:56: FutureWarning: The 'get_values' method is deprecated and will be removed in a future version. Use '.to_numpy()' or '.array' instead.\n"
     ]
    },
    {
     "name": "stdout",
     "output_type": "stream",
     "text": [
      "phenotype is not in HPO dataset\n",
      "phenotype is not in HPO dataset\n",
      "RSE Model\n",
      "0.5683796986158978\n",
      "RSE Baseline\n",
      "0.705152125988945\n",
      "causal tissue:\n",
      "Whole Blood\n",
      "causal gene\n",
      "NLRP3\n",
      "UDN ID                                               UDN226420\n",
      "Gene name                                                NPHP1\n",
      "HPO_ID       [HP:0000090, HP:0000256, HP:0000343, HP:000043...\n",
      "Name: 136, dtype: object\n",
      "/home/mmendoza/ANEVA/Adina/Tissue_Sensitivity//results_UDN//UDN226420\n"
     ]
    },
    {
     "name": "stderr",
     "output_type": "stream",
     "text": [
      "/home/bkotis/miniconda3/lib/python3.7/site-packages/ipykernel_launcher.py:56: FutureWarning: The 'get_values' method is deprecated and will be removed in a future version. Use '.to_numpy()' or '.array' instead.\n"
     ]
    },
    {
     "name": "stdout",
     "output_type": "stream",
     "text": [
      "RSE Model\n",
      "0.32177604595782755\n",
      "RSE Baseline\n",
      "0.5977581746649608\n",
      "causal tissue:\n",
      "Thyroid\n",
      "causal gene\n",
      "NPHP1\n",
      "UDN ID                                               UDN532183\n",
      "Gene name                                                NR2F2\n",
      "HPO_ID       [HP:0000083, HP:0000110, HP:0000252, HP:000057...\n",
      "Name: 137, dtype: object\n",
      "/home/mmendoza/ANEVA/Adina/Tissue_Sensitivity//results_UDN//UDN532183\n"
     ]
    },
    {
     "name": "stderr",
     "output_type": "stream",
     "text": [
      "/home/bkotis/miniconda3/lib/python3.7/site-packages/ipykernel_launcher.py:56: FutureWarning: The 'get_values' method is deprecated and will be removed in a future version. Use '.to_numpy()' or '.array' instead.\n"
     ]
    },
    {
     "name": "stdout",
     "output_type": "stream",
     "text": [
      "phenotype is not in HPO dataset\n",
      "RSE Model\n",
      "0.35932304345221017\n",
      "RSE Baseline\n",
      "0.6274233294928134\n",
      "causal tissue:\n",
      "Muscle - Skeletal\n",
      "causal gene\n",
      "NR2F2\n",
      "UDN ID                                               UDN365839\n",
      "Gene name                                                NR5A1\n",
      "HPO_ID       [HP:0000026, HP:0000027, HP:0000837, HP:000151...\n",
      "Name: 138, dtype: object\n",
      "/home/mmendoza/ANEVA/Adina/Tissue_Sensitivity//results_UDN//UDN365839\n"
     ]
    },
    {
     "name": "stderr",
     "output_type": "stream",
     "text": [
      "/home/bkotis/miniconda3/lib/python3.7/site-packages/ipykernel_launcher.py:56: FutureWarning: The 'get_values' method is deprecated and will be removed in a future version. Use '.to_numpy()' or '.array' instead.\n"
     ]
    },
    {
     "name": "stdout",
     "output_type": "stream",
     "text": [
      "phenotype is not in HPO dataset\n",
      "phenotype is not in HPO dataset\n",
      "RSE Model\n",
      "0.6464059413830169\n",
      "RSE Baseline\n",
      "0.7610364063287584\n",
      "causal tissue:\n",
      "Spleen\n",
      "causal gene\n",
      "NR5A1\n",
      "UDN ID                                               UDN863014\n",
      "Gene name                                                 NSD2\n",
      "HPO_ID       [HP:0000717, HP:0000750, HP:0000957, HP:000132...\n",
      "Name: 139, dtype: object\n",
      "/home/mmendoza/ANEVA/Adina/Tissue_Sensitivity//results_UDN//UDN863014\n"
     ]
    },
    {
     "name": "stderr",
     "output_type": "stream",
     "text": [
      "/home/bkotis/miniconda3/lib/python3.7/site-packages/ipykernel_launcher.py:56: FutureWarning: The 'get_values' method is deprecated and will be removed in a future version. Use '.to_numpy()' or '.array' instead.\n"
     ]
    },
    {
     "name": "stdout",
     "output_type": "stream",
     "text": [
      "RSE Model\n",
      "0.4151759315165759\n",
      "RSE Baseline\n",
      "0.6668706115640162\n",
      "causal tissue:\n",
      "Cells - Cultured fibroblasts\n",
      "causal gene\n",
      "NSD2\n",
      "UDN ID                                               UDN756970\n",
      "Gene name                                                NTRK2\n",
      "HPO_ID       [HP:0000252, HP:0000529, HP:0000545, HP:000064...\n",
      "Name: 140, dtype: object\n",
      "/home/mmendoza/ANEVA/Adina/Tissue_Sensitivity//results_UDN//UDN756970\n"
     ]
    },
    {
     "name": "stderr",
     "output_type": "stream",
     "text": [
      "/home/bkotis/miniconda3/lib/python3.7/site-packages/ipykernel_launcher.py:56: FutureWarning: The 'get_values' method is deprecated and will be removed in a future version. Use '.to_numpy()' or '.array' instead.\n"
     ]
    },
    {
     "name": "stdout",
     "output_type": "stream",
     "text": [
      "phenotype is not in HPO dataset\n",
      "RSE Model\n",
      "0.3754225142117234\n",
      "RSE Baseline\n",
      "0.6246135296531391\n",
      "causal tissue:\n",
      "Skin - Sun Exposed (Lower leg)\n",
      "causal gene\n",
      "NTRK2\n",
      "UDN ID                                               UDN321165\n",
      "Gene name                                                OPHN1\n",
      "HPO_ID       [HP:0000238, HP:0000377, HP:0000577, HP:000069...\n",
      "Name: 141, dtype: object\n",
      "/home/mmendoza/ANEVA/Adina/Tissue_Sensitivity//results_UDN//UDN321165\n"
     ]
    },
    {
     "name": "stderr",
     "output_type": "stream",
     "text": [
      "/home/bkotis/miniconda3/lib/python3.7/site-packages/ipykernel_launcher.py:56: FutureWarning: The 'get_values' method is deprecated and will be removed in a future version. Use '.to_numpy()' or '.array' instead.\n"
     ]
    },
    {
     "name": "stdout",
     "output_type": "stream",
     "text": [
      "RSE Model\n",
      "0.40330161856351154\n",
      "RSE Baseline\n",
      "0.655282925007704\n",
      "causal tissue:\n",
      "Nerve - Tibial\n",
      "causal gene\n",
      "OPHN1\n",
      "UDN ID                                               UDN172962\n",
      "Gene name                                                 PEX1\n",
      "HPO_ID       [HP:0000252, HP:0000272, HP:0000297, HP:000032...\n",
      "Name: 142, dtype: object\n",
      "/home/mmendoza/ANEVA/Adina/Tissue_Sensitivity//results_UDN//UDN172962\n"
     ]
    },
    {
     "name": "stderr",
     "output_type": "stream",
     "text": [
      "/home/bkotis/miniconda3/lib/python3.7/site-packages/ipykernel_launcher.py:56: FutureWarning: The 'get_values' method is deprecated and will be removed in a future version. Use '.to_numpy()' or '.array' instead.\n"
     ]
    },
    {
     "name": "stdout",
     "output_type": "stream",
     "text": [
      "phenotype is not in HPO dataset\n",
      "RSE Model\n",
      "0.44765828117577333\n",
      "RSE Baseline\n",
      "0.6763267745918995\n",
      "causal tissue:\n",
      "Skin - Sun Exposed (Lower leg)\n",
      "causal gene\n",
      "PEX1\n",
      "UDN ID                                               UDN279889\n",
      "Gene name                                               PEX11B\n",
      "HPO_ID       [HP:0000135, HP:0000482, HP:0000505, HP:000051...\n",
      "Name: 143, dtype: object\n",
      "/home/mmendoza/ANEVA/Adina/Tissue_Sensitivity//results_UDN//UDN279889\n"
     ]
    },
    {
     "name": "stderr",
     "output_type": "stream",
     "text": [
      "/home/bkotis/miniconda3/lib/python3.7/site-packages/ipykernel_launcher.py:56: FutureWarning: The 'get_values' method is deprecated and will be removed in a future version. Use '.to_numpy()' or '.array' instead.\n"
     ]
    },
    {
     "name": "stdout",
     "output_type": "stream",
     "text": [
      "phenotype is not in HPO dataset\n",
      "RSE Model\n",
      "0.5191163489137682\n",
      "RSE Baseline\n",
      "0.7221041792251673\n",
      "causal tissue:\n",
      "Cells - Cultured fibroblasts\n",
      "causal gene\n",
      "PEX11B\n",
      "UDN ID                                               UDN552884\n",
      "Gene name                                                 PEX6\n",
      "HPO_ID       [HP:0000252, HP:0000268, HP:0000300, HP:000032...\n",
      "Name: 144, dtype: object\n",
      "/home/mmendoza/ANEVA/Adina/Tissue_Sensitivity//results_UDN//UDN552884\n"
     ]
    },
    {
     "name": "stderr",
     "output_type": "stream",
     "text": [
      "/home/bkotis/miniconda3/lib/python3.7/site-packages/ipykernel_launcher.py:56: FutureWarning: The 'get_values' method is deprecated and will be removed in a future version. Use '.to_numpy()' or '.array' instead.\n"
     ]
    },
    {
     "name": "stdout",
     "output_type": "stream",
     "text": [
      "phenotype is not in HPO dataset\n",
      "RSE Model\n",
      "0.5097625113227379\n",
      "RSE Baseline\n",
      "0.7203352499565866\n",
      "causal tissue:\n",
      "Skin - Sun Exposed (Lower leg)\n",
      "causal gene\n",
      "PEX6\n",
      "UDN ID                                               UDN765090\n",
      "Gene name                                                 PHIP\n",
      "HPO_ID       [HP:0000049, HP:0000336, HP:0000400, HP:000040...\n",
      "Name: 145, dtype: object\n",
      "/home/mmendoza/ANEVA/Adina/Tissue_Sensitivity//results_UDN//UDN765090\n"
     ]
    },
    {
     "name": "stderr",
     "output_type": "stream",
     "text": [
      "/home/bkotis/miniconda3/lib/python3.7/site-packages/ipykernel_launcher.py:56: FutureWarning: The 'get_values' method is deprecated and will be removed in a future version. Use '.to_numpy()' or '.array' instead.\n"
     ]
    },
    {
     "name": "stdout",
     "output_type": "stream",
     "text": [
      "phenotype is not in HPO dataset\n",
      "phenotype is not in HPO dataset\n",
      "phenotype is not in HPO dataset\n",
      "RSE Model\n",
      "0.40666687543767077\n",
      "RSE Baseline\n",
      "0.6393196778762719\n",
      "causal tissue:\n",
      "Muscle - Skeletal\n",
      "causal gene\n",
      "PHIP\n",
      "UDN ID                                               UDN828451\n",
      "Gene name                                                 PHIP\n",
      "HPO_ID       [HP:0000252, HP:0000400, HP:0000545, HP:000095...\n",
      "Name: 146, dtype: object\n",
      "/home/mmendoza/ANEVA/Adina/Tissue_Sensitivity//results_UDN//UDN828451\n"
     ]
    },
    {
     "name": "stderr",
     "output_type": "stream",
     "text": [
      "/home/bkotis/miniconda3/lib/python3.7/site-packages/ipykernel_launcher.py:56: FutureWarning: The 'get_values' method is deprecated and will be removed in a future version. Use '.to_numpy()' or '.array' instead.\n"
     ]
    },
    {
     "name": "stdout",
     "output_type": "stream",
     "text": [
      "RSE Model\n",
      "0.35534383707648093\n",
      "RSE Baseline\n",
      "0.6393196778762719\n",
      "causal tissue:\n",
      "Muscle - Skeletal\n",
      "causal gene\n",
      "PHIP\n",
      "UDN ID                                               UDN297526\n",
      "Gene name                                               PIEZO2\n",
      "HPO_ID       [HP:0000160, HP:0000418, HP:0000678, HP:000128...\n",
      "Name: 147, dtype: object\n",
      "/home/mmendoza/ANEVA/Adina/Tissue_Sensitivity//results_UDN//UDN297526\n"
     ]
    },
    {
     "name": "stderr",
     "output_type": "stream",
     "text": [
      "/home/bkotis/miniconda3/lib/python3.7/site-packages/ipykernel_launcher.py:56: FutureWarning: The 'get_values' method is deprecated and will be removed in a future version. Use '.to_numpy()' or '.array' instead.\n"
     ]
    },
    {
     "name": "stdout",
     "output_type": "stream",
     "text": [
      "phenotype is not in HPO dataset\n",
      "RSE Model\n",
      "0.3736611123596995\n",
      "RSE Baseline\n",
      "0.6113167159146035\n",
      "causal tissue:\n",
      "Brain - Spinal cord (cervical c-1)\n",
      "causal gene\n",
      "PIEZO2\n",
      "UDN ID                                               UDN789194\n",
      "Gene name                                               PIK3CA\n",
      "HPO_ID       [HP:0000028, HP:0000256, HP:0001028, HP:000129...\n",
      "Name: 148, dtype: object\n",
      "/home/mmendoza/ANEVA/Adina/Tissue_Sensitivity//results_UDN//UDN789194\n"
     ]
    },
    {
     "name": "stderr",
     "output_type": "stream",
     "text": [
      "/home/bkotis/miniconda3/lib/python3.7/site-packages/ipykernel_launcher.py:56: FutureWarning: The 'get_values' method is deprecated and will be removed in a future version. Use '.to_numpy()' or '.array' instead.\n"
     ]
    },
    {
     "name": "stdout",
     "output_type": "stream",
     "text": [
      "RSE Model\n",
      "0.36332799121775966\n",
      "RSE Baseline\n",
      "0.6458585743561238\n",
      "causal tissue:\n",
      "Muscle - Skeletal\n",
      "causal gene\n",
      "PIK3CA\n",
      "UDN ID                                               UDN483323\n",
      "Gene name                                                 PKD1\n",
      "HPO_ID       [HP:0000822, HP:0000939, HP:0001373, HP:000138...\n",
      "Name: 149, dtype: object\n",
      "/home/mmendoza/ANEVA/Adina/Tissue_Sensitivity//results_UDN//UDN483323\n"
     ]
    },
    {
     "name": "stderr",
     "output_type": "stream",
     "text": [
      "/home/bkotis/miniconda3/lib/python3.7/site-packages/ipykernel_launcher.py:56: FutureWarning: The 'get_values' method is deprecated and will be removed in a future version. Use '.to_numpy()' or '.array' instead.\n"
     ]
    },
    {
     "name": "stdout",
     "output_type": "stream",
     "text": [
      "RSE Model\n",
      "0.26273752433738135\n",
      "RSE Baseline\n",
      "0.5906194891321924\n",
      "causal tissue:\n",
      "Muscle - Skeletal\n",
      "causal gene\n",
      "PKD1\n",
      "UDN ID                                               UDN396254\n",
      "Gene name                                               PLA2G6\n",
      "HPO_ID       [HP:0000648, HP:0001252, HP:0001308, HP:000132...\n",
      "Name: 150, dtype: object\n",
      "/home/mmendoza/ANEVA/Adina/Tissue_Sensitivity//results_UDN//UDN396254\n"
     ]
    },
    {
     "name": "stderr",
     "output_type": "stream",
     "text": [
      "/home/bkotis/miniconda3/lib/python3.7/site-packages/ipykernel_launcher.py:56: FutureWarning: The 'get_values' method is deprecated and will be removed in a future version. Use '.to_numpy()' or '.array' instead.\n"
     ]
    },
    {
     "name": "stdout",
     "output_type": "stream",
     "text": [
      "RSE Model\n",
      "0.3738270855188725\n",
      "RSE Baseline\n",
      "0.6843070004727253\n",
      "causal tissue:\n",
      "Skin - Sun Exposed (Lower leg)\n",
      "causal gene\n",
      "PLA2G6\n",
      "UDN ID                                               UDN164200\n",
      "Gene name                                               PLA2G6\n",
      "HPO_ID       [HP:0000294, HP:0000369, HP:0000391, HP:000067...\n",
      "Name: 151, dtype: object\n",
      "/home/mmendoza/ANEVA/Adina/Tissue_Sensitivity//results_UDN//UDN164200\n"
     ]
    },
    {
     "name": "stderr",
     "output_type": "stream",
     "text": [
      "/home/bkotis/miniconda3/lib/python3.7/site-packages/ipykernel_launcher.py:56: FutureWarning: The 'get_values' method is deprecated and will be removed in a future version. Use '.to_numpy()' or '.array' instead.\n"
     ]
    },
    {
     "name": "stdout",
     "output_type": "stream",
     "text": [
      "phenotype is not in HPO dataset\n",
      "phenotype is not in HPO dataset\n",
      "RSE Model\n",
      "0.43044930501359224\n",
      "RSE Baseline\n",
      "0.6843070004727253\n",
      "causal tissue:\n",
      "Skin - Sun Exposed (Lower leg)\n",
      "causal gene\n",
      "PLA2G6\n",
      "UDN ID                                               UDN797216\n",
      "Gene name                                                PMP22\n",
      "HPO_ID       [HP:0000365, HP:0000843, HP:0000969, HP:000265...\n",
      "Name: 152, dtype: object\n",
      "/home/mmendoza/ANEVA/Adina/Tissue_Sensitivity//results_UDN//UDN797216\n"
     ]
    },
    {
     "name": "stderr",
     "output_type": "stream",
     "text": [
      "/home/bkotis/miniconda3/lib/python3.7/site-packages/ipykernel_launcher.py:56: FutureWarning: The 'get_values' method is deprecated and will be removed in a future version. Use '.to_numpy()' or '.array' instead.\n"
     ]
    },
    {
     "name": "stdout",
     "output_type": "stream",
     "text": [
      "RSE Model\n",
      "0.34853729564762675\n",
      "RSE Baseline\n",
      "0.6076884588122393\n",
      "causal tissue:\n",
      "Adipose - Subcutaneous\n",
      "causal gene\n",
      "PMP22\n",
      "UDN ID                                               UDN714418\n",
      "Gene name                                                 POC5\n",
      "HPO_ID       [HP:0000717, HP:0000722, HP:0001187, HP:000124...\n",
      "Name: 153, dtype: object\n",
      "/home/mmendoza/ANEVA/Adina/Tissue_Sensitivity//results_UDN//UDN714418\n"
     ]
    },
    {
     "name": "stderr",
     "output_type": "stream",
     "text": [
      "/home/bkotis/miniconda3/lib/python3.7/site-packages/ipykernel_launcher.py:56: FutureWarning: The 'get_values' method is deprecated and will be removed in a future version. Use '.to_numpy()' or '.array' instead.\n"
     ]
    },
    {
     "name": "stdout",
     "output_type": "stream",
     "text": [
      "RSE Model\n",
      "0.43221565697867625\n",
      "RSE Baseline\n",
      "0.6604342692370975\n",
      "causal tissue:\n",
      "Testis\n",
      "causal gene\n",
      "POC5\n",
      "UDN ID                                               UDN915723\n",
      "Gene name                                                 POLG\n",
      "HPO_ID       [HP:0001250, HP:0001265, HP:0001271, HP:000133...\n",
      "Name: 154, dtype: object\n",
      "/home/mmendoza/ANEVA/Adina/Tissue_Sensitivity//results_UDN//UDN915723\n"
     ]
    },
    {
     "name": "stderr",
     "output_type": "stream",
     "text": [
      "/home/bkotis/miniconda3/lib/python3.7/site-packages/ipykernel_launcher.py:56: FutureWarning: The 'get_values' method is deprecated and will be removed in a future version. Use '.to_numpy()' or '.array' instead.\n"
     ]
    },
    {
     "name": "stdout",
     "output_type": "stream",
     "text": [
      "RSE Model\n",
      "0.4001537270347755\n",
      "RSE Baseline\n",
      "0.6736599981141432\n",
      "causal tissue:\n",
      "Muscle - Skeletal\n",
      "causal gene\n",
      "POLG\n",
      "UDN ID                                               UDN759063\n",
      "Gene name                                               PPP3CA\n",
      "HPO_ID       [HP:0000717, HP:0000733, HP:0000752, HP:000129...\n",
      "Name: 155, dtype: object\n",
      "/home/mmendoza/ANEVA/Adina/Tissue_Sensitivity//results_UDN//UDN759063\n"
     ]
    },
    {
     "name": "stderr",
     "output_type": "stream",
     "text": [
      "/home/bkotis/miniconda3/lib/python3.7/site-packages/ipykernel_launcher.py:56: FutureWarning: The 'get_values' method is deprecated and will be removed in a future version. Use '.to_numpy()' or '.array' instead.\n"
     ]
    },
    {
     "name": "stdout",
     "output_type": "stream",
     "text": [
      "phenotype is not in HPO dataset\n",
      "RSE Model\n",
      "0.3224767741496341\n",
      "RSE Baseline\n",
      "0.5728166184037526\n",
      "causal tissue:\n",
      "Skin - Sun Exposed (Lower leg)\n",
      "causal gene\n",
      "PPP3CA\n",
      "UDN ID                                               UDN415602\n",
      "Gene name                                                 PRNP\n",
      "HPO_ID       [HP:0000020, HP:0000716, HP:0001257, HP:000127...\n",
      "Name: 156, dtype: object\n",
      "/home/mmendoza/ANEVA/Adina/Tissue_Sensitivity//results_UDN//UDN415602\n"
     ]
    },
    {
     "name": "stderr",
     "output_type": "stream",
     "text": [
      "/home/bkotis/miniconda3/lib/python3.7/site-packages/ipykernel_launcher.py:56: FutureWarning: The 'get_values' method is deprecated and will be removed in a future version. Use '.to_numpy()' or '.array' instead.\n"
     ]
    },
    {
     "name": "stdout",
     "output_type": "stream",
     "text": [
      "phenotype is not in HPO dataset\n",
      "phenotype is not in HPO dataset\n",
      "phenotype is not in HPO dataset\n",
      "phenotype is not in HPO dataset\n",
      "phenotype is not in HPO dataset\n",
      "RSE Model\n",
      "0.37042175878289946\n",
      "RSE Baseline\n",
      "0.6422054658195053\n",
      "causal tissue:\n",
      "Muscle - Skeletal\n",
      "causal gene\n",
      "PRNP\n",
      "UDN ID                                               UDN557315\n",
      "Gene name                                                 PRNP\n",
      "HPO_ID       [HP:0000020, HP:0000716, HP:0000726, HP:000125...\n",
      "Name: 157, dtype: object\n",
      "/home/mmendoza/ANEVA/Adina/Tissue_Sensitivity//results_UDN//UDN557315\n"
     ]
    },
    {
     "name": "stderr",
     "output_type": "stream",
     "text": [
      "/home/bkotis/miniconda3/lib/python3.7/site-packages/ipykernel_launcher.py:56: FutureWarning: The 'get_values' method is deprecated and will be removed in a future version. Use '.to_numpy()' or '.array' instead.\n"
     ]
    },
    {
     "name": "stdout",
     "output_type": "stream",
     "text": [
      "RSE Model\n",
      "0.328509394316083\n",
      "RSE Baseline\n",
      "0.6422054658195053\n",
      "causal tissue:\n",
      "Muscle - Skeletal\n",
      "causal gene\n",
      "PRNP\n",
      "UDN ID                                               UDN432247\n",
      "Gene name                                                PSEN1\n",
      "HPO_ID       [HP:0000194, HP:0000218, HP:0000356, HP:000039...\n",
      "Name: 158, dtype: object\n",
      "/home/mmendoza/ANEVA/Adina/Tissue_Sensitivity//results_UDN//UDN432247\n"
     ]
    },
    {
     "name": "stderr",
     "output_type": "stream",
     "text": [
      "/home/bkotis/miniconda3/lib/python3.7/site-packages/ipykernel_launcher.py:56: FutureWarning: The 'get_values' method is deprecated and will be removed in a future version. Use '.to_numpy()' or '.array' instead.\n"
     ]
    },
    {
     "name": "stdout",
     "output_type": "stream",
     "text": [
      "phenotype is not in HPO dataset\n",
      "RSE Model\n",
      "0.33611194642660197\n",
      "RSE Baseline\n",
      "0.6488525041230948\n",
      "causal tissue:\n",
      "Muscle - Skeletal\n",
      "causal gene\n",
      "PSEN1\n",
      "UDN ID                                               UDN203473\n",
      "Gene name                                               PSMD12\n",
      "HPO_ID       [HP:0000256, HP:0000327, HP:0000331, HP:000041...\n",
      "Name: 159, dtype: object\n",
      "/home/mmendoza/ANEVA/Adina/Tissue_Sensitivity//results_UDN//UDN203473\n"
     ]
    },
    {
     "name": "stderr",
     "output_type": "stream",
     "text": [
      "/home/bkotis/miniconda3/lib/python3.7/site-packages/ipykernel_launcher.py:56: FutureWarning: The 'get_values' method is deprecated and will be removed in a future version. Use '.to_numpy()' or '.array' instead.\n"
     ]
    },
    {
     "name": "stdout",
     "output_type": "stream",
     "text": [
      "RSE Model\n",
      "0.47957407250697454\n",
      "RSE Baseline\n",
      "0.698101931966302\n",
      "causal tissue:\n",
      "Muscle - Skeletal\n",
      "causal gene\n",
      "PSMD12\n",
      "UDN ID                                               UDN617993\n",
      "Gene name                                                PTCH1\n",
      "HPO_ID       [HP:0000089, HP:0000194, HP:0000201, HP:000025...\n",
      "Name: 160, dtype: object\n",
      "/home/mmendoza/ANEVA/Adina/Tissue_Sensitivity//results_UDN//UDN617993\n"
     ]
    },
    {
     "name": "stderr",
     "output_type": "stream",
     "text": [
      "/home/bkotis/miniconda3/lib/python3.7/site-packages/ipykernel_launcher.py:56: FutureWarning: The 'get_values' method is deprecated and will be removed in a future version. Use '.to_numpy()' or '.array' instead.\n"
     ]
    },
    {
     "name": "stdout",
     "output_type": "stream",
     "text": [
      "phenotype is not in HPO dataset\n",
      "phenotype is not in HPO dataset\n",
      "phenotype is not in HPO dataset\n",
      "phenotype is not in HPO dataset\n",
      "RSE Model\n",
      "0.3493001935402358\n",
      "RSE Baseline\n",
      "0.6110064519077104\n",
      "causal tissue:\n",
      "Nerve - Tibial\n",
      "causal gene\n",
      "PTCH1\n",
      "UDN ID                                               UDN640993\n",
      "Gene name                                               PTPN11\n",
      "HPO_ID       [HP:0000132, HP:0000276, HP:0000341, HP:000037...\n",
      "Name: 161, dtype: object\n",
      "/home/mmendoza/ANEVA/Adina/Tissue_Sensitivity//results_UDN//UDN640993\n"
     ]
    },
    {
     "name": "stderr",
     "output_type": "stream",
     "text": [
      "/home/bkotis/miniconda3/lib/python3.7/site-packages/ipykernel_launcher.py:56: FutureWarning: The 'get_values' method is deprecated and will be removed in a future version. Use '.to_numpy()' or '.array' instead.\n"
     ]
    },
    {
     "name": "stdout",
     "output_type": "stream",
     "text": [
      "RSE Model\n",
      "0.4779682635544641\n",
      "RSE Baseline\n",
      "0.7073490757149065\n",
      "causal tissue:\n",
      "Muscle - Skeletal\n",
      "causal gene\n",
      "PTPN11\n",
      "UDN ID                                               UDN817437\n",
      "Gene name                                                 PURA\n",
      "HPO_ID       [HP:0000218, HP:0000484, HP:0000565, HP:000064...\n",
      "Name: 162, dtype: object\n",
      "/home/mmendoza/ANEVA/Adina/Tissue_Sensitivity//results_UDN//UDN817437\n"
     ]
    },
    {
     "name": "stderr",
     "output_type": "stream",
     "text": [
      "/home/bkotis/miniconda3/lib/python3.7/site-packages/ipykernel_launcher.py:56: FutureWarning: The 'get_values' method is deprecated and will be removed in a future version. Use '.to_numpy()' or '.array' instead.\n"
     ]
    },
    {
     "name": "stdout",
     "output_type": "stream",
     "text": [
      "RSE Model\n",
      "0.33169867299493944\n",
      "RSE Baseline\n",
      "0.620382100876712\n",
      "causal tissue:\n",
      "Cells - Cultured fibroblasts\n",
      "causal gene\n",
      "PURA\n",
      "UDN ID                                               UDN199012\n",
      "Gene name                                                 PURA\n",
      "HPO_ID       [HP:0000540, HP:0001249, HP:0001290, HP:000206...\n",
      "Name: 163, dtype: object\n",
      "/home/mmendoza/ANEVA/Adina/Tissue_Sensitivity//results_UDN//UDN199012\n"
     ]
    },
    {
     "name": "stderr",
     "output_type": "stream",
     "text": [
      "/home/bkotis/miniconda3/lib/python3.7/site-packages/ipykernel_launcher.py:56: FutureWarning: The 'get_values' method is deprecated and will be removed in a future version. Use '.to_numpy()' or '.array' instead.\n"
     ]
    },
    {
     "name": "stdout",
     "output_type": "stream",
     "text": [
      "RSE Model\n",
      "0.38197544741151396\n",
      "RSE Baseline\n",
      "0.620382100876712\n",
      "causal tissue:\n",
      "Cells - Cultured fibroblasts\n",
      "causal gene\n",
      "PURA\n",
      "UDN ID                                               UDN961972\n",
      "Gene name                                              PYROXD1\n",
      "HPO_ID       [HP:0001382, HP:0002015, HP:0002080, HP:000235...\n",
      "Name: 164, dtype: object\n",
      "/home/mmendoza/ANEVA/Adina/Tissue_Sensitivity//results_UDN//UDN961972\n"
     ]
    },
    {
     "name": "stderr",
     "output_type": "stream",
     "text": [
      "/home/bkotis/miniconda3/lib/python3.7/site-packages/ipykernel_launcher.py:56: FutureWarning: The 'get_values' method is deprecated and will be removed in a future version. Use '.to_numpy()' or '.array' instead.\n"
     ]
    },
    {
     "name": "stdout",
     "output_type": "stream",
     "text": [
      "phenotype is not in HPO dataset\n",
      "RSE Model\n",
      "0.4509998975818527\n",
      "RSE Baseline\n",
      "0.6981986179952847\n",
      "causal tissue:\n",
      "Cells - Cultured fibroblasts\n",
      "causal gene\n",
      "PYROXD1\n",
      "UDN ID                                               UDN622196\n",
      "Gene name                                               QRICH1\n",
      "HPO_ID       [HP:0000508, HP:0000750, HP:0001250, HP:000126...\n",
      "Name: 165, dtype: object\n",
      "/home/mmendoza/ANEVA/Adina/Tissue_Sensitivity//results_UDN//UDN622196\n"
     ]
    },
    {
     "name": "stderr",
     "output_type": "stream",
     "text": [
      "/home/bkotis/miniconda3/lib/python3.7/site-packages/ipykernel_launcher.py:56: FutureWarning: The 'get_values' method is deprecated and will be removed in a future version. Use '.to_numpy()' or '.array' instead.\n"
     ]
    },
    {
     "name": "stdout",
     "output_type": "stream",
     "text": [
      "RSE Model\n",
      "0.49090546460735557\n",
      "RSE Baseline\n",
      "0.702438915978551\n",
      "causal tissue:\n",
      "Muscle - Skeletal\n",
      "causal gene\n",
      "QRICH1\n",
      "UDN ID                                               UDN867018\n",
      "Gene name                                                 RAI1\n",
      "HPO_ID       [HP:0000280, HP:0000717, HP:0001250, HP:000126...\n",
      "Name: 166, dtype: object\n",
      "/home/mmendoza/ANEVA/Adina/Tissue_Sensitivity//results_UDN//UDN867018\n"
     ]
    },
    {
     "name": "stderr",
     "output_type": "stream",
     "text": [
      "/home/bkotis/miniconda3/lib/python3.7/site-packages/ipykernel_launcher.py:56: FutureWarning: The 'get_values' method is deprecated and will be removed in a future version. Use '.to_numpy()' or '.array' instead.\n"
     ]
    },
    {
     "name": "stdout",
     "output_type": "stream",
     "text": [
      "phenotype is not in HPO dataset\n",
      "phenotype is not in HPO dataset\n",
      "phenotype is not in HPO dataset\n",
      "RSE Model\n",
      "0.39505058224070616\n",
      "RSE Baseline\n",
      "0.6327262470576305\n",
      "causal tissue:\n",
      "Skin - Sun Exposed (Lower leg)\n",
      "causal gene\n",
      "RAI1\n",
      "UDN ID                                               UDN004257\n",
      "Gene name                                                RARS2\n",
      "HPO_ID       [HP:0000252, HP:0001250, HP:0001263, HP:000137...\n",
      "Name: 167, dtype: object\n",
      "/home/mmendoza/ANEVA/Adina/Tissue_Sensitivity//results_UDN//UDN004257\n"
     ]
    },
    {
     "name": "stderr",
     "output_type": "stream",
     "text": [
      "/home/bkotis/miniconda3/lib/python3.7/site-packages/ipykernel_launcher.py:56: FutureWarning: The 'get_values' method is deprecated and will be removed in a future version. Use '.to_numpy()' or '.array' instead.\n"
     ]
    },
    {
     "name": "stdout",
     "output_type": "stream",
     "text": [
      "phenotype is not in HPO dataset\n",
      "RSE Model\n",
      "0.3090574134414251\n",
      "RSE Baseline\n",
      "0.6320248265025429\n",
      "causal tissue:\n",
      "Skin - Sun Exposed (Lower leg)\n",
      "causal gene\n",
      "RARS2\n",
      "UDN ID                                               UDN950621\n",
      "Gene name                                                 RERE\n",
      "HPO_ID       [HP:0000396, HP:0000400, HP:0000582, HP:000075...\n",
      "Name: 168, dtype: object\n",
      "/home/mmendoza/ANEVA/Adina/Tissue_Sensitivity//results_UDN//UDN950621\n"
     ]
    },
    {
     "name": "stderr",
     "output_type": "stream",
     "text": [
      "/home/bkotis/miniconda3/lib/python3.7/site-packages/ipykernel_launcher.py:56: FutureWarning: The 'get_values' method is deprecated and will be removed in a future version. Use '.to_numpy()' or '.array' instead.\n"
     ]
    },
    {
     "name": "stdout",
     "output_type": "stream",
     "text": [
      "phenotype is not in HPO dataset\n",
      "RSE Model\n",
      "0.45609776341050845\n",
      "RSE Baseline\n",
      "0.6733095397680087\n",
      "causal tissue:\n",
      "Muscle - Skeletal\n",
      "causal gene\n",
      "RERE\n",
      "UDN ID                                               UDN323673\n",
      "Gene name                                                 RFC1\n",
      "HPO_ID       [HP:0000009, HP:0000467, HP:0000498, HP:000073...\n",
      "Name: 169, dtype: object\n",
      "/home/mmendoza/ANEVA/Adina/Tissue_Sensitivity//results_UDN//UDN323673\n"
     ]
    },
    {
     "name": "stderr",
     "output_type": "stream",
     "text": [
      "/home/bkotis/miniconda3/lib/python3.7/site-packages/ipykernel_launcher.py:56: FutureWarning: The 'get_values' method is deprecated and will be removed in a future version. Use '.to_numpy()' or '.array' instead.\n"
     ]
    },
    {
     "name": "stdout",
     "output_type": "stream",
     "text": [
      "phenotype is not in HPO dataset\n",
      "phenotype is not in HPO dataset\n",
      "phenotype is not in HPO dataset\n",
      "phenotype is not in HPO dataset\n",
      "phenotype is not in HPO dataset\n",
      "RSE Model\n",
      "0.3749843714362618\n",
      "RSE Baseline\n",
      "0.6439716841372579\n",
      "causal tissue:\n",
      "Artery - Tibial\n",
      "causal gene\n",
      "RFC1\n",
      "UDN ID                                               UDN265815\n",
      "Gene name                                              RHOBTB2\n",
      "HPO_ID       [HP:0000957, HP:0001052, HP:0001250, HP:000126...\n",
      "Name: 170, dtype: object\n",
      "/home/mmendoza/ANEVA/Adina/Tissue_Sensitivity//results_UDN//UDN265815\n"
     ]
    },
    {
     "name": "stderr",
     "output_type": "stream",
     "text": [
      "/home/bkotis/miniconda3/lib/python3.7/site-packages/ipykernel_launcher.py:56: FutureWarning: The 'get_values' method is deprecated and will be removed in a future version. Use '.to_numpy()' or '.array' instead.\n"
     ]
    },
    {
     "name": "stdout",
     "output_type": "stream",
     "text": [
      "RSE Model\n",
      "0.3856259322499231\n",
      "RSE Baseline\n",
      "0.6449385776255437\n",
      "causal tissue:\n",
      "Artery - Tibial\n",
      "causal gene\n",
      "RHOBTB2\n",
      "UDN ID                                               UDN133614\n",
      "Gene name                                             RNASEH2A\n",
      "HPO_ID       [HP:0000020, HP:0000577, HP:0001034, HP:000125...\n",
      "Name: 171, dtype: object\n",
      "/home/mmendoza/ANEVA/Adina/Tissue_Sensitivity//results_UDN//UDN133614\n"
     ]
    },
    {
     "name": "stderr",
     "output_type": "stream",
     "text": [
      "/home/bkotis/miniconda3/lib/python3.7/site-packages/ipykernel_launcher.py:56: FutureWarning: The 'get_values' method is deprecated and will be removed in a future version. Use '.to_numpy()' or '.array' instead.\n"
     ]
    },
    {
     "name": "stdout",
     "output_type": "stream",
     "text": [
      "RSE Model\n",
      "0.2660868955079741\n",
      "RSE Baseline\n",
      "0.5559441341901021\n",
      "causal tissue:\n",
      "Cells - Cultured fibroblasts\n",
      "causal gene\n",
      "RNASEH2A\n",
      "UDN ID                                               UDN350075\n",
      "Gene name                                             RNU4ATAC\n",
      "HPO_ID       [HP:0000252, HP:0000358, HP:0000369, HP:000125...\n",
      "Name: 172, dtype: object\n",
      "/home/mmendoza/ANEVA/Adina/Tissue_Sensitivity//results_UDN//UDN350075\n"
     ]
    },
    {
     "name": "stderr",
     "output_type": "stream",
     "text": [
      "/home/bkotis/miniconda3/lib/python3.7/site-packages/ipykernel_launcher.py:56: FutureWarning: The 'get_values' method is deprecated and will be removed in a future version. Use '.to_numpy()' or '.array' instead.\n"
     ]
    },
    {
     "name": "stdout",
     "output_type": "stream",
     "text": [
      "No gene match on GTEx\n",
      "RSE Model\n",
      "nan\n",
      "RSE Baseline\n",
      "nan\n",
      "causal tissue:\n",
      "Adipose - Subcutaneous\n",
      "causal gene\n",
      "RNU4ATAC\n",
      "UDN ID                                               UDN254612\n",
      "Gene name                                                ROGDI\n",
      "HPO_ID       [HP:0000166, HP:0000252, HP:0000280, HP:000029...\n",
      "Name: 173, dtype: object\n",
      "/home/mmendoza/ANEVA/Adina/Tissue_Sensitivity//results_UDN//UDN254612\n"
     ]
    },
    {
     "name": "stderr",
     "output_type": "stream",
     "text": [
      "/home/bkotis/miniconda3/lib/python3.7/site-packages/ipykernel_launcher.py:42: SettingWithCopyWarning: \n",
      "A value is trying to be set on a copy of a slice from a DataFrame.\n",
      "Try using .loc[row_indexer,col_indexer] = value instead\n",
      "\n",
      "See the caveats in the documentation: http://pandas.pydata.org/pandas-docs/stable/user_guide/indexing.html#returning-a-view-versus-a-copy\n",
      "/home/bkotis/miniconda3/lib/python3.7/site-packages/ipykernel_launcher.py:43: SettingWithCopyWarning: \n",
      "A value is trying to be set on a copy of a slice from a DataFrame.\n",
      "Try using .loc[row_indexer,col_indexer] = value instead\n",
      "\n",
      "See the caveats in the documentation: http://pandas.pydata.org/pandas-docs/stable/user_guide/indexing.html#returning-a-view-versus-a-copy\n",
      "/home/bkotis/miniconda3/lib/python3.7/site-packages/ipykernel_launcher.py:72: RuntimeWarning: invalid value encountered in double_scalars\n",
      "/home/bkotis/miniconda3/lib/python3.7/site-packages/ipykernel_launcher.py:73: RuntimeWarning: invalid value encountered in double_scalars\n",
      "/home/bkotis/miniconda3/lib/python3.7/site-packages/ipykernel_launcher.py:56: FutureWarning: The 'get_values' method is deprecated and will be removed in a future version. Use '.to_numpy()' or '.array' instead.\n"
     ]
    },
    {
     "name": "stdout",
     "output_type": "stream",
     "text": [
      "phenotype is not in HPO dataset\n",
      "phenotype is not in HPO dataset\n",
      "phenotype is not in HPO dataset\n",
      "phenotype is not in HPO dataset\n",
      "RSE Model\n",
      "0.5057326005969796\n",
      "RSE Baseline\n",
      "0.7138120734275416\n",
      "causal tissue:\n",
      "Whole Blood\n",
      "causal gene\n",
      "ROGDI\n",
      "UDN ID                                               UDN768267\n",
      "Gene name                                                 RORA\n",
      "HPO_ID       [HP:0000322, HP:0000545, HP:0000821, HP:000125...\n",
      "Name: 174, dtype: object\n",
      "/home/mmendoza/ANEVA/Adina/Tissue_Sensitivity//results_UDN//UDN768267\n"
     ]
    },
    {
     "name": "stderr",
     "output_type": "stream",
     "text": [
      "/home/bkotis/miniconda3/lib/python3.7/site-packages/ipykernel_launcher.py:56: FutureWarning: The 'get_values' method is deprecated and will be removed in a future version. Use '.to_numpy()' or '.array' instead.\n"
     ]
    },
    {
     "name": "stdout",
     "output_type": "stream",
     "text": [
      "phenotype is not in HPO dataset\n",
      "RSE Model\n",
      "0.2988652079224932\n",
      "RSE Baseline\n",
      "0.5935908255943789\n",
      "causal tissue:\n",
      "Muscle - Skeletal\n",
      "causal gene\n",
      "RORA\n",
      "UDN ID                                               UDN378027\n",
      "Gene name                                              RPS6KA3\n",
      "HPO_ID       [HP:0000294, HP:0000709, HP:0000876, HP:000118...\n",
      "Name: 175, dtype: object\n",
      "/home/mmendoza/ANEVA/Adina/Tissue_Sensitivity//results_UDN//UDN378027\n"
     ]
    },
    {
     "name": "stderr",
     "output_type": "stream",
     "text": [
      "/home/bkotis/miniconda3/lib/python3.7/site-packages/ipykernel_launcher.py:56: FutureWarning: The 'get_values' method is deprecated and will be removed in a future version. Use '.to_numpy()' or '.array' instead.\n"
     ]
    },
    {
     "name": "stdout",
     "output_type": "stream",
     "text": [
      "RSE Model\n",
      "0.40971253322447454\n",
      "RSE Baseline\n",
      "0.6608395407356326\n",
      "causal tissue:\n",
      "Whole Blood\n",
      "causal gene\n",
      "RPS6KA3\n",
      "UDN ID                                               UDN106572\n",
      "Gene name                                                 SCA7\n",
      "HPO_ID       [HP:0000100, HP:0000546, HP:0001290, HP:000187...\n",
      "Name: 176, dtype: object\n",
      "/home/mmendoza/ANEVA/Adina/Tissue_Sensitivity//results_UDN//UDN106572\n"
     ]
    },
    {
     "name": "stderr",
     "output_type": "stream",
     "text": [
      "/home/bkotis/miniconda3/lib/python3.7/site-packages/ipykernel_launcher.py:56: FutureWarning: The 'get_values' method is deprecated and will be removed in a future version. Use '.to_numpy()' or '.array' instead.\n"
     ]
    },
    {
     "name": "stdout",
     "output_type": "stream",
     "text": [
      "No gene match on GTEx\n"
     ]
    },
    {
     "name": "stderr",
     "output_type": "stream",
     "text": [
      "/home/bkotis/miniconda3/lib/python3.7/site-packages/ipykernel_launcher.py:42: SettingWithCopyWarning: \n",
      "A value is trying to be set on a copy of a slice from a DataFrame.\n",
      "Try using .loc[row_indexer,col_indexer] = value instead\n",
      "\n",
      "See the caveats in the documentation: http://pandas.pydata.org/pandas-docs/stable/user_guide/indexing.html#returning-a-view-versus-a-copy\n",
      "/home/bkotis/miniconda3/lib/python3.7/site-packages/ipykernel_launcher.py:43: SettingWithCopyWarning: \n",
      "A value is trying to be set on a copy of a slice from a DataFrame.\n",
      "Try using .loc[row_indexer,col_indexer] = value instead\n",
      "\n",
      "See the caveats in the documentation: http://pandas.pydata.org/pandas-docs/stable/user_guide/indexing.html#returning-a-view-versus-a-copy\n",
      "/home/bkotis/miniconda3/lib/python3.7/site-packages/ipykernel_launcher.py:72: RuntimeWarning: invalid value encountered in double_scalars\n",
      "/home/bkotis/miniconda3/lib/python3.7/site-packages/ipykernel_launcher.py:73: RuntimeWarning: invalid value encountered in double_scalars\n"
     ]
    },
    {
     "name": "stdout",
     "output_type": "stream",
     "text": [
      "RSE Model\n",
      "nan\n",
      "RSE Baseline\n",
      "nan\n",
      "causal tissue:\n",
      "Adipose - Subcutaneous\n",
      "causal gene\n",
      "SCA7\n",
      "UDN ID                                               UDN518828\n",
      "Gene name                                               SCARB2\n",
      "HPO_ID       [HP:0000083, HP:0000097, HP:0000252, HP:000054...\n",
      "Name: 177, dtype: object\n",
      "/home/mmendoza/ANEVA/Adina/Tissue_Sensitivity//results_UDN//UDN518828\n"
     ]
    },
    {
     "name": "stderr",
     "output_type": "stream",
     "text": [
      "/home/bkotis/miniconda3/lib/python3.7/site-packages/ipykernel_launcher.py:56: FutureWarning: The 'get_values' method is deprecated and will be removed in a future version. Use '.to_numpy()' or '.array' instead.\n"
     ]
    },
    {
     "name": "stdout",
     "output_type": "stream",
     "text": [
      "phenotype is not in HPO dataset\n",
      "phenotype is not in HPO dataset\n",
      "phenotype is not in HPO dataset\n",
      "phenotype is not in HPO dataset\n",
      "RSE Model\n",
      "0.36486447313685055\n",
      "RSE Baseline\n",
      "0.6591281813828455\n",
      "causal tissue:\n",
      "Muscle - Skeletal\n",
      "causal gene\n",
      "SCARB2\n",
      "UDN ID                                               UDN818159\n",
      "Gene name                                                SCN1A\n",
      "HPO_ID       [HP:0000347, HP:0000664, HP:0001054, HP:000125...\n",
      "Name: 178, dtype: object\n",
      "/home/mmendoza/ANEVA/Adina/Tissue_Sensitivity//results_UDN//UDN818159\n"
     ]
    },
    {
     "name": "stderr",
     "output_type": "stream",
     "text": [
      "/home/bkotis/miniconda3/lib/python3.7/site-packages/ipykernel_launcher.py:56: FutureWarning: The 'get_values' method is deprecated and will be removed in a future version. Use '.to_numpy()' or '.array' instead.\n"
     ]
    },
    {
     "name": "stdout",
     "output_type": "stream",
     "text": [
      "RSE Model\n",
      "0.5729859534762269\n",
      "RSE Baseline\n",
      "0.7569031164630768\n",
      "causal tissue:\n",
      "Brain - Cortex\n",
      "causal gene\n",
      "SCN1A\n",
      "UDN ID                                               UDN075542\n",
      "Gene name                                                SCN2A\n",
      "HPO_ID       [HP:0000639, HP:0000729, HP:0001250, HP:000126...\n",
      "Name: 179, dtype: object\n",
      "/home/mmendoza/ANEVA/Adina/Tissue_Sensitivity//results_UDN//UDN075542\n"
     ]
    },
    {
     "name": "stderr",
     "output_type": "stream",
     "text": [
      "/home/bkotis/miniconda3/lib/python3.7/site-packages/ipykernel_launcher.py:56: FutureWarning: The 'get_values' method is deprecated and will be removed in a future version. Use '.to_numpy()' or '.array' instead.\n"
     ]
    },
    {
     "name": "stdout",
     "output_type": "stream",
     "text": [
      "phenotype is not in HPO dataset\n",
      "RSE Model\n",
      "1.1583761457192001\n",
      "RSE Baseline\n",
      "0.7665422679246571\n",
      "causal tissue:\n",
      "Brain - Cerebellum\n",
      "causal gene\n",
      "SCN2A\n",
      "UDN ID                                               UDN539503\n",
      "Gene name                                                SCN4A\n",
      "HPO_ID       [HP:0000218, HP:0000369, HP:0000463, HP:000131...\n",
      "Name: 180, dtype: object\n",
      "/home/mmendoza/ANEVA/Adina/Tissue_Sensitivity//results_UDN//UDN539503\n"
     ]
    },
    {
     "name": "stderr",
     "output_type": "stream",
     "text": [
      "/home/bkotis/miniconda3/lib/python3.7/site-packages/ipykernel_launcher.py:56: FutureWarning: The 'get_values' method is deprecated and will be removed in a future version. Use '.to_numpy()' or '.array' instead.\n"
     ]
    },
    {
     "name": "stdout",
     "output_type": "stream",
     "text": [
      "phenotype is not in HPO dataset\n",
      "RSE Model\n",
      "0.5922663526878436\n",
      "RSE Baseline\n",
      "0.5943656621568263\n",
      "causal tissue:\n",
      "Adipose - Visceral (Omentum)\n",
      "causal gene\n",
      "SCN4A\n",
      "UDN ID                                               UDN813763\n",
      "Gene name                                                SCN4A\n",
      "HPO_ID       [HP:0000220, HP:0000272, HP:0000286, HP:000048...\n",
      "Name: 181, dtype: object\n",
      "/home/mmendoza/ANEVA/Adina/Tissue_Sensitivity//results_UDN//UDN813763\n"
     ]
    },
    {
     "name": "stderr",
     "output_type": "stream",
     "text": [
      "/home/bkotis/miniconda3/lib/python3.7/site-packages/ipykernel_launcher.py:56: FutureWarning: The 'get_values' method is deprecated and will be removed in a future version. Use '.to_numpy()' or '.array' instead.\n"
     ]
    },
    {
     "name": "stdout",
     "output_type": "stream",
     "text": [
      "RSE Model\n",
      "0.5730114076196448\n",
      "RSE Baseline\n",
      "0.5943656621568263\n",
      "causal tissue:\n",
      "Adipose - Visceral (Omentum)\n",
      "causal gene\n",
      "SCN4A\n",
      "UDN ID                                               UDN764974\n",
      "Gene name                                                SCN8A\n",
      "HPO_ID       [HP:0000020, HP:0000194, HP:0000252, HP:000029...\n",
      "Name: 182, dtype: object\n",
      "/home/mmendoza/ANEVA/Adina/Tissue_Sensitivity//results_UDN//UDN764974\n"
     ]
    },
    {
     "name": "stderr",
     "output_type": "stream",
     "text": [
      "/home/bkotis/miniconda3/lib/python3.7/site-packages/ipykernel_launcher.py:56: FutureWarning: The 'get_values' method is deprecated and will be removed in a future version. Use '.to_numpy()' or '.array' instead.\n"
     ]
    },
    {
     "name": "stdout",
     "output_type": "stream",
     "text": [
      "phenotype is not in HPO dataset\n",
      "RSE Model\n",
      "1.0001958027918887\n",
      "RSE Baseline\n",
      "0.7180896729469589\n",
      "causal tissue:\n",
      "Cells - Cultured fibroblasts\n",
      "causal gene\n",
      "SCN8A\n",
      "UDN ID                                               UDN853355\n",
      "Gene name                                                 SDHD\n",
      "HPO_ID       [HP:0000716, HP:0000875, HP:0001250, HP:000160...\n",
      "Name: 183, dtype: object\n",
      "/home/mmendoza/ANEVA/Adina/Tissue_Sensitivity//results_UDN//UDN853355\n"
     ]
    },
    {
     "name": "stderr",
     "output_type": "stream",
     "text": [
      "/home/bkotis/miniconda3/lib/python3.7/site-packages/ipykernel_launcher.py:56: FutureWarning: The 'get_values' method is deprecated and will be removed in a future version. Use '.to_numpy()' or '.array' instead.\n"
     ]
    },
    {
     "name": "stdout",
     "output_type": "stream",
     "text": [
      "phenotype is not in HPO dataset\n",
      "phenotype is not in HPO dataset\n",
      "phenotype is not in HPO dataset\n",
      "phenotype is not in HPO dataset\n",
      "RSE Model\n",
      "0.21837677586424112\n",
      "RSE Baseline\n",
      "0.5488748420592565\n",
      "causal tissue:\n",
      "Muscle - Skeletal\n",
      "causal gene\n",
      "SDHD\n",
      "UDN ID                                               UDN908013\n",
      "Gene name                                              SELENON\n",
      "HPO_ID       [HP:0000218, HP:0000220, HP:0000582, HP:000126...\n",
      "Name: 184, dtype: object\n",
      "/home/mmendoza/ANEVA/Adina/Tissue_Sensitivity//results_UDN//UDN908013\n"
     ]
    },
    {
     "name": "stderr",
     "output_type": "stream",
     "text": [
      "/home/bkotis/miniconda3/lib/python3.7/site-packages/ipykernel_launcher.py:56: FutureWarning: The 'get_values' method is deprecated and will be removed in a future version. Use '.to_numpy()' or '.array' instead.\n"
     ]
    },
    {
     "name": "stdout",
     "output_type": "stream",
     "text": [
      "RSE Model\n",
      "0.39578601865296315\n",
      "RSE Baseline\n",
      "0.6382353617016832\n",
      "causal tissue:\n",
      "Muscle - Skeletal\n",
      "causal gene\n",
      "SELENON\n",
      "UDN ID                                               UDN458714\n",
      "Gene name                                              SEPSECS\n",
      "HPO_ID       [HP:0000508, HP:0000577, HP:0000639, HP:000073...\n",
      "Name: 185, dtype: object\n",
      "/home/mmendoza/ANEVA/Adina/Tissue_Sensitivity//results_UDN//UDN458714\n"
     ]
    },
    {
     "name": "stderr",
     "output_type": "stream",
     "text": [
      "/home/bkotis/miniconda3/lib/python3.7/site-packages/ipykernel_launcher.py:56: FutureWarning: The 'get_values' method is deprecated and will be removed in a future version. Use '.to_numpy()' or '.array' instead.\n"
     ]
    },
    {
     "name": "stdout",
     "output_type": "stream",
     "text": [
      "RSE Model\n",
      "0.29148676623579034\n",
      "RSE Baseline\n",
      "0.6060889914265646\n",
      "causal tissue:\n",
      "Adipose - Subcutaneous\n",
      "causal gene\n",
      "SEPSECS\n",
      "UDN ID                                               UDN189616\n",
      "Gene name                                                  SET\n",
      "HPO_ID       [HP:0000010, HP:0000463, HP:0000486, HP:000052...\n",
      "Name: 186, dtype: object\n",
      "/home/mmendoza/ANEVA/Adina/Tissue_Sensitivity//results_UDN//UDN189616\n"
     ]
    },
    {
     "name": "stderr",
     "output_type": "stream",
     "text": [
      "/home/bkotis/miniconda3/lib/python3.7/site-packages/ipykernel_launcher.py:56: FutureWarning: The 'get_values' method is deprecated and will be removed in a future version. Use '.to_numpy()' or '.array' instead.\n"
     ]
    },
    {
     "name": "stdout",
     "output_type": "stream",
     "text": [
      "RSE Model\n",
      "0.4949425606286977\n",
      "RSE Baseline\n",
      "0.6924477972674449\n",
      "causal tissue:\n",
      "Artery - Tibial\n",
      "causal gene\n",
      "SET\n",
      "UDN ID                                               UDN044039\n",
      "Gene name                                              SLC12A2\n",
      "HPO_ID       [HP:0000217, HP:0000252, HP:0000268, HP:000027...\n",
      "Name: 187, dtype: object\n",
      "/home/mmendoza/ANEVA/Adina/Tissue_Sensitivity//results_UDN//UDN044039\n"
     ]
    },
    {
     "name": "stderr",
     "output_type": "stream",
     "text": [
      "/home/bkotis/miniconda3/lib/python3.7/site-packages/ipykernel_launcher.py:56: FutureWarning: The 'get_values' method is deprecated and will be removed in a future version. Use '.to_numpy()' or '.array' instead.\n"
     ]
    },
    {
     "name": "stdout",
     "output_type": "stream",
     "text": [
      "phenotype is not in HPO dataset\n",
      "phenotype is not in HPO dataset\n",
      "phenotype is not in HPO dataset\n",
      "phenotype is not in HPO dataset\n",
      "phenotype is not in HPO dataset\n",
      "RSE Model\n",
      "0.3510889678692305\n",
      "RSE Baseline\n",
      "0.6334005926739813\n",
      "causal tissue:\n",
      "Skin - Sun Exposed (Lower leg)\n",
      "causal gene\n",
      "SLC12A2\n",
      "UDN ID                                               UDN027398\n",
      "Gene name                                              SLC20A2\n",
      "HPO_ID       [HP:0000938, HP:0001025, HP:0001717, HP:000202...\n",
      "Name: 188, dtype: object\n",
      "/home/mmendoza/ANEVA/Adina/Tissue_Sensitivity//results_UDN//UDN027398\n"
     ]
    },
    {
     "name": "stderr",
     "output_type": "stream",
     "text": [
      "/home/bkotis/miniconda3/lib/python3.7/site-packages/ipykernel_launcher.py:56: FutureWarning: The 'get_values' method is deprecated and will be removed in a future version. Use '.to_numpy()' or '.array' instead.\n"
     ]
    },
    {
     "name": "stdout",
     "output_type": "stream",
     "text": [
      "RSE Model\n",
      "0.36805935996144556\n",
      "RSE Baseline\n",
      "0.6290804372789718\n",
      "causal tissue:\n",
      "Adipose - Subcutaneous\n",
      "causal gene\n",
      "SLC20A2\n",
      "UDN ID                                               UDN345072\n",
      "Gene name                                              SLC20A2\n",
      "HPO_ID       [HP:0000643, HP:0000722, HP:0000739, HP:000087...\n",
      "Name: 189, dtype: object\n",
      "/home/mmendoza/ANEVA/Adina/Tissue_Sensitivity//results_UDN//UDN345072\n"
     ]
    },
    {
     "name": "stderr",
     "output_type": "stream",
     "text": [
      "/home/bkotis/miniconda3/lib/python3.7/site-packages/ipykernel_launcher.py:56: FutureWarning: The 'get_values' method is deprecated and will be removed in a future version. Use '.to_numpy()' or '.array' instead.\n"
     ]
    },
    {
     "name": "stdout",
     "output_type": "stream",
     "text": [
      "phenotype is not in HPO dataset\n",
      "RSE Model\n",
      "0.3321087196686866\n",
      "RSE Baseline\n",
      "0.6290804372789718\n",
      "causal tissue:\n",
      "Adipose - Subcutaneous\n",
      "causal gene\n",
      "SLC20A2\n",
      "UDN ID                                               UDN786495\n",
      "Gene name                                              SLC20A2\n",
      "HPO_ID       [HP:0000739, HP:0001688, HP:0002135, HP:000215...\n",
      "Name: 190, dtype: object\n",
      "/home/mmendoza/ANEVA/Adina/Tissue_Sensitivity//results_UDN//UDN786495\n"
     ]
    },
    {
     "name": "stderr",
     "output_type": "stream",
     "text": [
      "/home/bkotis/miniconda3/lib/python3.7/site-packages/ipykernel_launcher.py:56: FutureWarning: The 'get_values' method is deprecated and will be removed in a future version. Use '.to_numpy()' or '.array' instead.\n"
     ]
    },
    {
     "name": "stdout",
     "output_type": "stream",
     "text": [
      "RSE Model\n",
      "0.36483906557043627\n",
      "RSE Baseline\n",
      "0.6290804372789718\n",
      "causal tissue:\n",
      "Adipose - Subcutaneous\n",
      "causal gene\n",
      "SLC20A2\n",
      "UDN ID                                               UDN001459\n",
      "Gene name                                              SLC20A2\n",
      "HPO_ID       [HP:0000938, HP:0002135, HP:0002953, HP:000312...\n",
      "Name: 191, dtype: object\n",
      "/home/mmendoza/ANEVA/Adina/Tissue_Sensitivity//results_UDN//UDN001459\n"
     ]
    },
    {
     "name": "stderr",
     "output_type": "stream",
     "text": [
      "/home/bkotis/miniconda3/lib/python3.7/site-packages/ipykernel_launcher.py:56: FutureWarning: The 'get_values' method is deprecated and will be removed in a future version. Use '.to_numpy()' or '.array' instead.\n"
     ]
    },
    {
     "name": "stdout",
     "output_type": "stream",
     "text": [
      "RSE Model\n",
      "0.3159794280762047\n",
      "RSE Baseline\n",
      "0.6290804372789718\n",
      "causal tissue:\n",
      "Adipose - Subcutaneous\n",
      "causal gene\n",
      "SLC20A2\n",
      "UDN ID                                               UDN459795\n",
      "Gene name                                             SLC25A42\n",
      "HPO_ID       [HP:0000211, HP:0000407, HP:0001638, HP:000201...\n",
      "Name: 192, dtype: object\n",
      "/home/mmendoza/ANEVA/Adina/Tissue_Sensitivity//results_UDN//UDN459795\n"
     ]
    },
    {
     "name": "stderr",
     "output_type": "stream",
     "text": [
      "/home/bkotis/miniconda3/lib/python3.7/site-packages/ipykernel_launcher.py:56: FutureWarning: The 'get_values' method is deprecated and will be removed in a future version. Use '.to_numpy()' or '.array' instead.\n"
     ]
    },
    {
     "name": "stdout",
     "output_type": "stream",
     "text": [
      "phenotype is not in HPO dataset\n",
      "phenotype is not in HPO dataset\n",
      "RSE Model\n",
      "0.3750270842815622\n",
      "RSE Baseline\n",
      "0.670310421138789\n",
      "causal tissue:\n",
      "Thyroid\n",
      "causal gene\n",
      "SLC25A42\n",
      "UDN ID                                               UDN727639\n",
      "Gene name                                              SLC35A2\n",
      "HPO_ID       [HP:0000218, HP:0000341, HP:0000486, HP:000054...\n",
      "Name: 193, dtype: object\n",
      "/home/mmendoza/ANEVA/Adina/Tissue_Sensitivity//results_UDN//UDN727639\n"
     ]
    },
    {
     "name": "stderr",
     "output_type": "stream",
     "text": [
      "/home/bkotis/miniconda3/lib/python3.7/site-packages/ipykernel_launcher.py:56: FutureWarning: The 'get_values' method is deprecated and will be removed in a future version. Use '.to_numpy()' or '.array' instead.\n"
     ]
    },
    {
     "name": "stdout",
     "output_type": "stream",
     "text": [
      "phenotype is not in HPO dataset\n",
      "RSE Model\n",
      "0.516514298707299\n",
      "RSE Baseline\n",
      "0.7065510023859383\n",
      "causal tissue:\n",
      "Skin - Not Sun Exposed (Suprapubic)\n",
      "causal gene\n",
      "SLC35A2\n",
      "UDN ID                                               UDN526373\n",
      "Gene name                                                  SMO\n",
      "HPO_ID       [HP:0000953, HP:0000998, HP:0001010, HP:000182...\n",
      "Name: 194, dtype: object\n",
      "/home/mmendoza/ANEVA/Adina/Tissue_Sensitivity//results_UDN//UDN526373\n"
     ]
    },
    {
     "name": "stderr",
     "output_type": "stream",
     "text": [
      "/home/bkotis/miniconda3/lib/python3.7/site-packages/ipykernel_launcher.py:56: FutureWarning: The 'get_values' method is deprecated and will be removed in a future version. Use '.to_numpy()' or '.array' instead.\n"
     ]
    },
    {
     "name": "stdout",
     "output_type": "stream",
     "text": [
      "phenotype is not in HPO dataset\n",
      "RSE Model\n",
      "0.38004296776552343\n",
      "RSE Baseline\n",
      "0.6347497505372006\n",
      "causal tissue:\n",
      "Thyroid\n",
      "causal gene\n",
      "SMO\n",
      "UDN ID                                               UDN541459\n",
      "Gene name                                             SNORD118\n",
      "HPO_ID       [HP:0000577, HP:0000712, HP:0001324, HP:000206...\n",
      "Name: 195, dtype: object\n",
      "/home/mmendoza/ANEVA/Adina/Tissue_Sensitivity//results_UDN//UDN541459\n"
     ]
    },
    {
     "name": "stderr",
     "output_type": "stream",
     "text": [
      "/home/bkotis/miniconda3/lib/python3.7/site-packages/ipykernel_launcher.py:56: FutureWarning: The 'get_values' method is deprecated and will be removed in a future version. Use '.to_numpy()' or '.array' instead.\n"
     ]
    },
    {
     "name": "stdout",
     "output_type": "stream",
     "text": [
      "phenotype is not in HPO dataset\n",
      "phenotype is not in HPO dataset\n",
      "No gene match on GTEx\n"
     ]
    },
    {
     "name": "stderr",
     "output_type": "stream",
     "text": [
      "/home/bkotis/miniconda3/lib/python3.7/site-packages/ipykernel_launcher.py:42: SettingWithCopyWarning: \n",
      "A value is trying to be set on a copy of a slice from a DataFrame.\n",
      "Try using .loc[row_indexer,col_indexer] = value instead\n",
      "\n",
      "See the caveats in the documentation: http://pandas.pydata.org/pandas-docs/stable/user_guide/indexing.html#returning-a-view-versus-a-copy\n",
      "/home/bkotis/miniconda3/lib/python3.7/site-packages/ipykernel_launcher.py:43: SettingWithCopyWarning: \n",
      "A value is trying to be set on a copy of a slice from a DataFrame.\n",
      "Try using .loc[row_indexer,col_indexer] = value instead\n",
      "\n",
      "See the caveats in the documentation: http://pandas.pydata.org/pandas-docs/stable/user_guide/indexing.html#returning-a-view-versus-a-copy\n",
      "/home/bkotis/miniconda3/lib/python3.7/site-packages/ipykernel_launcher.py:72: RuntimeWarning: invalid value encountered in double_scalars\n",
      "/home/bkotis/miniconda3/lib/python3.7/site-packages/ipykernel_launcher.py:73: RuntimeWarning: invalid value encountered in double_scalars\n"
     ]
    },
    {
     "name": "stdout",
     "output_type": "stream",
     "text": [
      "RSE Model\n",
      "nan\n",
      "RSE Baseline\n",
      "nan\n",
      "causal tissue:\n",
      "Adipose - Subcutaneous\n",
      "causal gene\n",
      "SNORD118\n",
      "UDN ID                                               UDN429732\n",
      "Gene name                                                SOX11\n",
      "HPO_ID       [HP:0000154, HP:0000219, HP:0000252, HP:000029...\n",
      "Name: 196, dtype: object\n",
      "/home/mmendoza/ANEVA/Adina/Tissue_Sensitivity//results_UDN//UDN429732\n"
     ]
    },
    {
     "name": "stderr",
     "output_type": "stream",
     "text": [
      "/home/bkotis/miniconda3/lib/python3.7/site-packages/ipykernel_launcher.py:56: FutureWarning: The 'get_values' method is deprecated and will be removed in a future version. Use '.to_numpy()' or '.array' instead.\n"
     ]
    },
    {
     "name": "stdout",
     "output_type": "stream",
     "text": [
      "RSE Model\n",
      "0.7946503620235628\n",
      "RSE Baseline\n",
      "0.8019980561869996\n",
      "causal tissue:\n",
      "Brain - Nucleus accumbens (basal ganglia)\n",
      "causal gene\n",
      "SOX11\n",
      "UDN ID                                               UDN230944\n",
      "Gene name                                                SPG11\n",
      "HPO_ID       [HP:0000020, HP:0000750, HP:0001256, HP:000125...\n",
      "Name: 197, dtype: object\n",
      "/home/mmendoza/ANEVA/Adina/Tissue_Sensitivity//results_UDN//UDN230944\n"
     ]
    },
    {
     "name": "stderr",
     "output_type": "stream",
     "text": [
      "/home/bkotis/miniconda3/lib/python3.7/site-packages/ipykernel_launcher.py:56: FutureWarning: The 'get_values' method is deprecated and will be removed in a future version. Use '.to_numpy()' or '.array' instead.\n"
     ]
    },
    {
     "name": "stdout",
     "output_type": "stream",
     "text": [
      "RSE Model\n",
      "0.3469276236700631\n",
      "RSE Baseline\n",
      "0.6522773419124028\n",
      "causal tissue:\n",
      "Artery - Tibial\n",
      "causal gene\n",
      "SPG11\n",
      "UDN ID                                               UDN600906\n",
      "Gene name                                                 SPG7\n",
      "HPO_ID       [HP:0000587, HP:0000639, HP:0001257, HP:000126...\n",
      "Name: 198, dtype: object\n",
      "/home/mmendoza/ANEVA/Adina/Tissue_Sensitivity//results_UDN//UDN600906\n"
     ]
    },
    {
     "name": "stderr",
     "output_type": "stream",
     "text": [
      "/home/bkotis/miniconda3/lib/python3.7/site-packages/ipykernel_launcher.py:56: FutureWarning: The 'get_values' method is deprecated and will be removed in a future version. Use '.to_numpy()' or '.array' instead.\n"
     ]
    },
    {
     "name": "stdout",
     "output_type": "stream",
     "text": [
      "phenotype is not in HPO dataset\n",
      "RSE Model\n",
      "0.3748155536681024\n",
      "RSE Baseline\n",
      "0.6318949974564817\n",
      "causal tissue:\n",
      "Muscle - Skeletal\n",
      "causal gene\n",
      "SPG7\n",
      "UDN ID                                               UDN710197\n",
      "Gene name                                                 SPG7\n",
      "HPO_ID       [HP:0000126, HP:0000639, HP:0001252, HP:000126...\n",
      "Name: 199, dtype: object\n",
      "/home/mmendoza/ANEVA/Adina/Tissue_Sensitivity//results_UDN//UDN710197\n"
     ]
    },
    {
     "name": "stderr",
     "output_type": "stream",
     "text": [
      "/home/bkotis/miniconda3/lib/python3.7/site-packages/ipykernel_launcher.py:56: FutureWarning: The 'get_values' method is deprecated and will be removed in a future version. Use '.to_numpy()' or '.array' instead.\n"
     ]
    },
    {
     "name": "stdout",
     "output_type": "stream",
     "text": [
      "phenotype is not in HPO dataset\n",
      "RSE Model\n",
      "0.354065104377991\n",
      "RSE Baseline\n",
      "0.6318949974564817\n",
      "causal tissue:\n",
      "Muscle - Skeletal\n",
      "causal gene\n",
      "SPG7\n",
      "UDN ID                                               UDN928265\n",
      "Gene name                                                SRCAP\n",
      "HPO_ID       [HP:0000047, HP:0000107, HP:0000176, HP:000019...\n",
      "Name: 200, dtype: object\n",
      "/home/mmendoza/ANEVA/Adina/Tissue_Sensitivity//results_UDN//UDN928265\n"
     ]
    },
    {
     "name": "stderr",
     "output_type": "stream",
     "text": [
      "/home/bkotis/miniconda3/lib/python3.7/site-packages/ipykernel_launcher.py:56: FutureWarning: The 'get_values' method is deprecated and will be removed in a future version. Use '.to_numpy()' or '.array' instead.\n"
     ]
    },
    {
     "name": "stdout",
     "output_type": "stream",
     "text": [
      "phenotype is not in HPO dataset\n",
      "phenotype is not in HPO dataset\n",
      "phenotype is not in HPO dataset\n",
      "RSE Model\n",
      "0.31764292284599827\n",
      "RSE Baseline\n",
      "0.6088747583214401\n",
      "causal tissue:\n",
      "Adipose - Subcutaneous\n",
      "causal gene\n",
      "SRCAP\n",
      "UDN ID                                               UDN993646\n",
      "Gene name                                                STIM1\n",
      "HPO_ID       [HP:0000316, HP:0000322, HP:0000426, HP:000049...\n",
      "Name: 201, dtype: object\n",
      "/home/mmendoza/ANEVA/Adina/Tissue_Sensitivity//results_UDN//UDN993646\n"
     ]
    },
    {
     "name": "stderr",
     "output_type": "stream",
     "text": [
      "/home/bkotis/miniconda3/lib/python3.7/site-packages/ipykernel_launcher.py:56: FutureWarning: The 'get_values' method is deprecated and will be removed in a future version. Use '.to_numpy()' or '.array' instead.\n"
     ]
    },
    {
     "name": "stdout",
     "output_type": "stream",
     "text": [
      "phenotype is not in HPO dataset\n",
      "phenotype is not in HPO dataset\n",
      "RSE Model\n",
      "0.3710196199285536\n",
      "RSE Baseline\n",
      "0.6455312033384074\n",
      "causal tissue:\n",
      "Muscle - Skeletal\n",
      "causal gene\n",
      "STIM1\n",
      "UDN ID                                               UDN865310\n",
      "Gene name                                       STRC, CATSPER2\n",
      "HPO_ID       [HP:0000410, HP:0000938, HP:0001212, HP:000126...\n",
      "Name: 202, dtype: object\n",
      "/home/mmendoza/ANEVA/Adina/Tissue_Sensitivity//results_UDN//UDN865310\n"
     ]
    },
    {
     "name": "stderr",
     "output_type": "stream",
     "text": [
      "/home/bkotis/miniconda3/lib/python3.7/site-packages/ipykernel_launcher.py:56: FutureWarning: The 'get_values' method is deprecated and will be removed in a future version. Use '.to_numpy()' or '.array' instead.\n"
     ]
    },
    {
     "name": "stdout",
     "output_type": "stream",
     "text": [
      "phenotype is not in HPO dataset\n",
      "No gene match on GTEx\n",
      "RSE Model\n",
      "nan\n",
      "RSE Baseline\n",
      "nan\n",
      "causal tissue:\n",
      "Adipose - Subcutaneous\n",
      "causal gene\n",
      "STRC, CATSPER2\n",
      "UDN ID                                               UDN878249\n",
      "Gene name                                               STXBP1\n",
      "HPO_ID       [HP:0000253, HP:0000486, HP:0000729, HP:000073...\n",
      "Name: 203, dtype: object\n",
      "/home/mmendoza/ANEVA/Adina/Tissue_Sensitivity//results_UDN//UDN878249\n"
     ]
    },
    {
     "name": "stderr",
     "output_type": "stream",
     "text": [
      "/home/bkotis/miniconda3/lib/python3.7/site-packages/ipykernel_launcher.py:42: SettingWithCopyWarning: \n",
      "A value is trying to be set on a copy of a slice from a DataFrame.\n",
      "Try using .loc[row_indexer,col_indexer] = value instead\n",
      "\n",
      "See the caveats in the documentation: http://pandas.pydata.org/pandas-docs/stable/user_guide/indexing.html#returning-a-view-versus-a-copy\n",
      "/home/bkotis/miniconda3/lib/python3.7/site-packages/ipykernel_launcher.py:43: SettingWithCopyWarning: \n",
      "A value is trying to be set on a copy of a slice from a DataFrame.\n",
      "Try using .loc[row_indexer,col_indexer] = value instead\n",
      "\n",
      "See the caveats in the documentation: http://pandas.pydata.org/pandas-docs/stable/user_guide/indexing.html#returning-a-view-versus-a-copy\n",
      "/home/bkotis/miniconda3/lib/python3.7/site-packages/ipykernel_launcher.py:72: RuntimeWarning: invalid value encountered in double_scalars\n",
      "/home/bkotis/miniconda3/lib/python3.7/site-packages/ipykernel_launcher.py:73: RuntimeWarning: invalid value encountered in double_scalars\n",
      "/home/bkotis/miniconda3/lib/python3.7/site-packages/ipykernel_launcher.py:56: FutureWarning: The 'get_values' method is deprecated and will be removed in a future version. Use '.to_numpy()' or '.array' instead.\n"
     ]
    },
    {
     "name": "stdout",
     "output_type": "stream",
     "text": [
      "RSE Model\n",
      "0.3810801876368714\n",
      "RSE Baseline\n",
      "0.6481407432947737\n",
      "causal tissue:\n",
      "Skin - Sun Exposed (Lower leg)\n",
      "causal gene\n",
      "STXBP1\n",
      "UDN ID                                               UDN134378\n",
      "Gene name                                               STXBP1\n",
      "HPO_ID       [HP:0000473, HP:0001156, HP:0001251, HP:000126...\n",
      "Name: 204, dtype: object\n",
      "/home/mmendoza/ANEVA/Adina/Tissue_Sensitivity//results_UDN//UDN134378\n"
     ]
    },
    {
     "name": "stderr",
     "output_type": "stream",
     "text": [
      "/home/bkotis/miniconda3/lib/python3.7/site-packages/ipykernel_launcher.py:56: FutureWarning: The 'get_values' method is deprecated and will be removed in a future version. Use '.to_numpy()' or '.array' instead.\n"
     ]
    },
    {
     "name": "stdout",
     "output_type": "stream",
     "text": [
      "RSE Model\n",
      "0.38804044711710234\n",
      "RSE Baseline\n",
      "0.6481407432947737\n",
      "causal tissue:\n",
      "Skin - Sun Exposed (Lower leg)\n",
      "causal gene\n",
      "STXBP1\n",
      "UDN ID                                               UDN692237\n",
      "Gene name                                                SYNE1\n",
      "HPO_ID       [HP:0000508, HP:0000639, HP:0000666, HP:000125...\n",
      "Name: 205, dtype: object\n",
      "/home/mmendoza/ANEVA/Adina/Tissue_Sensitivity//results_UDN//UDN692237\n"
     ]
    },
    {
     "name": "stderr",
     "output_type": "stream",
     "text": [
      "/home/bkotis/miniconda3/lib/python3.7/site-packages/ipykernel_launcher.py:56: FutureWarning: The 'get_values' method is deprecated and will be removed in a future version. Use '.to_numpy()' or '.array' instead.\n"
     ]
    },
    {
     "name": "stdout",
     "output_type": "stream",
     "text": [
      "RSE Model\n",
      "0.35440680138716313\n",
      "RSE Baseline\n",
      "0.6516577896702657\n",
      "causal tissue:\n",
      "Whole Blood\n",
      "causal gene\n",
      "SYNE1\n",
      "UDN ID                                               UDN267998\n",
      "Gene name                                              SYNGAP1\n",
      "HPO_ID       [HP:0000098, HP:0000174, HP:0000256, HP:000032...\n",
      "Name: 206, dtype: object\n",
      "/home/mmendoza/ANEVA/Adina/Tissue_Sensitivity//results_UDN//UDN267998\n"
     ]
    },
    {
     "name": "stderr",
     "output_type": "stream",
     "text": [
      "/home/bkotis/miniconda3/lib/python3.7/site-packages/ipykernel_launcher.py:56: FutureWarning: The 'get_values' method is deprecated and will be removed in a future version. Use '.to_numpy()' or '.array' instead.\n"
     ]
    },
    {
     "name": "stdout",
     "output_type": "stream",
     "text": [
      "RSE Model\n",
      "0.3996721773614102\n",
      "RSE Baseline\n",
      "0.6391800077628524\n",
      "causal tissue:\n",
      "Skin - Sun Exposed (Lower leg)\n",
      "causal gene\n",
      "SYNGAP1\n",
      "UDN ID                                               UDN540968\n",
      "Gene name                                               TANGO2\n",
      "HPO_ID       [HP:0001263, HP:0001276, HP:0001298, HP:000137...\n",
      "Name: 207, dtype: object\n",
      "/home/mmendoza/ANEVA/Adina/Tissue_Sensitivity//results_UDN//UDN540968\n"
     ]
    },
    {
     "name": "stderr",
     "output_type": "stream",
     "text": [
      "/home/bkotis/miniconda3/lib/python3.7/site-packages/ipykernel_launcher.py:56: FutureWarning: The 'get_values' method is deprecated and will be removed in a future version. Use '.to_numpy()' or '.array' instead.\n"
     ]
    },
    {
     "name": "stdout",
     "output_type": "stream",
     "text": [
      "RSE Model\n",
      "0.36647809182762586\n",
      "RSE Baseline\n",
      "0.669867334055594\n",
      "causal tissue:\n",
      "Whole Blood\n",
      "causal gene\n",
      "TANGO2\n",
      "UDN ID                                               UDN710245\n",
      "Gene name                                                 TBCK\n",
      "HPO_ID       [HP:0000218, HP:0000280, HP:0000341, HP:000042...\n",
      "Name: 208, dtype: object\n",
      "/home/mmendoza/ANEVA/Adina/Tissue_Sensitivity//results_UDN//UDN710245\n"
     ]
    },
    {
     "name": "stderr",
     "output_type": "stream",
     "text": [
      "/home/bkotis/miniconda3/lib/python3.7/site-packages/ipykernel_launcher.py:56: FutureWarning: The 'get_values' method is deprecated and will be removed in a future version. Use '.to_numpy()' or '.array' instead.\n"
     ]
    },
    {
     "name": "stdout",
     "output_type": "stream",
     "text": [
      "phenotype is not in HPO dataset\n",
      "phenotype is not in HPO dataset\n",
      "RSE Model\n",
      "0.37117120168399403\n",
      "RSE Baseline\n",
      "0.6419294392742457\n",
      "causal tissue:\n",
      "Adipose - Subcutaneous\n",
      "causal gene\n",
      "TBCK\n",
      "UDN ID                                               UDN006839\n",
      "Gene name                                                 TBCK\n",
      "HPO_ID       [HP:0000193, HP:0000510, HP:0000639, HP:000096...\n",
      "Name: 209, dtype: object\n",
      "/home/mmendoza/ANEVA/Adina/Tissue_Sensitivity//results_UDN//UDN006839\n"
     ]
    },
    {
     "name": "stderr",
     "output_type": "stream",
     "text": [
      "/home/bkotis/miniconda3/lib/python3.7/site-packages/ipykernel_launcher.py:56: FutureWarning: The 'get_values' method is deprecated and will be removed in a future version. Use '.to_numpy()' or '.array' instead.\n"
     ]
    },
    {
     "name": "stdout",
     "output_type": "stream",
     "text": [
      "phenotype is not in HPO dataset\n",
      "RSE Model\n",
      "0.37003319645254057\n",
      "RSE Baseline\n",
      "0.6419294392742457\n",
      "causal tissue:\n",
      "Adipose - Subcutaneous\n",
      "causal gene\n",
      "TBCK\n",
      "UDN ID                                               UDN621262\n",
      "Gene name                                                 TBCK\n",
      "HPO_ID       [HP:0000218, HP:0000426, HP:0000490, HP:000063...\n",
      "Name: 210, dtype: object\n",
      "/home/mmendoza/ANEVA/Adina/Tissue_Sensitivity//results_UDN//UDN621262\n"
     ]
    },
    {
     "name": "stderr",
     "output_type": "stream",
     "text": [
      "/home/bkotis/miniconda3/lib/python3.7/site-packages/ipykernel_launcher.py:56: FutureWarning: The 'get_values' method is deprecated and will be removed in a future version. Use '.to_numpy()' or '.array' instead.\n"
     ]
    },
    {
     "name": "stdout",
     "output_type": "stream",
     "text": [
      "phenotype is not in HPO dataset\n",
      "RSE Model\n",
      "0.35249575820296153\n",
      "RSE Baseline\n",
      "0.6419294392742457\n",
      "causal tissue:\n",
      "Adipose - Subcutaneous\n",
      "causal gene\n",
      "TBCK\n",
      "UDN ID                                               UDN287604\n",
      "Gene name                                                 TBCK\n",
      "HPO_ID       [HP:0000218, HP:0000256, HP:0000286, HP:000031...\n",
      "Name: 211, dtype: object\n",
      "/home/mmendoza/ANEVA/Adina/Tissue_Sensitivity//results_UDN//UDN287604\n"
     ]
    },
    {
     "name": "stderr",
     "output_type": "stream",
     "text": [
      "/home/bkotis/miniconda3/lib/python3.7/site-packages/ipykernel_launcher.py:56: FutureWarning: The 'get_values' method is deprecated and will be removed in a future version. Use '.to_numpy()' or '.array' instead.\n"
     ]
    },
    {
     "name": "stdout",
     "output_type": "stream",
     "text": [
      "phenotype is not in HPO dataset\n",
      "RSE Model\n",
      "0.38069830358596407\n",
      "RSE Baseline\n",
      "0.6419294392742457\n",
      "causal tissue:\n",
      "Adipose - Subcutaneous\n",
      "causal gene\n",
      "TBCK\n",
      "UDN ID          UDN670834\n",
      "Gene name            TCF4\n",
      "HPO_ID       [HP:0001622]\n",
      "Name: 212, dtype: object\n",
      "/home/mmendoza/ANEVA/Adina/Tissue_Sensitivity//results_UDN//UDN670834\n"
     ]
    },
    {
     "name": "stderr",
     "output_type": "stream",
     "text": [
      "/home/bkotis/miniconda3/lib/python3.7/site-packages/ipykernel_launcher.py:56: FutureWarning: The 'get_values' method is deprecated and will be removed in a future version. Use '.to_numpy()' or '.array' instead.\n"
     ]
    },
    {
     "name": "stdout",
     "output_type": "stream",
     "text": [
      "RSE Model\n",
      "0.37199878959712507\n",
      "RSE Baseline\n",
      "0.6211726877511249\n",
      "causal tissue:\n",
      "Skin - Sun Exposed (Lower leg)\n",
      "causal gene\n",
      "TCF4\n",
      "UDN ID                      UDN808220\n",
      "Gene name                         TEK\n",
      "HPO_ID       [HP:0000501, HP:0001561]\n",
      "Name: 213, dtype: object\n",
      "/home/mmendoza/ANEVA/Adina/Tissue_Sensitivity//results_UDN//UDN808220\n"
     ]
    },
    {
     "name": "stderr",
     "output_type": "stream",
     "text": [
      "/home/bkotis/miniconda3/lib/python3.7/site-packages/ipykernel_launcher.py:56: FutureWarning: The 'get_values' method is deprecated and will be removed in a future version. Use '.to_numpy()' or '.array' instead.\n"
     ]
    },
    {
     "name": "stdout",
     "output_type": "stream",
     "text": [
      "RSE Model\n",
      "0.4215850850976672\n",
      "RSE Baseline\n",
      "0.6485671843954124\n",
      "causal tissue:\n",
      "Heart - Left Ventricle\n",
      "causal gene\n",
      "TEK\n",
      "UDN ID                                               UDN618070\n",
      "Gene name                                               TMEM94\n",
      "HPO_ID       [HP:0000016, HP:0000023, HP:0000045, HP:000021...\n",
      "Name: 214, dtype: object\n",
      "/home/mmendoza/ANEVA/Adina/Tissue_Sensitivity//results_UDN//UDN618070\n"
     ]
    },
    {
     "name": "stderr",
     "output_type": "stream",
     "text": [
      "/home/bkotis/miniconda3/lib/python3.7/site-packages/ipykernel_launcher.py:56: FutureWarning: The 'get_values' method is deprecated and will be removed in a future version. Use '.to_numpy()' or '.array' instead.\n"
     ]
    },
    {
     "name": "stdout",
     "output_type": "stream",
     "text": [
      "phenotype is not in HPO dataset\n",
      "phenotype is not in HPO dataset\n",
      "RSE Model\n",
      "0.29935690199608145\n",
      "RSE Baseline\n",
      "0.596803847367571\n",
      "causal tissue:\n",
      "Skin - Sun Exposed (Lower leg)\n",
      "causal gene\n",
      "TMEM94\n",
      "UDN ID                                               UDN201326\n",
      "Gene name                                                TONSL\n",
      "HPO_ID       [HP:0000252, HP:0001875, HP:0002652, HP:000265...\n",
      "Name: 215, dtype: object\n",
      "/home/mmendoza/ANEVA/Adina/Tissue_Sensitivity//results_UDN//UDN201326\n"
     ]
    },
    {
     "name": "stderr",
     "output_type": "stream",
     "text": [
      "/home/bkotis/miniconda3/lib/python3.7/site-packages/ipykernel_launcher.py:56: FutureWarning: The 'get_values' method is deprecated and will be removed in a future version. Use '.to_numpy()' or '.array' instead.\n"
     ]
    },
    {
     "name": "stdout",
     "output_type": "stream",
     "text": [
      "phenotype is not in HPO dataset\n",
      "phenotype is not in HPO dataset\n",
      "phenotype is not in HPO dataset\n",
      "phenotype is not in HPO dataset\n",
      "phenotype is not in HPO dataset\n",
      "phenotype is not in HPO dataset\n",
      "phenotype is not in HPO dataset\n",
      "phenotype is not in HPO dataset\n",
      "RSE Model\n",
      "0.41431902028834144\n",
      "RSE Baseline\n",
      "0.6208494658077381\n",
      "causal tissue:\n",
      "Esophagus - Mucosa\n",
      "causal gene\n",
      "TONSL\n",
      "UDN ID                                               UDN461213\n",
      "Gene name                                                TONSL\n",
      "HPO_ID       [HP:0000218, HP:0000322, HP:0000414, HP:000068...\n",
      "Name: 216, dtype: object\n",
      "/home/mmendoza/ANEVA/Adina/Tissue_Sensitivity//results_UDN//UDN461213\n"
     ]
    },
    {
     "name": "stderr",
     "output_type": "stream",
     "text": [
      "/home/bkotis/miniconda3/lib/python3.7/site-packages/ipykernel_launcher.py:56: FutureWarning: The 'get_values' method is deprecated and will be removed in a future version. Use '.to_numpy()' or '.array' instead.\n"
     ]
    },
    {
     "name": "stdout",
     "output_type": "stream",
     "text": [
      "RSE Model\n",
      "0.3763354773251535\n",
      "RSE Baseline\n",
      "0.6208494658077381\n",
      "causal tissue:\n",
      "Esophagus - Mucosa\n",
      "causal gene\n",
      "TONSL\n",
      "UDN ID                                               UDN912530\n",
      "Gene name                                                TOP3A\n",
      "HPO_ID       [HP:0000763, HP:0001271, HP:0001272, HP:000163...\n",
      "Name: 217, dtype: object\n",
      "/home/mmendoza/ANEVA/Adina/Tissue_Sensitivity//results_UDN//UDN912530\n"
     ]
    },
    {
     "name": "stderr",
     "output_type": "stream",
     "text": [
      "/home/bkotis/miniconda3/lib/python3.7/site-packages/ipykernel_launcher.py:56: FutureWarning: The 'get_values' method is deprecated and will be removed in a future version. Use '.to_numpy()' or '.array' instead.\n"
     ]
    },
    {
     "name": "stdout",
     "output_type": "stream",
     "text": [
      "RSE Model\n",
      "0.4318993358706349\n",
      "RSE Baseline\n",
      "0.6818262028551381\n",
      "causal tissue:\n",
      "Skin - Sun Exposed (Lower leg)\n",
      "causal gene\n",
      "TOP3A\n",
      "UDN ID                                               UDN707491\n",
      "Gene name                                             TOR1AIP1\n",
      "HPO_ID       [HP:0000020, HP:0002015, HP:0002515, HP:000274...\n",
      "Name: 218, dtype: object\n",
      "/home/mmendoza/ANEVA/Adina/Tissue_Sensitivity//results_UDN//UDN707491\n"
     ]
    },
    {
     "name": "stderr",
     "output_type": "stream",
     "text": [
      "/home/bkotis/miniconda3/lib/python3.7/site-packages/ipykernel_launcher.py:56: FutureWarning: The 'get_values' method is deprecated and will be removed in a future version. Use '.to_numpy()' or '.array' instead.\n"
     ]
    },
    {
     "name": "stdout",
     "output_type": "stream",
     "text": [
      "RSE Model\n",
      "0.36458169775678256\n",
      "RSE Baseline\n",
      "0.650277805537978\n",
      "causal tissue:\n",
      "Adipose - Subcutaneous\n",
      "causal gene\n",
      "TOR1AIP1\n",
      "UDN ID                                               UDN733771\n",
      "Gene name                                                TRAF7\n",
      "HPO_ID       [HP:0000125, HP:0000162, HP:0000189, HP:000028...\n",
      "Name: 219, dtype: object\n",
      "/home/mmendoza/ANEVA/Adina/Tissue_Sensitivity//results_UDN//UDN733771\n"
     ]
    },
    {
     "name": "stderr",
     "output_type": "stream",
     "text": [
      "/home/bkotis/miniconda3/lib/python3.7/site-packages/ipykernel_launcher.py:56: FutureWarning: The 'get_values' method is deprecated and will be removed in a future version. Use '.to_numpy()' or '.array' instead.\n"
     ]
    },
    {
     "name": "stdout",
     "output_type": "stream",
     "text": [
      "phenotype is not in HPO dataset\n",
      "RSE Model\n",
      "0.4189892382996335\n",
      "RSE Baseline\n",
      "0.6520360355065484\n",
      "causal tissue:\n",
      "Skin - Sun Exposed (Lower leg)\n",
      "causal gene\n",
      "TRAF7\n",
      "UDN ID                                               UDN046920\n",
      "Gene name                                               TRIP12\n",
      "HPO_ID       [HP:0000049, HP:0000243, HP:0000293, HP:000032...\n",
      "Name: 220, dtype: object\n",
      "/home/mmendoza/ANEVA/Adina/Tissue_Sensitivity//results_UDN//UDN046920\n"
     ]
    },
    {
     "name": "stderr",
     "output_type": "stream",
     "text": [
      "/home/bkotis/miniconda3/lib/python3.7/site-packages/ipykernel_launcher.py:56: FutureWarning: The 'get_values' method is deprecated and will be removed in a future version. Use '.to_numpy()' or '.array' instead.\n"
     ]
    },
    {
     "name": "stdout",
     "output_type": "stream",
     "text": [
      "phenotype is not in HPO dataset\n",
      "RSE Model\n",
      "0.36986719914754157\n",
      "RSE Baseline\n",
      "0.6303140516794928\n",
      "causal tissue:\n",
      "Muscle - Skeletal\n",
      "causal gene\n",
      "TRIP12\n",
      "UDN ID                                               UDN676680\n",
      "Gene name                                                TRPS1\n",
      "HPO_ID       [HP:0000219, HP:0000272, HP:0000319, HP:000034...\n",
      "Name: 221, dtype: object\n",
      "/home/mmendoza/ANEVA/Adina/Tissue_Sensitivity//results_UDN//UDN676680\n"
     ]
    },
    {
     "name": "stderr",
     "output_type": "stream",
     "text": [
      "/home/bkotis/miniconda3/lib/python3.7/site-packages/ipykernel_launcher.py:56: FutureWarning: The 'get_values' method is deprecated and will be removed in a future version. Use '.to_numpy()' or '.array' instead.\n"
     ]
    },
    {
     "name": "stdout",
     "output_type": "stream",
     "text": [
      "phenotype is not in HPO dataset\n",
      "RSE Model\n",
      "0.3833335322171554\n",
      "RSE Baseline\n",
      "0.6438465447495944\n",
      "causal tissue:\n",
      "Skin - Sun Exposed (Lower leg)\n",
      "causal gene\n",
      "TRPS1\n",
      "UDN ID                                               UDN985583\n",
      "Gene name                                               TUBB4A\n",
      "HPO_ID       [HP:0000639, HP:0001260, HP:0001263, HP:000127...\n",
      "Name: 222, dtype: object\n",
      "/home/mmendoza/ANEVA/Adina/Tissue_Sensitivity//results_UDN//UDN985583\n"
     ]
    },
    {
     "name": "stderr",
     "output_type": "stream",
     "text": [
      "/home/bkotis/miniconda3/lib/python3.7/site-packages/ipykernel_launcher.py:56: FutureWarning: The 'get_values' method is deprecated and will be removed in a future version. Use '.to_numpy()' or '.array' instead.\n"
     ]
    },
    {
     "name": "stdout",
     "output_type": "stream",
     "text": [
      "RSE Model\n",
      "1.6425051777659057\n",
      "RSE Baseline\n",
      "0.7941914517982609\n",
      "causal tissue:\n",
      "Brain - Cerebellum\n",
      "causal gene\n",
      "TUBB4A\n",
      "UDN ID                                               UDN924574\n",
      "Gene name                                                 UBA5\n",
      "HPO_ID       [HP:0000358, HP:0000549, HP:0000577, HP:000066...\n",
      "Name: 223, dtype: object\n",
      "/home/mmendoza/ANEVA/Adina/Tissue_Sensitivity//results_UDN//UDN924574\n"
     ]
    },
    {
     "name": "stderr",
     "output_type": "stream",
     "text": [
      "/home/bkotis/miniconda3/lib/python3.7/site-packages/ipykernel_launcher.py:56: FutureWarning: The 'get_values' method is deprecated and will be removed in a future version. Use '.to_numpy()' or '.array' instead.\n"
     ]
    },
    {
     "name": "stdout",
     "output_type": "stream",
     "text": [
      "phenotype is not in HPO dataset\n",
      "RSE Model\n",
      "0.23650553307216232\n",
      "RSE Baseline\n",
      "0.587026446269074\n",
      "causal tissue:\n",
      "Muscle - Skeletal\n",
      "causal gene\n",
      "UBA5\n",
      "UDN ID                                               UDN106466\n",
      "Gene name                                                 UBA5\n",
      "HPO_ID       [HP:0000252, HP:0000490, HP:0000506, HP:000056...\n",
      "Name: 224, dtype: object\n",
      "/home/mmendoza/ANEVA/Adina/Tissue_Sensitivity//results_UDN//UDN106466\n"
     ]
    },
    {
     "name": "stderr",
     "output_type": "stream",
     "text": [
      "/home/bkotis/miniconda3/lib/python3.7/site-packages/ipykernel_launcher.py:56: FutureWarning: The 'get_values' method is deprecated and will be removed in a future version. Use '.to_numpy()' or '.array' instead.\n"
     ]
    },
    {
     "name": "stdout",
     "output_type": "stream",
     "text": [
      "phenotype is not in HPO dataset\n",
      "RSE Model\n",
      "0.2841712858703616\n",
      "RSE Baseline\n",
      "0.587026446269074\n",
      "causal tissue:\n",
      "Muscle - Skeletal\n",
      "causal gene\n",
      "UBA5\n",
      "UDN ID                                               UDN178886\n",
      "Gene name                                                UBAP1\n",
      "HPO_ID       [HP:0000545, HP:0001288, HP:0001347, HP:000176...\n",
      "Name: 225, dtype: object\n",
      "/home/mmendoza/ANEVA/Adina/Tissue_Sensitivity//results_UDN//UDN178886\n"
     ]
    },
    {
     "name": "stderr",
     "output_type": "stream",
     "text": [
      "/home/bkotis/miniconda3/lib/python3.7/site-packages/ipykernel_launcher.py:56: FutureWarning: The 'get_values' method is deprecated and will be removed in a future version. Use '.to_numpy()' or '.array' instead.\n"
     ]
    },
    {
     "name": "stdout",
     "output_type": "stream",
     "text": [
      "RSE Model\n",
      "0.4253243143428311\n",
      "RSE Baseline\n",
      "0.6834634037665198\n",
      "causal tissue:\n",
      "Muscle - Skeletal\n",
      "causal gene\n",
      "UBAP1\n",
      "UDN ID                                               UDN220331\n",
      "Gene name                                                UNC80\n",
      "HPO_ID       [HP:0000190, HP:0000218, HP:0000248, HP:000025...\n",
      "Name: 226, dtype: object\n",
      "/home/mmendoza/ANEVA/Adina/Tissue_Sensitivity//results_UDN//UDN220331\n"
     ]
    },
    {
     "name": "stderr",
     "output_type": "stream",
     "text": [
      "/home/bkotis/miniconda3/lib/python3.7/site-packages/ipykernel_launcher.py:56: FutureWarning: The 'get_values' method is deprecated and will be removed in a future version. Use '.to_numpy()' or '.array' instead.\n"
     ]
    },
    {
     "name": "stdout",
     "output_type": "stream",
     "text": [
      "phenotype is not in HPO dataset\n",
      "RSE Model\n",
      "0.736860246750872\n",
      "RSE Baseline\n",
      "0.7379522298981561\n",
      "causal tissue:\n",
      "Testis\n",
      "causal gene\n",
      "UNC80\n",
      "UDN ID                                               UDN630665\n",
      "Gene name                                                VARS2\n",
      "HPO_ID       [HP:0000047, HP:0000494, HP:0001272, HP:000150...\n",
      "Name: 227, dtype: object\n",
      "/home/mmendoza/ANEVA/Adina/Tissue_Sensitivity//results_UDN//UDN630665\n"
     ]
    },
    {
     "name": "stderr",
     "output_type": "stream",
     "text": [
      "/home/bkotis/miniconda3/lib/python3.7/site-packages/ipykernel_launcher.py:56: FutureWarning: The 'get_values' method is deprecated and will be removed in a future version. Use '.to_numpy()' or '.array' instead.\n"
     ]
    },
    {
     "name": "stdout",
     "output_type": "stream",
     "text": [
      "phenotype is not in HPO dataset\n",
      "phenotype is not in HPO dataset\n",
      "RSE Model\n",
      "0.530453112974378\n",
      "RSE Baseline\n",
      "0.7202038488735085\n",
      "causal tissue:\n",
      "Muscle - Skeletal\n",
      "causal gene\n",
      "VARS2\n",
      "UDN ID                                               UDN886944\n",
      "Gene name                                                  WAC\n",
      "HPO_ID       [HP:0000286, HP:0000431, HP:0000455, HP:000134...\n",
      "Name: 228, dtype: object\n",
      "/home/mmendoza/ANEVA/Adina/Tissue_Sensitivity//results_UDN//UDN886944\n"
     ]
    },
    {
     "name": "stderr",
     "output_type": "stream",
     "text": [
      "/home/bkotis/miniconda3/lib/python3.7/site-packages/ipykernel_launcher.py:56: FutureWarning: The 'get_values' method is deprecated and will be removed in a future version. Use '.to_numpy()' or '.array' instead.\n"
     ]
    },
    {
     "name": "stdout",
     "output_type": "stream",
     "text": [
      "phenotype is not in HPO dataset\n",
      "RSE Model\n",
      "0.45047512912877596\n",
      "RSE Baseline\n",
      "0.6623261572971962\n",
      "causal tissue:\n",
      "Muscle - Skeletal\n",
      "causal gene\n",
      "WAC\n",
      "UDN ID                                               UDN738372\n",
      "Gene name                                                ZC4H2\n",
      "HPO_ID       [HP:0000347, HP:0000369, HP:0000414, HP:000048...\n",
      "Name: 229, dtype: object\n",
      "/home/mmendoza/ANEVA/Adina/Tissue_Sensitivity//results_UDN//UDN738372\n"
     ]
    },
    {
     "name": "stderr",
     "output_type": "stream",
     "text": [
      "/home/bkotis/miniconda3/lib/python3.7/site-packages/ipykernel_launcher.py:56: FutureWarning: The 'get_values' method is deprecated and will be removed in a future version. Use '.to_numpy()' or '.array' instead.\n"
     ]
    },
    {
     "name": "stdout",
     "output_type": "stream",
     "text": [
      "phenotype is not in HPO dataset\n",
      "RSE Model\n",
      "0.3180806597524147\n",
      "RSE Baseline\n",
      "0.6157290749757762\n",
      "causal tissue:\n",
      "Pituitary\n",
      "causal gene\n",
      "ZC4H2\n",
      "UDN ID                                               UDN090100\n",
      "Gene name                                             ZMPSTE24\n",
      "HPO_ID       [HP:0000365, HP:0000494, HP:0000540, HP:000058...\n",
      "Name: 230, dtype: object\n",
      "/home/mmendoza/ANEVA/Adina/Tissue_Sensitivity//results_UDN//UDN090100\n"
     ]
    },
    {
     "name": "stderr",
     "output_type": "stream",
     "text": [
      "/home/bkotis/miniconda3/lib/python3.7/site-packages/ipykernel_launcher.py:56: FutureWarning: The 'get_values' method is deprecated and will be removed in a future version. Use '.to_numpy()' or '.array' instead.\n"
     ]
    },
    {
     "name": "stdout",
     "output_type": "stream",
     "text": [
      "RSE Model\n",
      "0.3187444330345577\n",
      "RSE Baseline\n",
      "0.6141373848748269\n",
      "causal tissue:\n",
      "Muscle - Skeletal\n",
      "causal gene\n",
      "ZMPSTE24\n",
      "[0.3130544324879851, 0.5315724435317538, 0.3370996728807246, 0.3721579001337693, 0.3172549487250336, 0.3792163560495039, 0.33422407718259145, 0.37700288726792147, 0.31651307735607115, 0.40697502443257766, 0.3807043485422658, 0.24913098118692084, 0.3440845822968381, 0.25598516844444674, 0.3193746444981378, 0.3986439938237223, 0.39662864519608054, 1.158759277993694, 0.38914601447590963, 0.35559364250288383, 0.3537137050290309, 0.5148132002802164, 0.5009315093943063, 0.38487530255060515, 0.4118298066918963, nan, 0.3405415547127594, 0.3244273346586673, 0.4607959947126586, 0.5260747513719025, 0.5260700342722358, 0.5557414582051634, 0.5108556189087157, 0.5376890366901304, 0.3519358730994652, 0.4388942863805296, 0.33884662639666374, 0.3471906755339058, 0.40113863703059177, 0.560950823342136, 0.38801303018247296, 0.3815919996991835, 0.4132354782027437, 0.4414853856179615, 0.4191469538705231, 0.4434482919980112, 0.9220579754851278, 0.3753965612883206, 0.29498684945364134, 0.32614730431812017, 0.5960211532038858, 0.428111492198905, 0.35182905923795915, 0.3878225480557693, 0.3244293342134641, 0.8558803175904104, 0.4071032774648767, 0.3960377735326656, 0.39759373102905043, 0.41920458441311176, 0.3437896357891766, 0.39775835127641795, 0.4397847527436544, 0.3290081423413254, 0.37765312024529546, 0.3622558250169663, 0.3613560047798698, 0.7199829408234525, 0.5207133993406549, 0.756500278623438, 0.7904014641390196, 0.8406602024689586, 0.8824073154010785, 1.326307008057475, 0.752941727947176, 0.46054661178600514, 0.37487654176107793, 0.3888644893229525, 0.3850470331220352, 0.3876586376111854, 0.9356308785681144, 0.47812927438393826, 0.4449832354513547, 0.4194568765832923, 0.4023033526528941, 0.6682417543282396, 0.5123056073624992, 0.33757881002494855, 0.5279424767457797, 0.5385686732206856, 1.0117471570372472, 0.354337418604798, 0.5505505132850642, 0.29818588662775286, 0.3703166808160642, 0.41659435268308126, 0.4700322027097471, 0.3958120142068677, 0.2571901553918022, 0.24555107834249074, 0.28768435484078986, 0.3938674705003912, 0.7235596690001445, 0.3536063356529274, 0.33197576943675106, 0.2984501188077253, 0.35851036648555656, 0.3444401702838666, 0.45632579089755465, 0.4341259538176415, 0.37906074842008514, 0.43085521940087285, 1.5666375267082813, 1.5444391563481716, 0.3785036304616674, 0.3845398383309801, 0.3882669872214305, 0.3571494428635823, 0.3826037108181133, 0.40757604225607424, 0.44549539470068844, 0.3618948380600197, 0.3683754496647312, 0.47169899119148373, 0.29377982119347773, nan, 0.40664157611367935, 56.26225240517598, nan, nan, nan, 0.4374378829654748, 0.3934306213485538, 0.36710542640729926, 0.3736659338392706, 0.5683796986158978, 0.32177604595782755, 0.35932304345221017, 0.6464059413830169, 0.4151759315165759, 0.3754225142117234, 0.40330161856351154, 0.44765828117577333, 0.5191163489137682, 0.5097625113227379, 0.40666687543767077, 0.35534383707648093, 0.3736611123596995, 0.36332799121775966, 0.26273752433738135, 0.3738270855188725, 0.43044930501359224, 0.34853729564762675, 0.43221565697867625, 0.4001537270347755, 0.3224767741496341, 0.37042175878289946, 0.328509394316083, 0.33611194642660197, 0.47957407250697454, 0.3493001935402358, 0.4779682635544641, 0.33169867299493944, 0.38197544741151396, 0.4509998975818527, 0.49090546460735557, 0.39505058224070616, 0.3090574134414251, 0.45609776341050845, 0.3749843714362618, 0.3856259322499231, 0.2660868955079741, nan, 0.5057326005969796, 0.2988652079224932, 0.40971253322447454, nan, 0.36486447313685055, 0.5729859534762269, 1.1583761457192001, 0.5922663526878436, 0.5730114076196448, 1.0001958027918887, 0.21837677586424112, 0.39578601865296315, 0.29148676623579034, 0.4949425606286977, 0.3510889678692305, 0.36805935996144556, 0.3321087196686866, 0.36483906557043627, 0.3159794280762047, 0.3750270842815622, 0.516514298707299, 0.38004296776552343, nan, 0.7946503620235628, 0.3469276236700631, 0.3748155536681024, 0.354065104377991, 0.31764292284599827, 0.3710196199285536, nan, 0.3810801876368714, 0.38804044711710234, 0.35440680138716313, 0.3996721773614102, 0.36647809182762586, 0.37117120168399403, 0.37003319645254057, 0.35249575820296153, 0.38069830358596407, 0.37199878959712507, 0.4215850850976672, 0.29935690199608145, 0.41431902028834144, 0.3763354773251535, 0.4318993358706349, 0.36458169775678256, 0.4189892382996335, 0.36986719914754157, 0.3833335322171554, 1.6425051777659057, 0.23650553307216232, 0.2841712858703616, 0.4253243143428311, 0.736860246750872, 0.530453112974378, 0.45047512912877596, 0.3180806597524147, 0.3187444330345577]\n",
      "[0.6297483868104545, 0.6763190861952147, 0.6179651961482764, 0.6420693092231247, 0.6124184696307409, 0.6516526596266312, 0.6253334789005536, 0.6550702519971813, 0.5898049670093329, 0.659430472502806, 0.6437603222345154, 0.5664915571126964, 0.6275658161779899, 0.5856277165686533, 0.5856277165686533, 0.6236137291723477, 0.6654781887718251, 0.9165566457845722, 0.6449236571715995, 0.6449236571715995, 0.6179682166364076, 0.6824499583132335, 0.6824499583132335, 0.6156068654908691, 0.6156068654908691, nan, 0.6064953590464028, 0.6064953590464028, 0.7066646850571809, 0.6076266741783134, 0.6076266741783134, 0.7128145151669097, 0.6960953866703414, 0.6960953866703414, 0.6351328152727549, 0.6314263328222813, 0.6252919119619552, 0.6252919119619552, 0.6541466701109478, 0.6526896307494306, 0.629878539400674, 0.6779158741903326, 0.6779158741903326, 0.6779158741903326, 0.6476162515127145, 0.6978149215773706, 0.7506582000278554, 0.6629059883791822, 0.5734737840389277, 0.6180561420306543, 0.5996789021042637, 0.6341311715795943, 0.6523769283294143, 0.6523769283294143, 0.6129305854923257, 0.7788285652151175, 0.6363423349539811, 0.6434613751237459, 0.6490592886748298, 0.655286058060782, 0.5992142516870556, 0.5587721772719695, 0.6536273858418448, 0.6147711735241382, 0.6271483564633971, 0.6271483564633971, 0.6356459017202752, 0.7504458474571207, 0.7154768017767114, 0.6149928658085191, 0.6149928658085191, 0.7265741040741458, 0.7265741040741458, 0.9227966815465783, 0.8339860543884624, 0.5529775120804767, 0.6317543718132804, 0.6317543718132804, 0.6220988288185043, 0.5578695242507317, 0.6871024134013428, 0.6905993561343543, 0.6355933607434181, 0.6355933607434181, 0.6355933607434181, 0.7238659447266204, 0.678859997998401, 0.6251528627757663, 0.7205338315007757, 0.7200340470991944, 0.5578528827605406, 0.6575125516035604, 0.7109212736486448, 0.6139753338624089, 0.650748857817449, 0.6698345831497494, 0.7182766311598031, 0.7180666488951912, 0.5894578379928871, 0.5894578379928871, 0.5894578379928871, 0.6516606798698008, 0.7789825095019507, 0.6518491271043031, 0.6304014881771505, 0.6102373359106216, 0.6442714090963964, 0.6442714090963964, 0.5997611082525961, 0.5997611082525961, 0.6744868437460804, 0.6816847526625063, 0.8554628200482509, 0.8554628200482509, 0.6273351413332858, 0.6532032749666178, 0.6532032749666178, 0.6532032749666178, 0.6532032749666178, 0.6830199298802112, 0.6830199298802112, 0.6371745344947762, 0.6363747745175848, 0.7193625015824301, 0.6098898552142451, nan, 0.663582260353047, 10.019289793707646, nan, nan, nan, 0.6786273137480383, 0.6757180716756995, 0.6630788559679965, 0.6333274028417796, 0.705152125988945, 0.5977581746649608, 0.6274233294928134, 0.7610364063287584, 0.6668706115640162, 0.6246135296531391, 0.655282925007704, 0.6763267745918995, 0.7221041792251673, 0.7203352499565866, 0.6393196778762719, 0.6393196778762719, 0.6113167159146035, 0.6458585743561238, 0.5906194891321924, 0.6843070004727253, 0.6843070004727253, 0.6076884588122393, 0.6604342692370975, 0.6736599981141432, 0.5728166184037526, 0.6422054658195053, 0.6422054658195053, 0.6488525041230948, 0.698101931966302, 0.6110064519077104, 0.7073490757149065, 0.620382100876712, 0.620382100876712, 0.6981986179952847, 0.702438915978551, 0.6327262470576305, 0.6320248265025429, 0.6733095397680087, 0.6439716841372579, 0.6449385776255437, 0.5559441341901021, nan, 0.7138120734275416, 0.5935908255943789, 0.6608395407356326, nan, 0.6591281813828455, 0.7569031164630768, 0.7665422679246571, 0.5943656621568263, 0.5943656621568263, 0.7180896729469589, 0.5488748420592565, 0.6382353617016832, 0.6060889914265646, 0.6924477972674449, 0.6334005926739813, 0.6290804372789718, 0.6290804372789718, 0.6290804372789718, 0.6290804372789718, 0.670310421138789, 0.7065510023859383, 0.6347497505372006, nan, 0.8019980561869996, 0.6522773419124028, 0.6318949974564817, 0.6318949974564817, 0.6088747583214401, 0.6455312033384074, nan, 0.6481407432947737, 0.6481407432947737, 0.6516577896702657, 0.6391800077628524, 0.669867334055594, 0.6419294392742457, 0.6419294392742457, 0.6419294392742457, 0.6419294392742457, 0.6211726877511249, 0.6485671843954124, 0.596803847367571, 0.6208494658077381, 0.6208494658077381, 0.6818262028551381, 0.650277805537978, 0.6520360355065484, 0.6303140516794928, 0.6438465447495944, 0.7941914517982609, 0.587026446269074, 0.587026446269074, 0.6834634037665198, 0.7379522298981561, 0.7202038488735085, 0.6623261572971962, 0.6157290749757762, 0.6141373848748269]\n"
     ]
    }
   ],
   "source": [
    "# code for evaluating this in UDN dataset for every case\n",
    "\n",
    "#instead of putting it in files, put it in a dataframe \n",
    "\n",
    "import pandas as pd \n",
    "import os \n",
    "import matplotlib.pyplot as plt\n",
    "import seaborn as sns\n",
    "\n",
    "from itertools import islice\n",
    "\n",
    "def Convert(string): \n",
    "    li = list(string.split(\", \")) \n",
    "    return li    \n",
    "\n",
    "\n",
    "# read UDN solved cases file \n",
    "UDN_cases=pd.read_excel('UDN_solved_cases_HPO.xlsx')\n",
    "# print(UDN_cases)\n",
    "# print(UDN_cases['UDN ID'])\n",
    "# print(UDN_cases['Gene name'])\n",
    "\n",
    "# convert HPO_ID values into list values \n",
    "UDN_cases['HPO_ID']=UDN_cases['HPO_ID'].apply(Convert)\n",
    "#print(UDN_cases['HPO_ID'])\n",
    "\n",
    "\n",
    "# read saved output here , and reset index \n",
    "output_df=pd.read_csv('Probabilities_Tissue_causing_Phenotype.csv', index_col=False)\n",
    "hpo_data = pd.read_csv('ALL_SOURCES_ALL_FREQUENCIES_phenotype_to_genes.csv')\n",
    "\n",
    "#os.mkdir('results_UDN') # path of results \n",
    "\n",
    "# for all UDN cases, calculate and save P_df and P_mean into a folder named after UDN ID\n",
    "\n",
    "\n",
    "RSE_results=[]\n",
    "RSE_resultsbaseline=[]\n",
    "UDN_ID=[]\n",
    "\n",
    "\n",
    "LIMIT= UDN_cases.shape[0]#5 # number of cases that you want to go through, must be <10 if you want to visualize \n",
    "\n",
    "\n",
    "for index, row in islice(UDN_cases.iterrows(), LIMIT):    \n",
    "    print(row)\n",
    "    #try making folder with name UDN ID \n",
    "    path= os.getcwd() +'//results_UDN//' + str(row['UDN ID'])  \n",
    "    print(path)\n",
    "    #if not os.path.exists(path): \n",
    "        #os.mkdir(path)  # to do: if path does not exist \n",
    "    phen_list=  row['HPO_ID']\n",
    "\n",
    "\n",
    "    #initialize data frame for plotting probabilities for each phenotype \n",
    "    P_df_plot=pd.DataFrame({'Tissues':output_df.drop(['index'] ,axis=1).columns.get_values().tolist()})\n",
    "    hpo_name=[]\n",
    "\n",
    "    for phen in phen_list: \n",
    "        #obtain HPO Name from HPO dataset, since the output probability goes by HPO Name \n",
    "        gene_connections=hpo_data[hpo_data['HPO-ID']== phen]   # to do: check if phen is in there \n",
    "        \n",
    "        if gene_connections.empty:\n",
    "            print('phenotype is not in HPO dataset')\n",
    "            continue   #phenotype is not in HPO data\n",
    "            \n",
    "        \n",
    "        hpo_name.append(gene_connections['HPO-Name'].iloc[0])    \n",
    "        #obtain probabilities of tissues given phenotype \n",
    "        hpo2tissues= output_df[output_df['index']== hpo_name[-1]]\n",
    "\n",
    "        #manipulate dataframe so it can be plotted \n",
    "        hpo2tissues.set_index('index', inplace=True)\n",
    "        \n",
    "        #print(hpo_name[-1]) \n",
    "\n",
    "        P_df_plot[hpo_name[-1]]=hpo2tissues.values.T\n",
    "\n",
    "    #print(\"\\n Probabilities of Expression for each HPO term:\")\n",
    "    #print(P_df_plot)\n",
    "    \n",
    "    #save results \n",
    "    P_df_fname= path + '//P_exp_given_phenotypes.csv'\n",
    "    #P_df_plot.to_csv(P_df_fname, index=False)\n",
    "\n",
    "\n",
    "    #Compute average probability of expression for all HPOs inputted \n",
    "\n",
    "    #print(\"\\n Avergage Probability of Expression for HPOs:\")\n",
    "    P_mean=pd.DataFrame({'P_mean':P_df_plot.mean(axis=1)})\n",
    "    P_mean['Tissues']=P_df_plot['Tissues']\n",
    "    #print(P_mean) \n",
    "    \n",
    "    #save average results \n",
    "    P_mean_fname= path + '//P_exp_given_phenotypes_mean.csv'\n",
    "    #P_mean.to_csv(P_mean_fname, index=False)\n",
    "    \n",
    "    \n",
    "    gene_causal=row['Gene name'] # causal gene for case \n",
    "    #plot error for all cases? \n",
    "    \n",
    "    [result, RSE_model, RSE_baseline]=evaluate(P_mean, gene_causal) \n",
    "    \n",
    "    print(\"RSE Model\")\n",
    "    print(RSE_model)\n",
    "    print(\"RSE Baseline\")\n",
    "    print(RSE_baseline)\n",
    "    \n",
    "    \n",
    "    \n",
    "    #print('results')\n",
    "    #print(result)\n",
    "    \n",
    "#     #Plot: have a boxplot of p_df_plot and how it compares to p_causal for each tissue, 50 boxplots , look at past ipsc code to generate this \n",
    "#     P_df_boxplot=(P_df_plot.set_index('Tissues')).T\n",
    "#     P_df_boxplot.reset_index(inplace=True)\n",
    "#     # now make Tissues be a column as well \n",
    "    \n",
    "#     plt.figure() # new plot \n",
    "#     #print(pd.melt(P_df_boxplot.drop(['index'] ,axis=1)))\n",
    "#     sns.boxplot(x=\"Tissues\", y=\"value\", data=pd.melt(P_df_boxplot.drop(['index'] ,axis=1)))\n",
    "#     plt.xticks(rotation=90)\n",
    "    \n",
    "    \n",
    "    # plot only the true top tissue results \n",
    "    \n",
    "    #plot barplot with P_df_plot for that specific tissue ,x label with hpo names , see which HPOs contribute more to the causes, etc. \n",
    "    #look at HPO tree and see what are the causal things \n",
    "    tissue_causal=result['true rank'].iloc[0]\n",
    "    print('causal tissue:')\n",
    "    print(tissue_causal)\n",
    "    print('causal gene')\n",
    "    print(gene_causal)\n",
    "#     tissue_causal_probs=P_df_plot[P_df_plot['Tissues']==tissue_causal] #extract probabilities of causal tissue for each HPO term \n",
    "#     tissue_causal_probs.plot(kind='bar')\n",
    "    \n",
    "    \n",
    "# #Scatterplot predictions vs expectation , Pmean vs P_true for all tissues, calculate R^2 \n",
    "#     plt.figure()\n",
    "#     ax=plt.subplot(111)\n",
    "#     result.plot(kind='scatter',ax=ax, x='P_causal',y='P_mean')\n",
    "#     result.plot(kind='scatter', ax=ax, x='P_causal', y='P_baseline', color='red')\n",
    "#     ax.set_xlim(0,1)\n",
    "#     ax.set_xlabel('P_true')\n",
    "#     ax.set_ylim(0,1)\n",
    "#     ax.set_ylabel('P_model')\n",
    "    UDN_ID.append(row['UDN ID'])\n",
    "    RSE_results.append(RSE_model)\n",
    "    RSE_resultsbaseline.append(RSE_baseline)\n",
    "    \n",
    "\n"
   ]
  },
  {
   "cell_type": "markdown",
   "metadata": {},
   "source": [
    "# Plot Final Evaluation Results"
   ]
  },
  {
   "cell_type": "code",
   "execution_count": 35,
   "metadata": {
    "scrolled": true
   },
   "outputs": [
    {
     "name": "stdout",
     "output_type": "stream",
     "text": [
      "[0.49711033651636827, 0.7859787700539907, 0.5454994471886729, 0.5796226276319979, 0.5180362194437461, 0.5819301900291153, 0.5344733465577699, 0.5755152002682358, 0.5366402371295438, 0.6171613860790244, 0.5913759133536333, 0.43977880704294303, 0.5482844562700798, 0.43711245421294453, 0.5453543872025691, 0.6392482640701281, 0.596005476795685, 1.2642527696712038, 0.6033985730691946, 0.5513732339458413, 0.5723817107525201, 0.7543603659272632, 0.7340194006787335, 0.6251965728870088, 0.6689818287902195, nan, 0.5614907841144826, 0.5349213803857737, 0.6520716323547038, 0.8657861376532019, 0.8657783744988389, 0.7796438573855826, 0.7338873790735922, 0.7724358571920409, 0.5541138241272071, 0.6950839133027715, 0.5419015021855589, 0.5552457482530655, 0.6132243048222745, 0.8594449749386114, 0.6160124625799528, 0.5628899015750842, 0.6095674905035829, 0.6512391912126982, 0.6472150025442869, 0.6354812404922809, 1.22833264920161, 0.5662892896867207, 0.5143859364870592, 0.5276985084988346, 0.993900487598375, 0.6751150414708318, 0.53930334437012, 0.594476185797822, 0.529308443553803, 1.0989328792197173, 0.6397551366660487, 0.6154802585570928, 0.6125692027931823, 0.6397276109515942, 0.5737340772874733, 0.7118435159358664, 0.6728370968992219, 0.5351717134935041, 0.6021750935854312, 0.5776238130636144, 0.5684863283188278, 0.9594069222490983, 0.7277851609550312, 1.2300960233561116, 1.285220541704812, 1.1570192190378017, 1.2144766933656503, 1.4372689397133787, 0.9028229236989893, 0.8328487175785554, 0.5933897072767316, 0.6155311410142235, 0.6189483331021857, 0.6948912259221283, 1.3617051262219972, 0.6923395889916228, 0.700106802454454, 0.6599453400404891, 0.6329571350184374, 0.923156779506476, 0.754655759468841, 0.5399940240632528, 0.732710184678138, 0.7479766760897217, 1.8136451173840067, 0.5389059383590926, 0.7744183972150482, 0.4856642770189461, 0.5690623600294465, 0.6219361662757664, 0.6543888278124612, 0.5512190474461658, 0.436316456945485, 0.4165710632987694, 0.4880490788287072, 0.6044057631021782, 0.9288522658393944, 0.5424665324378757, 0.5266100662241169, 0.48907220395219775, 0.5564586002479524, 0.5346196733562194, 0.7608459178472905, 0.7238314519633783, 0.5619987282699137, 0.6320446771297875, 1.831333273630662, 1.8053843137929246, 0.6033515509066292, 0.588698576795458, 0.5944045324042091, 0.546766154658111, 0.5857345262662169, 0.5967264268958526, 0.6522436245437522, 0.5679681444691927, 0.5788655748398963, 0.655718070032641, 0.48169324129891833, nan, 0.612797539068228, 5.6153932627550125, nan, nan, nan, 0.6445922144652836, 0.5822407862688845, 0.553637660292123, 0.590004367666089, 0.8060384102490935, 0.5383047185229725, 0.5726963384397485, 0.8493758458958368, 0.6225734412600084, 0.6010476821086526, 0.6154618153048471, 0.6618964352636987, 0.7188939821270537, 0.7076739772952392, 0.6360931620133448, 0.5558155792371073, 0.6112398084856185, 0.5625503874125577, 0.44485075276372305, 0.5462856367984391, 0.6290295214227446, 0.5735460178540533, 0.6544415956457732, 0.5939995370884029, 0.5629668619745504, 0.576796334659363, 0.5115331646965646, 0.5180097854147107, 0.6869685507905513, 0.5716800411020797, 0.6757176618508891, 0.5346683479845554, 0.615709974339546, 0.6459478520263965, 0.698858581779295, 0.6243625645021232, 0.48899568574175567, 0.6773968531140353, 0.5822994716586585, 0.5979266020489481, 0.47862164405351404, nan, 0.7084954421807157, 0.5034869055181761, 0.6199879213770884, nan, 0.5535561722931766, 0.7570136005698138, 1.5111706088372625, 0.9964679832590517, 0.9640721934378048, 1.3928564084304376, 0.39786260752076, 0.6201254935134055, 0.4809306394919197, 0.7147723807944116, 0.5542921366509364, 0.5850751957149577, 0.5279272728702098, 0.5799561454311205, 0.502287798747874, 0.5594827000368418, 0.7310361134059565, 0.5987288178433878, nan, 0.9908382643738932, 0.5318713396557833, 0.5931611346455006, 0.5603226893758964, 0.521688440035983, 0.574750868757081, nan, 0.5879590067115354, 0.5986978154536753, 0.5438541624224127, 0.6252889209727848, 0.5470905553922875, 0.5782118391448657, 0.5764390504833268, 0.5491191658096988, 0.5930531929122537, 0.5988653347652783, 0.6500253100080363, 0.5016001544167455, 0.6673421547513192, 0.6061621988118057, 0.6334449073122479, 0.5606552993995579, 0.642586015931056, 0.5867982764496811, 0.5953802739847613, 2.0681476412857838, 0.40288735639647116, 0.4840860027285835, 0.6223073715416189, 0.9985202522561185, 0.7365319052433209, 0.6801409308173233, 0.5165919114099468, 0.519011610243405]\n"
     ]
    },
    {
     "data": {
      "application/javascript": [
       "/* Put everything inside the global mpl namespace */\n",
       "window.mpl = {};\n",
       "\n",
       "\n",
       "mpl.get_websocket_type = function() {\n",
       "    if (typeof(WebSocket) !== 'undefined') {\n",
       "        return WebSocket;\n",
       "    } else if (typeof(MozWebSocket) !== 'undefined') {\n",
       "        return MozWebSocket;\n",
       "    } else {\n",
       "        alert('Your browser does not have WebSocket support.' +\n",
       "              'Please try Chrome, Safari or Firefox ≥ 6. ' +\n",
       "              'Firefox 4 and 5 are also supported but you ' +\n",
       "              'have to enable WebSockets in about:config.');\n",
       "    };\n",
       "}\n",
       "\n",
       "mpl.figure = function(figure_id, websocket, ondownload, parent_element) {\n",
       "    this.id = figure_id;\n",
       "\n",
       "    this.ws = websocket;\n",
       "\n",
       "    this.supports_binary = (this.ws.binaryType != undefined);\n",
       "\n",
       "    if (!this.supports_binary) {\n",
       "        var warnings = document.getElementById(\"mpl-warnings\");\n",
       "        if (warnings) {\n",
       "            warnings.style.display = 'block';\n",
       "            warnings.textContent = (\n",
       "                \"This browser does not support binary websocket messages. \" +\n",
       "                    \"Performance may be slow.\");\n",
       "        }\n",
       "    }\n",
       "\n",
       "    this.imageObj = new Image();\n",
       "\n",
       "    this.context = undefined;\n",
       "    this.message = undefined;\n",
       "    this.canvas = undefined;\n",
       "    this.rubberband_canvas = undefined;\n",
       "    this.rubberband_context = undefined;\n",
       "    this.format_dropdown = undefined;\n",
       "\n",
       "    this.image_mode = 'full';\n",
       "\n",
       "    this.root = $('<div/>');\n",
       "    this._root_extra_style(this.root)\n",
       "    this.root.attr('style', 'display: inline-block');\n",
       "\n",
       "    $(parent_element).append(this.root);\n",
       "\n",
       "    this._init_header(this);\n",
       "    this._init_canvas(this);\n",
       "    this._init_toolbar(this);\n",
       "\n",
       "    var fig = this;\n",
       "\n",
       "    this.waiting = false;\n",
       "\n",
       "    this.ws.onopen =  function () {\n",
       "            fig.send_message(\"supports_binary\", {value: fig.supports_binary});\n",
       "            fig.send_message(\"send_image_mode\", {});\n",
       "            if (mpl.ratio != 1) {\n",
       "                fig.send_message(\"set_dpi_ratio\", {'dpi_ratio': mpl.ratio});\n",
       "            }\n",
       "            fig.send_message(\"refresh\", {});\n",
       "        }\n",
       "\n",
       "    this.imageObj.onload = function() {\n",
       "            if (fig.image_mode == 'full') {\n",
       "                // Full images could contain transparency (where diff images\n",
       "                // almost always do), so we need to clear the canvas so that\n",
       "                // there is no ghosting.\n",
       "                fig.context.clearRect(0, 0, fig.canvas.width, fig.canvas.height);\n",
       "            }\n",
       "            fig.context.drawImage(fig.imageObj, 0, 0);\n",
       "        };\n",
       "\n",
       "    this.imageObj.onunload = function() {\n",
       "        fig.ws.close();\n",
       "    }\n",
       "\n",
       "    this.ws.onmessage = this._make_on_message_function(this);\n",
       "\n",
       "    this.ondownload = ondownload;\n",
       "}\n",
       "\n",
       "mpl.figure.prototype._init_header = function() {\n",
       "    var titlebar = $(\n",
       "        '<div class=\"ui-dialog-titlebar ui-widget-header ui-corner-all ' +\n",
       "        'ui-helper-clearfix\"/>');\n",
       "    var titletext = $(\n",
       "        '<div class=\"ui-dialog-title\" style=\"width: 100%; ' +\n",
       "        'text-align: center; padding: 3px;\"/>');\n",
       "    titlebar.append(titletext)\n",
       "    this.root.append(titlebar);\n",
       "    this.header = titletext[0];\n",
       "}\n",
       "\n",
       "\n",
       "\n",
       "mpl.figure.prototype._canvas_extra_style = function(canvas_div) {\n",
       "\n",
       "}\n",
       "\n",
       "\n",
       "mpl.figure.prototype._root_extra_style = function(canvas_div) {\n",
       "\n",
       "}\n",
       "\n",
       "mpl.figure.prototype._init_canvas = function() {\n",
       "    var fig = this;\n",
       "\n",
       "    var canvas_div = $('<div/>');\n",
       "\n",
       "    canvas_div.attr('style', 'position: relative; clear: both; outline: 0');\n",
       "\n",
       "    function canvas_keyboard_event(event) {\n",
       "        return fig.key_event(event, event['data']);\n",
       "    }\n",
       "\n",
       "    canvas_div.keydown('key_press', canvas_keyboard_event);\n",
       "    canvas_div.keyup('key_release', canvas_keyboard_event);\n",
       "    this.canvas_div = canvas_div\n",
       "    this._canvas_extra_style(canvas_div)\n",
       "    this.root.append(canvas_div);\n",
       "\n",
       "    var canvas = $('<canvas/>');\n",
       "    canvas.addClass('mpl-canvas');\n",
       "    canvas.attr('style', \"left: 0; top: 0; z-index: 0; outline: 0\")\n",
       "\n",
       "    this.canvas = canvas[0];\n",
       "    this.context = canvas[0].getContext(\"2d\");\n",
       "\n",
       "    var backingStore = this.context.backingStorePixelRatio ||\n",
       "\tthis.context.webkitBackingStorePixelRatio ||\n",
       "\tthis.context.mozBackingStorePixelRatio ||\n",
       "\tthis.context.msBackingStorePixelRatio ||\n",
       "\tthis.context.oBackingStorePixelRatio ||\n",
       "\tthis.context.backingStorePixelRatio || 1;\n",
       "\n",
       "    mpl.ratio = (window.devicePixelRatio || 1) / backingStore;\n",
       "\n",
       "    var rubberband = $('<canvas/>');\n",
       "    rubberband.attr('style', \"position: absolute; left: 0; top: 0; z-index: 1;\")\n",
       "\n",
       "    var pass_mouse_events = true;\n",
       "\n",
       "    canvas_div.resizable({\n",
       "        start: function(event, ui) {\n",
       "            pass_mouse_events = false;\n",
       "        },\n",
       "        resize: function(event, ui) {\n",
       "            fig.request_resize(ui.size.width, ui.size.height);\n",
       "        },\n",
       "        stop: function(event, ui) {\n",
       "            pass_mouse_events = true;\n",
       "            fig.request_resize(ui.size.width, ui.size.height);\n",
       "        },\n",
       "    });\n",
       "\n",
       "    function mouse_event_fn(event) {\n",
       "        if (pass_mouse_events)\n",
       "            return fig.mouse_event(event, event['data']);\n",
       "    }\n",
       "\n",
       "    rubberband.mousedown('button_press', mouse_event_fn);\n",
       "    rubberband.mouseup('button_release', mouse_event_fn);\n",
       "    // Throttle sequential mouse events to 1 every 20ms.\n",
       "    rubberband.mousemove('motion_notify', mouse_event_fn);\n",
       "\n",
       "    rubberband.mouseenter('figure_enter', mouse_event_fn);\n",
       "    rubberband.mouseleave('figure_leave', mouse_event_fn);\n",
       "\n",
       "    canvas_div.on(\"wheel\", function (event) {\n",
       "        event = event.originalEvent;\n",
       "        event['data'] = 'scroll'\n",
       "        if (event.deltaY < 0) {\n",
       "            event.step = 1;\n",
       "        } else {\n",
       "            event.step = -1;\n",
       "        }\n",
       "        mouse_event_fn(event);\n",
       "    });\n",
       "\n",
       "    canvas_div.append(canvas);\n",
       "    canvas_div.append(rubberband);\n",
       "\n",
       "    this.rubberband = rubberband;\n",
       "    this.rubberband_canvas = rubberband[0];\n",
       "    this.rubberband_context = rubberband[0].getContext(\"2d\");\n",
       "    this.rubberband_context.strokeStyle = \"#000000\";\n",
       "\n",
       "    this._resize_canvas = function(width, height) {\n",
       "        // Keep the size of the canvas, canvas container, and rubber band\n",
       "        // canvas in synch.\n",
       "        canvas_div.css('width', width)\n",
       "        canvas_div.css('height', height)\n",
       "\n",
       "        canvas.attr('width', width * mpl.ratio);\n",
       "        canvas.attr('height', height * mpl.ratio);\n",
       "        canvas.attr('style', 'width: ' + width + 'px; height: ' + height + 'px;');\n",
       "\n",
       "        rubberband.attr('width', width);\n",
       "        rubberband.attr('height', height);\n",
       "    }\n",
       "\n",
       "    // Set the figure to an initial 600x600px, this will subsequently be updated\n",
       "    // upon first draw.\n",
       "    this._resize_canvas(600, 600);\n",
       "\n",
       "    // Disable right mouse context menu.\n",
       "    $(this.rubberband_canvas).bind(\"contextmenu\",function(e){\n",
       "        return false;\n",
       "    });\n",
       "\n",
       "    function set_focus () {\n",
       "        canvas.focus();\n",
       "        canvas_div.focus();\n",
       "    }\n",
       "\n",
       "    window.setTimeout(set_focus, 100);\n",
       "}\n",
       "\n",
       "mpl.figure.prototype._init_toolbar = function() {\n",
       "    var fig = this;\n",
       "\n",
       "    var nav_element = $('<div/>')\n",
       "    nav_element.attr('style', 'width: 100%');\n",
       "    this.root.append(nav_element);\n",
       "\n",
       "    // Define a callback function for later on.\n",
       "    function toolbar_event(event) {\n",
       "        return fig.toolbar_button_onclick(event['data']);\n",
       "    }\n",
       "    function toolbar_mouse_event(event) {\n",
       "        return fig.toolbar_button_onmouseover(event['data']);\n",
       "    }\n",
       "\n",
       "    for(var toolbar_ind in mpl.toolbar_items) {\n",
       "        var name = mpl.toolbar_items[toolbar_ind][0];\n",
       "        var tooltip = mpl.toolbar_items[toolbar_ind][1];\n",
       "        var image = mpl.toolbar_items[toolbar_ind][2];\n",
       "        var method_name = mpl.toolbar_items[toolbar_ind][3];\n",
       "\n",
       "        if (!name) {\n",
       "            // put a spacer in here.\n",
       "            continue;\n",
       "        }\n",
       "        var button = $('<button/>');\n",
       "        button.addClass('ui-button ui-widget ui-state-default ui-corner-all ' +\n",
       "                        'ui-button-icon-only');\n",
       "        button.attr('role', 'button');\n",
       "        button.attr('aria-disabled', 'false');\n",
       "        button.click(method_name, toolbar_event);\n",
       "        button.mouseover(tooltip, toolbar_mouse_event);\n",
       "\n",
       "        var icon_img = $('<span/>');\n",
       "        icon_img.addClass('ui-button-icon-primary ui-icon');\n",
       "        icon_img.addClass(image);\n",
       "        icon_img.addClass('ui-corner-all');\n",
       "\n",
       "        var tooltip_span = $('<span/>');\n",
       "        tooltip_span.addClass('ui-button-text');\n",
       "        tooltip_span.html(tooltip);\n",
       "\n",
       "        button.append(icon_img);\n",
       "        button.append(tooltip_span);\n",
       "\n",
       "        nav_element.append(button);\n",
       "    }\n",
       "\n",
       "    var fmt_picker_span = $('<span/>');\n",
       "\n",
       "    var fmt_picker = $('<select/>');\n",
       "    fmt_picker.addClass('mpl-toolbar-option ui-widget ui-widget-content');\n",
       "    fmt_picker_span.append(fmt_picker);\n",
       "    nav_element.append(fmt_picker_span);\n",
       "    this.format_dropdown = fmt_picker[0];\n",
       "\n",
       "    for (var ind in mpl.extensions) {\n",
       "        var fmt = mpl.extensions[ind];\n",
       "        var option = $(\n",
       "            '<option/>', {selected: fmt === mpl.default_extension}).html(fmt);\n",
       "        fmt_picker.append(option)\n",
       "    }\n",
       "\n",
       "    // Add hover states to the ui-buttons\n",
       "    $( \".ui-button\" ).hover(\n",
       "        function() { $(this).addClass(\"ui-state-hover\");},\n",
       "        function() { $(this).removeClass(\"ui-state-hover\");}\n",
       "    );\n",
       "\n",
       "    var status_bar = $('<span class=\"mpl-message\"/>');\n",
       "    nav_element.append(status_bar);\n",
       "    this.message = status_bar[0];\n",
       "}\n",
       "\n",
       "mpl.figure.prototype.request_resize = function(x_pixels, y_pixels) {\n",
       "    // Request matplotlib to resize the figure. Matplotlib will then trigger a resize in the client,\n",
       "    // which will in turn request a refresh of the image.\n",
       "    this.send_message('resize', {'width': x_pixels, 'height': y_pixels});\n",
       "}\n",
       "\n",
       "mpl.figure.prototype.send_message = function(type, properties) {\n",
       "    properties['type'] = type;\n",
       "    properties['figure_id'] = this.id;\n",
       "    this.ws.send(JSON.stringify(properties));\n",
       "}\n",
       "\n",
       "mpl.figure.prototype.send_draw_message = function() {\n",
       "    if (!this.waiting) {\n",
       "        this.waiting = true;\n",
       "        this.ws.send(JSON.stringify({type: \"draw\", figure_id: this.id}));\n",
       "    }\n",
       "}\n",
       "\n",
       "\n",
       "mpl.figure.prototype.handle_save = function(fig, msg) {\n",
       "    var format_dropdown = fig.format_dropdown;\n",
       "    var format = format_dropdown.options[format_dropdown.selectedIndex].value;\n",
       "    fig.ondownload(fig, format);\n",
       "}\n",
       "\n",
       "\n",
       "mpl.figure.prototype.handle_resize = function(fig, msg) {\n",
       "    var size = msg['size'];\n",
       "    if (size[0] != fig.canvas.width || size[1] != fig.canvas.height) {\n",
       "        fig._resize_canvas(size[0], size[1]);\n",
       "        fig.send_message(\"refresh\", {});\n",
       "    };\n",
       "}\n",
       "\n",
       "mpl.figure.prototype.handle_rubberband = function(fig, msg) {\n",
       "    var x0 = msg['x0'] / mpl.ratio;\n",
       "    var y0 = (fig.canvas.height - msg['y0']) / mpl.ratio;\n",
       "    var x1 = msg['x1'] / mpl.ratio;\n",
       "    var y1 = (fig.canvas.height - msg['y1']) / mpl.ratio;\n",
       "    x0 = Math.floor(x0) + 0.5;\n",
       "    y0 = Math.floor(y0) + 0.5;\n",
       "    x1 = Math.floor(x1) + 0.5;\n",
       "    y1 = Math.floor(y1) + 0.5;\n",
       "    var min_x = Math.min(x0, x1);\n",
       "    var min_y = Math.min(y0, y1);\n",
       "    var width = Math.abs(x1 - x0);\n",
       "    var height = Math.abs(y1 - y0);\n",
       "\n",
       "    fig.rubberband_context.clearRect(\n",
       "        0, 0, fig.canvas.width, fig.canvas.height);\n",
       "\n",
       "    fig.rubberband_context.strokeRect(min_x, min_y, width, height);\n",
       "}\n",
       "\n",
       "mpl.figure.prototype.handle_figure_label = function(fig, msg) {\n",
       "    // Updates the figure title.\n",
       "    fig.header.textContent = msg['label'];\n",
       "}\n",
       "\n",
       "mpl.figure.prototype.handle_cursor = function(fig, msg) {\n",
       "    var cursor = msg['cursor'];\n",
       "    switch(cursor)\n",
       "    {\n",
       "    case 0:\n",
       "        cursor = 'pointer';\n",
       "        break;\n",
       "    case 1:\n",
       "        cursor = 'default';\n",
       "        break;\n",
       "    case 2:\n",
       "        cursor = 'crosshair';\n",
       "        break;\n",
       "    case 3:\n",
       "        cursor = 'move';\n",
       "        break;\n",
       "    }\n",
       "    fig.rubberband_canvas.style.cursor = cursor;\n",
       "}\n",
       "\n",
       "mpl.figure.prototype.handle_message = function(fig, msg) {\n",
       "    fig.message.textContent = msg['message'];\n",
       "}\n",
       "\n",
       "mpl.figure.prototype.handle_draw = function(fig, msg) {\n",
       "    // Request the server to send over a new figure.\n",
       "    fig.send_draw_message();\n",
       "}\n",
       "\n",
       "mpl.figure.prototype.handle_image_mode = function(fig, msg) {\n",
       "    fig.image_mode = msg['mode'];\n",
       "}\n",
       "\n",
       "mpl.figure.prototype.updated_canvas_event = function() {\n",
       "    // Called whenever the canvas gets updated.\n",
       "    this.send_message(\"ack\", {});\n",
       "}\n",
       "\n",
       "// A function to construct a web socket function for onmessage handling.\n",
       "// Called in the figure constructor.\n",
       "mpl.figure.prototype._make_on_message_function = function(fig) {\n",
       "    return function socket_on_message(evt) {\n",
       "        if (evt.data instanceof Blob) {\n",
       "            /* FIXME: We get \"Resource interpreted as Image but\n",
       "             * transferred with MIME type text/plain:\" errors on\n",
       "             * Chrome.  But how to set the MIME type?  It doesn't seem\n",
       "             * to be part of the websocket stream */\n",
       "            evt.data.type = \"image/png\";\n",
       "\n",
       "            /* Free the memory for the previous frames */\n",
       "            if (fig.imageObj.src) {\n",
       "                (window.URL || window.webkitURL).revokeObjectURL(\n",
       "                    fig.imageObj.src);\n",
       "            }\n",
       "\n",
       "            fig.imageObj.src = (window.URL || window.webkitURL).createObjectURL(\n",
       "                evt.data);\n",
       "            fig.updated_canvas_event();\n",
       "            fig.waiting = false;\n",
       "            return;\n",
       "        }\n",
       "        else if (typeof evt.data === 'string' && evt.data.slice(0, 21) == \"data:image/png;base64\") {\n",
       "            fig.imageObj.src = evt.data;\n",
       "            fig.updated_canvas_event();\n",
       "            fig.waiting = false;\n",
       "            return;\n",
       "        }\n",
       "\n",
       "        var msg = JSON.parse(evt.data);\n",
       "        var msg_type = msg['type'];\n",
       "\n",
       "        // Call the  \"handle_{type}\" callback, which takes\n",
       "        // the figure and JSON message as its only arguments.\n",
       "        try {\n",
       "            var callback = fig[\"handle_\" + msg_type];\n",
       "        } catch (e) {\n",
       "            console.log(\"No handler for the '\" + msg_type + \"' message type: \", msg);\n",
       "            return;\n",
       "        }\n",
       "\n",
       "        if (callback) {\n",
       "            try {\n",
       "                // console.log(\"Handling '\" + msg_type + \"' message: \", msg);\n",
       "                callback(fig, msg);\n",
       "            } catch (e) {\n",
       "                console.log(\"Exception inside the 'handler_\" + msg_type + \"' callback:\", e, e.stack, msg);\n",
       "            }\n",
       "        }\n",
       "    };\n",
       "}\n",
       "\n",
       "// from http://stackoverflow.com/questions/1114465/getting-mouse-location-in-canvas\n",
       "mpl.findpos = function(e) {\n",
       "    //this section is from http://www.quirksmode.org/js/events_properties.html\n",
       "    var targ;\n",
       "    if (!e)\n",
       "        e = window.event;\n",
       "    if (e.target)\n",
       "        targ = e.target;\n",
       "    else if (e.srcElement)\n",
       "        targ = e.srcElement;\n",
       "    if (targ.nodeType == 3) // defeat Safari bug\n",
       "        targ = targ.parentNode;\n",
       "\n",
       "    // jQuery normalizes the pageX and pageY\n",
       "    // pageX,Y are the mouse positions relative to the document\n",
       "    // offset() returns the position of the element relative to the document\n",
       "    var x = e.pageX - $(targ).offset().left;\n",
       "    var y = e.pageY - $(targ).offset().top;\n",
       "\n",
       "    return {\"x\": x, \"y\": y};\n",
       "};\n",
       "\n",
       "/*\n",
       " * return a copy of an object with only non-object keys\n",
       " * we need this to avoid circular references\n",
       " * http://stackoverflow.com/a/24161582/3208463\n",
       " */\n",
       "function simpleKeys (original) {\n",
       "  return Object.keys(original).reduce(function (obj, key) {\n",
       "    if (typeof original[key] !== 'object')\n",
       "        obj[key] = original[key]\n",
       "    return obj;\n",
       "  }, {});\n",
       "}\n",
       "\n",
       "mpl.figure.prototype.mouse_event = function(event, name) {\n",
       "    var canvas_pos = mpl.findpos(event)\n",
       "\n",
       "    if (name === 'button_press')\n",
       "    {\n",
       "        this.canvas.focus();\n",
       "        this.canvas_div.focus();\n",
       "    }\n",
       "\n",
       "    var x = canvas_pos.x * mpl.ratio;\n",
       "    var y = canvas_pos.y * mpl.ratio;\n",
       "\n",
       "    this.send_message(name, {x: x, y: y, button: event.button,\n",
       "                             step: event.step,\n",
       "                             guiEvent: simpleKeys(event)});\n",
       "\n",
       "    /* This prevents the web browser from automatically changing to\n",
       "     * the text insertion cursor when the button is pressed.  We want\n",
       "     * to control all of the cursor setting manually through the\n",
       "     * 'cursor' event from matplotlib */\n",
       "    event.preventDefault();\n",
       "    return false;\n",
       "}\n",
       "\n",
       "mpl.figure.prototype._key_event_extra = function(event, name) {\n",
       "    // Handle any extra behaviour associated with a key event\n",
       "}\n",
       "\n",
       "mpl.figure.prototype.key_event = function(event, name) {\n",
       "\n",
       "    // Prevent repeat events\n",
       "    if (name == 'key_press')\n",
       "    {\n",
       "        if (event.which === this._key)\n",
       "            return;\n",
       "        else\n",
       "            this._key = event.which;\n",
       "    }\n",
       "    if (name == 'key_release')\n",
       "        this._key = null;\n",
       "\n",
       "    var value = '';\n",
       "    if (event.ctrlKey && event.which != 17)\n",
       "        value += \"ctrl+\";\n",
       "    if (event.altKey && event.which != 18)\n",
       "        value += \"alt+\";\n",
       "    if (event.shiftKey && event.which != 16)\n",
       "        value += \"shift+\";\n",
       "\n",
       "    value += 'k';\n",
       "    value += event.which.toString();\n",
       "\n",
       "    this._key_event_extra(event, name);\n",
       "\n",
       "    this.send_message(name, {key: value,\n",
       "                             guiEvent: simpleKeys(event)});\n",
       "    return false;\n",
       "}\n",
       "\n",
       "mpl.figure.prototype.toolbar_button_onclick = function(name) {\n",
       "    if (name == 'download') {\n",
       "        this.handle_save(this, null);\n",
       "    } else {\n",
       "        this.send_message(\"toolbar_button\", {name: name});\n",
       "    }\n",
       "};\n",
       "\n",
       "mpl.figure.prototype.toolbar_button_onmouseover = function(tooltip) {\n",
       "    this.message.textContent = tooltip;\n",
       "};\n",
       "mpl.toolbar_items = [[\"Home\", \"Reset original view\", \"fa fa-home icon-home\", \"home\"], [\"Back\", \"Back to  previous view\", \"fa fa-arrow-left icon-arrow-left\", \"back\"], [\"Forward\", \"Forward to next view\", \"fa fa-arrow-right icon-arrow-right\", \"forward\"], [\"\", \"\", \"\", \"\"], [\"Pan\", \"Pan axes with left mouse, zoom with right\", \"fa fa-arrows icon-move\", \"pan\"], [\"Zoom\", \"Zoom to rectangle\", \"fa fa-square-o icon-check-empty\", \"zoom\"], [\"\", \"\", \"\", \"\"], [\"Download\", \"Download plot\", \"fa fa-floppy-o icon-save\", \"download\"]];\n",
       "\n",
       "mpl.extensions = [\"eps\", \"pdf\", \"png\", \"ps\", \"raw\", \"svg\"];\n",
       "\n",
       "mpl.default_extension = \"png\";var comm_websocket_adapter = function(comm) {\n",
       "    // Create a \"websocket\"-like object which calls the given IPython comm\n",
       "    // object with the appropriate methods. Currently this is a non binary\n",
       "    // socket, so there is still some room for performance tuning.\n",
       "    var ws = {};\n",
       "\n",
       "    ws.close = function() {\n",
       "        comm.close()\n",
       "    };\n",
       "    ws.send = function(m) {\n",
       "        //console.log('sending', m);\n",
       "        comm.send(m);\n",
       "    };\n",
       "    // Register the callback with on_msg.\n",
       "    comm.on_msg(function(msg) {\n",
       "        //console.log('receiving', msg['content']['data'], msg);\n",
       "        // Pass the mpl event to the overridden (by mpl) onmessage function.\n",
       "        ws.onmessage(msg['content']['data'])\n",
       "    });\n",
       "    return ws;\n",
       "}\n",
       "\n",
       "mpl.mpl_figure_comm = function(comm, msg) {\n",
       "    // This is the function which gets called when the mpl process\n",
       "    // starts-up an IPython Comm through the \"matplotlib\" channel.\n",
       "\n",
       "    var id = msg.content.data.id;\n",
       "    // Get hold of the div created by the display call when the Comm\n",
       "    // socket was opened in Python.\n",
       "    var element = $(\"#\" + id);\n",
       "    var ws_proxy = comm_websocket_adapter(comm)\n",
       "\n",
       "    function ondownload(figure, format) {\n",
       "        window.open(figure.imageObj.src);\n",
       "    }\n",
       "\n",
       "    var fig = new mpl.figure(id, ws_proxy,\n",
       "                           ondownload,\n",
       "                           element.get(0));\n",
       "\n",
       "    // Call onopen now - mpl needs it, as it is assuming we've passed it a real\n",
       "    // web socket which is closed, not our websocket->open comm proxy.\n",
       "    ws_proxy.onopen();\n",
       "\n",
       "    fig.parent_element = element.get(0);\n",
       "    fig.cell_info = mpl.find_output_cell(\"<div id='\" + id + \"'></div>\");\n",
       "    if (!fig.cell_info) {\n",
       "        console.error(\"Failed to find cell for figure\", id, fig);\n",
       "        return;\n",
       "    }\n",
       "\n",
       "    var output_index = fig.cell_info[2]\n",
       "    var cell = fig.cell_info[0];\n",
       "\n",
       "};\n",
       "\n",
       "mpl.figure.prototype.handle_close = function(fig, msg) {\n",
       "    var width = fig.canvas.width/mpl.ratio\n",
       "    fig.root.unbind('remove')\n",
       "\n",
       "    // Update the output cell to use the data from the current canvas.\n",
       "    fig.push_to_output();\n",
       "    var dataURL = fig.canvas.toDataURL();\n",
       "    // Re-enable the keyboard manager in IPython - without this line, in FF,\n",
       "    // the notebook keyboard shortcuts fail.\n",
       "    IPython.keyboard_manager.enable()\n",
       "    $(fig.parent_element).html('<img src=\"' + dataURL + '\" width=\"' + width + '\">');\n",
       "    fig.close_ws(fig, msg);\n",
       "}\n",
       "\n",
       "mpl.figure.prototype.close_ws = function(fig, msg){\n",
       "    fig.send_message('closing', msg);\n",
       "    // fig.ws.close()\n",
       "}\n",
       "\n",
       "mpl.figure.prototype.push_to_output = function(remove_interactive) {\n",
       "    // Turn the data on the canvas into data in the output cell.\n",
       "    var width = this.canvas.width/mpl.ratio\n",
       "    var dataURL = this.canvas.toDataURL();\n",
       "    this.cell_info[1]['text/html'] = '<img src=\"' + dataURL + '\" width=\"' + width + '\">';\n",
       "}\n",
       "\n",
       "mpl.figure.prototype.updated_canvas_event = function() {\n",
       "    // Tell IPython that the notebook contents must change.\n",
       "    IPython.notebook.set_dirty(true);\n",
       "    this.send_message(\"ack\", {});\n",
       "    var fig = this;\n",
       "    // Wait a second, then push the new image to the DOM so\n",
       "    // that it is saved nicely (might be nice to debounce this).\n",
       "    setTimeout(function () { fig.push_to_output() }, 1000);\n",
       "}\n",
       "\n",
       "mpl.figure.prototype._init_toolbar = function() {\n",
       "    var fig = this;\n",
       "\n",
       "    var nav_element = $('<div/>')\n",
       "    nav_element.attr('style', 'width: 100%');\n",
       "    this.root.append(nav_element);\n",
       "\n",
       "    // Define a callback function for later on.\n",
       "    function toolbar_event(event) {\n",
       "        return fig.toolbar_button_onclick(event['data']);\n",
       "    }\n",
       "    function toolbar_mouse_event(event) {\n",
       "        return fig.toolbar_button_onmouseover(event['data']);\n",
       "    }\n",
       "\n",
       "    for(var toolbar_ind in mpl.toolbar_items){\n",
       "        var name = mpl.toolbar_items[toolbar_ind][0];\n",
       "        var tooltip = mpl.toolbar_items[toolbar_ind][1];\n",
       "        var image = mpl.toolbar_items[toolbar_ind][2];\n",
       "        var method_name = mpl.toolbar_items[toolbar_ind][3];\n",
       "\n",
       "        if (!name) { continue; };\n",
       "\n",
       "        var button = $('<button class=\"btn btn-default\" href=\"#\" title=\"' + name + '\"><i class=\"fa ' + image + ' fa-lg\"></i></button>');\n",
       "        button.click(method_name, toolbar_event);\n",
       "        button.mouseover(tooltip, toolbar_mouse_event);\n",
       "        nav_element.append(button);\n",
       "    }\n",
       "\n",
       "    // Add the status bar.\n",
       "    var status_bar = $('<span class=\"mpl-message\" style=\"text-align:right; float: right;\"/>');\n",
       "    nav_element.append(status_bar);\n",
       "    this.message = status_bar[0];\n",
       "\n",
       "    // Add the close button to the window.\n",
       "    var buttongrp = $('<div class=\"btn-group inline pull-right\"></div>');\n",
       "    var button = $('<button class=\"btn btn-mini btn-primary\" href=\"#\" title=\"Stop Interaction\"><i class=\"fa fa-power-off icon-remove icon-large\"></i></button>');\n",
       "    button.click(function (evt) { fig.handle_close(fig, {}); } );\n",
       "    button.mouseover('Stop Interaction', toolbar_mouse_event);\n",
       "    buttongrp.append(button);\n",
       "    var titlebar = this.root.find($('.ui-dialog-titlebar'));\n",
       "    titlebar.prepend(buttongrp);\n",
       "}\n",
       "\n",
       "mpl.figure.prototype._root_extra_style = function(el){\n",
       "    var fig = this\n",
       "    el.on(\"remove\", function(){\n",
       "\tfig.close_ws(fig, {});\n",
       "    });\n",
       "}\n",
       "\n",
       "mpl.figure.prototype._canvas_extra_style = function(el){\n",
       "    // this is important to make the div 'focusable\n",
       "    el.attr('tabindex', 0)\n",
       "    // reach out to IPython and tell the keyboard manager to turn it's self\n",
       "    // off when our div gets focus\n",
       "\n",
       "    // location in version 3\n",
       "    if (IPython.notebook.keyboard_manager) {\n",
       "        IPython.notebook.keyboard_manager.register_events(el);\n",
       "    }\n",
       "    else {\n",
       "        // location in version 2\n",
       "        IPython.keyboard_manager.register_events(el);\n",
       "    }\n",
       "\n",
       "}\n",
       "\n",
       "mpl.figure.prototype._key_event_extra = function(event, name) {\n",
       "    var manager = IPython.notebook.keyboard_manager;\n",
       "    if (!manager)\n",
       "        manager = IPython.keyboard_manager;\n",
       "\n",
       "    // Check for shift+enter\n",
       "    if (event.shiftKey && event.which == 13) {\n",
       "        this.canvas_div.blur();\n",
       "        event.shiftKey = false;\n",
       "        // Send a \"J\" for go to next cell\n",
       "        event.which = 74;\n",
       "        event.keyCode = 74;\n",
       "        manager.command_mode();\n",
       "        manager.handle_keydown(event);\n",
       "    }\n",
       "}\n",
       "\n",
       "mpl.figure.prototype.handle_save = function(fig, msg) {\n",
       "    fig.ondownload(fig, null);\n",
       "}\n",
       "\n",
       "\n",
       "mpl.find_output_cell = function(html_output) {\n",
       "    // Return the cell and output element which can be found *uniquely* in the notebook.\n",
       "    // Note - this is a bit hacky, but it is done because the \"notebook_saving.Notebook\"\n",
       "    // IPython event is triggered only after the cells have been serialised, which for\n",
       "    // our purposes (turning an active figure into a static one), is too late.\n",
       "    var cells = IPython.notebook.get_cells();\n",
       "    var ncells = cells.length;\n",
       "    for (var i=0; i<ncells; i++) {\n",
       "        var cell = cells[i];\n",
       "        if (cell.cell_type === 'code'){\n",
       "            for (var j=0; j<cell.output_area.outputs.length; j++) {\n",
       "                var data = cell.output_area.outputs[j];\n",
       "                if (data.data) {\n",
       "                    // IPython >= 3 moved mimebundle to data attribute of output\n",
       "                    data = data.data;\n",
       "                }\n",
       "                if (data['text/html'] == html_output) {\n",
       "                    return [cell, data, j];\n",
       "                }\n",
       "            }\n",
       "        }\n",
       "    }\n",
       "}\n",
       "\n",
       "// Register the function which deals with the matplotlib target/channel.\n",
       "// The kernel may be null if the page has been refreshed.\n",
       "if (IPython.notebook.kernel != null) {\n",
       "    IPython.notebook.kernel.comm_manager.register_target('matplotlib', mpl.mpl_figure_comm);\n",
       "}\n"
      ],
      "text/plain": [
       "<IPython.core.display.Javascript object>"
      ]
     },
     "metadata": {},
     "output_type": "display_data"
    },
    {
     "data": {
      "text/html": [
       "<img src=\"data:image/png;base64,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\" width=\"1000\">"
      ],
      "text/plain": [
       "<IPython.core.display.HTML object>"
      ]
     },
     "metadata": {},
     "output_type": "display_data"
    },
    {
     "data": {
      "text/plain": [
       "(array([0., 1., 2., 3., 4., 5., 6.]), <a list of 7 Text yticklabel objects>)"
      ]
     },
     "execution_count": 35,
     "metadata": {},
     "output_type": "execute_result"
    }
   ],
   "source": [
    "#print(RSE_results)\n",
    "#print(RSE_resultsbaseline)\n",
    "ratio = [i / j for i, j in zip(RSE_results, RSE_resultsbaseline)]\n",
    "#print(ratio)\n",
    "\n",
    "# plot ratio \n",
    "fig, ax = plt.subplots()\n",
    "\n",
    "\n",
    "# build a violin plot\n",
    "fixedratio = [x for x in ratio if ~np.isnan(x)]\n",
    "ax.violinplot(fixedratio, showmeans=True, showmedians=True)\n",
    "\n",
    "ax.set_title('Ratio Error on UDN dataset', fontsize=50)\n",
    "ax.set_ylabel('RSE model/ RSE baseline', fontsize=30)\n",
    "\n",
    "plt.xticks(fontsize=20)\n",
    "plt.yticks(fontsize=20)\n",
    "\n"
   ]
  }
 ],
 "metadata": {
  "kernelspec": {
   "display_name": "Python 3",
   "language": "python",
   "name": "python3"
  },
  "language_info": {
   "codemirror_mode": {
    "name": "ipython",
    "version": 3
   },
   "file_extension": ".py",
   "mimetype": "text/x-python",
   "name": "python",
   "nbconvert_exporter": "python",
   "pygments_lexer": "ipython3",
   "version": "3.7.3"
  },
  "toc": {
   "base_numbering": 1,
   "nav_menu": {},
   "number_sections": false,
   "sideBar": false,
   "skip_h1_title": false,
   "title_cell": "Table of Contents",
   "title_sidebar": "Contents",
   "toc_cell": false,
   "toc_position": {},
   "toc_section_display": false,
   "toc_window_display": false
  }
 },
 "nbformat": 4,
 "nbformat_minor": 2
}
